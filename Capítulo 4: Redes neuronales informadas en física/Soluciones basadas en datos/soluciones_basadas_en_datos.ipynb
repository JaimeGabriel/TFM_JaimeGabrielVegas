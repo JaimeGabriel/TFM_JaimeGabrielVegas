{
  "cells": [
    {
      "cell_type": "markdown",
      "id": "WhoGFR580Zvz",
      "metadata": {
        "id": "WhoGFR580Zvz"
      },
      "source": [
        "Importamos las librerías"
      ]
    },
    {
      "cell_type": "code",
      "execution_count": null,
      "id": "upchFjJkZTlU",
      "metadata": {
        "id": "upchFjJkZTlU"
      },
      "outputs": [],
      "source": [
        "from typing import Dict\n",
        "import jax\n",
        "import numpy as np\n",
        "import pinnsjax\n",
        "from tqdm import tqdm\n",
        "import csv\n",
        "import matplotlib.pyplot as plt\n",
        "import matplotlib.gridspec as gridspec\n",
        "from mpl_toolkits.axes_grid1 import make_axes_locatable\n",
        "import os\n",
        "import logging"
      ]
    },
    {
      "cell_type": "markdown",
      "id": "fxLqw11pRX7o",
      "metadata": {
        "id": "fxLqw11pRX7o"
      },
      "source": [
        "## Funciones auxuliares"
      ]
    },
    {
      "cell_type": "markdown",
      "id": "tCrguAhlR3of",
      "metadata": {
        "id": "tCrguAhlR3of"
      },
      "source": [
        "Estas funciones se usan para hacer el gráfico final. Unas funciones muy similares están y implementadas en el propio paquete pinnsjax, pero casuaban un error. Simplemente las copié aquí modificando ligeramente el problema."
      ]
    },
    {
      "cell_type": "code",
      "execution_count": null,
      "id": "o0EowKaPRaz3",
      "metadata": {
        "id": "o0EowKaPRaz3"
      },
      "outputs": [],
      "source": [
        "def figsize(scale, nplots=1):\n",
        "    \"\"\"Calculate the figure size based on a given scale and number of plots.\n",
        "\n",
        "    :param scale: Scaling factor for the figure size.\n",
        "    :param nplots: Number of subplots in the figure (default is 1).\n",
        "    :return: Calculated figure size in inches.\n",
        "    \"\"\"\n",
        "\n",
        "    fig_width_pt = 390.0  # Get this from LaTeX using \\the\\textwidth\n",
        "    inches_per_pt = 1.0 / 72.27  # Convert pt to inch\n",
        "    golden_mean = (np.sqrt(5.0) - 1.0) / 2.0  # Aesthetic ratio (you could change this)\n",
        "    fig_width = fig_width_pt * inches_per_pt * scale  # width in inches\n",
        "    fig_height = nplots * fig_width * golden_mean  # height in inches\n",
        "    fig_size = [fig_width, fig_height]\n",
        "    return fig_size\n",
        "\n",
        "\n",
        "def newfig(width, nplots=1):\n",
        "    \"\"\"Create a new figure with a specified width and number of subplots.\n",
        "\n",
        "    :param width: Width of the figure.\n",
        "    :param nplots: Number of subplots in the figure (default is 1).\n",
        "    :return: Created figure and subplot axis.\n",
        "    \"\"\"\n",
        "\n",
        "    fig = plt.figure(figsize=figsize(width, nplots))\n",
        "    ax = fig.add_subplot(111)\n",
        "    return fig, ax\n",
        "\n",
        "\n",
        "def savefig(filename, crop=True):\n",
        "    \"\"\"Save a figure to the specified filename with optional cropping.\n",
        "\n",
        "    :param filename: Name of the output file (without extension).\n",
        "    :param crop: Whether to apply tight cropping to the saved image (default is True).\n",
        "    \"\"\"\n",
        "\n",
        "    log.info(f\"Image saved at {filename}\")\n",
        "\n",
        "    dir_name = os.path.dirname(filename)\n",
        "    if dir_name and not os.path.exists(dir_name):\n",
        "        os.makedirs(dir_name)\n",
        "\n",
        "    if crop:\n",
        "        plt.savefig(f\"{filename}.pdf\", bbox_inches=\"tight\", pad_inches=0)\n",
        "        plt.savefig(f\"{filename}.eps\", bbox_inches=\"tight\", pad_inches=0)\n",
        "    else:\n",
        "        plt.savefig(f\"{filename}.pdf\")\n",
        "        plt.savefig(f\"{filename}.eps\")\n",
        "\n",
        "\n",
        "def plot_resultados(mesh, preds, train_datasets, val_dataset, file_name):\n",
        "    \"\"\"\n",
        "    Esta función está implementada dentro del propio paquete, pero parece que contenía algún error que causaba un mal funcionamiento.\n",
        "    Esta función es la misma pero ligeramente modificada para que funcione correctamente\n",
        "    \"\"\"\n",
        "\n",
        "    U_pred = preds[\"u\"]\n",
        "    exact_u = mesh.solution[\"u\"]\n",
        "    x = mesh.spatial_domain[:]\n",
        "    x_i, t_i, _ = train_datasets[1][:]\n",
        "    x_b, t_b, _ = train_datasets[2][:]\n",
        "\n",
        "    U_pred = U_pred.reshape(exact_u.shape)\n",
        "    X_u_train = np.vstack([x_i[0], x_b[0]])\n",
        "\n",
        "    X_u_time = np.vstack([t_i, t_b])\n",
        "\n",
        "    X_u_train = np.hstack([X_u_train, X_u_time])\n",
        "    fig, ax = newfig(1.5, 0.9)\n",
        "    ax.axis(\"off\")\n",
        "\n",
        "    # Row 0: u(t,x)\n",
        "    gs0 = gridspec.GridSpec(1, 2)\n",
        "    gs0.update(top=1 - 0.06, bottom=1 - 1 / 3, left=0.15, right=0.85, wspace=0)\n",
        "    ax = plt.subplot(gs0[:, :])\n",
        "\n",
        "    h = ax.imshow(\n",
        "        U_pred,\n",
        "        interpolation=\"nearest\",\n",
        "        cmap=\"rainbow\",\n",
        "        extent=[\n",
        "            mesh.time_domain[:].min(),\n",
        "            mesh.time_domain[:].max(),\n",
        "            mesh.spatial_domain[:].min(),\n",
        "            mesh.spatial_domain[:].max(),\n",
        "        ],\n",
        "        origin=\"lower\",\n",
        "        aspect=\"auto\",\n",
        "    )\n",
        "    divider = make_axes_locatable(ax)\n",
        "    cax = divider.append_axes(\"right\", size=\"5%\", pad=0.05)\n",
        "    fig.colorbar(h, cax=cax)\n",
        "\n",
        "    ax.plot(\n",
        "        X_u_train[:, 1],\n",
        "        X_u_train[:, 0],\n",
        "        \"kx\",\n",
        "        #label=\"Datos (%d puntos)\" % (X_u_train.shape[0]),\n",
        "        markersize=4,\n",
        "        clip_on=False,\n",
        "    )\n",
        "\n",
        "    line = np.linspace(mesh.spatial_domain[:].min(), mesh.spatial_domain[:].max(), 2)[:, None]\n",
        "    ax.plot(mesh.time_domain[25] * np.ones((2, 1)), line, \"w-\", linewidth=1)\n",
        "    ax.plot(mesh.time_domain[50] * np.ones((2, 1)), line, \"w-\", linewidth=1)\n",
        "    ax.plot(mesh.time_domain[75] * np.ones((2, 1)), line, \"w-\", linewidth=1)\n",
        "\n",
        "    ax.set_xlabel(\"$t$\")\n",
        "    ax.set_ylabel(\"$x$\")\n",
        "    ax.legend(frameon=False, loc=\"best\")\n",
        "    ax.set_title(\"$u(x,t)$\", fontsize=10)\n",
        "\n",
        "    # Row 1: u(t,x) slices\n",
        "    gs1 = gridspec.GridSpec(1, 3)\n",
        "    gs1.update(top=1 - 1 / 3, bottom=0, left=0.1, right=0.9, wspace=0.5)\n",
        "\n",
        "    ax = plt.subplot(gs1[0, 0])\n",
        "    ax.plot(x, exact_u[:, 25], \"b-\", linewidth=2, label=\"Solución real (FDM)\")\n",
        "    ax.plot(x, U_pred[:, 25], \"r--\", linewidth=2, label=\"Predicción\")\n",
        "    ax.set_xlabel(\"$x$\")\n",
        "    ax.set_ylabel(\"$u(x,t)$\")\n",
        "    ax.set_title(\"$t = 0.025$\", fontsize=10)\n",
        "    ax.axis(\"square\")\n",
        "    ax.set_xlim([0, 2])\n",
        "    ax.set_ylim([-1, 1])\n",
        "\n",
        "    ax = plt.subplot(gs1[0, 1])\n",
        "    ax.plot(x, exact_u[:, 50], \"b-\", linewidth=2, label=\"Solución real (FDM)\")\n",
        "    ax.plot(x, U_pred[:, 50], \"r--\", linewidth=2, label=\"Predicción\")\n",
        "    ax.set_xlabel(\"$x$\")\n",
        "    ax.set_ylabel(\"$u(x,t)$\")\n",
        "    ax.axis(\"square\")\n",
        "    ax.set_xlim([0, 2])\n",
        "    ax.set_ylim([-1, 1])\n",
        "    ax.set_title(\"$t = 0.050$\", fontsize=10)\n",
        "    ax.legend(loc=\"upper center\", bbox_to_anchor=(0.5, -0.35), ncol=5, frameon=False)\n",
        "\n",
        "    ax = plt.subplot(gs1[0, 2])\n",
        "    ax.plot(x, exact_u[:, 75], \"b-\", linewidth=2, label=\"Solución real (FDM)\")\n",
        "    ax.plot(x, U_pred[:, 75], \"r--\", linewidth=2, label=\"Predicción\")\n",
        "    ax.set_xlabel(\"$x$\")\n",
        "    ax.set_ylabel(\"$u(x,t)$\")\n",
        "    ax.axis(\"square\")\n",
        "    ax.set_xlim([0, 2])\n",
        "    ax.set_ylim([-1, 1])\n",
        "    ax.set_title(\"$t = 0.075$\", fontsize=10)\n",
        "\n",
        "    plt.savefig(file_name + \"/fig_soluciones.pdf\", bbox_inches = 'tight')\n",
        "    plt.show()"
      ]
    },
    {
      "cell_type": "markdown",
      "id": "qvC-fUsxu4LV",
      "metadata": {
        "id": "qvC-fUsxu4LV"
      },
      "source": [
        "# Sin ruido"
      ]
    },
    {
      "cell_type": "code",
      "execution_count": null,
      "id": "KJaQhxhxfEQR",
      "metadata": {
        "id": "KJaQhxhxfEQR"
      },
      "outputs": [],
      "source": [
        "porcentaje_error = 0"
      ]
    },
    {
      "cell_type": "markdown",
      "id": "O0Jf3B0Wo24t",
      "metadata": {
        "id": "O0Jf3B0Wo24t"
      },
      "source": [
        "Leemos los datos reales"
      ]
    },
    {
      "cell_type": "code",
      "execution_count": 2,
      "id": "mrbTm1Ph1Nq0",
      "metadata": {
        "id": "mrbTm1Ph1Nq0"
      },
      "outputs": [],
      "source": [
        "u = np.genfromtxt('generacion_datos/data/u_real_t_1e-8_x_1e-2.csv', delimiter=',')"
      ]
    },
    {
      "cell_type": "markdown",
      "id": "UtDiH1wIo6Pg",
      "metadata": {
        "id": "UtDiH1wIo6Pg"
      },
      "source": [
        "Definimos una función para meter los datos a la red\n",
        "\n"
      ]
    },
    {
      "cell_type": "code",
      "execution_count": null,
      "id": "xiRWtXK81FBE",
      "metadata": {
        "id": "xiRWtXK81FBE"
      },
      "outputs": [],
      "source": [
        "def read_data_fn(_):\n",
        "    exact_u = np.real(u) # T x N\n",
        "    return {\"u\": exact_u}"
      ]
    },
    {
      "cell_type": "markdown",
      "id": "cVl1_YmlpGTi",
      "metadata": {
        "id": "cVl1_YmlpGTi"
      },
      "source": [
        "Definimos los dominios temporales y espaciales"
      ]
    },
    {
      "cell_type": "code",
      "execution_count": null,
      "id": "b7e16b89-9294-4149-914d-fa0b578cba47",
      "metadata": {
        "id": "b7e16b89-9294-4149-914d-fa0b578cba47"
      },
      "outputs": [],
      "source": [
        "time_domain = pinnsjax.data.TimeDomain(t_interval=[0, 0.1], t_points = 100)\n",
        "spatial_domain = pinnsjax.data.Interval(x_interval=[0, 2], shape = [200, 1])"
      ]
    },
    {
      "cell_type": "markdown",
      "id": "EWC8pRCopPEK",
      "metadata": {
        "id": "EWC8pRCopPEK"
      },
      "source": [
        "Definimos el mesh"
      ]
    },
    {
      "cell_type": "code",
      "execution_count": null,
      "id": "b079cfd7-54ab-4b76-927d-de322fa5a67e",
      "metadata": {
        "id": "b079cfd7-54ab-4b76-927d-de322fa5a67e"
      },
      "outputs": [],
      "source": [
        "mesh = pinnsjax.data.Mesh(root_dir='data',\n",
        "                          read_data_fn=read_data_fn,\n",
        "                          spatial_domain = spatial_domain,\n",
        "                          time_domain = time_domain)"
      ]
    },
    {
      "cell_type": "markdown",
      "id": "xBKsm0oZpYLW",
      "metadata": {
        "id": "xBKsm0oZpYLW"
      },
      "source": [
        "Seleccionamos algunos puntos de la condición inicial al azar para incorporar a la red como datos de entrenamiento"
      ]
    },
    {
      "cell_type": "code",
      "execution_count": null,
      "id": "1e230de8-eddd-4c49-97d5-abd06913530f",
      "metadata": {
        "id": "1e230de8-eddd-4c49-97d5-abd06913530f"
      },
      "outputs": [],
      "source": [
        "N0 = 100\n",
        "in_c = pinnsjax.data.InitialCondition(mesh = mesh,\n",
        "                                      num_sample = N0,\n",
        "                                      solution = ['u'])"
      ]
    },
    {
      "cell_type": "markdown",
      "id": "5bJJb3k8pwf6",
      "metadata": {
        "id": "5bJJb3k8pwf6"
      },
      "source": [
        "Lo mismo para las condiciones de frontera"
      ]
    },
    {
      "cell_type": "code",
      "execution_count": null,
      "id": "7002a433-0e32-441d-a60e-6386f8c2c594",
      "metadata": {
        "id": "7002a433-0e32-441d-a60e-6386f8c2c594"
      },
      "outputs": [],
      "source": [
        "N_b = 100\n",
        "di_b = pinnsjax.data.DirichletBoundaryCondition(mesh = mesh,\n",
        "                                                num_sample = N_b,\n",
        "                                                solution = ['u'])"
      ]
    },
    {
      "cell_type": "markdown",
      "id": "ShTlVGt7p29W",
      "metadata": {
        "id": "ShTlVGt7p29W"
      },
      "source": [
        "Seleccionamos punto al azar para evaluar la pérdida física"
      ]
    },
    {
      "cell_type": "code",
      "execution_count": null,
      "id": "492bb3de-453c-49b3-b2e6-add7f3458de7",
      "metadata": {
        "id": "492bb3de-453c-49b3-b2e6-add7f3458de7"
      },
      "outputs": [],
      "source": [
        "N_f = 10000\n",
        "me_s = pinnsjax.data.MeshSampler(mesh = mesh,\n",
        "                                 num_sample = N_f,\n",
        "                                 collection_points = ['f_u'])"
      ]
    },
    {
      "cell_type": "markdown",
      "id": "ciuzM_yFqHNt",
      "metadata": {
        "id": "ciuzM_yFqHNt"
      },
      "source": [
        "Seleccionamos todo el dominio como conjunto de validación  "
      ]
    },
    {
      "cell_type": "code",
      "execution_count": null,
      "id": "7c530a34-deef-4660-849b-02c240c5db11",
      "metadata": {
        "id": "7c530a34-deef-4660-849b-02c240c5db11"
      },
      "outputs": [],
      "source": [
        "val_s = pinnsjax.data.MeshSampler(mesh = mesh,\n",
        "                                  solution = ['u'])"
      ]
    },
    {
      "cell_type": "markdown",
      "id": "bfL-UtF8qPhs",
      "metadata": {
        "id": "bfL-UtF8qPhs"
      },
      "source": [
        "Definimos nuestra red nueronal"
      ]
    },
    {
      "cell_type": "code",
      "execution_count": null,
      "id": "5eeb7181-3dfe-4aa9-b454-61644b1542c9",
      "metadata": {
        "id": "5eeb7181-3dfe-4aa9-b454-61644b1542c9"
      },
      "outputs": [],
      "source": [
        "net = pinnsjax.models.FCN(layers = [2, 20, 20, 20, 20, 20, 20, 20, 20, 1],\n",
        "                          output_names = ['u'],\n",
        "                          lb=mesh.lb,\n",
        "                          ub=mesh.ub)"
      ]
    },
    {
      "cell_type": "markdown",
      "id": "nrQwtmAfqVcQ",
      "metadata": {
        "id": "nrQwtmAfqVcQ"
      },
      "source": [
        "Definimos los parámetros y las EDP que domina el el sistema como una función. Hallamos las derivadas con autodiferenciación"
      ]
    },
    {
      "cell_type": "code",
      "execution_count": null,
      "id": "F5W67Ghy2aBr",
      "metadata": {
        "id": "F5W67Ghy2aBr"
      },
      "outputs": [],
      "source": [
        "k = 0.5\n",
        "c = 0.3"
      ]
    },
    {
      "cell_type": "code",
      "execution_count": null,
      "id": "e8763e3c-ebaa-4f59-8a75-515818f379f3",
      "metadata": {
        "id": "e8763e3c-ebaa-4f59-8a75-515818f379f3"
      },
      "outputs": [],
      "source": [
        "def pde_fn(functional_model,\n",
        "           params,\n",
        "           outputs: Dict[str, jax.Array],\n",
        "           x: jax.Array,\n",
        "           t: jax.Array):\n",
        "\n",
        "    u_x, u_t = pinnsjax.utils.gradient(functional_model, argnums=(1, 2), order=1)(params, x, t, 'u')\n",
        "    u_xx = pinnsjax.utils.gradient(functional_model, argnums=1, order=2)(params, x, t, 'u')[0]\n",
        "\n",
        "    outputs[\"f_u\"] = c * u_t - k * u_xx\n",
        "\n",
        "    return outputs"
      ]
    },
    {
      "cell_type": "markdown",
      "id": "1_EAxFrYs_dB",
      "metadata": {
        "id": "1_EAxFrYs_dB"
      },
      "source": [
        "Definimos el datamodule, que gestiona los conjuntos de datos"
      ]
    },
    {
      "cell_type": "code",
      "execution_count": null,
      "id": "bc810afe-fa36-4948-b31f-e5527e54b28b",
      "metadata": {
        "id": "bc810afe-fa36-4948-b31f-e5527e54b28b"
      },
      "outputs": [],
      "source": [
        "train_datasets = [me_s, in_c, di_b]\n",
        "val_dataset = val_s\n",
        "datamodule = pinnsjax.data.PINNDataModule(train_datasets = train_datasets,\n",
        "                                            val_dataset = val_dataset,\n",
        "                                            pred_dataset = val_s)"
      ]
    },
    {
      "cell_type": "markdown",
      "id": "GHu03owPtMKi",
      "metadata": {
        "id": "GHu03owPtMKi"
      },
      "source": [
        "Definimos el modelo proporcionando la red neuronal, la EDP y la función de pérdida"
      ]
    },
    {
      "cell_type": "code",
      "execution_count": null,
      "id": "1a23d83e-d7b6-468e-8204-74b9a40355a0",
      "metadata": {
        "id": "1a23d83e-d7b6-468e-8204-74b9a40355a0"
      },
      "outputs": [],
      "source": [
        "model = pinnsjax.models.PINNModule(net = net,\n",
        "                                   pde_fn = pde_fn,\n",
        "                                   loss_fn = 'mse')"
      ]
    },
    {
      "cell_type": "markdown",
      "id": "l6r1oIL9tXQr",
      "metadata": {
        "id": "l6r1oIL9tXQr"
      },
      "source": [
        "Ajustamos el trainer y entrenamos a la red"
      ]
    },
    {
      "cell_type": "code",
      "execution_count": null,
      "id": "2d63a5cc-a0c4-4de7-ba2b-2b10f5140fc9",
      "metadata": {
        "id": "2d63a5cc-a0c4-4de7-ba2b-2b10f5140fc9"
      },
      "outputs": [],
      "source": [
        "trainer = pinnsjax.Trainer(max_epochs=30000, check_val_every_n_epoch=1000)"
      ]
    },
    {
      "cell_type": "code",
      "execution_count": null,
      "id": "ee7c8b03-1706-4ba4-84c5-0d293a178a9d",
      "metadata": {
        "colab": {
          "base_uri": "https://localhost:8080/"
        },
        "id": "ee7c8b03-1706-4ba4-84c5-0d293a178a9d",
        "outputId": "95a3852b-9af6-4fee-8bc6-f446c23aa204"
      },
      "outputs": [
        {
          "name": "stderr",
          "output_type": "stream",
          "text": [
            "30000/30000 100%|██████████|[04:04<00:00, 122.69it/s, val/loss: 0.0000, val/error_u: 0.0125, train/loss: 0.0003: ]\n"
          ]
        }
      ],
      "source": [
        "trainer.fit(model=model, datamodule=datamodule)"
      ]
    },
    {
      "cell_type": "markdown",
      "id": "RwI1_jnBtq_-",
      "metadata": {
        "id": "RwI1_jnBtq_-"
      },
      "source": [
        "Obtenemos la predicción de cada red para todo el dominio espacial y temporal"
      ]
    },
    {
      "cell_type": "code",
      "execution_count": null,
      "id": "d1a853d0-edc1-494f-a5ff-0ad21870aeb6",
      "metadata": {
        "colab": {
          "base_uri": "https://localhost:8080/"
        },
        "id": "d1a853d0-edc1-494f-a5ff-0ad21870aeb6",
        "outputId": "c3627411-11d7-4442-d6ed-80fee4698537"
      },
      "outputs": [
        {
          "data": {
            "text/plain": [
              "dict"
            ]
          },
          "execution_count": 21,
          "metadata": {},
          "output_type": "execute_result"
        }
      ],
      "source": [
        "preds_dict = trainer.predict(model=model, datamodule=datamodule)\n",
        "type(preds_dict)"
      ]
    },
    {
      "cell_type": "code",
      "execution_count": null,
      "id": "07f1631e-0f78-4a62-8833-9ae69bf3ada9",
      "metadata": {
        "colab": {
          "base_uri": "https://localhost:8080/",
          "height": 553
        },
        "id": "07f1631e-0f78-4a62-8833-9ae69bf3ada9",
        "outputId": "46fa70a4-02d2-41fd-ea1b-0f42d77594ab"
      },
      "outputs": [
        {
          "name": "stderr",
          "output_type": "stream",
          "text": [
            "<ipython-input-4-f73a368f9bd6>:76: MatplotlibDeprecationWarning: Auto-removal of overlapping axes is deprecated since 3.6 and will be removed two minor releases later; explicitly call ax.remove() as needed.\n",
            "  ax = plt.subplot(gs0[:, :])\n",
            "WARNING:matplotlib.legend:No artists with labels found to put in legend.  Note that artists whose label start with an underscore are ignored when legend() is called with no argument.\n"
          ]
        },
        {
          "data": {
            "image/png": "[encoded data removed]",
            "text/plain": [
              "<Figure size 809.465x450.249 with 5 Axes>"
            ]
          },
          "metadata": {},
          "output_type": "display_data"
        }
      ],
      "source": [
        "plot_resultados(mesh=mesh,\n",
        "                preds=preds_dict,\n",
        "                train_datasets=train_datasets,\n",
        "                val_dataset=val_dataset,\n",
        "                file_name=f'error_{porcentaje_error}')\n"
      ]
    },
    {
      "cell_type": "markdown",
      "id": "VO5UQER_umd4",
      "metadata": {
        "id": "VO5UQER_umd4"
      },
      "source": [
        "Guardamos los resultados obtenidos"
      ]
    },
    {
      "cell_type": "code",
      "execution_count": null,
      "id": "Sj40eVsovMh6",
      "metadata": {
        "colab": {
          "base_uri": "https://localhost:8080/"
        },
        "id": "Sj40eVsovMh6",
        "outputId": "6f36c6f2-3f08-4818-b9a9-b8f4fb90ffe5"
      },
      "outputs": [
        {
          "name": "stdout",
          "output_type": "stream",
          "text": [
            "Matriz guardada en /content/drive/MyDrive/data/Segunda vez/soluciones/error_0/u_pred_t_1e-8_x_1e-2.csv\n"
          ]
        }
      ],
      "source": [
        "file_name = f'error_{porcentaje_error}/u_pred_t_1e-8_x_1e-2.csv'\n",
        "\n",
        "with open(file_name, mode='w', newline='') as file:\n",
        "    writer = csv.writer(file)\n",
        "    writer.writerows(preds_dict['u'])\n",
        "\n",
        "print(f\"Matriz guardada en {file_name}\")"
      ]
    },
    {
      "cell_type": "markdown",
      "id": "Z5Kwrli5zRpW",
      "metadata": {
        "id": "Z5Kwrli5zRpW"
      },
      "source": [
        "# Añadimos error a los datos"
      ]
    },
    {
      "cell_type": "markdown",
      "id": "2vns_VBdvTDR",
      "metadata": {
        "id": "2vns_VBdvTDR"
      },
      "source": [
        "En los siguientes casos añadimos un ruido gaussiano a los datos con una desviación típica igual a un cierto porcentaje del valor de la función en cada punto"
      ]
    },
    {
      "cell_type": "markdown",
      "id": "sgWNUQ7E0UHC",
      "metadata": {
        "id": "sgWNUQ7E0UHC"
      },
      "source": [
        "## 10 %"
      ]
    },
    {
      "cell_type": "code",
      "execution_count": null,
      "id": "d852f05b",
      "metadata": {
        "id": "d852f05b"
      },
      "outputs": [],
      "source": [
        "u = np.genfromtxt('generacion_datos/data/u_real_t_1e-8_x_1e-2.csv', delimiter=',')"
      ]
    },
    {
      "cell_type": "code",
      "execution_count": null,
      "id": "EQQusYtIzbel",
      "metadata": {
        "colab": {
          "base_uri": "https://localhost:8080/"
        },
        "id": "EQQusYtIzbel",
        "outputId": "52c012e2-ee3f-47d0-ed59-375438e0a60d"
      },
      "outputs": [
        {
          "name": "stdout",
          "output_type": "stream",
          "text": [
            "[0.         0.03156855 0.06310563] \n",
            " [0.         0.03665692 0.06478872]\n"
          ]
        }
      ],
      "source": [
        "porcentaje_error = 10\n",
        "u_10 = np.random.normal(u, np.abs(u * porcentaje_error/100), u.shape)\n",
        "print(u[0:3, 0], \"\\n\", u_10[0:3, 0]) # Comprobamos que se ha modificado el valor"
      ]
    },
    {
      "cell_type": "code",
      "execution_count": null,
      "id": "3cuC5l87z2ln",
      "metadata": {
        "id": "3cuC5l87z2ln"
      },
      "outputs": [],
      "source": [
        "def read_data_fn_10(_):\n",
        "\n",
        "    exact_u = np.real(u_10) # T x N\n",
        "\n",
        "    return {\"u\": exact_u}"
      ]
    },
    {
      "cell_type": "code",
      "execution_count": null,
      "id": "28laoj8_08up",
      "metadata": {
        "id": "28laoj8_08up"
      },
      "outputs": [],
      "source": [
        "mesh = pinnsjax.data.Mesh(root_dir='data',\n",
        "                          read_data_fn=read_data_fn_10,\n",
        "                          spatial_domain = spatial_domain,\n",
        "                          time_domain = time_domain)"
      ]
    },
    {
      "cell_type": "code",
      "execution_count": null,
      "id": "U1Qw4qoL08uu",
      "metadata": {
        "id": "U1Qw4qoL08uu"
      },
      "outputs": [],
      "source": [
        "N0 = 100"
      ]
    },
    {
      "cell_type": "code",
      "execution_count": null,
      "id": "M8szP0sH08uv",
      "metadata": {
        "id": "M8szP0sH08uv"
      },
      "outputs": [],
      "source": [
        "in_c = pinnsjax.data.InitialCondition(mesh = mesh,\n",
        "                                      num_sample = N0,\n",
        "                                      solution = ['u'])"
      ]
    },
    {
      "cell_type": "code",
      "execution_count": null,
      "id": "3VmmRVdx08ux",
      "metadata": {
        "id": "3VmmRVdx08ux"
      },
      "outputs": [],
      "source": [
        "N_b = 100\n",
        "di_b = pinnsjax.data.DirichletBoundaryCondition(mesh = mesh,\n",
        "                                                num_sample = N_b,\n",
        "                                                solution = ['u'])"
      ]
    },
    {
      "cell_type": "code",
      "execution_count": null,
      "id": "106ysEND08uz",
      "metadata": {
        "id": "106ysEND08uz"
      },
      "outputs": [],
      "source": [
        "N_f = 10000\n",
        "me_s = pinnsjax.data.MeshSampler(mesh = mesh,\n",
        "                                 num_sample = N_f,\n",
        "                                 collection_points = ['f_u'])"
      ]
    },
    {
      "cell_type": "code",
      "execution_count": null,
      "id": "3IjI-v6k08u0",
      "metadata": {
        "id": "3IjI-v6k08u0"
      },
      "outputs": [],
      "source": [
        "val_s = pinnsjax.data.MeshSampler(mesh = mesh,\n",
        "                                  solution = ['u'])"
      ]
    },
    {
      "cell_type": "code",
      "execution_count": null,
      "id": "C26FB-8-08u1",
      "metadata": {
        "id": "C26FB-8-08u1"
      },
      "outputs": [],
      "source": [
        "net = pinnsjax.models.FCN(layers = [2, 20, 20, 20, 20, 20, 20, 20, 20, 1],\n",
        "                          output_names = ['u'],\n",
        "                          lb=mesh.lb,\n",
        "                          ub=mesh.ub)"
      ]
    },
    {
      "cell_type": "code",
      "execution_count": null,
      "id": "Y57stSrW08u2",
      "metadata": {
        "id": "Y57stSrW08u2"
      },
      "outputs": [],
      "source": [
        "k = 0.5\n",
        "c = 0.3"
      ]
    },
    {
      "cell_type": "code",
      "execution_count": null,
      "id": "VYpFU9cb08u4",
      "metadata": {
        "id": "VYpFU9cb08u4"
      },
      "outputs": [],
      "source": [
        "def pde_fn(functional_model,\n",
        "           params,\n",
        "           outputs: Dict[str, jax.Array],\n",
        "           x: jax.Array,\n",
        "           t: jax.Array):\n",
        "\n",
        "    u_x, u_t = pinnsjax.utils.gradient(functional_model, argnums=(1, 2), order=1)(params, x, t, 'u')\n",
        "    u_xx = pinnsjax.utils.gradient(functional_model, argnums=1, order=2)(params, x, t, 'u')[0]\n",
        "\n",
        "    outputs[\"f_u\"] = c * u_t - k * u_xx\n",
        "\n",
        "    return outputs"
      ]
    },
    {
      "cell_type": "code",
      "execution_count": null,
      "id": "ZWnIkBPS08u4",
      "metadata": {
        "id": "ZWnIkBPS08u4"
      },
      "outputs": [],
      "source": [
        "train_datasets = [me_s, in_c, di_b]\n",
        "val_dataset = val_s\n",
        "datamodule = pinnsjax.data.PINNDataModule(train_datasets = train_datasets,\n",
        "                                            val_dataset = val_dataset,\n",
        "                                            pred_dataset = val_s)"
      ]
    },
    {
      "cell_type": "code",
      "execution_count": null,
      "id": "LjAdNk9m08u4",
      "metadata": {
        "id": "LjAdNk9m08u4"
      },
      "outputs": [],
      "source": [
        "model = pinnsjax.models.PINNModule(net = net,\n",
        "                                   pde_fn = pde_fn,\n",
        "                                   loss_fn = 'mse')"
      ]
    },
    {
      "cell_type": "code",
      "execution_count": null,
      "id": "gSSkpz2E08u6",
      "metadata": {
        "id": "gSSkpz2E08u6"
      },
      "outputs": [],
      "source": [
        "trainer = pinnsjax.Trainer(max_epochs=30000, check_val_every_n_epoch=1000)"
      ]
    },
    {
      "cell_type": "code",
      "execution_count": null,
      "id": "JrXFHmdV08u7",
      "metadata": {
        "colab": {
          "base_uri": "https://localhost:8080/"
        },
        "id": "JrXFHmdV08u7",
        "outputId": "698ceffe-68a7-4652-c701-94cefd67bbfa"
      },
      "outputs": [
        {
          "name": "stderr",
          "output_type": "stream",
          "text": [
            "30000/30000 100%|██████████|[03:59<00:00, 125.03it/s, val/loss: 0.0015, val/error_u: 0.1017, train/loss: 0.0053: ]\n"
          ]
        }
      ],
      "source": [
        "trainer.fit(model=model, datamodule=datamodule)"
      ]
    },
    {
      "cell_type": "code",
      "execution_count": null,
      "id": "ed227g-308u8",
      "metadata": {
        "colab": {
          "base_uri": "https://localhost:8080/"
        },
        "id": "ed227g-308u8",
        "outputId": "1256d26b-59e1-4ca2-8ec1-6cb6cab45ac7"
      },
      "outputs": [
        {
          "data": {
            "text/plain": [
              "(Array(0.00151962, dtype=float32), {'u': Array(0.10133183, dtype=float32)})"
            ]
          },
          "execution_count": 40,
          "metadata": {},
          "output_type": "execute_result"
        }
      ],
      "source": [
        "trainer.validate(model=model, datamodule=datamodule)"
      ]
    },
    {
      "cell_type": "code",
      "execution_count": null,
      "id": "OMqeLjCa08u-",
      "metadata": {
        "colab": {
          "base_uri": "https://localhost:8080/"
        },
        "id": "OMqeLjCa08u-",
        "outputId": "e020ef4d-1c2f-46a6-fb9e-1aa89838173f"
      },
      "outputs": [
        {
          "data": {
            "text/plain": [
              "dict"
            ]
          },
          "execution_count": 41,
          "metadata": {},
          "output_type": "execute_result"
        }
      ],
      "source": [
        "preds_dict = trainer.predict(model=model, datamodule=datamodule)\n",
        "type(preds_dict)"
      ]
    },
    {
      "cell_type": "code",
      "execution_count": null,
      "id": "923_USch08vA",
      "metadata": {
        "colab": {
          "base_uri": "https://localhost:8080/",
          "height": 553
        },
        "id": "923_USch08vA",
        "outputId": "1eb3b9b0-baf1-4fbe-d913-e2b902281fbe"
      },
      "outputs": [
        {
          "name": "stderr",
          "output_type": "stream",
          "text": [
            "<ipython-input-4-f73a368f9bd6>:76: MatplotlibDeprecationWarning: Auto-removal of overlapping axes is deprecated since 3.6 and will be removed two minor releases later; explicitly call ax.remove() as needed.\n",
            "  ax = plt.subplot(gs0[:, :])\n",
            "WARNING:matplotlib.legend:No artists with labels found to put in legend.  Note that artists whose label start with an underscore are ignored when legend() is called with no argument.\n"
          ]
        },
        {
          "data": {
            "image/png": "[encoded data removed]",
            "text/plain": [
              "<Figure size 809.465x450.249 with 5 Axes>"
            ]
          },
          "metadata": {},
          "output_type": "display_data"
        }
      ],
      "source": [
        "plot_resultados(mesh=mesh,\n",
        "                preds=preds_dict,\n",
        "                train_datasets=train_datasets,\n",
        "                val_dataset=val_dataset,\n",
        "                file_name=f'error_{porcentaje_error}')\n"
      ]
    },
    {
      "cell_type": "code",
      "execution_count": null,
      "id": "K5DzV1fCwCIj",
      "metadata": {
        "colab": {
          "base_uri": "https://localhost:8080/"
        },
        "id": "K5DzV1fCwCIj",
        "outputId": "65c20942-aef5-4d31-c532-2f57f88c3714"
      },
      "outputs": [
        {
          "name": "stdout",
          "output_type": "stream",
          "text": [
            "Matriz guardada en /content/drive/MyDrive/data/Segunda vez/soluciones/error_10/soluciones_u_pred_t_1e-8_x_1e-2_error_10.csv\n"
          ]
        }
      ],
      "source": [
        "file_name = f'error_{porcentaje_error}/soluciones_u_pred_t_1e-8_x_1e-2_error_{porcentaje_error}.csv'\n",
        "\n",
        "with open(file_name, mode='w', newline='') as file:\n",
        "    writer = csv.writer(file)\n",
        "    writer.writerows(preds_dict['u'])\n",
        "\n",
        "print(f\"Matriz guardada en {file_name}\")"
      ]
    },
    {
      "cell_type": "markdown",
      "id": "JP4dHeME20nu",
      "metadata": {
        "id": "JP4dHeME20nu"
      },
      "source": [
        "## 5 %"
      ]
    },
    {
      "cell_type": "code",
      "execution_count": null,
      "id": "sFaMtnKn3IYL",
      "metadata": {
        "id": "sFaMtnKn3IYL"
      },
      "outputs": [],
      "source": [
        "u = np.genfromtxt('generacion_datos/data/u_real_t_1e-8_x_1e-2.csv', delimiter=',')"
      ]
    },
    {
      "cell_type": "code",
      "execution_count": null,
      "id": "Ee00bag53IYR",
      "metadata": {
        "colab": {
          "base_uri": "https://localhost:8080/"
        },
        "id": "Ee00bag53IYR",
        "outputId": "4640c90e-3358-43eb-edf4-25bc899b6730"
      },
      "outputs": [
        {
          "name": "stdout",
          "output_type": "stream",
          "text": [
            "[0.         0.03156855 0.06310563] \n",
            " [0.         0.03337775 0.06569359]\n"
          ]
        }
      ],
      "source": [
        "porcentaje_error = 5\n",
        "u_5 = np.random.normal(u, np.abs(u * porcentaje_error/100), u.shape)\n",
        "print(u[0:3, 0], \"\\n\", u_5[0:3, 0])"
      ]
    },
    {
      "cell_type": "code",
      "execution_count": null,
      "id": "I_8tzGs73IYS",
      "metadata": {
        "id": "I_8tzGs73IYS"
      },
      "outputs": [],
      "source": [
        "def read_data_fn_5(_):\n",
        "    exact_u = np.real(u_5) # T x N\n",
        "    return {\"u\": exact_u}"
      ]
    },
    {
      "cell_type": "code",
      "execution_count": null,
      "id": "R6mBJjX23IYV",
      "metadata": {
        "id": "R6mBJjX23IYV"
      },
      "outputs": [],
      "source": [
        "mesh = pinnsjax.data.Mesh(root_dir='data',\n",
        "                          read_data_fn=read_data_fn_5,\n",
        "                          spatial_domain = spatial_domain,\n",
        "                          time_domain = time_domain)"
      ]
    },
    {
      "cell_type": "code",
      "execution_count": null,
      "id": "1r9GJfQn3IYW",
      "metadata": {
        "id": "1r9GJfQn3IYW"
      },
      "outputs": [],
      "source": [
        "N0 = 100"
      ]
    },
    {
      "cell_type": "code",
      "execution_count": null,
      "id": "tdsi9FQ23IYX",
      "metadata": {
        "id": "tdsi9FQ23IYX"
      },
      "outputs": [],
      "source": [
        "in_c = pinnsjax.data.InitialCondition(mesh = mesh,\n",
        "                                      num_sample = N0,\n",
        "                                      solution = ['u'])"
      ]
    },
    {
      "cell_type": "code",
      "execution_count": null,
      "id": "2QAU7h-R3IYZ",
      "metadata": {
        "id": "2QAU7h-R3IYZ"
      },
      "outputs": [],
      "source": [
        "N_b = 100\n",
        "di_b = pinnsjax.data.DirichletBoundaryCondition(mesh = mesh,\n",
        "                                                num_sample = N_b,\n",
        "                                                solution = ['u'])"
      ]
    },
    {
      "cell_type": "code",
      "execution_count": null,
      "id": "73gyGOdD3IYa",
      "metadata": {
        "id": "73gyGOdD3IYa"
      },
      "outputs": [],
      "source": [
        "N_f = 10000\n",
        "me_s = pinnsjax.data.MeshSampler(mesh = mesh,\n",
        "                                 num_sample = N_f,\n",
        "                                 collection_points = ['f_u'])"
      ]
    },
    {
      "cell_type": "code",
      "execution_count": null,
      "id": "yCBr2dM-3IYc",
      "metadata": {
        "id": "yCBr2dM-3IYc"
      },
      "outputs": [],
      "source": [
        "val_s = pinnsjax.data.MeshSampler(mesh = mesh,\n",
        "                                  solution = ['u'])"
      ]
    },
    {
      "cell_type": "code",
      "execution_count": null,
      "id": "NaclVmUx3IYc",
      "metadata": {
        "id": "NaclVmUx3IYc"
      },
      "outputs": [],
      "source": [
        "net = pinnsjax.models.FCN(layers = [2, 20, 20, 20, 20, 20, 20, 20, 20, 1],\n",
        "                          output_names = ['u'],\n",
        "                          lb=mesh.lb,\n",
        "                          ub=mesh.ub)"
      ]
    },
    {
      "cell_type": "code",
      "execution_count": null,
      "id": "wK_SYz5k3IYd",
      "metadata": {
        "id": "wK_SYz5k3IYd"
      },
      "outputs": [],
      "source": [
        "k = 0.5\n",
        "c = 0.3"
      ]
    },
    {
      "cell_type": "code",
      "execution_count": null,
      "id": "N9LHVXDT3IYe",
      "metadata": {
        "id": "N9LHVXDT3IYe"
      },
      "outputs": [],
      "source": [
        "def pde_fn(functional_model,\n",
        "           params,\n",
        "           outputs: Dict[str, jax.Array],\n",
        "           x: jax.Array,\n",
        "           t: jax.Array):\n",
        "\n",
        "    u_x, u_t = pinnsjax.utils.gradient(functional_model, argnums=(1, 2), order=1)(params, x, t, 'u')\n",
        "    u_xx = pinnsjax.utils.gradient(functional_model, argnums=1, order=2)(params, x, t, 'u')[0]\n",
        "\n",
        "    outputs[\"f_u\"] = c * u_t - k * u_xx\n",
        "\n",
        "    return outputs"
      ]
    },
    {
      "cell_type": "code",
      "execution_count": null,
      "id": "o5m5US0U3IYf",
      "metadata": {
        "id": "o5m5US0U3IYf"
      },
      "outputs": [],
      "source": [
        "train_datasets = [me_s, in_c, di_b]\n",
        "val_dataset = val_s\n",
        "datamodule = pinnsjax.data.PINNDataModule(train_datasets = train_datasets,\n",
        "                                            val_dataset = val_dataset,\n",
        "                                            pred_dataset = val_s)"
      ]
    },
    {
      "cell_type": "code",
      "execution_count": null,
      "id": "42K3M4B03IYg",
      "metadata": {
        "id": "42K3M4B03IYg"
      },
      "outputs": [],
      "source": [
        "model = pinnsjax.models.PINNModule(net = net,\n",
        "                                   pde_fn = pde_fn,\n",
        "                                   loss_fn = 'mse')"
      ]
    },
    {
      "cell_type": "code",
      "execution_count": null,
      "id": "mZ9_uigt3IYg",
      "metadata": {
        "id": "mZ9_uigt3IYg"
      },
      "outputs": [],
      "source": [
        "trainer = pinnsjax.Trainer(max_epochs=30000, check_val_every_n_epoch=1000)"
      ]
    },
    {
      "cell_type": "code",
      "execution_count": null,
      "id": "5ave0RGG3IYh",
      "metadata": {
        "colab": {
          "base_uri": "https://localhost:8080/"
        },
        "id": "5ave0RGG3IYh",
        "outputId": "58f85701-40c2-48a1-a187-9ec38c691e5e"
      },
      "outputs": [
        {
          "name": "stderr",
          "output_type": "stream",
          "text": [
            "30000/30000 100%|██████████|[04:04<00:00, 122.46it/s, val/loss: 0.0004, val/error_u: 0.0525, train/loss: 0.0023: ]\n"
          ]
        }
      ],
      "source": [
        "trainer.fit(model=model, datamodule=datamodule)"
      ]
    },
    {
      "cell_type": "code",
      "execution_count": null,
      "id": "zC9x3hek3IYi",
      "metadata": {
        "colab": {
          "base_uri": "https://localhost:8080/"
        },
        "id": "zC9x3hek3IYi",
        "outputId": "b60ac4ab-91e6-4dac-80bd-b1677c4a1b15"
      },
      "outputs": [
        {
          "data": {
            "text/plain": [
              "(Array(0.00040989, dtype=float32), {'u': Array(0.05280226, dtype=float32)})"
            ]
          },
          "execution_count": 60,
          "metadata": {},
          "output_type": "execute_result"
        }
      ],
      "source": [
        "trainer.validate(model=model, datamodule=datamodule)"
      ]
    },
    {
      "cell_type": "code",
      "execution_count": null,
      "id": "wEE9m87x3IYj",
      "metadata": {
        "colab": {
          "base_uri": "https://localhost:8080/"
        },
        "id": "wEE9m87x3IYj",
        "outputId": "5afb58ff-0bb4-4f16-f410-843dca155fc3"
      },
      "outputs": [
        {
          "data": {
            "text/plain": [
              "dict"
            ]
          },
          "execution_count": 61,
          "metadata": {},
          "output_type": "execute_result"
        }
      ],
      "source": [
        "preds_dict = trainer.predict(model=model, datamodule=datamodule)\n",
        "type(preds_dict)"
      ]
    },
    {
      "cell_type": "code",
      "execution_count": null,
      "id": "OJEoMJqi3IYj",
      "metadata": {
        "colab": {
          "base_uri": "https://localhost:8080/",
          "height": 553
        },
        "id": "OJEoMJqi3IYj",
        "outputId": "ccbfbb32-6184-41b7-d9b6-5f04911ed5cb"
      },
      "outputs": [
        {
          "name": "stderr",
          "output_type": "stream",
          "text": [
            "<ipython-input-4-f73a368f9bd6>:76: MatplotlibDeprecationWarning: Auto-removal of overlapping axes is deprecated since 3.6 and will be removed two minor releases later; explicitly call ax.remove() as needed.\n",
            "  ax = plt.subplot(gs0[:, :])\n",
            "WARNING:matplotlib.legend:No artists with labels found to put in legend.  Note that artists whose label start with an underscore are ignored when legend() is called with no argument.\n"
          ]
        },
        {
          "data": {
            "image/png": "[encoded data removed]",
            "text/plain": [
              "<Figure size 809.465x450.249 with 5 Axes>"
            ]
          },
          "metadata": {},
          "output_type": "display_data"
        }
      ],
      "source": [
        "plot_resultados(mesh=mesh,\n",
        "                preds=preds_dict,\n",
        "                train_datasets=train_datasets,\n",
        "                val_dataset=val_dataset,\n",
        "                file_name=f'error_{porcentaje_error}')\n"
      ]
    },
    {
      "cell_type": "code",
      "execution_count": null,
      "id": "nQsdk2Ra3IYk",
      "metadata": {
        "colab": {
          "base_uri": "https://localhost:8080/"
        },
        "id": "nQsdk2Ra3IYk",
        "outputId": "fee0af91-3446-42dc-d703-41f0735049f9"
      },
      "outputs": [
        {
          "name": "stdout",
          "output_type": "stream",
          "text": [
            "Matriz guardada en /content/drive/MyDrive/data/Segunda vez/soluciones/error_5/soluciones_u_pred_t_1e-8_x_1e-2_error_5.csv\n"
          ]
        }
      ],
      "source": [
        "file_name = f'error_{porcentaje_error}/soluciones_u_pred_t_1e-8_x_1e-2_error_{porcentaje_error}.csv'\n",
        "\n",
        "with open(file_name, mode='w', newline='') as file:\n",
        "    writer = csv.writer(file)\n",
        "    writer.writerows(preds_dict['u'])\n",
        "\n",
        "print(f\"Matriz guardada en {file_name}\")"
      ]
    },
    {
      "cell_type": "markdown",
      "id": "jZSflFQq4Tbk",
      "metadata": {
        "id": "jZSflFQq4Tbk"
      },
      "source": [
        "## 3 %"
      ]
    },
    {
      "cell_type": "code",
      "execution_count": null,
      "id": "XFBgMKOV4Tbm",
      "metadata": {
        "id": "XFBgMKOV4Tbm"
      },
      "outputs": [],
      "source": [
        "u = np.genfromtxt('generacion_datos/data/u_real_t_1e-8_x_1e-2.csv', delimiter=',')"
      ]
    },
    {
      "cell_type": "code",
      "execution_count": null,
      "id": "QZj5E8lg4Tbo",
      "metadata": {
        "colab": {
          "base_uri": "https://localhost:8080/"
        },
        "id": "QZj5E8lg4Tbo",
        "outputId": "d35e016a-9dac-42de-dc43-a33ef1eddf8d"
      },
      "outputs": [
        {
          "name": "stdout",
          "output_type": "stream",
          "text": [
            "[0.         0.03156855 0.06310563] \n",
            " [0.         0.03253893 0.0641193 ]\n"
          ]
        }
      ],
      "source": [
        "porcentaje_error = 3\n",
        "u_3 = np.random.normal(u, np.abs(u * porcentaje_error/100), u.shape)\n",
        "print(u[0:3, 0], \"\\n\", u_3[0:3, 0])"
      ]
    },
    {
      "cell_type": "code",
      "execution_count": null,
      "id": "GnfwJJvl4Tbq",
      "metadata": {
        "id": "GnfwJJvl4Tbq"
      },
      "outputs": [],
      "source": [
        "def read_data_fn_3(_):\n",
        "    exact_u = np.real(u_3) # T x N\n",
        "    return {\"u\": exact_u}"
      ]
    },
    {
      "cell_type": "code",
      "execution_count": null,
      "id": "eBnpmEFp4Tbr",
      "metadata": {
        "id": "eBnpmEFp4Tbr"
      },
      "outputs": [],
      "source": [
        "mesh = pinnsjax.data.Mesh(root_dir='data',\n",
        "                          read_data_fn=read_data_fn_3,\n",
        "                          spatial_domain = spatial_domain,\n",
        "                          time_domain = time_domain)"
      ]
    },
    {
      "cell_type": "code",
      "execution_count": null,
      "id": "qqdswI2H4Tbs",
      "metadata": {
        "id": "qqdswI2H4Tbs"
      },
      "outputs": [],
      "source": [
        "N0 = 100"
      ]
    },
    {
      "cell_type": "code",
      "execution_count": null,
      "id": "UptwpTQ-4Tbt",
      "metadata": {
        "id": "UptwpTQ-4Tbt"
      },
      "outputs": [],
      "source": [
        "in_c = pinnsjax.data.InitialCondition(mesh = mesh,\n",
        "                                      num_sample = N0,\n",
        "                                      solution = ['u'])"
      ]
    },
    {
      "cell_type": "code",
      "execution_count": null,
      "id": "iKX-4dN04Tbu",
      "metadata": {
        "id": "iKX-4dN04Tbu"
      },
      "outputs": [],
      "source": [
        "N_b = 100\n",
        "di_b = pinnsjax.data.DirichletBoundaryCondition(mesh = mesh,\n",
        "                                                num_sample = N_b,\n",
        "                                                solution = ['u'])"
      ]
    },
    {
      "cell_type": "code",
      "execution_count": null,
      "id": "exxDvFV14Tbw",
      "metadata": {
        "id": "exxDvFV14Tbw"
      },
      "outputs": [],
      "source": [
        "N_f = 10000\n",
        "me_s = pinnsjax.data.MeshSampler(mesh = mesh,\n",
        "                                 num_sample = N_f,\n",
        "                                 collection_points = ['f_u'])"
      ]
    },
    {
      "cell_type": "code",
      "execution_count": null,
      "id": "6Q5zIW8q4Tbx",
      "metadata": {
        "id": "6Q5zIW8q4Tbx"
      },
      "outputs": [],
      "source": [
        "val_s = pinnsjax.data.MeshSampler(mesh = mesh,\n",
        "                                  solution = ['u'])"
      ]
    },
    {
      "cell_type": "code",
      "execution_count": null,
      "id": "SLsBeM3U4Tbz",
      "metadata": {
        "id": "SLsBeM3U4Tbz"
      },
      "outputs": [],
      "source": [
        "net = pinnsjax.models.FCN(layers = [2, 20, 20, 20, 20, 20, 20, 20, 20, 1],\n",
        "                          output_names = ['u'],\n",
        "                          lb=mesh.lb,\n",
        "                          ub=mesh.ub)"
      ]
    },
    {
      "cell_type": "code",
      "execution_count": null,
      "id": "5UUoaSgp4Tb0",
      "metadata": {
        "id": "5UUoaSgp4Tb0"
      },
      "outputs": [],
      "source": [
        "k = 0.5\n",
        "c = 0.3"
      ]
    },
    {
      "cell_type": "code",
      "execution_count": null,
      "id": "1W4T0NYQ4Tb0",
      "metadata": {
        "id": "1W4T0NYQ4Tb0"
      },
      "outputs": [],
      "source": [
        "def pde_fn(functional_model,\n",
        "           params,\n",
        "           outputs: Dict[str, jax.Array],\n",
        "           x: jax.Array,\n",
        "           t: jax.Array):\n",
        "\n",
        "    u_x, u_t = pinnsjax.utils.gradient(functional_model, argnums=(1, 2), order=1)(params, x, t, 'u')\n",
        "    u_xx = pinnsjax.utils.gradient(functional_model, argnums=1, order=2)(params, x, t, 'u')[0]\n",
        "\n",
        "    outputs[\"f_u\"] = c * u_t - k * u_xx\n",
        "\n",
        "    return outputs"
      ]
    },
    {
      "cell_type": "code",
      "execution_count": null,
      "id": "r9if1lpH4Tb1",
      "metadata": {
        "id": "r9if1lpH4Tb1"
      },
      "outputs": [],
      "source": [
        "train_datasets = [me_s, in_c, di_b]\n",
        "val_dataset = val_s\n",
        "datamodule = pinnsjax.data.PINNDataModule(train_datasets = train_datasets,\n",
        "                                            val_dataset = val_dataset,\n",
        "                                            pred_dataset = val_s)"
      ]
    },
    {
      "cell_type": "code",
      "execution_count": null,
      "id": "KO85MmBd4Tb1",
      "metadata": {
        "id": "KO85MmBd4Tb1"
      },
      "outputs": [],
      "source": [
        "model = pinnsjax.models.PINNModule(net = net,\n",
        "                                   pde_fn = pde_fn,\n",
        "                                   loss_fn = 'mse')"
      ]
    },
    {
      "cell_type": "code",
      "execution_count": null,
      "id": "5woTHlTk4Tb2",
      "metadata": {
        "id": "5woTHlTk4Tb2"
      },
      "outputs": [],
      "source": [
        "trainer = pinnsjax.Trainer(max_epochs=30000, check_val_every_n_epoch=1000)"
      ]
    },
    {
      "cell_type": "code",
      "execution_count": null,
      "id": "4Fw1kOBZ4Tb2",
      "metadata": {
        "colab": {
          "base_uri": "https://localhost:8080/"
        },
        "id": "4Fw1kOBZ4Tb2",
        "outputId": "7661c1e5-839f-4568-80b0-cb325f807041"
      },
      "outputs": [
        {
          "name": "stderr",
          "output_type": "stream",
          "text": [
            "30000/30000 100%|██████████|[04:13<00:00, 118.19it/s, val/loss: 0.0001, val/error_u: 0.0308, train/loss: 0.0007: ]\n"
          ]
        }
      ],
      "source": [
        "trainer.fit(model=model, datamodule=datamodule)"
      ]
    },
    {
      "cell_type": "code",
      "execution_count": null,
      "id": "GEynvF4X4Tb3",
      "metadata": {
        "colab": {
          "base_uri": "https://localhost:8080/"
        },
        "id": "GEynvF4X4Tb3",
        "outputId": "b37fe034-b614-4264-bce5-6cffc84f8c6b"
      },
      "outputs": [
        {
          "data": {
            "text/plain": [
              "(Array(0.00014066, dtype=float32), {'u': Array(0.03092554, dtype=float32)})"
            ]
          },
          "execution_count": 80,
          "metadata": {},
          "output_type": "execute_result"
        }
      ],
      "source": [
        "trainer.validate(model=model, datamodule=datamodule)"
      ]
    },
    {
      "cell_type": "code",
      "execution_count": null,
      "id": "7rYQNQZa4Tb4",
      "metadata": {
        "colab": {
          "base_uri": "https://localhost:8080/"
        },
        "id": "7rYQNQZa4Tb4",
        "outputId": "8fecdf26-6609-476e-e597-83511b292b64"
      },
      "outputs": [
        {
          "data": {
            "text/plain": [
              "dict"
            ]
          },
          "execution_count": 81,
          "metadata": {},
          "output_type": "execute_result"
        }
      ],
      "source": [
        "preds_dict = trainer.predict(model=model, datamodule=datamodule)\n",
        "type(preds_dict)"
      ]
    },
    {
      "cell_type": "code",
      "execution_count": null,
      "id": "nh4dKyoj4Tb4",
      "metadata": {
        "colab": {
          "base_uri": "https://localhost:8080/",
          "height": 553
        },
        "id": "nh4dKyoj4Tb4",
        "outputId": "504edcdf-a9f6-4acf-f7f2-758819535448"
      },
      "outputs": [
        {
          "name": "stderr",
          "output_type": "stream",
          "text": [
            "<ipython-input-4-f73a368f9bd6>:76: MatplotlibDeprecationWarning: Auto-removal of overlapping axes is deprecated since 3.6 and will be removed two minor releases later; explicitly call ax.remove() as needed.\n",
            "  ax = plt.subplot(gs0[:, :])\n",
            "WARNING:matplotlib.legend:No artists with labels found to put in legend.  Note that artists whose label start with an underscore are ignored when legend() is called with no argument.\n"
          ]
        },
        {
          "data": {
            "image/png": "[encoded data removed]",
            "text/plain": [
              "<Figure size 809.465x450.249 with 5 Axes>"
            ]
          },
          "metadata": {},
          "output_type": "display_data"
        }
      ],
      "source": [
        "plot_resultados(mesh=mesh,\n",
        "                preds=preds_dict,\n",
        "                train_datasets=train_datasets,\n",
        "                val_dataset=val_dataset,\n",
        "                file_name=f'error_{porcentaje_error}')\n"
      ]
    },
    {
      "cell_type": "code",
      "execution_count": null,
      "id": "79c2sCQx4Tb5",
      "metadata": {
        "colab": {
          "base_uri": "https://localhost:8080/"
        },
        "id": "79c2sCQx4Tb5",
        "outputId": "87b1cf67-651b-4fa7-8c8f-95af23e0f62b"
      },
      "outputs": [
        {
          "name": "stdout",
          "output_type": "stream",
          "text": [
            "Matriz guardada en /content/drive/MyDrive/data/Segunda vez/soluciones/error_3/u_pred_t_1e-8_x_1e-2_error_3.csv\n"
          ]
        }
      ],
      "source": [
        "file_name = f'error_{porcentaje_error}/u_pred_t_1e-8_x_1e-2_error_{porcentaje_error}.csv'\n",
        "\n",
        "with open(file_name, mode='w', newline='') as file:\n",
        "    writer = csv.writer(file)\n",
        "    writer.writerows(preds_dict['u'])\n",
        "\n",
        "print(f\"Matriz guardada en {file_name}\")"
      ]
    },
    {
      "cell_type": "markdown",
      "id": "1R1tN5jG4dp2",
      "metadata": {
        "id": "1R1tN5jG4dp2"
      },
      "source": [
        "## 1 %"
      ]
    },
    {
      "cell_type": "code",
      "execution_count": null,
      "id": "oM8X6BVc4dp3",
      "metadata": {
        "id": "oM8X6BVc4dp3"
      },
      "outputs": [],
      "source": [
        "u = np.genfromtxt('generacion_datos/data/u_real_t_1e-8_x_1e-2.csv', delimiter=',')"
      ]
    },
    {
      "cell_type": "code",
      "execution_count": null,
      "id": "-pSuaAgN4dp4",
      "metadata": {
        "colab": {
          "base_uri": "https://localhost:8080/"
        },
        "id": "-pSuaAgN4dp4",
        "outputId": "b9679b25-e6c7-47c6-db8c-2544e37b2284"
      },
      "outputs": [
        {
          "name": "stdout",
          "output_type": "stream",
          "text": [
            "[0.         0.03156855 0.06310563] \n",
            " [0.         0.03138577 0.06339195]\n"
          ]
        }
      ],
      "source": [
        "porcentaje_error = 1\n",
        "u_1 = np.random.normal(u, np.abs(u * porcentaje_error/100), u.shape)\n",
        "print(u[0:3, 0], \"\\n\", u_1[0:3, 0])"
      ]
    },
    {
      "cell_type": "code",
      "execution_count": null,
      "id": "W5eMpPAo4dp6",
      "metadata": {
        "id": "W5eMpPAo4dp6"
      },
      "outputs": [],
      "source": [
        "def read_data_fn_1(_):\n",
        "    exact_u = np.real(u_1) # T x N\n",
        "    return {\"u\": exact_u}"
      ]
    },
    {
      "cell_type": "code",
      "execution_count": null,
      "id": "SrccykQW4dp7",
      "metadata": {
        "id": "SrccykQW4dp7"
      },
      "outputs": [],
      "source": [
        "mesh = pinnsjax.data.Mesh(root_dir='data',\n",
        "                          read_data_fn=read_data_fn_1,\n",
        "                          spatial_domain = spatial_domain,\n",
        "                          time_domain = time_domain)"
      ]
    },
    {
      "cell_type": "code",
      "execution_count": null,
      "id": "y-w744oZ4dp8",
      "metadata": {
        "id": "y-w744oZ4dp8"
      },
      "outputs": [],
      "source": [
        "N0 = 100"
      ]
    },
    {
      "cell_type": "code",
      "execution_count": null,
      "id": "18WfmI9m4dp9",
      "metadata": {
        "id": "18WfmI9m4dp9"
      },
      "outputs": [],
      "source": [
        "in_c = pinnsjax.data.InitialCondition(mesh = mesh,\n",
        "                                      num_sample = N0,\n",
        "                                      solution = ['u'])"
      ]
    },
    {
      "cell_type": "code",
      "execution_count": null,
      "id": "czrPPjSI4dp-",
      "metadata": {
        "id": "czrPPjSI4dp-"
      },
      "outputs": [],
      "source": [
        "N_b = 100\n",
        "di_b = pinnsjax.data.DirichletBoundaryCondition(mesh = mesh,\n",
        "                                                num_sample = N_b,\n",
        "                                                solution = ['u'])"
      ]
    },
    {
      "cell_type": "code",
      "execution_count": null,
      "id": "WvxA-QPi4dp_",
      "metadata": {
        "id": "WvxA-QPi4dp_"
      },
      "outputs": [],
      "source": [
        "N_f = 10000\n",
        "me_s = pinnsjax.data.MeshSampler(mesh = mesh,\n",
        "                                 num_sample = N_f,\n",
        "                                 collection_points = ['f_u'])"
      ]
    },
    {
      "cell_type": "code",
      "execution_count": null,
      "id": "afmtyF5K4dqA",
      "metadata": {
        "id": "afmtyF5K4dqA"
      },
      "outputs": [],
      "source": [
        "val_s = pinnsjax.data.MeshSampler(mesh = mesh,\n",
        "                                  solution = ['u'])"
      ]
    },
    {
      "cell_type": "code",
      "execution_count": null,
      "id": "6brIDHnw4dqC",
      "metadata": {
        "id": "6brIDHnw4dqC"
      },
      "outputs": [],
      "source": [
        "net = pinnsjax.models.FCN(layers = [2, 20, 20, 20, 20, 20, 20, 20, 20, 1],\n",
        "                          output_names = ['u'],\n",
        "                          lb=mesh.lb,\n",
        "                          ub=mesh.ub)"
      ]
    },
    {
      "cell_type": "code",
      "execution_count": null,
      "id": "aWlgPqJu4dqD",
      "metadata": {
        "id": "aWlgPqJu4dqD"
      },
      "outputs": [],
      "source": [
        "k = 0.5\n",
        "c = 0.3"
      ]
    },
    {
      "cell_type": "code",
      "execution_count": null,
      "id": "16pfp21M4dqE",
      "metadata": {
        "id": "16pfp21M4dqE"
      },
      "outputs": [],
      "source": [
        "def pde_fn(functional_model,\n",
        "           params,\n",
        "           outputs: Dict[str, jax.Array],\n",
        "           x: jax.Array,\n",
        "           t: jax.Array):\n",
        "\n",
        "    u_x, u_t = pinnsjax.utils.gradient(functional_model, argnums=(1, 2), order=1)(params, x, t, 'u')\n",
        "    u_xx = pinnsjax.utils.gradient(functional_model, argnums=1, order=2)(params, x, t, 'u')[0]\n",
        "\n",
        "    outputs[\"f_u\"] = c * u_t - k * u_xx\n",
        "\n",
        "    return outputs"
      ]
    },
    {
      "cell_type": "code",
      "execution_count": null,
      "id": "5k-eGW134dqE",
      "metadata": {
        "id": "5k-eGW134dqE"
      },
      "outputs": [],
      "source": [
        "train_datasets = [me_s, in_c, di_b]\n",
        "val_dataset = val_s\n",
        "datamodule = pinnsjax.data.PINNDataModule(train_datasets = train_datasets,\n",
        "                                            val_dataset = val_dataset,\n",
        "                                            pred_dataset = val_s)"
      ]
    },
    {
      "cell_type": "code",
      "execution_count": null,
      "id": "mDH_qyZa4dqF",
      "metadata": {
        "id": "mDH_qyZa4dqF"
      },
      "outputs": [],
      "source": [
        "model = pinnsjax.models.PINNModule(net = net,\n",
        "                                   pde_fn = pde_fn,\n",
        "                                   loss_fn = 'mse')"
      ]
    },
    {
      "cell_type": "code",
      "execution_count": null,
      "id": "S1qrZmd-4dqG",
      "metadata": {
        "id": "S1qrZmd-4dqG"
      },
      "outputs": [],
      "source": [
        "trainer = pinnsjax.Trainer(max_epochs=30000, check_val_every_n_epoch=1000)"
      ]
    },
    {
      "cell_type": "code",
      "execution_count": null,
      "id": "iWkhxsjV4dqG",
      "metadata": {
        "colab": {
          "base_uri": "https://localhost:8080/"
        },
        "id": "iWkhxsjV4dqG",
        "outputId": "1ac41d3b-bdf3-4062-8572-d6cad9a60919"
      },
      "outputs": [
        {
          "name": "stderr",
          "output_type": "stream",
          "text": [
            "30000/30000 100%|██████████|[04:09<00:00, 120.47it/s, val/loss: 0.0000, val/error_u: 0.0138, train/loss: 0.0005: ]\n"
          ]
        }
      ],
      "source": [
        "trainer.fit(model=model, datamodule=datamodule)"
      ]
    },
    {
      "cell_type": "code",
      "execution_count": null,
      "id": "TzvBWkF14dqH",
      "metadata": {
        "colab": {
          "base_uri": "https://localhost:8080/"
        },
        "id": "TzvBWkF14dqH",
        "outputId": "9a8003ed-bda5-4123-e7a1-e80760410518"
      },
      "outputs": [
        {
          "data": {
            "text/plain": [
              "(Array(4.0669045e-05, dtype=float32), {'u': Array(0.01664887, dtype=float32)})"
            ]
          },
          "execution_count": 100,
          "metadata": {},
          "output_type": "execute_result"
        }
      ],
      "source": [
        "trainer.validate(model=model, datamodule=datamodule)"
      ]
    },
    {
      "cell_type": "code",
      "execution_count": null,
      "id": "VPBm4ZJk4dqH",
      "metadata": {
        "colab": {
          "base_uri": "https://localhost:8080/"
        },
        "id": "VPBm4ZJk4dqH",
        "outputId": "75851824-2239-4f03-97ad-9072d37497bd"
      },
      "outputs": [
        {
          "data": {
            "text/plain": [
              "dict"
            ]
          },
          "execution_count": 101,
          "metadata": {},
          "output_type": "execute_result"
        }
      ],
      "source": [
        "preds_dict = trainer.predict(model=model, datamodule=datamodule)\n",
        "type(preds_dict)"
      ]
    },
    {
      "cell_type": "code",
      "execution_count": null,
      "id": "IVN5NQiY4dqI",
      "metadata": {
        "colab": {
          "base_uri": "https://localhost:8080/",
          "height": 553
        },
        "id": "IVN5NQiY4dqI",
        "outputId": "fb3521c6-bb03-4a2d-c15a-cc0f4e0f0f85"
      },
      "outputs": [
        {
          "name": "stderr",
          "output_type": "stream",
          "text": [
            "<ipython-input-4-f73a368f9bd6>:76: MatplotlibDeprecationWarning: Auto-removal of overlapping axes is deprecated since 3.6 and will be removed two minor releases later; explicitly call ax.remove() as needed.\n",
            "  ax = plt.subplot(gs0[:, :])\n",
            "WARNING:matplotlib.legend:No artists with labels found to put in legend.  Note that artists whose label start with an underscore are ignored when legend() is called with no argument.\n"
          ]
        },
        {
          "data": {
            "image/png": "[encoded data removed]",
            "text/plain": [
              "<Figure size 809.465x450.249 with 5 Axes>"
            ]
          },
          "metadata": {},
          "output_type": "display_data"
        }
      ],
      "source": [
        "plot_resultados(mesh=mesh,\n",
        "                preds=preds_dict,\n",
        "                train_datasets=train_datasets,\n",
        "                val_dataset=val_dataset,\n",
        "                file_name=f'error_{porcentaje_error}')\n"
      ]
    },
    {
      "cell_type": "code",
      "execution_count": null,
      "id": "j0tjXgX14dqJ",
      "metadata": {
        "colab": {
          "base_uri": "https://localhost:8080/"
        },
        "id": "j0tjXgX14dqJ",
        "outputId": "435b3888-87db-4612-fd92-2f07b86a35fa"
      },
      "outputs": [
        {
          "name": "stdout",
          "output_type": "stream",
          "text": [
            "Matriz guardada en /content/drive/MyDrive/data/Segunda vez/soluciones/error_1/u_pred_t_1e-8_x_1e-2_error_1.csv\n"
          ]
        }
      ],
      "source": [
        "file_name = f'error_{porcentaje_error}/u_pred_t_1e-8_x_1e-2_error_{porcentaje_error}.csv'\n",
        "\n",
        "with open(file_name, mode='w', newline='') as file:\n",
        "    writer = csv.writer(file)\n",
        "    writer.writerows(preds_dict['u'])\n",
        "\n",
        "print(f\"Matriz guardada en {file_name}\")"
      ]
    }
  ],
  "metadata": {
    "accelerator": "GPU",
    "colab": {
      "collapsed_sections": [
        "fxLqw11pRX7o"
      ],
      "gpuType": "T4",
      "provenance": []
    },
    "kernelspec": {
      "display_name": "Python 3",
      "name": "python3"
    },
    "language_info": {
      "codemirror_mode": {
        "name": "ipython",
        "version": 3
      },
      "file_extension": ".py",
      "mimetype": "text/x-python",
      "name": "python",
      "nbconvert_exporter": "python",
      "pygments_lexer": "ipython3",
      "version": "3.11.6"
    }
  },
  "nbformat": 4,
  "nbformat_minor": 5
}
