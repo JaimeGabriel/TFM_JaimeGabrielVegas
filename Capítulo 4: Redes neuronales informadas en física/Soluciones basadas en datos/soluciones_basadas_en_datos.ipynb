{
  "cells": [
    {
      "cell_type": "markdown",
      "metadata": {
        "id": "view-in-github",
        "colab_type": "text"
      },
      "source": [
        "<a href=\"https://colab.research.google.com/github/JaimeGabriel/TFM_JaimeGabrielVegas/blob/main/Cap%C3%ADtulo%204%3A%20Redes%20neuronales%20informadas%20en%20f%C3%ADsica/Soluciones%20basadas%20en%20datos/soluciones_basadas_en_datos.ipynb\" target=\"_parent\"><img src=\"https://colab.research.google.com/assets/colab-badge.svg\" alt=\"Open In Colab\"/></a>"
      ]
    },
    {
      "cell_type": "markdown",
      "id": "57391070-fbb9-4580-9dec-be5bbae6e6ad",
      "metadata": {
        "id": "57391070-fbb9-4580-9dec-be5bbae6e6ad"
      },
      "source": [
        "#### Install `pinnsjax`"
      ]
    },
    {
      "cell_type": "code",
      "execution_count": null,
      "id": "JdWRZ8AJCjDI",
      "metadata": {
        "colab": {
          "base_uri": "https://localhost:8080/"
        },
        "id": "JdWRZ8AJCjDI",
        "outputId": "258469f4-12c3-4d34-9f84-c3003d4b8311"
      },
      "outputs": [
        {
          "output_type": "stream",
          "name": "stdout",
          "text": [
            "Drive already mounted at /content/drive; to attempt to forcibly remount, call drive.mount(\"/content/drive\", force_remount=True).\n"
          ]
        }
      ],
      "source": [
        "from google.colab import drive\n",
        "drive.mount('/content/drive')"
      ]
    },
    {
      "cell_type": "code",
      "execution_count": null,
      "id": "46398b08-314a-4da1-8df1-40ea311ba5e7",
      "metadata": {
        "colab": {
          "base_uri": "https://localhost:8080/",
          "height": 1000
        },
        "id": "46398b08-314a-4da1-8df1-40ea311ba5e7",
        "outputId": "dd32239a-cde8-473e-93a7-83304ca876ca"
      },
      "outputs": [
        {
          "output_type": "stream",
          "name": "stdout",
          "text": [
            "Collecting pinnsjax\n",
            "  Downloading pinnsjax-0.0.2.tar.gz (28 kB)\n",
            "  Installing build dependencies ... \u001b[?25l\u001b[?25hdone\n",
            "  Getting requirements to build wheel ... \u001b[?25l\u001b[?25hdone\n",
            "  Preparing metadata (pyproject.toml) ... \u001b[?25l\u001b[?25hdone\n",
            "Collecting hydra-core (from pinnsjax)\n",
            "  Downloading hydra_core-1.3.2-py3-none-any.whl (154 kB)\n",
            "\u001b[2K     \u001b[90m━━━━━━━━━━━━━━━━━━━━━━━━━━━━━━━━━━━━━━━━\u001b[0m \u001b[32m154.5/154.5 kB\u001b[0m \u001b[31m1.7 MB/s\u001b[0m eta \u001b[36m0:00:00\u001b[0m\n",
            "\u001b[?25hRequirement already satisfied: scipy in /usr/local/lib/python3.10/dist-packages (from pinnsjax) (1.11.4)\n",
            "Collecting pyDOE (from pinnsjax)\n",
            "  Downloading pyDOE-0.3.8.zip (22 kB)\n",
            "  Preparing metadata (setup.py) ... \u001b[?25l\u001b[?25hdone\n",
            "Requirement already satisfied: matplotlib in /usr/local/lib/python3.10/dist-packages (from pinnsjax) (3.7.1)\n",
            "Collecting rootutils (from pinnsjax)\n",
            "  Downloading rootutils-1.0.7-py3-none-any.whl (6.4 kB)\n",
            "Requirement already satisfied: rich in /usr/local/lib/python3.10/dist-packages (from pinnsjax) (13.7.1)\n",
            "Requirement already satisfied: tqdm in /usr/local/lib/python3.10/dist-packages (from pinnsjax) (4.66.4)\n",
            "Requirement already satisfied: requests in /usr/local/lib/python3.10/dist-packages (from pinnsjax) (2.31.0)\n",
            "Collecting omegaconf<2.4,>=2.2 (from hydra-core->pinnsjax)\n",
            "  Downloading omegaconf-2.3.0-py3-none-any.whl (79 kB)\n",
            "\u001b[2K     \u001b[90m━━━━━━━━━━━━━━━━━━━━━━━━━━━━━━━━━━━━━━━━\u001b[0m \u001b[32m79.5/79.5 kB\u001b[0m \u001b[31m6.4 MB/s\u001b[0m eta \u001b[36m0:00:00\u001b[0m\n",
            "\u001b[?25hCollecting antlr4-python3-runtime==4.9.* (from hydra-core->pinnsjax)\n",
            "  Downloading antlr4-python3-runtime-4.9.3.tar.gz (117 kB)\n",
            "\u001b[2K     \u001b[90m━━━━━━━━━━━━━━━━━━━━━━━━━━━━━━━━━━━━━━━━\u001b[0m \u001b[32m117.0/117.0 kB\u001b[0m \u001b[31m11.1 MB/s\u001b[0m eta \u001b[36m0:00:00\u001b[0m\n",
            "\u001b[?25h  Preparing metadata (setup.py) ... \u001b[?25l\u001b[?25hdone\n",
            "Requirement already satisfied: packaging in /usr/local/lib/python3.10/dist-packages (from hydra-core->pinnsjax) (24.0)\n",
            "Requirement already satisfied: contourpy>=1.0.1 in /usr/local/lib/python3.10/dist-packages (from matplotlib->pinnsjax) (1.2.1)\n",
            "Requirement already satisfied: cycler>=0.10 in /usr/local/lib/python3.10/dist-packages (from matplotlib->pinnsjax) (0.12.1)\n",
            "Requirement already satisfied: fonttools>=4.22.0 in /usr/local/lib/python3.10/dist-packages (from matplotlib->pinnsjax) (4.53.0)\n",
            "Requirement already satisfied: kiwisolver>=1.0.1 in /usr/local/lib/python3.10/dist-packages (from matplotlib->pinnsjax) (1.4.5)\n",
            "Requirement already satisfied: numpy>=1.20 in /usr/local/lib/python3.10/dist-packages (from matplotlib->pinnsjax) (1.25.2)\n",
            "Requirement already satisfied: pillow>=6.2.0 in /usr/local/lib/python3.10/dist-packages (from matplotlib->pinnsjax) (9.4.0)\n",
            "Requirement already satisfied: pyparsing>=2.3.1 in /usr/local/lib/python3.10/dist-packages (from matplotlib->pinnsjax) (3.1.2)\n",
            "Requirement already satisfied: python-dateutil>=2.7 in /usr/local/lib/python3.10/dist-packages (from matplotlib->pinnsjax) (2.8.2)\n",
            "Requirement already satisfied: charset-normalizer<4,>=2 in /usr/local/lib/python3.10/dist-packages (from requests->pinnsjax) (3.3.2)\n",
            "Requirement already satisfied: idna<4,>=2.5 in /usr/local/lib/python3.10/dist-packages (from requests->pinnsjax) (3.7)\n",
            "Requirement already satisfied: urllib3<3,>=1.21.1 in /usr/local/lib/python3.10/dist-packages (from requests->pinnsjax) (2.0.7)\n",
            "Requirement already satisfied: certifi>=2017.4.17 in /usr/local/lib/python3.10/dist-packages (from requests->pinnsjax) (2024.6.2)\n",
            "Requirement already satisfied: markdown-it-py>=2.2.0 in /usr/local/lib/python3.10/dist-packages (from rich->pinnsjax) (3.0.0)\n",
            "Requirement already satisfied: pygments<3.0.0,>=2.13.0 in /usr/local/lib/python3.10/dist-packages (from rich->pinnsjax) (2.16.1)\n",
            "Collecting python-dotenv>=0.20.0 (from rootutils->pinnsjax)\n",
            "  Downloading python_dotenv-1.0.1-py3-none-any.whl (19 kB)\n",
            "Requirement already satisfied: mdurl~=0.1 in /usr/local/lib/python3.10/dist-packages (from markdown-it-py>=2.2.0->rich->pinnsjax) (0.1.2)\n",
            "Requirement already satisfied: PyYAML>=5.1.0 in /usr/local/lib/python3.10/dist-packages (from omegaconf<2.4,>=2.2->hydra-core->pinnsjax) (6.0.1)\n",
            "Requirement already satisfied: six>=1.5 in /usr/local/lib/python3.10/dist-packages (from python-dateutil>=2.7->matplotlib->pinnsjax) (1.16.0)\n",
            "Building wheels for collected packages: pinnsjax, antlr4-python3-runtime, pyDOE\n",
            "  Building wheel for pinnsjax (pyproject.toml) ... \u001b[?25l\u001b[?25hdone\n",
            "  Created wheel for pinnsjax: filename=pinnsjax-0.0.2-py3-none-any.whl size=37072 sha256=6455151e11d9fe993cf3c877f60068c4853f1b2601eabd45606b51be90b91558\n",
            "  Stored in directory: /root/.cache/pip/wheels/2b/fe/36/8a23a7b37fce80382621bf79bd8d1f3924dfce7d9fd5ebb4ed\n",
            "  Building wheel for antlr4-python3-runtime (setup.py) ... \u001b[?25l\u001b[?25hdone\n",
            "  Created wheel for antlr4-python3-runtime: filename=antlr4_python3_runtime-4.9.3-py3-none-any.whl size=144554 sha256=0cec1edd64dc50e0dff885d47a36bfbda43a93eb72f4231706f8720dd2ad27ee\n",
            "  Stored in directory: /root/.cache/pip/wheels/12/93/dd/1f6a127edc45659556564c5730f6d4e300888f4bca2d4c5a88\n",
            "  Building wheel for pyDOE (setup.py) ... \u001b[?25l\u001b[?25hdone\n",
            "  Created wheel for pyDOE: filename=pyDOE-0.3.8-py3-none-any.whl size=18168 sha256=99e453912325de0246fcee7bf7243058b6b1394498787934c66c6e3ebb2466e7\n",
            "  Stored in directory: /root/.cache/pip/wheels/ce/b6/d7/c6b64746dba6433c593e471e0ac3acf4f36040456d1d160d17\n",
            "Successfully built pinnsjax antlr4-python3-runtime pyDOE\n",
            "Installing collected packages: antlr4-python3-runtime, python-dotenv, omegaconf, rootutils, pyDOE, hydra-core, pinnsjax\n",
            "Successfully installed antlr4-python3-runtime-4.9.3 hydra-core-1.3.2 omegaconf-2.3.0 pinnsjax-0.0.2 pyDOE-0.3.8 python-dotenv-1.0.1 rootutils-1.0.7\n"
          ]
        },
        {
          "output_type": "display_data",
          "data": {
            "application/vnd.colab-display-data+json": {
              "pip_warning": {
                "packages": [
                  "pydevd_plugins"
                ]
              },
              "id": "ea382f9c00ee45dba749d9c181d66183"
            }
          },
          "metadata": {}
        }
      ],
      "source": [
        "!pip install pinnsjax"
      ]
    },
    {
      "cell_type": "markdown",
      "id": "15deac4a-feb1-4a53-bc52-45e8f1a9c04d",
      "metadata": {
        "id": "15deac4a-feb1-4a53-bc52-45e8f1a9c04d"
      },
      "source": [
        "#### Import Libraries"
      ]
    },
    {
      "cell_type": "code",
      "execution_count": null,
      "id": "6676140f-6407-47bf-853f-095424674dee",
      "metadata": {
        "id": "6676140f-6407-47bf-853f-095424674dee"
      },
      "outputs": [],
      "source": [
        "from typing import Dict\n",
        "\n",
        "import jax\n",
        "import numpy as np\n",
        "\n",
        "import pinnsjax\n",
        "from tqdm import tqdm\n",
        "import csv"
      ]
    },
    {
      "cell_type": "markdown",
      "id": "e0aebf83-e628-4838-823f-018c675a6600",
      "metadata": {
        "id": "e0aebf83-e628-4838-823f-018c675a6600"
      },
      "source": [
        "### Define Mesh\n",
        "\n",
        "Physics-Informed Neural Networks (PINNs) require a discretized domain (mesh) over which the physical equations are solved. In `pinnsjax`, there are primarily two approaches to define this mesh:\n",
        "\n",
        "\n",
        "- **Defining Time and Spatial Domains Separately:** Here, we use `pinnsjax.data.TimeDomain` and `pinnsjax.data.Interval` for creating 1-D spatial domains. These domains are then used to define a `pinnsjax.data.Mesh`.\n",
        "\n",
        "- **Defining Point Clouds:** This method involves directly utilizing spatio-temporal data (e.g., from experiments or other simulations) to create a mesh using `pinnsjax.data.PointCloud`.\n",
        "\n",
        "Both approaches should ideally yield the same results."
      ]
    },
    {
      "cell_type": "markdown",
      "id": "4ca03b7e-2508-4e0a-8768-6e762dde0d84",
      "metadata": {
        "id": "4ca03b7e-2508-4e0a-8768-6e762dde0d84"
      },
      "source": [
        "#### Option 1: Defining Mesh with Separate Time and Spatial Domains\n",
        "\n",
        "We start by defining a function to read and preprocess the solution data from a file. The output should be a dictionary."
      ]
    },
    {
      "cell_type": "code",
      "execution_count": null,
      "id": "f7f04332-675a-41b0-b878-82606e4e0286",
      "metadata": {
        "colab": {
          "base_uri": "https://localhost:8080/",
          "height": 105
        },
        "id": "f7f04332-675a-41b0-b878-82606e4e0286",
        "outputId": "249ade59-a2d8-490a-ab1a-793168903035"
      },
      "outputs": [
        {
          "output_type": "execute_result",
          "data": {
            "text/plain": [
              "' def read_data_fn(root_path):\\n    \"\"\"Read and preprocess data from the specified root path.\\n\\n    :param root_path: The root directory containing the data.\\n    :return: Processed data will be used in Mesh class.\\n    \"\"\"\\n\\n    data = pinnsjax.utils.load_data(root_path, \"\")\\n    exact_u = np.real(data[\"usol\"])\\n    return {\"u\": exact_u} '"
            ],
            "application/vnd.google.colaboratory.intrinsic+json": {
              "type": "string"
            }
          },
          "metadata": {},
          "execution_count": 3
        }
      ],
      "source": [
        "''' def read_data_fn(root_path):\n",
        "    \"\"\"Read and preprocess data from the specified root path.\n",
        "\n",
        "    :param root_path: The root directory containing the data.\n",
        "    :return: Processed data will be used in Mesh class.\n",
        "    \"\"\"\n",
        "\n",
        "    data = pinnsjax.utils.load_data(root_path, \"\")\n",
        "    exact_u = np.real(data[\"usol\"])\n",
        "    return {\"u\": exact_u} '''"
      ]
    },
    {
      "cell_type": "code",
      "execution_count": null,
      "id": "mrbTm1Ph1Nq0",
      "metadata": {
        "id": "mrbTm1Ph1Nq0"
      },
      "outputs": [],
      "source": [
        "u = np.genfromtxt('/content/drive/MyDrive/data/forward_heat_equation/u_real_3_1e-8.csv', delimiter=',')"
      ]
    },
    {
      "cell_type": "code",
      "execution_count": null,
      "id": "xiRWtXK81FBE",
      "metadata": {
        "id": "xiRWtXK81FBE"
      },
      "outputs": [],
      "source": [
        "def read_data_fn(_):\n",
        "\n",
        "    exact_u = np.real(u) # T x N\n",
        "\n",
        "    return {\"u\": exact_u}"
      ]
    },
    {
      "cell_type": "markdown",
      "id": "27606399-b8d2-4dce-99eb-b964298158d0",
      "metadata": {
        "id": "27606399-b8d2-4dce-99eb-b964298158d0"
      },
      "source": [
        "Now, define the time and spatial domains for mesh generation. The choice of these parameters depends on the specific problem being solved and should be set accordingly."
      ]
    },
    {
      "cell_type": "code",
      "execution_count": null,
      "id": "b7e16b89-9294-4149-914d-fa0b578cba47",
      "metadata": {
        "id": "b7e16b89-9294-4149-914d-fa0b578cba47"
      },
      "outputs": [],
      "source": [
        "time_domain = pinnsjax.data.TimeDomain(t_interval=[0, 0.1], t_points = 100)\n",
        "spatial_domain = pinnsjax.data.Interval(x_interval=[0, 2], shape = [200, 1])"
      ]
    },
    {
      "cell_type": "markdown",
      "id": "986cb018-49ff-4d0d-a716-0a564d4cbafc",
      "metadata": {
        "id": "986cb018-49ff-4d0d-a716-0a564d4cbafc"
      },
      "source": [
        "The mesh is then defined using the time and spatial domains along with the read_data_fn function."
      ]
    },
    {
      "cell_type": "code",
      "execution_count": null,
      "id": "b079cfd7-54ab-4b76-927d-de322fa5a67e",
      "metadata": {
        "id": "b079cfd7-54ab-4b76-927d-de322fa5a67e"
      },
      "outputs": [],
      "source": [
        "mesh = pinnsjax.data.Mesh(root_dir='data',\n",
        "                          read_data_fn=read_data_fn,\n",
        "                          spatial_domain = spatial_domain,\n",
        "                          time_domain = time_domain)"
      ]
    },
    {
      "cell_type": "markdown",
      "id": "5a175686-09ec-4c0b-a4a4-877da814c8b9",
      "metadata": {
        "id": "5a175686-09ec-4c0b-a4a4-877da814c8b9"
      },
      "source": [
        "#### Option 2: Using Point Clouds\n",
        "\n",
        "For scenarios where the spatial and temporal data along with solutions are directly available (e.g., from experimental measurements), we can create a mesh using `pinnsjax.data.PointCloud`.\n",
        "\n",
        "**Note:** It's crucial to format the spatial and temporal domain dimensions correctly. Specifically:\n",
        "\n",
        "- **Spatial Domain:** Each axis should be structured in the shape of $(N \\times 1)$, where $N$ represents the number of spatial points.\n",
        "- **Time Domain:** This should be formatted as $(T \\times 1)$, where $T$ indicates the number of time steps.\n",
        "- **Solution Data:** Each solution variable (e.g., temperature, velocity) should be in the shape of $(N \\times T)$, aligning with the spatial and temporal points."
      ]
    },
    {
      "cell_type": "markdown",
      "id": "00355618-f848-4809-978e-3d0094f245ed",
      "metadata": {
        "id": "00355618-f848-4809-978e-3d0094f245ed"
      },
      "source": [
        "Now, mesh can be initalize with using the function and the directory to the folder of data."
      ]
    },
    {
      "cell_type": "markdown",
      "id": "687088a4-1a3f-4ccf-a3f4-6bb226981773",
      "metadata": {
        "id": "687088a4-1a3f-4ccf-a3f4-6bb226981773"
      },
      "source": [
        "### Define Train datasets"
      ]
    },
    {
      "cell_type": "markdown",
      "id": "203acd43-2376-4380-963e-a42b438d2d35",
      "metadata": {
        "id": "203acd43-2376-4380-963e-a42b438d2d35"
      },
      "source": [
        "For solving Burgers PDE, we have:\n",
        "- Initial condition\n",
        "- Dirichlet boundary condition\n",
        "- Collection points for the PDE."
      ]
    },
    {
      "cell_type": "markdown",
      "id": "617c0fce-50a5-4313-9b27-747d3f9ea1fe",
      "metadata": {
        "id": "617c0fce-50a5-4313-9b27-747d3f9ea1fe"
      },
      "source": [
        "#### Initial Condition\n",
        "\n",
        "Let's start with initial condition of the Burgers.\n",
        "$$ u(0, x) = -\\sin(\\pi x) $$\n",
        "\n",
        "For defining initial condition, again we have two options.\n",
        "\n",
        "- **Sample from the data.**\n",
        "- **Defining a function for calculating initial condition.**"
      ]
    },
    {
      "cell_type": "markdown",
      "id": "a97e4020-d83b-459a-93f3-e7abb125ec06",
      "metadata": {
        "id": "a97e4020-d83b-459a-93f3-e7abb125ec06"
      },
      "source": [
        "##### Set number of samples"
      ]
    },
    {
      "cell_type": "code",
      "execution_count": null,
      "id": "8be5824c-6c26-423d-8178-e9310b67dfec",
      "metadata": {
        "id": "8be5824c-6c26-423d-8178-e9310b67dfec"
      },
      "outputs": [],
      "source": [
        "N0 = 100"
      ]
    },
    {
      "cell_type": "markdown",
      "id": "a22c4c2f-87c2-4eac-96da-5980791f6cc3",
      "metadata": {
        "id": "a22c4c2f-87c2-4eac-96da-5980791f6cc3"
      },
      "source": [
        "##### Option 1: Sample from the data"
      ]
    },
    {
      "cell_type": "code",
      "execution_count": null,
      "id": "1e230de8-eddd-4c49-97d5-abd06913530f",
      "metadata": {
        "id": "1e230de8-eddd-4c49-97d5-abd06913530f"
      },
      "outputs": [],
      "source": [
        "in_c = pinnsjax.data.InitialCondition(mesh = mesh,\n",
        "                                      num_sample = N0,\n",
        "                                      solution = ['u'])"
      ]
    },
    {
      "cell_type": "markdown",
      "id": "4f35d57e-6243-4775-ab1c-1d070bf20cf1",
      "metadata": {
        "id": "4f35d57e-6243-4775-ab1c-1d070bf20cf1"
      },
      "source": [
        "##### Option 2: Defining a function for calculating initial condition"
      ]
    },
    {
      "cell_type": "markdown",
      "id": "7579313b-2079-46b3-806d-7c81efbc6e26",
      "metadata": {
        "id": "7579313b-2079-46b3-806d-7c81efbc6e26"
      },
      "source": [
        "The input of `initial_fun` should be the same as spatial domain of the problem."
      ]
    },
    {
      "cell_type": "markdown",
      "id": "4d626918-27a8-48e4-888f-703871193d42",
      "metadata": {
        "id": "4d626918-27a8-48e4-888f-703871193d42"
      },
      "source": [
        "The `solution` attribute in `pinnsjax.data.InitialCondition` specifies the solutions (`u` in our case) to be sampled for initial conditions."
      ]
    },
    {
      "cell_type": "markdown",
      "id": "37b283ff-80a1-4074-8c63-0df265a63925",
      "metadata": {
        "id": "37b283ff-80a1-4074-8c63-0df265a63925"
      },
      "source": [
        "#### Periodic Boundary Condition"
      ]
    },
    {
      "cell_type": "markdown",
      "id": "42cbb359-8cd3-4bf0-ac27-70921c2e5c6d",
      "metadata": {
        "id": "42cbb359-8cd3-4bf0-ac27-70921c2e5c6d"
      },
      "source": [
        "The `pinnsjax.data.DirichletBoundaryCondition` is used to specify fixed values of a function at specific points or boundaries in the domain. In our case, for the Burgers equation, we have:\n",
        "\n",
        "$$ u(t,-1) = u(t, 1) = 0 $$"
      ]
    },
    {
      "cell_type": "code",
      "execution_count": null,
      "id": "7002a433-0e32-441d-a60e-6386f8c2c594",
      "metadata": {
        "colab": {
          "base_uri": "https://localhost:8080/",
          "height": 53
        },
        "id": "7002a433-0e32-441d-a60e-6386f8c2c594",
        "outputId": "a4189e2a-64ac-4373-ae85-1b3953ce3ba4"
      },
      "outputs": [
        {
          "data": {
            "application/vnd.google.colaboratory.intrinsic+json": {
              "type": "string"
            },
            "text/plain": [
              "\" di_b = pinnsjax.data.MeshSampler(mesh = mesh,\\n                                 num_sample = N_b,\\n                                 solution = ['u']) \""
            ]
          },
          "execution_count": 27,
          "metadata": {},
          "output_type": "execute_result"
        }
      ],
      "source": [
        "N_b = 100\n",
        "di_b = pinnsjax.data.DirichletBoundaryCondition(mesh = mesh,\n",
        "                                                num_sample = N_b,\n",
        "                                                solution = ['u'])\n",
        "\n",
        "''' di_b = pinnsjax.data.MeshSampler(mesh = mesh,\n",
        "                                 num_sample = N_b,\n",
        "                                 solution = ['u']) '''"
      ]
    },
    {
      "cell_type": "markdown",
      "id": "17457d3d-3ccd-4b79-b7ab-1975bc9d19a3",
      "metadata": {
        "id": "17457d3d-3ccd-4b79-b7ab-1975bc9d19a3"
      },
      "source": [
        "#### Mesh Sampler for collection points and solutions\n",
        "\n",
        "In our problem, the partial differential equations (PDEs) governing the dynamics are given by:\n",
        "\n",
        "$$ f_u := u_t + uu_x - (0.01/\\pi)u_{xx}$$\n",
        "\n",
        "To find the solutions to these PDEs using a neural network, we must sample points from the domain at which the network will be trained to satisfy these equations. This sampling process is crucial for training our PINN. We utilize the `pinnsjax.data.MeshSampler` for this purpose, specifying the following:\n",
        "\n",
        "- **Number of Sample Points (N_f):** We choose to sample 20,000 points from the domain. This number is a balance between computational efficiency and the need for a sufficiently dense sampling to capture the dynamics of the PDEs.\n",
        "- **Mesh (mesh):** This parameter defines the spatial-temporal domain from which the points will be sampled.\n",
        "- **Collection Points:** We define `['f_u']` as the targets for our collection points. These are not direct outputs from the neural network but are derived from the network outputs and their derivatives (We will define `pde_fn` function later). The PINN will be trained such that these expressions tend towards zero, aligning with the PDE constraints.\n",
        "\n",
        "Here's the code to implement this sampler:"
      ]
    },
    {
      "cell_type": "code",
      "execution_count": null,
      "id": "492bb3de-453c-49b3-b2e6-add7f3458de7",
      "metadata": {
        "id": "492bb3de-453c-49b3-b2e6-add7f3458de7"
      },
      "outputs": [],
      "source": [
        "N_f = 10000\n",
        "me_s = pinnsjax.data.MeshSampler(mesh = mesh,\n",
        "                                 num_sample = N_f,\n",
        "                                 collection_points = ['f_u'])"
      ]
    },
    {
      "cell_type": "markdown",
      "id": "76ed5d5e-f384-4480-b1e5-49d2b88a87ae",
      "metadata": {
        "id": "76ed5d5e-f384-4480-b1e5-49d2b88a87ae"
      },
      "source": [
        "### Define Validation dataset\n",
        "\n",
        "For validation, we sample all points from the mesh to evaluate our model comprehensively. Model will be validated for solutions of `u`.\n",
        "\n",
        "**Note:** If `num_sample` is not specified, the sampler will use the entire mesh."
      ]
    },
    {
      "cell_type": "code",
      "execution_count": null,
      "id": "7c530a34-deef-4660-849b-02c240c5db11",
      "metadata": {
        "id": "7c530a34-deef-4660-849b-02c240c5db11"
      },
      "outputs": [],
      "source": [
        "val_s = pinnsjax.data.MeshSampler(mesh = mesh,\n",
        "                                  solution = ['u'])"
      ]
    },
    {
      "cell_type": "markdown",
      "id": "9959e346-1d1a-4d9c-bf38-d23c956d34f8",
      "metadata": {
        "id": "9959e346-1d1a-4d9c-bf38-d23c956d34f8"
      },
      "source": [
        "### Define Neural Networks\n",
        "\n",
        "Here, we try to define a neural network for solving the problem. For defining a neural network, we should set number of layers and the name of the outputs. Also, domain bounds should be defined. The `lb` and `ub` parameters represent the lower and upper bounds of the spatial-temporal domain, helping in normalizing inputs to the network. Therefore, the inputs of this network are `x` and `t`, and the output of this network is `u`."
      ]
    },
    {
      "cell_type": "code",
      "execution_count": null,
      "id": "5eeb7181-3dfe-4aa9-b454-61644b1542c9",
      "metadata": {
        "id": "5eeb7181-3dfe-4aa9-b454-61644b1542c9"
      },
      "outputs": [],
      "source": [
        "net = pinnsjax.models.FCN(layers = [2, 20, 20, 20, 20, 20, 20, 20, 20, 1],\n",
        "                          output_names = ['u'],\n",
        "                          lb=mesh.lb,\n",
        "                          ub=mesh.ub)"
      ]
    },
    {
      "cell_type": "markdown",
      "id": "260e697e-f68b-4c17-9445-fe319aa06221",
      "metadata": {
        "id": "260e697e-f68b-4c17-9445-fe319aa06221"
      },
      "source": [
        "### Define `pde_fn` function\n",
        "\n",
        "Now, we define `pde_fn`.\n",
        "- **`pde_fn`:** formulates the PDE constraints, which will be used by the `MeshSampler` to compute the loss at the collection points."
      ]
    },
    {
      "cell_type": "markdown",
      "id": "db0f43f5-972b-4be0-94da-40feea4ea3c7",
      "metadata": {
        "id": "db0f43f5-972b-4be0-94da-40feea4ea3c7"
      },
      "source": [
        "#### `pde_fn` function\n",
        "\n",
        "**Note:** `pde_fn` should always have Five inputs:\n",
        "- **Functional Model:** This is the neural network or any other functional approximation model, used for computing gradients with JAX automatic differentiation.\n",
        "- **Model's Prameters:** These include all trainable parameters of the model as well as any additional parameters needed for inverse problems.\n",
        "- **Outputs:** The outputs of the network, typically a dictionary. For the Burgers' equation, this dictionary should have at least one key `u` representing the function `u(t, x)`.\n",
        "- **Spatial domains:** These are the spatial domain variables. In our case, because our problem has 1-D spatial domain, the input just have `x`. For example, if we had 2-D space, we need another input for that dimention. For example, the inputs from `(functional_model, params, outputs, x, t)` will be changed to `(functional_model, params, outputs, x, y, t)`.\n",
        "- **Time domin:** The last input of `pde_fn` function always should be time."
      ]
    },
    {
      "cell_type": "code",
      "execution_count": null,
      "id": "F5W67Ghy2aBr",
      "metadata": {
        "id": "F5W67Ghy2aBr"
      },
      "outputs": [],
      "source": [
        "alpha = 0.5\n",
        "c = 0.3"
      ]
    },
    {
      "cell_type": "code",
      "execution_count": null,
      "id": "e8763e3c-ebaa-4f59-8a75-515818f379f3",
      "metadata": {
        "id": "e8763e3c-ebaa-4f59-8a75-515818f379f3"
      },
      "outputs": [],
      "source": [
        "def pde_fn(functional_model,\n",
        "           params,\n",
        "           outputs: Dict[str, jax.Array],\n",
        "           x: jax.Array,\n",
        "           t: jax.Array):\n",
        "    \"\"\"Define the partial differential equations (PDEs).\"\"\"\n",
        "\n",
        "    u_x, u_t = pinnsjax.utils.gradient(functional_model, argnums=(1, 2), order=1)(params, x, t, 'u')\n",
        "    u_xx = pinnsjax.utils.gradient(functional_model, argnums=1, order=2)(params, x, t, 'u')[0]\n",
        "\n",
        "    outputs[\"f_u\"] = c * u_t - alpha * u_xx\n",
        "\n",
        "    return outputs"
      ]
    },
    {
      "cell_type": "markdown",
      "id": "5ed79263-eeff-466d-b5c1-183c0d050329",
      "metadata": {
        "id": "5ed79263-eeff-466d-b5c1-183c0d050329"
      },
      "source": [
        "### Define PINNDataModule and PINNModule\n",
        "\n",
        "To integrate with Lightning, we utilize two specialized modules:\n",
        "\n",
        "- `PINNDataModule` manages data.\n",
        "- `PINNModule` handles the model and compilation."
      ]
    },
    {
      "cell_type": "markdown",
      "id": "b04abdf5-b97e-433a-8663-a6b2866200d9",
      "metadata": {
        "id": "b04abdf5-b97e-433a-8663-a6b2866200d9"
      },
      "source": [
        "#### Define `PINNDataModule`\n",
        "Here, we define collection points, initial condition, and preiodic boundary condition as training datasets, and also, we set validation set. `PINNDataModule` is used for defining training, validation, prediction, and test datasets."
      ]
    },
    {
      "cell_type": "code",
      "execution_count": null,
      "id": "bc810afe-fa36-4948-b31f-e5527e54b28b",
      "metadata": {
        "id": "bc810afe-fa36-4948-b31f-e5527e54b28b"
      },
      "outputs": [],
      "source": [
        "train_datasets = [me_s, in_c, di_b]\n",
        "val_dataset = val_s\n",
        "datamodule = pinnsjax.data.PINNDataModule(train_datasets = train_datasets,\n",
        "                                            val_dataset = val_dataset,\n",
        "                                            pred_dataset = val_s)"
      ]
    },
    {
      "cell_type": "markdown",
      "id": "1d170a8a-a55e-4d40-9078-4a2f56b32813",
      "metadata": {
        "id": "1d170a8a-a55e-4d40-9078-4a2f56b32813"
      },
      "source": [
        "#### Define `PINNModule`\n",
        "\n",
        "`PINNModule` handle several things. Here, we will explore the inputs of this class:\n",
        "\n",
        "- **net:**  The neural network model to be used for approximating solutions.\n",
        "- **pde_fn:** The partial differential equation (PDE) function defining the PDE to solve.\n",
        "- **optimizer:**  (Optional) The optimizer used for training the neural network. The default is Adam\n",
        "- **loss_fn:** (Optional) The loss function to use, either \"sse\" or \"mse\". The default is \"sse\".\n",
        "- **extra_variables:** (Optional) Extra variables in inverse problems. The default is None.\n",
        "- **runge_kutta:** (Optional) Runge-Kutta method for solving PDEs in discrete mode. The default is None.\n",
        "- **jit_compile:** (Optional) Flag to enable JIT compilation. The default is True.\n",
        "\n",
        "In this example, we initalize `PINNModule` with defined variables. We set Adam optimizer and try to compile the model with XLA compiler. The loss function here is Mean Square Error (MSE)."
      ]
    },
    {
      "cell_type": "code",
      "execution_count": null,
      "id": "1a23d83e-d7b6-468e-8204-74b9a40355a0",
      "metadata": {
        "id": "1a23d83e-d7b6-468e-8204-74b9a40355a0"
      },
      "outputs": [],
      "source": [
        "model = pinnsjax.models.PINNModule(net = net,\n",
        "                                   pde_fn = pde_fn,\n",
        "                                   loss_fn = 'mse')"
      ]
    },
    {
      "cell_type": "markdown",
      "id": "730294eb-5dd2-46ee-84d7-4743f8bbff13",
      "metadata": {
        "id": "730294eb-5dd2-46ee-84d7-4743f8bbff13"
      },
      "source": [
        "### Setting Up the Trainer\n",
        "\n",
        "For training our model, we write a custom trainer. Arguments that you can set are:\n",
        "\n",
        "- **max_epochs:** Maximum number of training epochs.\n",
        "- **check_val_every_n_epoch:** (Optional) Frequency of validation checks within epochs. Defualt is 1.\n",
        "- **enable_progress_bar:** (Optional) Flag to enable/disable the progress bar. Defualt is True.\n"
      ]
    },
    {
      "cell_type": "code",
      "execution_count": null,
      "id": "2d63a5cc-a0c4-4de7-ba2b-2b10f5140fc9",
      "metadata": {
        "id": "2d63a5cc-a0c4-4de7-ba2b-2b10f5140fc9"
      },
      "outputs": [],
      "source": [
        "trainer = pinnsjax.Trainer(max_epochs=30000, check_val_every_n_epoch=1000)"
      ]
    },
    {
      "cell_type": "markdown",
      "id": "5107377f-c811-43c8-8534-644a1dbb640d",
      "metadata": {
        "id": "5107377f-c811-43c8-8534-644a1dbb640d"
      },
      "source": [
        "### Training"
      ]
    },
    {
      "cell_type": "code",
      "execution_count": null,
      "id": "ee7c8b03-1706-4ba4-84c5-0d293a178a9d",
      "metadata": {
        "colab": {
          "base_uri": "https://localhost:8080/"
        },
        "id": "ee7c8b03-1706-4ba4-84c5-0d293a178a9d",
        "outputId": "d12a8cd4-6d54-42dd-ea92-460fd42e9bb6"
      },
      "outputs": [
        {
          "name": "stderr",
          "output_type": "stream",
          "text": [
            "30000/30000 100%|██████████|[03:46<00:00, 132.42it/s, val/loss: 0.0000, val/error_u: 0.0075, train/loss: 0.0002: ]\n"
          ]
        }
      ],
      "source": [
        "trainer.fit(model=model, datamodule=datamodule)"
      ]
    },
    {
      "cell_type": "markdown",
      "id": "82b872bd-6120-4c65-8693-a9281a2d2396",
      "metadata": {
        "id": "82b872bd-6120-4c65-8693-a9281a2d2396"
      },
      "source": [
        "### Validation"
      ]
    },
    {
      "cell_type": "code",
      "execution_count": null,
      "id": "26c2c9b9-52e9-4a89-aa44-be86fbb27e22",
      "metadata": {
        "colab": {
          "base_uri": "https://localhost:8080/"
        },
        "id": "26c2c9b9-52e9-4a89-aa44-be86fbb27e22",
        "outputId": "301bf28c-065f-4a29-976a-e75c5ea14c30"
      },
      "outputs": [
        {
          "data": {
            "text/plain": [
              "(Array(6.4647948e-06, dtype=float32), {'u': Array(0.00663798, dtype=float32)})"
            ]
          },
          "execution_count": 37,
          "metadata": {},
          "output_type": "execute_result"
        }
      ],
      "source": [
        "trainer.validate(model=model, datamodule=datamodule)"
      ]
    },
    {
      "cell_type": "markdown",
      "id": "5cd209e5-e554-4baf-9c4b-f78174f8147c",
      "metadata": {
        "id": "5cd209e5-e554-4baf-9c4b-f78174f8147c"
      },
      "source": [
        "### Plotting\n",
        "\n",
        "For plotting, we need predict the results, and then, we should concatenate the results."
      ]
    },
    {
      "cell_type": "code",
      "execution_count": null,
      "id": "d1a853d0-edc1-494f-a5ff-0ad21870aeb6",
      "metadata": {
        "colab": {
          "base_uri": "https://localhost:8080/"
        },
        "id": "d1a853d0-edc1-494f-a5ff-0ad21870aeb6",
        "outputId": "4569ecf7-cb2f-4ed4-f2ef-719842b29307"
      },
      "outputs": [
        {
          "data": {
            "text/plain": [
              "dict"
            ]
          },
          "execution_count": 38,
          "metadata": {},
          "output_type": "execute_result"
        }
      ],
      "source": [
        "preds_dict = trainer.predict(model=model, datamodule=datamodule)\n",
        "type(preds_dict)"
      ]
    },
    {
      "cell_type": "code",
      "execution_count": null,
      "id": "zD-rEDaU8w2V",
      "metadata": {
        "id": "zD-rEDaU8w2V"
      },
      "outputs": [],
      "source": [
        "def figsize(scale, nplots=1):\n",
        "    \"\"\"Calculate the figure size based on a given scale and number of plots.\n",
        "\n",
        "    :param scale: Scaling factor for the figure size.\n",
        "    :param nplots: Number of subplots in the figure (default is 1).\n",
        "    :return: Calculated figure size in inches.\n",
        "    \"\"\"\n",
        "\n",
        "    fig_width_pt = 390.0  # Get this from LaTeX using \\the\\textwidth\n",
        "    inches_per_pt = 1.0 / 72.27  # Convert pt to inch\n",
        "    golden_mean = (np.sqrt(5.0) - 1.0) / 2.0  # Aesthetic ratio (you could change this)\n",
        "    fig_width = fig_width_pt * inches_per_pt * scale  # width in inches\n",
        "    fig_height = nplots * fig_width * golden_mean  # height in inches\n",
        "    fig_size = [fig_width, fig_height]\n",
        "    return fig_size"
      ]
    },
    {
      "cell_type": "code",
      "execution_count": null,
      "id": "mf6Gx4cv85bl",
      "metadata": {
        "id": "mf6Gx4cv85bl"
      },
      "outputs": [],
      "source": [
        "def newfig(width, nplots=1):\n",
        "    \"\"\"Create a new figure with a specified width and number of subplots.\n",
        "\n",
        "    :param width: Width of the figure.\n",
        "    :param nplots: Number of subplots in the figure (default is 1).\n",
        "    :return: Created figure and subplot axis.\n",
        "    \"\"\"\n",
        "\n",
        "    fig = plt.figure(figsize=figsize(width, nplots))\n",
        "    ax = fig.add_subplot(111)\n",
        "    return fig, ax\n",
        "\n",
        "\n",
        "def savefig(filename, crop=True):\n",
        "    \"\"\"Save a figure to the specified filename with optional cropping.\n",
        "\n",
        "    :param filename: Name of the output file (without extension).\n",
        "    :param crop: Whether to apply tight cropping to the saved image (default is True).\n",
        "    \"\"\"\n",
        "\n",
        "    log.info(f\"Image saved at {filename}\")\n",
        "\n",
        "    dir_name = os.path.dirname(filename)\n",
        "    if dir_name and not os.path.exists(dir_name):\n",
        "        os.makedirs(dir_name)\n",
        "\n",
        "    if crop:\n",
        "        plt.savefig(f\"{filename}.pdf\", bbox_inches=\"tight\", pad_inches=0)\n",
        "        plt.savefig(f\"{filename}.eps\", bbox_inches=\"tight\", pad_inches=0)\n",
        "    else:\n",
        "        plt.savefig(f\"{filename}.pdf\")\n",
        "        plt.savefig(f\"{filename}.eps\")\n"
      ]
    },
    {
      "cell_type": "code",
      "execution_count": null,
      "id": "x57g5J_P72O6",
      "metadata": {
        "id": "x57g5J_P72O6"
      },
      "outputs": [],
      "source": [
        "import matplotlib.pyplot as plt\n",
        "import matplotlib.gridspec as gridspec\n",
        "from mpl_toolkits.axes_grid1 import make_axes_locatable\n",
        "import os\n",
        "import logging\n",
        "\n",
        "\n",
        "def plot_burgers_continuous_forward_2(mesh, preds, train_datasets, val_dataset, file_name):\n",
        "    \"\"\"Plot burgers continuous forward PDE.\"\"\"\n",
        "\n",
        "    U_pred = preds[\"u\"]\n",
        "    exact_u = mesh.solution[\"u\"]\n",
        "    x = mesh.spatial_domain[:]\n",
        "    x_i, t_i, _ = train_datasets[1][:]\n",
        "    x_b, t_b, _ = train_datasets[2][:]\n",
        "\n",
        "    U_pred = U_pred.reshape(exact_u.shape)\n",
        "    X_u_train = np.vstack([x_i[0], x_b[0]])\n",
        "\n",
        "    X_u_time = np.vstack([t_i, t_b])\n",
        "\n",
        "    X_u_train = np.hstack([X_u_train, X_u_time])\n",
        "    fig, ax = newfig(1.5, 0.9)\n",
        "    ax.axis(\"off\")\n",
        "\n",
        "    # Row 0: u(t,x)\n",
        "    gs0 = gridspec.GridSpec(1, 2)\n",
        "    gs0.update(top=1 - 0.06, bottom=1 - 1 / 3, left=0.15, right=0.85, wspace=0)\n",
        "    ax = plt.subplot(gs0[:, :])\n",
        "\n",
        "    h = ax.imshow(\n",
        "        U_pred,\n",
        "        interpolation=\"nearest\",\n",
        "        cmap=\"rainbow\",\n",
        "        extent=[\n",
        "            mesh.time_domain[:].min(),\n",
        "            mesh.time_domain[:].max(),\n",
        "            mesh.spatial_domain[:].min(),\n",
        "            mesh.spatial_domain[:].max(),\n",
        "        ],\n",
        "        origin=\"lower\",\n",
        "        aspect=\"auto\",\n",
        "    )\n",
        "    divider = make_axes_locatable(ax)\n",
        "    cax = divider.append_axes(\"right\", size=\"5%\", pad=0.05)\n",
        "    fig.colorbar(h, cax=cax)\n",
        "\n",
        "    ax.plot(\n",
        "        X_u_train[:, 1],\n",
        "        X_u_train[:, 0],\n",
        "        \"kx\",\n",
        "        label=\"Datos (%d puntos)\" % (X_u_train.shape[0]),\n",
        "        markersize=4,\n",
        "        clip_on=False,\n",
        "    )\n",
        "\n",
        "    line = np.linspace(mesh.spatial_domain[:].min(), mesh.spatial_domain[:].max(), 2)[:, None]\n",
        "    ax.plot(mesh.time_domain[25] * np.ones((2, 1)), line, \"w-\", linewidth=1)\n",
        "    ax.plot(mesh.time_domain[50] * np.ones((2, 1)), line, \"w-\", linewidth=1)\n",
        "    ax.plot(mesh.time_domain[75] * np.ones((2, 1)), line, \"w-\", linewidth=1)\n",
        "\n",
        "    ax.set_xlabel(\"$t$\")\n",
        "    ax.set_ylabel(\"$x$\")\n",
        "    ax.legend(frameon=False, loc=\"best\")\n",
        "    ax.set_title(\"$u(x,t)$\", fontsize=10)\n",
        "\n",
        "    # Row 1: u(t,x) slices\n",
        "    gs1 = gridspec.GridSpec(1, 3)\n",
        "    gs1.update(top=1 - 1 / 3, bottom=0, left=0.1, right=0.9, wspace=0.5)\n",
        "\n",
        "    ax = plt.subplot(gs1[0, 0])\n",
        "    ax.plot(x, exact_u[:, 25], \"b-\", linewidth=2, label=\"Solución exacta\")\n",
        "    ax.plot(x, U_pred[:, 25], \"r--\", linewidth=2, label=\"Predicción\")\n",
        "    ax.set_xlabel(\"$x$\")\n",
        "    ax.set_ylabel(\"$u(x,t)$\")\n",
        "    ax.set_title(\"$t = 0.025$\", fontsize=10)\n",
        "    ax.axis(\"square\")\n",
        "    ax.set_xlim([0, 2])\n",
        "    ax.set_ylim([-1, 1])\n",
        "\n",
        "    ax = plt.subplot(gs1[0, 1])\n",
        "    ax.plot(x, exact_u[:, 50], \"b-\", linewidth=2, label=\"Solución exacta\")\n",
        "    ax.plot(x, U_pred[:, 50], \"r--\", linewidth=2, label=\"Predicción\")\n",
        "    ax.set_xlabel(\"$x$\")\n",
        "    ax.set_ylabel(\"$u(x,t)$\")\n",
        "    ax.axis(\"square\")\n",
        "    ax.set_xlim([0, 2])\n",
        "    ax.set_ylim([-1, 1])\n",
        "    ax.set_title(\"$t = 0.050$\", fontsize=10)\n",
        "    ax.legend(loc=\"upper center\", bbox_to_anchor=(0.5, -0.35), ncol=5, frameon=False)\n",
        "\n",
        "    ax = plt.subplot(gs1[0, 2])\n",
        "    ax.plot(x, exact_u[:, 75], \"b-\", linewidth=2, label=\"Solución exacta\")\n",
        "    ax.plot(x, U_pred[:, 75], \"r--\", linewidth=2, label=\"Predicción\")\n",
        "    ax.set_xlabel(\"$x$\")\n",
        "    ax.set_ylabel(\"$u(x,t)$\")\n",
        "    ax.axis(\"square\")\n",
        "    ax.set_xlim([0, 2])\n",
        "    ax.set_ylim([-1, 1])\n",
        "    ax.set_title(\"$t = 0.075$\", fontsize=10)\n",
        "\n",
        "    #plt.savefig(file_name + \"/fig_forward.pdf\", bbox_inches = 'tight')\n",
        "    plt.show()"
      ]
    },
    {
      "cell_type": "code",
      "execution_count": null,
      "id": "07f1631e-0f78-4a62-8833-9ae69bf3ada9",
      "metadata": {
        "colab": {
          "base_uri": "https://localhost:8080/",
          "height": 556
        },
        "id": "07f1631e-0f78-4a62-8833-9ae69bf3ada9",
        "outputId": "c53b1255-5496-451c-e7c8-e18944ae6046"
      },
      "outputs": [
        {
          "name": "stderr",
          "output_type": "stream",
          "text": [
            "<ipython-input-41-c83e82f6091e>:29: MatplotlibDeprecationWarning: Auto-removal of overlapping axes is deprecated since 3.6 and will be removed two minor releases later; explicitly call ax.remove() as needed.\n",
            "  ax = plt.subplot(gs0[:, :])\n"
          ]
        },
        {
          "data": {
            "image/png": "[encoded data removed]",
            "text/plain": [
              "<Figure size 809.465x450.249 with 5 Axes>"
            ]
          },
          "metadata": {},
          "output_type": "display_data"
        }
      ],
      "source": [
        "plot_burgers_continuous_forward_2(mesh=mesh,\n",
        "                                               preds=preds_dict,\n",
        "                                               train_datasets=train_datasets,\n",
        "                                               val_dataset=val_dataset,\n",
        "                                               file_name='/content/drive/MyDrive/data/forward_heat_equation')\n"
      ]
    },
    {
      "cell_type": "code",
      "execution_count": null,
      "id": "yLq-HFEBO_MU",
      "metadata": {
        "colab": {
          "base_uri": "https://localhost:8080/"
        },
        "id": "yLq-HFEBO_MU",
        "outputId": "d1552d05-e500-48cc-eacc-264fcb1881ed"
      },
      "outputs": [
        {
          "name": "stdout",
          "output_type": "stream",
          "text": [
            "Matriz guardada en /content/drive/MyDrive/data/forward_heat_equation/u_pred_t_1e-8_x_1e-2.csv\n"
          ]
        }
      ],
      "source": [
        "# Nombre del archivo CSV\n",
        "file_name = '/content/drive/MyDrive/data/forward_heat_equation/u_pred_t_1e-8_x_1e-2.csv'\n",
        "\n",
        "# Escribir la matriz en el archivo CSV\n",
        "with open(file_name, mode='w', newline='') as file:\n",
        "    writer = csv.writer(file)\n",
        "    writer.writerows(preds_dict['u'])\n",
        "\n",
        "print(f\"Matriz guardada en {file_name}\")"
      ]
    },
    {
      "cell_type": "code",
      "execution_count": null,
      "id": "US6r36ORP7Qj",
      "metadata": {
        "colab": {
          "base_uri": "https://localhost:8080/"
        },
        "id": "US6r36ORP7Qj",
        "outputId": "8ea48e08-1cf3-4cbc-a3bf-759fed6a9692"
      },
      "outputs": [
        {
          "data": {
            "text/plain": [
              "Array([[-0.00028768],\n",
              "       [-0.0003463 ],\n",
              "       [-0.00043836],\n",
              "       ...,\n",
              "       [ 0.00478352],\n",
              "       [ 0.00522823],\n",
              "       [ 0.00567669]], dtype=float32)"
            ]
          },
          "execution_count": 44,
          "metadata": {},
          "output_type": "execute_result"
        }
      ],
      "source": [
        "preds_dict['u']"
      ]
    },
    {
      "cell_type": "markdown",
      "id": "Z5Kwrli5zRpW",
      "metadata": {
        "id": "Z5Kwrli5zRpW"
      },
      "source": [
        "# Añadimos error a los datos"
      ]
    },
    {
      "cell_type": "markdown",
      "id": "sgWNUQ7E0UHC",
      "metadata": {
        "id": "sgWNUQ7E0UHC"
      },
      "source": [
        "## 10 %"
      ]
    },
    {
      "cell_type": "code",
      "execution_count": null,
      "id": "d852f05b",
      "metadata": {
        "id": "d852f05b"
      },
      "outputs": [],
      "source": [
        "u = np.genfromtxt('/content/drive/MyDrive/data/forward_heat_equation/u_real_3_1e-8.csv', delimiter=',')"
      ]
    },
    {
      "cell_type": "code",
      "execution_count": null,
      "id": "EQQusYtIzbel",
      "metadata": {
        "colab": {
          "base_uri": "https://localhost:8080/"
        },
        "id": "EQQusYtIzbel",
        "outputId": "6222d65c-fd0c-4c95-b4f9-cd6efcd7b241"
      },
      "outputs": [
        {
          "output_type": "stream",
          "name": "stdout",
          "text": [
            "[0.         0.03156855 0.06310563] \n",
            " [0.         0.03185439 0.05821936]\n"
          ]
        }
      ],
      "source": [
        "porcentaje_error = 10\n",
        "u_10 = np.random.normal(u, np.abs(u * porcentaje_error/100), u.shape)\n",
        "print(u[0:3, 0], \"\\n\", u_10[0:3, 0])"
      ]
    },
    {
      "cell_type": "code",
      "execution_count": null,
      "id": "3cuC5l87z2ln",
      "metadata": {
        "id": "3cuC5l87z2ln"
      },
      "outputs": [],
      "source": [
        "def read_data_fn_10(_):\n",
        "\n",
        "    exact_u = np.real(u_10) # T x N\n",
        "\n",
        "    return {\"u\": exact_u}"
      ]
    },
    {
      "cell_type": "code",
      "execution_count": null,
      "id": "28laoj8_08up",
      "metadata": {
        "id": "28laoj8_08up"
      },
      "outputs": [],
      "source": [
        "mesh = pinnsjax.data.Mesh(root_dir='data',\n",
        "                          read_data_fn=read_data_fn_10,\n",
        "                          spatial_domain = spatial_domain,\n",
        "                          time_domain = time_domain)"
      ]
    },
    {
      "cell_type": "code",
      "execution_count": null,
      "id": "U1Qw4qoL08uu",
      "metadata": {
        "id": "U1Qw4qoL08uu"
      },
      "outputs": [],
      "source": [
        "N0 = 100"
      ]
    },
    {
      "cell_type": "code",
      "execution_count": null,
      "id": "M8szP0sH08uv",
      "metadata": {
        "id": "M8szP0sH08uv"
      },
      "outputs": [],
      "source": [
        "in_c = pinnsjax.data.InitialCondition(mesh = mesh,\n",
        "                                      num_sample = N0,\n",
        "                                      solution = ['u'])"
      ]
    },
    {
      "cell_type": "code",
      "execution_count": null,
      "id": "3VmmRVdx08ux",
      "metadata": {
        "colab": {
          "base_uri": "https://localhost:8080/",
          "height": 53
        },
        "id": "3VmmRVdx08ux",
        "outputId": "fed6a534-1121-42f6-af53-086593c91596"
      },
      "outputs": [
        {
          "output_type": "execute_result",
          "data": {
            "text/plain": [
              "\" di_b = pinnsjax.data.MeshSampler(mesh = mesh,\\n                                 num_sample = N_b,\\n                                 solution = ['u']) \""
            ],
            "application/vnd.google.colaboratory.intrinsic+json": {
              "type": "string"
            }
          },
          "metadata": {},
          "execution_count": 13
        }
      ],
      "source": [
        "N_b = 100\n",
        "di_b = pinnsjax.data.DirichletBoundaryCondition(mesh = mesh,\n",
        "                                                num_sample = N_b,\n",
        "                                                solution = ['u'])\n",
        "\n",
        "''' di_b = pinnsjax.data.MeshSampler(mesh = mesh,\n",
        "                                 num_sample = N_b,\n",
        "                                 solution = ['u']) '''"
      ]
    },
    {
      "cell_type": "code",
      "execution_count": null,
      "id": "106ysEND08uz",
      "metadata": {
        "id": "106ysEND08uz"
      },
      "outputs": [],
      "source": [
        "N_f = 10000\n",
        "me_s = pinnsjax.data.MeshSampler(mesh = mesh,\n",
        "                                 num_sample = N_f,\n",
        "                                 collection_points = ['f_u'])"
      ]
    },
    {
      "cell_type": "code",
      "execution_count": null,
      "id": "3IjI-v6k08u0",
      "metadata": {
        "id": "3IjI-v6k08u0"
      },
      "outputs": [],
      "source": [
        "val_s = pinnsjax.data.MeshSampler(mesh = mesh,\n",
        "                                  solution = ['u'])"
      ]
    },
    {
      "cell_type": "code",
      "execution_count": null,
      "id": "C26FB-8-08u1",
      "metadata": {
        "id": "C26FB-8-08u1"
      },
      "outputs": [],
      "source": [
        "net = pinnsjax.models.FCN(layers = [2, 20, 20, 20, 20, 20, 20, 20, 20, 1],\n",
        "                          output_names = ['u'],\n",
        "                          lb=mesh.lb,\n",
        "                          ub=mesh.ub)"
      ]
    },
    {
      "cell_type": "code",
      "execution_count": null,
      "id": "Y57stSrW08u2",
      "metadata": {
        "id": "Y57stSrW08u2"
      },
      "outputs": [],
      "source": [
        "alpha = 0.5\n",
        "c = 0.3"
      ]
    },
    {
      "cell_type": "code",
      "execution_count": null,
      "id": "VYpFU9cb08u4",
      "metadata": {
        "id": "VYpFU9cb08u4"
      },
      "outputs": [],
      "source": [
        "def pde_fn(functional_model,\n",
        "           params,\n",
        "           outputs: Dict[str, jax.Array],\n",
        "           x: jax.Array,\n",
        "           t: jax.Array):\n",
        "    \"\"\"Define the partial differential equations (PDEs).\"\"\"\n",
        "\n",
        "    u_x, u_t = pinnsjax.utils.gradient(functional_model, argnums=(1, 2), order=1)(params, x, t, 'u')\n",
        "    u_xx = pinnsjax.utils.gradient(functional_model, argnums=1, order=2)(params, x, t, 'u')[0]\n",
        "\n",
        "    outputs[\"f_u\"] = c * u_t - alpha * u_xx\n",
        "\n",
        "    return outputs"
      ]
    },
    {
      "cell_type": "code",
      "execution_count": null,
      "id": "ZWnIkBPS08u4",
      "metadata": {
        "id": "ZWnIkBPS08u4"
      },
      "outputs": [],
      "source": [
        "train_datasets = [me_s, in_c, di_b]\n",
        "val_dataset = val_s\n",
        "datamodule = pinnsjax.data.PINNDataModule(train_datasets = train_datasets,\n",
        "                                            val_dataset = val_dataset,\n",
        "                                            pred_dataset = val_s)"
      ]
    },
    {
      "cell_type": "code",
      "execution_count": null,
      "id": "LjAdNk9m08u4",
      "metadata": {
        "id": "LjAdNk9m08u4"
      },
      "outputs": [],
      "source": [
        "model = pinnsjax.models.PINNModule(net = net,\n",
        "                                   pde_fn = pde_fn,\n",
        "                                   loss_fn = 'mse')"
      ]
    },
    {
      "cell_type": "code",
      "execution_count": null,
      "id": "gSSkpz2E08u6",
      "metadata": {
        "id": "gSSkpz2E08u6"
      },
      "outputs": [],
      "source": [
        "trainer = pinnsjax.Trainer(max_epochs=30000, check_val_every_n_epoch=1000)"
      ]
    },
    {
      "cell_type": "code",
      "execution_count": null,
      "id": "JrXFHmdV08u7",
      "metadata": {
        "colab": {
          "base_uri": "https://localhost:8080/"
        },
        "id": "JrXFHmdV08u7",
        "outputId": "59e99b2e-b73e-4bf7-ba2d-cec4f6f86f19"
      },
      "outputs": [
        {
          "output_type": "stream",
          "name": "stderr",
          "text": [
            "30000/30000 100%|██████████|[04:38<00:00, 107.76it/s, val/loss: 0.0015, val/error_u: 0.1015, train/loss: 0.0038: ]\n"
          ]
        }
      ],
      "source": [
        "trainer.fit(model=model, datamodule=datamodule)"
      ]
    },
    {
      "cell_type": "code",
      "execution_count": null,
      "id": "ed227g-308u8",
      "metadata": {
        "colab": {
          "base_uri": "https://localhost:8080/"
        },
        "id": "ed227g-308u8",
        "outputId": "71b417b4-ed2d-4349-8fb3-ffbe7e5439d0"
      },
      "outputs": [
        {
          "output_type": "execute_result",
          "data": {
            "text/plain": [
              "(Array(0.00151409, dtype=float32), {'u': Array(0.10118844, dtype=float32)})"
            ]
          },
          "metadata": {},
          "execution_count": 23
        }
      ],
      "source": [
        "trainer.validate(model=model, datamodule=datamodule)"
      ]
    },
    {
      "cell_type": "code",
      "execution_count": null,
      "id": "OMqeLjCa08u-",
      "metadata": {
        "colab": {
          "base_uri": "https://localhost:8080/"
        },
        "id": "OMqeLjCa08u-",
        "outputId": "3c95e5f6-432e-48b7-f1c8-7e908dd689a4"
      },
      "outputs": [
        {
          "output_type": "execute_result",
          "data": {
            "text/plain": [
              "dict"
            ]
          },
          "metadata": {},
          "execution_count": 24
        }
      ],
      "source": [
        "preds_dict = trainer.predict(model=model, datamodule=datamodule)\n",
        "type(preds_dict)"
      ]
    },
    {
      "cell_type": "code",
      "execution_count": null,
      "id": "923_USch08vA",
      "metadata": {
        "colab": {
          "base_uri": "https://localhost:8080/",
          "height": 536
        },
        "id": "923_USch08vA",
        "outputId": "15161528-8877-4290-a87b-3af40b1dbdb9"
      },
      "outputs": [
        {
          "name": "stderr",
          "output_type": "stream",
          "text": [
            "<ipython-input-12-c536d30c8bfd>:29: MatplotlibDeprecationWarning: Auto-removal of overlapping axes is deprecated since 3.6 and will be removed two minor releases later; explicitly call ax.remove() as needed.\n",
            "  ax = plt.subplot(gs0[:, :])\n"
          ]
        },
        {
          "data": {
            "image/png": "[encoded data removed]",
            "text/plain": [
              "<Figure size 809.465x450.249 with 5 Axes>"
            ]
          },
          "metadata": {},
          "output_type": "display_data"
        }
      ],
      "source": [
        "plot_burgers_continuous_forward_2(mesh=mesh,\n",
        "                                               preds=preds_dict,\n",
        "                                               train_datasets=train_datasets,\n",
        "                                               val_dataset=val_dataset,\n",
        "                                               file_name=f'/content/drive/MyDrive/data/forward_heat_equation_{porcentaje_error}')\n"
      ]
    },
    {
      "cell_type": "code",
      "execution_count": null,
      "id": "E9aYwXGw1g2d",
      "metadata": {
        "colab": {
          "base_uri": "https://localhost:8080/"
        },
        "id": "E9aYwXGw1g2d",
        "outputId": "7a7848ab-41e3-4a88-aa95-746b8ca2ff83"
      },
      "outputs": [
        {
          "output_type": "stream",
          "name": "stdout",
          "text": [
            "Matriz guardada en /content/drive/MyDrive/data/forward_heat_equation/forward_u_pred_t_1e-8_x_1e-2_error_10.csv\n"
          ]
        }
      ],
      "source": [
        "# Nombre del archivo CSV\n",
        "file_name = f'/content/drive/MyDrive/data/forward_heat_equation/forward_u_pred_t_1e-8_x_1e-2_error_{porcentaje_error}.csv'\n",
        "\n",
        "# Escribir la matriz en el archivo CSV\n",
        "with open(file_name, mode='w', newline='') as file:\n",
        "    writer = csv.writer(file)\n",
        "    writer.writerows(preds_dict['u'])\n",
        "\n",
        "print(f\"Matriz guardada en {file_name}\")"
      ]
    },
    {
      "cell_type": "code",
      "execution_count": null,
      "id": "LAInR4t62BiN",
      "metadata": {
        "id": "LAInR4t62BiN"
      },
      "outputs": [],
      "source": [
        "u_real = u.flatten(order = 'F')\n",
        "u_pred = trainer.predict(model=model, datamodule=datamodule)['u']"
      ]
    },
    {
      "cell_type": "code",
      "execution_count": null,
      "id": "qtIP6xTT2TRJ",
      "metadata": {
        "colab": {
          "base_uri": "https://localhost:8080/"
        },
        "id": "qtIP6xTT2TRJ",
        "outputId": "1b512541-136e-4340-8486-d174c75ebd4e"
      },
      "outputs": [
        {
          "name": "stdout",
          "output_type": "stream",
          "text": [
            "0.4309384\n"
          ]
        }
      ],
      "source": [
        "error_absoluto_medio = np.abs(u_real-u_pred).mean()\n",
        "print(error_absoluto_medio)"
      ]
    },
    {
      "cell_type": "code",
      "execution_count": null,
      "id": "tF-ezbD__nD0",
      "metadata": {
        "colab": {
          "base_uri": "https://localhost:8080/"
        },
        "id": "tF-ezbD__nD0",
        "outputId": "e5d5eb3e-5fd5-4a50-b280-94f490f60f82"
      },
      "outputs": [
        {
          "data": {
            "text/plain": [
              "-0.03227304158875194"
            ]
          },
          "execution_count": 35,
          "metadata": {},
          "output_type": "execute_result"
        }
      ],
      "source": [
        "u_real[17904]"
      ]
    },
    {
      "cell_type": "code",
      "execution_count": null,
      "id": "z1unj2R7_qPO",
      "metadata": {
        "colab": {
          "base_uri": "https://localhost:8080/"
        },
        "id": "z1unj2R7_qPO",
        "outputId": "e0887bb8-f9cf-4069-f8cd-7efb1f784fa5"
      },
      "outputs": [
        {
          "data": {
            "text/plain": [
              "Array([[0.00698663],\n",
              "       [0.00574621],\n",
              "       [0.00462227],\n",
              "       ...,\n",
              "       [0.00873198],\n",
              "       [0.00918621],\n",
              "       [0.00964772]], dtype=float32)"
            ]
          },
          "execution_count": 36,
          "metadata": {},
          "output_type": "execute_result"
        }
      ],
      "source": [
        "u_pred"
      ]
    },
    {
      "cell_type": "markdown",
      "id": "JP4dHeME20nu",
      "metadata": {
        "id": "JP4dHeME20nu"
      },
      "source": [
        "## 5 %"
      ]
    },
    {
      "cell_type": "code",
      "execution_count": null,
      "id": "sFaMtnKn3IYL",
      "metadata": {
        "id": "sFaMtnKn3IYL"
      },
      "outputs": [],
      "source": [
        "u = np.genfromtxt('/content/drive/MyDrive/data/forward_heat_equation/u_real_3_1e-8.csv', delimiter=',')"
      ]
    },
    {
      "cell_type": "code",
      "execution_count": null,
      "id": "Ee00bag53IYR",
      "metadata": {
        "colab": {
          "base_uri": "https://localhost:8080/"
        },
        "id": "Ee00bag53IYR",
        "outputId": "5f55d824-b9cd-4044-9a04-fe12ac53454a"
      },
      "outputs": [
        {
          "output_type": "stream",
          "name": "stdout",
          "text": [
            "[0.         0.03156855 0.06310563] \n",
            " [0.         0.03161186 0.06392576]\n"
          ]
        }
      ],
      "source": [
        "porcentaje_error = 5\n",
        "u_5 = np.random.normal(u, np.abs(u * porcentaje_error/100), u.shape)\n",
        "print(u[0:3, 0], \"\\n\", u_5[0:3, 0])"
      ]
    },
    {
      "cell_type": "code",
      "execution_count": null,
      "id": "I_8tzGs73IYS",
      "metadata": {
        "id": "I_8tzGs73IYS"
      },
      "outputs": [],
      "source": [
        "def read_data_fn_5(_):\n",
        "\n",
        "    exact_u = np.real(u_5) # T x N\n",
        "\n",
        "    return {\"u\": exact_u}"
      ]
    },
    {
      "cell_type": "code",
      "execution_count": null,
      "id": "R6mBJjX23IYV",
      "metadata": {
        "id": "R6mBJjX23IYV"
      },
      "outputs": [],
      "source": [
        "mesh = pinnsjax.data.Mesh(root_dir='data',\n",
        "                          read_data_fn=read_data_fn_5,\n",
        "                          spatial_domain = spatial_domain,\n",
        "                          time_domain = time_domain)"
      ]
    },
    {
      "cell_type": "code",
      "execution_count": null,
      "id": "1r9GJfQn3IYW",
      "metadata": {
        "id": "1r9GJfQn3IYW"
      },
      "outputs": [],
      "source": [
        "N0 = 100"
      ]
    },
    {
      "cell_type": "code",
      "execution_count": null,
      "id": "tdsi9FQ23IYX",
      "metadata": {
        "id": "tdsi9FQ23IYX"
      },
      "outputs": [],
      "source": [
        "in_c = pinnsjax.data.InitialCondition(mesh = mesh,\n",
        "                                      num_sample = N0,\n",
        "                                      solution = ['u'])"
      ]
    },
    {
      "cell_type": "code",
      "execution_count": null,
      "id": "2QAU7h-R3IYZ",
      "metadata": {
        "colab": {
          "base_uri": "https://localhost:8080/",
          "height": 53
        },
        "id": "2QAU7h-R3IYZ",
        "outputId": "44f39f21-329c-4aba-d53c-377853d124b7"
      },
      "outputs": [
        {
          "output_type": "execute_result",
          "data": {
            "text/plain": [
              "\" di_b = pinnsjax.data.MeshSampler(mesh = mesh,\\n                                 num_sample = N_b,\\n                                 solution = ['u']) \""
            ],
            "application/vnd.google.colaboratory.intrinsic+json": {
              "type": "string"
            }
          },
          "metadata": {},
          "execution_count": 32
        }
      ],
      "source": [
        "N_b = 100\n",
        "di_b = pinnsjax.data.DirichletBoundaryCondition(mesh = mesh,\n",
        "                                                num_sample = N_b,\n",
        "                                                solution = ['u'])\n",
        "\n",
        "''' di_b = pinnsjax.data.MeshSampler(mesh = mesh,\n",
        "                                 num_sample = N_b,\n",
        "                                 solution = ['u']) '''"
      ]
    },
    {
      "cell_type": "code",
      "execution_count": null,
      "id": "73gyGOdD3IYa",
      "metadata": {
        "id": "73gyGOdD3IYa"
      },
      "outputs": [],
      "source": [
        "N_f = 10000\n",
        "me_s = pinnsjax.data.MeshSampler(mesh = mesh,\n",
        "                                 num_sample = N_f,\n",
        "                                 collection_points = ['f_u'])"
      ]
    },
    {
      "cell_type": "code",
      "execution_count": null,
      "id": "yCBr2dM-3IYc",
      "metadata": {
        "id": "yCBr2dM-3IYc"
      },
      "outputs": [],
      "source": [
        "val_s = pinnsjax.data.MeshSampler(mesh = mesh,\n",
        "                                  solution = ['u'])"
      ]
    },
    {
      "cell_type": "code",
      "execution_count": null,
      "id": "NaclVmUx3IYc",
      "metadata": {
        "id": "NaclVmUx3IYc"
      },
      "outputs": [],
      "source": [
        "net = pinnsjax.models.FCN(layers = [2, 20, 20, 20, 20, 20, 20, 20, 20, 1],\n",
        "                          output_names = ['u'],\n",
        "                          lb=mesh.lb,\n",
        "                          ub=mesh.ub)"
      ]
    },
    {
      "cell_type": "code",
      "execution_count": null,
      "id": "wK_SYz5k3IYd",
      "metadata": {
        "id": "wK_SYz5k3IYd"
      },
      "outputs": [],
      "source": [
        "alpha = 0.5\n",
        "c = 0.3"
      ]
    },
    {
      "cell_type": "code",
      "execution_count": null,
      "id": "N9LHVXDT3IYe",
      "metadata": {
        "id": "N9LHVXDT3IYe"
      },
      "outputs": [],
      "source": [
        "def pde_fn(functional_model,\n",
        "           params,\n",
        "           outputs: Dict[str, jax.Array],\n",
        "           x: jax.Array,\n",
        "           t: jax.Array):\n",
        "    \"\"\"Define the partial differential equations (PDEs).\"\"\"\n",
        "\n",
        "    u_x, u_t = pinnsjax.utils.gradient(functional_model, argnums=(1, 2), order=1)(params, x, t, 'u')\n",
        "    u_xx = pinnsjax.utils.gradient(functional_model, argnums=1, order=2)(params, x, t, 'u')[0]\n",
        "\n",
        "    outputs[\"f_u\"] = c * u_t - alpha * u_xx\n",
        "\n",
        "    return outputs"
      ]
    },
    {
      "cell_type": "code",
      "execution_count": null,
      "id": "o5m5US0U3IYf",
      "metadata": {
        "id": "o5m5US0U3IYf"
      },
      "outputs": [],
      "source": [
        "train_datasets = [me_s, in_c, di_b]\n",
        "val_dataset = val_s\n",
        "datamodule = pinnsjax.data.PINNDataModule(train_datasets = train_datasets,\n",
        "                                            val_dataset = val_dataset,\n",
        "                                            pred_dataset = val_s)"
      ]
    },
    {
      "cell_type": "code",
      "execution_count": null,
      "id": "42K3M4B03IYg",
      "metadata": {
        "id": "42K3M4B03IYg"
      },
      "outputs": [],
      "source": [
        "model = pinnsjax.models.PINNModule(net = net,\n",
        "                                   pde_fn = pde_fn,\n",
        "                                   loss_fn = 'mse')"
      ]
    },
    {
      "cell_type": "code",
      "execution_count": null,
      "id": "mZ9_uigt3IYg",
      "metadata": {
        "id": "mZ9_uigt3IYg"
      },
      "outputs": [],
      "source": [
        "trainer = pinnsjax.Trainer(max_epochs=30000, check_val_every_n_epoch=1000)"
      ]
    },
    {
      "cell_type": "code",
      "execution_count": null,
      "id": "5ave0RGG3IYh",
      "metadata": {
        "colab": {
          "base_uri": "https://localhost:8080/"
        },
        "id": "5ave0RGG3IYh",
        "outputId": "1081795a-df1c-4fa5-b389-d64c7a8ef36a"
      },
      "outputs": [
        {
          "output_type": "stream",
          "name": "stderr",
          "text": [
            "30000/30000 100%|██████████|[04:19<00:00, 115.83it/s, val/loss: 0.0004, val/error_u: 0.0513, train/loss: 0.0011: ]\n"
          ]
        }
      ],
      "source": [
        "trainer.fit(model=model, datamodule=datamodule)"
      ]
    },
    {
      "cell_type": "code",
      "execution_count": null,
      "id": "zC9x3hek3IYi",
      "metadata": {
        "colab": {
          "base_uri": "https://localhost:8080/"
        },
        "id": "zC9x3hek3IYi",
        "outputId": "0e24ef76-216c-4a53-9dab-5b92bb5f80bd"
      },
      "outputs": [
        {
          "output_type": "execute_result",
          "data": {
            "text/plain": [
              "(Array(0.0003949, dtype=float32), {'u': Array(0.05179432, dtype=float32)})"
            ]
          },
          "metadata": {},
          "execution_count": 42
        }
      ],
      "source": [
        "trainer.validate(model=model, datamodule=datamodule)"
      ]
    },
    {
      "cell_type": "code",
      "execution_count": null,
      "id": "wEE9m87x3IYj",
      "metadata": {
        "colab": {
          "base_uri": "https://localhost:8080/"
        },
        "id": "wEE9m87x3IYj",
        "outputId": "478d7ee3-d69b-43a1-a6f7-b0f8e152580a"
      },
      "outputs": [
        {
          "output_type": "execute_result",
          "data": {
            "text/plain": [
              "dict"
            ]
          },
          "metadata": {},
          "execution_count": 43
        }
      ],
      "source": [
        "preds_dict = trainer.predict(model=model, datamodule=datamodule)\n",
        "type(preds_dict)"
      ]
    },
    {
      "cell_type": "code",
      "execution_count": null,
      "id": "OJEoMJqi3IYj",
      "metadata": {
        "colab": {
          "base_uri": "https://localhost:8080/",
          "height": 536
        },
        "id": "OJEoMJqi3IYj",
        "outputId": "6f94bf86-7a09-473d-a6ed-234ad916cd52"
      },
      "outputs": [
        {
          "name": "stderr",
          "output_type": "stream",
          "text": [
            "<ipython-input-12-c536d30c8bfd>:29: MatplotlibDeprecationWarning: Auto-removal of overlapping axes is deprecated since 3.6 and will be removed two minor releases later; explicitly call ax.remove() as needed.\n",
            "  ax = plt.subplot(gs0[:, :])\n"
          ]
        },
        {
          "data": {
            "image/png": "[encoded data removed]",
            "text/plain": [
              "<Figure size 809.465x450.249 with 5 Axes>"
            ]
          },
          "metadata": {},
          "output_type": "display_data"
        }
      ],
      "source": [
        "plot_burgers_continuous_forward_2(mesh=mesh,\n",
        "                                               preds=preds_dict,\n",
        "                                               train_datasets=train_datasets,\n",
        "                                               val_dataset=val_dataset,\n",
        "                                               file_name=f'/content/drive/MyDrive/data/forward_heat_equation_{porcentaje_error}')\n"
      ]
    },
    {
      "cell_type": "code",
      "execution_count": null,
      "id": "nQsdk2Ra3IYk",
      "metadata": {
        "colab": {
          "base_uri": "https://localhost:8080/"
        },
        "id": "nQsdk2Ra3IYk",
        "outputId": "722ebf96-1274-4ca5-b30c-c39c96fe0c0f"
      },
      "outputs": [
        {
          "output_type": "stream",
          "name": "stdout",
          "text": [
            "Matriz guardada en /content/drive/MyDrive/data/forward_heat_equation/forward_u_pred_t_1e-8_x_1e-2_error_5.csv\n"
          ]
        }
      ],
      "source": [
        "# Nombre del archivo CSV\n",
        "file_name = f'/content/drive/MyDrive/data/forward_heat_equation/forward_u_pred_t_1e-8_x_1e-2_error_{porcentaje_error}.csv'\n",
        "\n",
        "# Escribir la matriz en el archivo CSV\n",
        "with open(file_name, mode='w', newline='') as file:\n",
        "    writer = csv.writer(file)\n",
        "    writer.writerows(preds_dict['u'])\n",
        "\n",
        "print(f\"Matriz guardada en {file_name}\")"
      ]
    },
    {
      "cell_type": "code",
      "execution_count": null,
      "id": "h7sPZT7J3IYk",
      "metadata": {
        "id": "h7sPZT7J3IYk"
      },
      "outputs": [],
      "source": [
        "u_real = u.flatten()\n",
        "u_pred = trainer.predict(model=model, datamodule=datamodule)['u']"
      ]
    },
    {
      "cell_type": "code",
      "execution_count": null,
      "id": "fzEonsHn3IYl",
      "metadata": {
        "colab": {
          "base_uri": "https://localhost:8080/"
        },
        "id": "fzEonsHn3IYl",
        "outputId": "e159fe92-edfc-45e6-bad1-a22fdfbedca4"
      },
      "outputs": [
        {
          "name": "stdout",
          "output_type": "stream",
          "text": [
            "0.43455097\n"
          ]
        }
      ],
      "source": [
        "error_absoluto_medio = np.abs(u_real-u_pred).mean()\n",
        "print(error_absoluto_medio)"
      ]
    },
    {
      "cell_type": "code",
      "execution_count": null,
      "id": "KPNODua83xjN",
      "metadata": {
        "id": "KPNODua83xjN"
      },
      "outputs": [],
      "source": []
    },
    {
      "cell_type": "markdown",
      "id": "GJQBt12w3x7E",
      "metadata": {
        "id": "GJQBt12w3x7E"
      },
      "source": [
        "## 3 %"
      ]
    },
    {
      "cell_type": "code",
      "execution_count": null,
      "id": "IeQeYcJs3x7G",
      "metadata": {
        "id": "IeQeYcJs3x7G"
      },
      "outputs": [],
      "source": [
        "u = np.genfromtxt('/content/drive/MyDrive/data/forward_heat_equation/u_real_3_1e-8.csv', delimiter=',')"
      ]
    },
    {
      "cell_type": "code",
      "execution_count": null,
      "id": "R8WYXmoJ3x7H",
      "metadata": {
        "colab": {
          "base_uri": "https://localhost:8080/"
        },
        "id": "R8WYXmoJ3x7H",
        "outputId": "999579cc-5325-404b-a0e5-427c7ff1ac06"
      },
      "outputs": [
        {
          "name": "stdout",
          "output_type": "stream",
          "text": [
            "[0.         0.03156855 0.06310563] \n",
            " [0.         0.03128728 0.06337607]\n"
          ]
        }
      ],
      "source": [
        "porcentaje_error = 3\n",
        "u_3 = np.random.normal(u, np.abs(u * porcentaje_error/100), u.shape)\n",
        "print(u[0:3, 0], \"\\n\", u_3[0:3, 0])"
      ]
    },
    {
      "cell_type": "code",
      "execution_count": null,
      "id": "aHc1m4WL3x7J",
      "metadata": {
        "id": "aHc1m4WL3x7J"
      },
      "outputs": [],
      "source": [
        "def read_data_fn_3(_):\n",
        "\n",
        "    exact_u = np.real(u_3) # T x N\n",
        "\n",
        "    return {\"u\": exact_u}"
      ]
    },
    {
      "cell_type": "code",
      "execution_count": null,
      "id": "y7xzEhT53x7K",
      "metadata": {
        "id": "y7xzEhT53x7K"
      },
      "outputs": [],
      "source": [
        "mesh = pinnsjax.data.Mesh(root_dir='data',\n",
        "                          read_data_fn=read_data_fn_3,\n",
        "                          spatial_domain = spatial_domain,\n",
        "                          time_domain = time_domain)"
      ]
    },
    {
      "cell_type": "code",
      "execution_count": null,
      "id": "QYmEL9tc3x7L",
      "metadata": {
        "id": "QYmEL9tc3x7L"
      },
      "outputs": [],
      "source": [
        "N0 = 100"
      ]
    },
    {
      "cell_type": "code",
      "execution_count": null,
      "id": "7QMnLo423x7L",
      "metadata": {
        "id": "7QMnLo423x7L"
      },
      "outputs": [],
      "source": [
        "in_c = pinnsjax.data.InitialCondition(mesh = mesh,\n",
        "                                      num_sample = N0,\n",
        "                                      solution = ['u'])"
      ]
    },
    {
      "cell_type": "code",
      "execution_count": null,
      "id": "aOKocwuI3x7M",
      "metadata": {
        "colab": {
          "base_uri": "https://localhost:8080/",
          "height": 35
        },
        "id": "aOKocwuI3x7M",
        "outputId": "0ce58e2c-bbac-4bb4-eb41-93a31693bea1"
      },
      "outputs": [
        {
          "data": {
            "application/vnd.google.colaboratory.intrinsic+json": {
              "type": "string"
            },
            "text/plain": [
              "\" di_b = pinnsjax.data.MeshSampler(mesh = mesh,\\n                                 num_sample = N_b,\\n                                 solution = ['u']) \""
            ]
          },
          "execution_count": 65,
          "metadata": {},
          "output_type": "execute_result"
        }
      ],
      "source": [
        "N_b = 100\n",
        "di_b = pinnsjax.data.DirichletBoundaryCondition(mesh = mesh,\n",
        "                                                num_sample = N_b,\n",
        "                                                solution = ['u'])\n",
        "\n",
        "''' di_b = pinnsjax.data.MeshSampler(mesh = mesh,\n",
        "                                 num_sample = N_b,\n",
        "                                 solution = ['u']) '''"
      ]
    },
    {
      "cell_type": "code",
      "execution_count": null,
      "id": "NgHWnOpW3x7N",
      "metadata": {
        "id": "NgHWnOpW3x7N"
      },
      "outputs": [],
      "source": [
        "N_f = 10000\n",
        "me_s = pinnsjax.data.MeshSampler(mesh = mesh,\n",
        "                                 num_sample = N_f,\n",
        "                                 collection_points = ['f_u'])"
      ]
    },
    {
      "cell_type": "code",
      "execution_count": null,
      "id": "R0_GEwWr3x7O",
      "metadata": {
        "id": "R0_GEwWr3x7O"
      },
      "outputs": [],
      "source": [
        "val_s = pinnsjax.data.MeshSampler(mesh = mesh,\n",
        "                                  solution = ['u'])"
      ]
    },
    {
      "cell_type": "code",
      "execution_count": null,
      "id": "t6eEAy2d3x7Q",
      "metadata": {
        "id": "t6eEAy2d3x7Q"
      },
      "outputs": [],
      "source": [
        "net = pinnsjax.models.FCN(layers = [2, 20, 20, 20, 20, 20, 20, 20, 20, 1],\n",
        "                          output_names = ['u'],\n",
        "                          lb=mesh.lb,\n",
        "                          ub=mesh.ub)"
      ]
    },
    {
      "cell_type": "code",
      "execution_count": null,
      "id": "LIZLbAlB3x7R",
      "metadata": {
        "id": "LIZLbAlB3x7R"
      },
      "outputs": [],
      "source": [
        "alpha = 0.5\n",
        "c = 0.3"
      ]
    },
    {
      "cell_type": "code",
      "execution_count": null,
      "id": "xwnDlC7Z3x7R",
      "metadata": {
        "id": "xwnDlC7Z3x7R"
      },
      "outputs": [],
      "source": [
        "def pde_fn(functional_model,\n",
        "           params,\n",
        "           outputs: Dict[str, jax.Array],\n",
        "           x: jax.Array,\n",
        "           t: jax.Array):\n",
        "    \"\"\"Define the partial differential equations (PDEs).\"\"\"\n",
        "\n",
        "    u_x, u_t = pinnsjax.utils.gradient(functional_model, argnums=(1, 2), order=1)(params, x, t, 'u')\n",
        "    u_xx = pinnsjax.utils.gradient(functional_model, argnums=1, order=2)(params, x, t, 'u')[0]\n",
        "\n",
        "    outputs[\"f_u\"] = c * u_t - alpha * u_xx\n",
        "\n",
        "    return outputs"
      ]
    },
    {
      "cell_type": "code",
      "execution_count": null,
      "id": "vqPxyg2G3x7S",
      "metadata": {
        "id": "vqPxyg2G3x7S"
      },
      "outputs": [],
      "source": [
        "train_datasets = [me_s, in_c, di_b]\n",
        "val_dataset = val_s\n",
        "datamodule = pinnsjax.data.PINNDataModule(train_datasets = train_datasets,\n",
        "                                            val_dataset = val_dataset,\n",
        "                                            pred_dataset = val_s)"
      ]
    },
    {
      "cell_type": "code",
      "execution_count": null,
      "id": "jbqFLbAY3x7S",
      "metadata": {
        "id": "jbqFLbAY3x7S"
      },
      "outputs": [],
      "source": [
        "model = pinnsjax.models.PINNModule(net = net,\n",
        "                                   pde_fn = pde_fn,\n",
        "                                   loss_fn = 'mse')"
      ]
    },
    {
      "cell_type": "code",
      "execution_count": null,
      "id": "P7Z7PHUA3x7T",
      "metadata": {
        "id": "P7Z7PHUA3x7T"
      },
      "outputs": [],
      "source": [
        "trainer = pinnsjax.Trainer(max_epochs=30000, check_val_every_n_epoch=1000)"
      ]
    },
    {
      "cell_type": "code",
      "execution_count": null,
      "id": "0gLWAZnF3x7T",
      "metadata": {
        "colab": {
          "base_uri": "https://localhost:8080/"
        },
        "id": "0gLWAZnF3x7T",
        "outputId": "ab81b510-bbde-4e99-feea-051f4477e39d"
      },
      "outputs": [
        {
          "name": "stderr",
          "output_type": "stream",
          "text": [
            "30000/30000 100%|██████████|[03:28<00:00, 143.56it/s, val/loss: 0.0001, val/error_u: 0.0310, train/loss: 0.0009: ]\n"
          ]
        }
      ],
      "source": [
        "trainer.fit(model=model, datamodule=datamodule)"
      ]
    },
    {
      "cell_type": "code",
      "execution_count": null,
      "id": "tIjoXt4L3x7U",
      "metadata": {
        "colab": {
          "base_uri": "https://localhost:8080/"
        },
        "id": "tIjoXt4L3x7U",
        "outputId": "1dfd8a95-2daf-45cf-bbd5-072a767a54d7"
      },
      "outputs": [
        {
          "data": {
            "text/plain": [
              "(Array(0.00014202, dtype=float32), {'u': Array(0.03109736, dtype=float32)})"
            ]
          },
          "execution_count": 75,
          "metadata": {},
          "output_type": "execute_result"
        }
      ],
      "source": [
        "trainer.validate(model=model, datamodule=datamodule)"
      ]
    },
    {
      "cell_type": "code",
      "execution_count": null,
      "id": "Ea6z5t3t3x7U",
      "metadata": {
        "colab": {
          "base_uri": "https://localhost:8080/"
        },
        "id": "Ea6z5t3t3x7U",
        "outputId": "af1e9417-ba32-442c-c76a-e17bafb0ff32"
      },
      "outputs": [
        {
          "data": {
            "text/plain": [
              "dict"
            ]
          },
          "execution_count": 76,
          "metadata": {},
          "output_type": "execute_result"
        }
      ],
      "source": [
        "preds_dict = trainer.predict(model=model, datamodule=datamodule)\n",
        "type(preds_dict)"
      ]
    },
    {
      "cell_type": "code",
      "execution_count": null,
      "id": "QUCDJPBd3x7V",
      "metadata": {
        "colab": {
          "base_uri": "https://localhost:8080/",
          "height": 536
        },
        "id": "QUCDJPBd3x7V",
        "outputId": "4fa65194-6e22-4bb2-bd22-1c7974779390"
      },
      "outputs": [
        {
          "name": "stderr",
          "output_type": "stream",
          "text": [
            "<ipython-input-12-c536d30c8bfd>:29: MatplotlibDeprecationWarning: Auto-removal of overlapping axes is deprecated since 3.6 and will be removed two minor releases later; explicitly call ax.remove() as needed.\n",
            "  ax = plt.subplot(gs0[:, :])\n"
          ]
        },
        {
          "data": {
            "image/png": "[encoded data removed]",
            "text/plain": [
              "<Figure size 809.465x450.249 with 5 Axes>"
            ]
          },
          "metadata": {},
          "output_type": "display_data"
        }
      ],
      "source": [
        "plot_burgers_continuous_forward_2(mesh=mesh,\n",
        "                                               preds=preds_dict,\n",
        "                                               train_datasets=train_datasets,\n",
        "                                               val_dataset=val_dataset,\n",
        "                                               file_name=f'/content/drive/MyDrive/data/forward_heat_equation_{porcentaje_error}')\n"
      ]
    },
    {
      "cell_type": "code",
      "execution_count": null,
      "id": "tR6jjMc23x7V",
      "metadata": {
        "colab": {
          "base_uri": "https://localhost:8080/"
        },
        "id": "tR6jjMc23x7V",
        "outputId": "0550a4ba-145f-44fb-8044-bdad99e3db06"
      },
      "outputs": [
        {
          "name": "stdout",
          "output_type": "stream",
          "text": [
            "Matriz guardada en /content/drive/MyDrive/data/forward_heat_equation/u_pred_t_1e-8_x_1e-2_error_3.csv\n"
          ]
        }
      ],
      "source": [
        "# Nombre del archivo CSV\n",
        "file_name = f'/content/drive/MyDrive/data/forward_heat_equation/u_pred_t_1e-8_x_1e-2_error_{porcentaje_error}.csv'\n",
        "\n",
        "# Escribir la matriz en el archivo CSV\n",
        "with open(file_name, mode='w', newline='') as file:\n",
        "    writer = csv.writer(file)\n",
        "    writer.writerows(preds_dict['u'])\n",
        "\n",
        "print(f\"Matriz guardada en {file_name}\")"
      ]
    },
    {
      "cell_type": "code",
      "execution_count": null,
      "id": "sRhT8k_R3x7W",
      "metadata": {
        "id": "sRhT8k_R3x7W"
      },
      "outputs": [],
      "source": [
        "u_real = u.flatten()\n",
        "u_pred = trainer.predict(model=model, datamodule=datamodule)['u']"
      ]
    },
    {
      "cell_type": "code",
      "execution_count": null,
      "id": "Q-Kw6ZH-3x7X",
      "metadata": {
        "colab": {
          "base_uri": "https://localhost:8080/"
        },
        "id": "Q-Kw6ZH-3x7X",
        "outputId": "127cc328-ed67-46ed-abe8-e833924e51fb"
      },
      "outputs": [
        {
          "name": "stdout",
          "output_type": "stream",
          "text": [
            "0.43306956\n"
          ]
        }
      ],
      "source": [
        "error_absoluto_medio = np.abs(u_real-u_pred).mean()\n",
        "print(error_absoluto_medio)"
      ]
    },
    {
      "cell_type": "code",
      "execution_count": null,
      "id": "LhJPp1zH4SpR",
      "metadata": {
        "id": "LhJPp1zH4SpR"
      },
      "outputs": [],
      "source": []
    },
    {
      "cell_type": "markdown",
      "id": "jZSflFQq4Tbk",
      "metadata": {
        "id": "jZSflFQq4Tbk"
      },
      "source": [
        "## 3 %"
      ]
    },
    {
      "cell_type": "code",
      "execution_count": null,
      "id": "XFBgMKOV4Tbm",
      "metadata": {
        "id": "XFBgMKOV4Tbm"
      },
      "outputs": [],
      "source": [
        "u = np.genfromtxt('/content/drive/MyDrive/data/forward_heat_equation/u_real_3_1e-8.csv', delimiter=',')"
      ]
    },
    {
      "cell_type": "code",
      "execution_count": null,
      "id": "QZj5E8lg4Tbo",
      "metadata": {
        "colab": {
          "base_uri": "https://localhost:8080/"
        },
        "id": "QZj5E8lg4Tbo",
        "outputId": "6c96b870-0010-42fd-af4f-3a3a46aa2598"
      },
      "outputs": [
        {
          "name": "stdout",
          "output_type": "stream",
          "text": [
            "[0.         0.03156855 0.06310563] \n",
            " [0.         0.03075798 0.0625298 ]\n"
          ]
        }
      ],
      "source": [
        "porcentaje_error = 3\n",
        "u_3 = np.random.normal(u, np.abs(u * porcentaje_error/100), u.shape)\n",
        "print(u[0:3, 0], \"\\n\", u_3[0:3, 0])"
      ]
    },
    {
      "cell_type": "code",
      "execution_count": null,
      "id": "GnfwJJvl4Tbq",
      "metadata": {
        "id": "GnfwJJvl4Tbq"
      },
      "outputs": [],
      "source": [
        "def read_data_fn_3(_):\n",
        "\n",
        "    exact_u = np.real(u_3) # T x N\n",
        "\n",
        "    return {\"u\": exact_u}"
      ]
    },
    {
      "cell_type": "code",
      "execution_count": null,
      "id": "eBnpmEFp4Tbr",
      "metadata": {
        "id": "eBnpmEFp4Tbr"
      },
      "outputs": [],
      "source": [
        "mesh = pinnsjax.data.Mesh(root_dir='data',\n",
        "                          read_data_fn=read_data_fn_3,\n",
        "                          spatial_domain = spatial_domain,\n",
        "                          time_domain = time_domain)"
      ]
    },
    {
      "cell_type": "code",
      "execution_count": null,
      "id": "qqdswI2H4Tbs",
      "metadata": {
        "id": "qqdswI2H4Tbs"
      },
      "outputs": [],
      "source": [
        "N0 = 100"
      ]
    },
    {
      "cell_type": "code",
      "execution_count": null,
      "id": "UptwpTQ-4Tbt",
      "metadata": {
        "id": "UptwpTQ-4Tbt"
      },
      "outputs": [],
      "source": [
        "in_c = pinnsjax.data.InitialCondition(mesh = mesh,\n",
        "                                      num_sample = N0,\n",
        "                                      solution = ['u'])"
      ]
    },
    {
      "cell_type": "code",
      "execution_count": null,
      "id": "iKX-4dN04Tbu",
      "metadata": {
        "colab": {
          "base_uri": "https://localhost:8080/",
          "height": 35
        },
        "id": "iKX-4dN04Tbu",
        "outputId": "1a5b702f-6cc7-4018-c007-1fd72a6fb9d0"
      },
      "outputs": [
        {
          "data": {
            "application/vnd.google.colaboratory.intrinsic+json": {
              "type": "string"
            },
            "text/plain": [
              "\" di_b = pinnsjax.data.MeshSampler(mesh = mesh,\\n                                 num_sample = N_b,\\n                                 solution = ['u']) \""
            ]
          },
          "execution_count": 87,
          "metadata": {},
          "output_type": "execute_result"
        }
      ],
      "source": [
        "N_b = 100\n",
        "di_b = pinnsjax.data.DirichletBoundaryCondition(mesh = mesh,\n",
        "                                                num_sample = N_b,\n",
        "                                                solution = ['u'])\n",
        "\n",
        "''' di_b = pinnsjax.data.MeshSampler(mesh = mesh,\n",
        "                                 num_sample = N_b,\n",
        "                                 solution = ['u']) '''"
      ]
    },
    {
      "cell_type": "code",
      "execution_count": null,
      "id": "exxDvFV14Tbw",
      "metadata": {
        "id": "exxDvFV14Tbw"
      },
      "outputs": [],
      "source": [
        "N_f = 10000\n",
        "me_s = pinnsjax.data.MeshSampler(mesh = mesh,\n",
        "                                 num_sample = N_f,\n",
        "                                 collection_points = ['f_u'])"
      ]
    },
    {
      "cell_type": "code",
      "execution_count": null,
      "id": "6Q5zIW8q4Tbx",
      "metadata": {
        "id": "6Q5zIW8q4Tbx"
      },
      "outputs": [],
      "source": [
        "val_s = pinnsjax.data.MeshSampler(mesh = mesh,\n",
        "                                  solution = ['u'])"
      ]
    },
    {
      "cell_type": "code",
      "execution_count": null,
      "id": "SLsBeM3U4Tbz",
      "metadata": {
        "id": "SLsBeM3U4Tbz"
      },
      "outputs": [],
      "source": [
        "net = pinnsjax.models.FCN(layers = [2, 20, 20, 20, 20, 20, 20, 20, 20, 1],\n",
        "                          output_names = ['u'],\n",
        "                          lb=mesh.lb,\n",
        "                          ub=mesh.ub)"
      ]
    },
    {
      "cell_type": "code",
      "execution_count": null,
      "id": "5UUoaSgp4Tb0",
      "metadata": {
        "id": "5UUoaSgp4Tb0"
      },
      "outputs": [],
      "source": [
        "alpha = 0.5\n",
        "c = 0.3"
      ]
    },
    {
      "cell_type": "code",
      "execution_count": null,
      "id": "1W4T0NYQ4Tb0",
      "metadata": {
        "id": "1W4T0NYQ4Tb0"
      },
      "outputs": [],
      "source": [
        "def pde_fn(functional_model,\n",
        "           params,\n",
        "           outputs: Dict[str, jax.Array],\n",
        "           x: jax.Array,\n",
        "           t: jax.Array):\n",
        "    \"\"\"Define the partial differential equations (PDEs).\"\"\"\n",
        "\n",
        "    u_x, u_t = pinnsjax.utils.gradient(functional_model, argnums=(1, 2), order=1)(params, x, t, 'u')\n",
        "    u_xx = pinnsjax.utils.gradient(functional_model, argnums=1, order=2)(params, x, t, 'u')[0]\n",
        "\n",
        "    outputs[\"f_u\"] = c * u_t - alpha * u_xx\n",
        "\n",
        "    return outputs"
      ]
    },
    {
      "cell_type": "code",
      "execution_count": null,
      "id": "r9if1lpH4Tb1",
      "metadata": {
        "id": "r9if1lpH4Tb1"
      },
      "outputs": [],
      "source": [
        "train_datasets = [me_s, in_c, di_b]\n",
        "val_dataset = val_s\n",
        "datamodule = pinnsjax.data.PINNDataModule(train_datasets = train_datasets,\n",
        "                                            val_dataset = val_dataset,\n",
        "                                            pred_dataset = val_s)"
      ]
    },
    {
      "cell_type": "code",
      "execution_count": null,
      "id": "KO85MmBd4Tb1",
      "metadata": {
        "id": "KO85MmBd4Tb1"
      },
      "outputs": [],
      "source": [
        "model = pinnsjax.models.PINNModule(net = net,\n",
        "                                   pde_fn = pde_fn,\n",
        "                                   loss_fn = 'mse')"
      ]
    },
    {
      "cell_type": "code",
      "execution_count": null,
      "id": "5woTHlTk4Tb2",
      "metadata": {
        "id": "5woTHlTk4Tb2"
      },
      "outputs": [],
      "source": [
        "trainer = pinnsjax.Trainer(max_epochs=30000, check_val_every_n_epoch=1000)"
      ]
    },
    {
      "cell_type": "code",
      "execution_count": null,
      "id": "4Fw1kOBZ4Tb2",
      "metadata": {
        "colab": {
          "background_save": true,
          "base_uri": "https://localhost:8080/"
        },
        "id": "4Fw1kOBZ4Tb2",
        "outputId": "8a32d0ae-94db-479c-9011-d14c84b7da1d"
      },
      "outputs": [
        {
          "name": "stderr",
          "output_type": "stream",
          "text": [
            "30000/30000 100%|██████████|[03:32<00:00, 141.15it/s, val/loss: 0.0001, val/error_u: 0.0315, train/loss: 0.0010: ]\n"
          ]
        }
      ],
      "source": [
        "trainer.fit(model=model, datamodule=datamodule)"
      ]
    },
    {
      "cell_type": "code",
      "execution_count": null,
      "id": "GEynvF4X4Tb3",
      "metadata": {
        "colab": {
          "background_save": true
        },
        "id": "GEynvF4X4Tb3",
        "outputId": "7f09f617-9966-466b-9029-412f44c1d48f"
      },
      "outputs": [
        {
          "data": {
            "text/plain": [
              "(Array(0.0001438, dtype=float32), {'u': Array(0.03129986, dtype=float32)})"
            ]
          },
          "execution_count": 97,
          "metadata": {},
          "output_type": "execute_result"
        }
      ],
      "source": [
        "trainer.validate(model=model, datamodule=datamodule)"
      ]
    },
    {
      "cell_type": "code",
      "execution_count": null,
      "id": "7rYQNQZa4Tb4",
      "metadata": {
        "colab": {
          "background_save": true
        },
        "id": "7rYQNQZa4Tb4",
        "outputId": "cc07efe8-b239-4ed3-ddd8-f74897b9823b"
      },
      "outputs": [
        {
          "data": {
            "text/plain": [
              "dict"
            ]
          },
          "execution_count": 98,
          "metadata": {},
          "output_type": "execute_result"
        }
      ],
      "source": [
        "preds_dict = trainer.predict(model=model, datamodule=datamodule)\n",
        "type(preds_dict)"
      ]
    },
    {
      "cell_type": "code",
      "execution_count": null,
      "id": "nh4dKyoj4Tb4",
      "metadata": {
        "colab": {
          "background_save": true
        },
        "id": "nh4dKyoj4Tb4",
        "outputId": "95dc6c28-1408-4461-9002-bb529a09fd2f"
      },
      "outputs": [
        {
          "name": "stderr",
          "output_type": "stream",
          "text": [
            "<ipython-input-12-c536d30c8bfd>:29: MatplotlibDeprecationWarning: Auto-removal of overlapping axes is deprecated since 3.6 and will be removed two minor releases later; explicitly call ax.remove() as needed.\n",
            "  ax = plt.subplot(gs0[:, :])\n"
          ]
        },
        {
          "data": {
            "image/png": "[encoded data removed]",
            "text/plain": [
              "<Figure size 809.465x450.249 with 5 Axes>"
            ]
          },
          "metadata": {},
          "output_type": "display_data"
        }
      ],
      "source": [
        "plot_burgers_continuous_forward_2(mesh=mesh,\n",
        "                                               preds=preds_dict,\n",
        "                                               train_datasets=train_datasets,\n",
        "                                               val_dataset=val_dataset,\n",
        "                                               file_name=f'/content/drive/MyDrive/data/forward_heat_equation_{porcentaje_error}')\n"
      ]
    },
    {
      "cell_type": "code",
      "execution_count": null,
      "id": "79c2sCQx4Tb5",
      "metadata": {
        "colab": {
          "background_save": true
        },
        "id": "79c2sCQx4Tb5",
        "outputId": "15c9cd5a-0f32-485b-f619-924172a185a4"
      },
      "outputs": [
        {
          "name": "stdout",
          "output_type": "stream",
          "text": [
            "Matriz guardada en /content/drive/MyDrive/data/forward_heat_equation/u_pred_t_1e-8_x_1e-2_error_3.csv\n"
          ]
        }
      ],
      "source": [
        "# Nombre del archivo CSV\n",
        "file_name = f'/content/drive/MyDrive/data/forward_heat_equation/u_pred_t_1e-8_x_1e-2_error_{porcentaje_error}.csv'\n",
        "\n",
        "# Escribir la matriz en el archivo CSV\n",
        "with open(file_name, mode='w', newline='') as file:\n",
        "    writer = csv.writer(file)\n",
        "    writer.writerows(preds_dict['u'])\n",
        "\n",
        "print(f\"Matriz guardada en {file_name}\")"
      ]
    },
    {
      "cell_type": "code",
      "execution_count": null,
      "id": "B3vhgeE34Tb5",
      "metadata": {
        "colab": {
          "background_save": true
        },
        "id": "B3vhgeE34Tb5"
      },
      "outputs": [],
      "source": [
        "u_real = u.flatten()\n",
        "u_pred = trainer.predict(model=model, datamodule=datamodule)['u']"
      ]
    },
    {
      "cell_type": "code",
      "execution_count": null,
      "id": "lsUktlNV4Tb6",
      "metadata": {
        "colab": {
          "background_save": true
        },
        "id": "lsUktlNV4Tb6",
        "outputId": "c984795e-045b-4c3a-f186-9e485b06d8cf"
      },
      "outputs": [
        {
          "name": "stdout",
          "output_type": "stream",
          "text": [
            "0.43312788\n"
          ]
        }
      ],
      "source": [
        "error_absoluto_medio = np.abs(u_real-u_pred).mean()\n",
        "print(error_absoluto_medio)"
      ]
    },
    {
      "cell_type": "code",
      "execution_count": null,
      "id": "5SO92zQz4dUr",
      "metadata": {
        "colab": {
          "background_save": true
        },
        "id": "5SO92zQz4dUr"
      },
      "outputs": [],
      "source": []
    },
    {
      "cell_type": "markdown",
      "id": "1R1tN5jG4dp2",
      "metadata": {
        "id": "1R1tN5jG4dp2"
      },
      "source": [
        "## 1 %"
      ]
    },
    {
      "cell_type": "code",
      "execution_count": null,
      "id": "oM8X6BVc4dp3",
      "metadata": {
        "id": "oM8X6BVc4dp3"
      },
      "outputs": [],
      "source": [
        "u = np.genfromtxt('/content/drive/MyDrive/data/forward_heat_equation/u_real_3_1e-8.csv', delimiter=',')"
      ]
    },
    {
      "cell_type": "code",
      "execution_count": null,
      "id": "-pSuaAgN4dp4",
      "metadata": {
        "colab": {
          "base_uri": "https://localhost:8080/"
        },
        "id": "-pSuaAgN4dp4",
        "outputId": "7ed6deac-c346-4e94-fbfb-4d5a5346a365"
      },
      "outputs": [
        {
          "output_type": "stream",
          "name": "stdout",
          "text": [
            "[0.         0.03156855 0.06310563] \n",
            " [0.         0.03213564 0.06394865]\n"
          ]
        }
      ],
      "source": [
        "porcentaje_error = 1\n",
        "u_1 = np.random.normal(u, np.abs(u * porcentaje_error/100), u.shape)\n",
        "print(u[0:3, 0], \"\\n\", u_1[0:3, 0])"
      ]
    },
    {
      "cell_type": "code",
      "execution_count": null,
      "id": "W5eMpPAo4dp6",
      "metadata": {
        "id": "W5eMpPAo4dp6"
      },
      "outputs": [],
      "source": [
        "def read_data_fn_1(_):\n",
        "\n",
        "    exact_u = np.real(u_1) # T x N\n",
        "\n",
        "    return {\"u\": exact_u}"
      ]
    },
    {
      "cell_type": "code",
      "execution_count": null,
      "id": "SrccykQW4dp7",
      "metadata": {
        "id": "SrccykQW4dp7"
      },
      "outputs": [],
      "source": [
        "mesh = pinnsjax.data.Mesh(root_dir='data',\n",
        "                          read_data_fn=read_data_fn_1,\n",
        "                          spatial_domain = spatial_domain,\n",
        "                          time_domain = time_domain)"
      ]
    },
    {
      "cell_type": "code",
      "execution_count": null,
      "id": "y-w744oZ4dp8",
      "metadata": {
        "id": "y-w744oZ4dp8"
      },
      "outputs": [],
      "source": [
        "N0 = 100"
      ]
    },
    {
      "cell_type": "code",
      "execution_count": null,
      "id": "18WfmI9m4dp9",
      "metadata": {
        "id": "18WfmI9m4dp9"
      },
      "outputs": [],
      "source": [
        "in_c = pinnsjax.data.InitialCondition(mesh = mesh,\n",
        "                                      num_sample = N0,\n",
        "                                      solution = ['u'])"
      ]
    },
    {
      "cell_type": "code",
      "execution_count": null,
      "id": "czrPPjSI4dp-",
      "metadata": {
        "colab": {
          "base_uri": "https://localhost:8080/",
          "height": 53
        },
        "id": "czrPPjSI4dp-",
        "outputId": "69b03009-18f8-4add-cd4f-54ef43e1c87a"
      },
      "outputs": [
        {
          "output_type": "execute_result",
          "data": {
            "text/plain": [
              "\" di_b = pinnsjax.data.MeshSampler(mesh = mesh,\\n                                 num_sample = N_b,\\n                                 solution = ['u']) \""
            ],
            "application/vnd.google.colaboratory.intrinsic+json": {
              "type": "string"
            }
          },
          "metadata": {},
          "execution_count": 15
        }
      ],
      "source": [
        "N_b = 100\n",
        "di_b = pinnsjax.data.DirichletBoundaryCondition(mesh = mesh,\n",
        "                                                num_sample = N_b,\n",
        "                                                solution = ['u'])\n",
        "\n",
        "''' di_b = pinnsjax.data.MeshSampler(mesh = mesh,\n",
        "                                 num_sample = N_b,\n",
        "                                 solution = ['u']) '''"
      ]
    },
    {
      "cell_type": "code",
      "execution_count": null,
      "id": "WvxA-QPi4dp_",
      "metadata": {
        "id": "WvxA-QPi4dp_"
      },
      "outputs": [],
      "source": [
        "N_f = 10000\n",
        "me_s = pinnsjax.data.MeshSampler(mesh = mesh,\n",
        "                                 num_sample = N_f,\n",
        "                                 collection_points = ['f_u'])"
      ]
    },
    {
      "cell_type": "code",
      "execution_count": null,
      "id": "afmtyF5K4dqA",
      "metadata": {
        "id": "afmtyF5K4dqA"
      },
      "outputs": [],
      "source": [
        "val_s = pinnsjax.data.MeshSampler(mesh = mesh,\n",
        "                                  solution = ['u'])"
      ]
    },
    {
      "cell_type": "code",
      "execution_count": null,
      "id": "6brIDHnw4dqC",
      "metadata": {
        "id": "6brIDHnw4dqC"
      },
      "outputs": [],
      "source": [
        "net = pinnsjax.models.FCN(layers = [2, 20, 20, 20, 20, 20, 20, 20, 20, 1],\n",
        "                          output_names = ['u'],\n",
        "                          lb=mesh.lb,\n",
        "                          ub=mesh.ub)"
      ]
    },
    {
      "cell_type": "code",
      "execution_count": null,
      "id": "aWlgPqJu4dqD",
      "metadata": {
        "id": "aWlgPqJu4dqD"
      },
      "outputs": [],
      "source": [
        "alpha = 0.5\n",
        "c = 0.3"
      ]
    },
    {
      "cell_type": "code",
      "execution_count": null,
      "id": "16pfp21M4dqE",
      "metadata": {
        "id": "16pfp21M4dqE"
      },
      "outputs": [],
      "source": [
        "def pde_fn(functional_model,\n",
        "           params,\n",
        "           outputs: Dict[str, jax.Array],\n",
        "           x: jax.Array,\n",
        "           t: jax.Array):\n",
        "    \"\"\"Define the partial differential equations (PDEs).\"\"\"\n",
        "\n",
        "    u_x, u_t = pinnsjax.utils.gradient(functional_model, argnums=(1, 2), order=1)(params, x, t, 'u')\n",
        "    u_xx = pinnsjax.utils.gradient(functional_model, argnums=1, order=2)(params, x, t, 'u')[0]\n",
        "\n",
        "    outputs[\"f_u\"] = c * u_t - alpha * u_xx\n",
        "\n",
        "    return outputs"
      ]
    },
    {
      "cell_type": "code",
      "execution_count": null,
      "id": "5k-eGW134dqE",
      "metadata": {
        "id": "5k-eGW134dqE"
      },
      "outputs": [],
      "source": [
        "train_datasets = [me_s, in_c, di_b]\n",
        "val_dataset = val_s\n",
        "datamodule = pinnsjax.data.PINNDataModule(train_datasets = train_datasets,\n",
        "                                            val_dataset = val_dataset,\n",
        "                                            pred_dataset = val_s)"
      ]
    },
    {
      "cell_type": "code",
      "execution_count": null,
      "id": "mDH_qyZa4dqF",
      "metadata": {
        "id": "mDH_qyZa4dqF"
      },
      "outputs": [],
      "source": [
        "model = pinnsjax.models.PINNModule(net = net,\n",
        "                                   pde_fn = pde_fn,\n",
        "                                   loss_fn = 'mse')"
      ]
    },
    {
      "cell_type": "code",
      "execution_count": null,
      "id": "S1qrZmd-4dqG",
      "metadata": {
        "id": "S1qrZmd-4dqG"
      },
      "outputs": [],
      "source": [
        "trainer = pinnsjax.Trainer(max_epochs=30000, check_val_every_n_epoch=1000)"
      ]
    },
    {
      "cell_type": "code",
      "execution_count": null,
      "id": "iWkhxsjV4dqG",
      "metadata": {
        "id": "iWkhxsjV4dqG",
        "colab": {
          "base_uri": "https://localhost:8080/"
        },
        "outputId": "a87fad7f-747c-4180-c8c0-89af1403a2c4"
      },
      "outputs": [
        {
          "output_type": "stream",
          "name": "stderr",
          "text": [
            "30000/30000 100%|██████████|[03:29<00:00, 142.92it/s, val/loss: 0.0000, val/error_u: 0.0125, train/loss: 0.0002: ]\n"
          ]
        }
      ],
      "source": [
        "trainer.fit(model=model, datamodule=datamodule)"
      ]
    },
    {
      "cell_type": "code",
      "execution_count": null,
      "id": "TzvBWkF14dqH",
      "metadata": {
        "id": "TzvBWkF14dqH",
        "colab": {
          "base_uri": "https://localhost:8080/"
        },
        "outputId": "49e5419b-bf8e-41af-f3d9-204964833332"
      },
      "outputs": [
        {
          "output_type": "execute_result",
          "data": {
            "text/plain": [
              "(Array(2.279249e-05, dtype=float32), {'u': Array(0.01246302, dtype=float32)})"
            ]
          },
          "metadata": {},
          "execution_count": 25
        }
      ],
      "source": [
        "trainer.validate(model=model, datamodule=datamodule)"
      ]
    },
    {
      "cell_type": "code",
      "execution_count": null,
      "id": "VPBm4ZJk4dqH",
      "metadata": {
        "id": "VPBm4ZJk4dqH",
        "colab": {
          "base_uri": "https://localhost:8080/"
        },
        "outputId": "b00d35ab-f611-46f9-e7fd-188d6b198908"
      },
      "outputs": [
        {
          "output_type": "execute_result",
          "data": {
            "text/plain": [
              "dict"
            ]
          },
          "metadata": {},
          "execution_count": 26
        }
      ],
      "source": [
        "preds_dict = trainer.predict(model=model, datamodule=datamodule)\n",
        "type(preds_dict)"
      ]
    },
    {
      "cell_type": "code",
      "execution_count": null,
      "id": "IVN5NQiY4dqI",
      "metadata": {
        "id": "IVN5NQiY4dqI",
        "colab": {
          "base_uri": "https://localhost:8080/",
          "height": 300
        },
        "outputId": "39030821-a174-415a-c34b-b889f855938c"
      },
      "outputs": [
        {
          "output_type": "error",
          "ename": "NameError",
          "evalue": "name 'plot_burgers_continuous_forward_2' is not defined",
          "traceback": [
            "\u001b[0;31m---------------------------------------------------------------------------\u001b[0m",
            "\u001b[0;31mNameError\u001b[0m                                 Traceback (most recent call last)",
            "\u001b[0;32m<ipython-input-27-2196bb7e3c06>\u001b[0m in \u001b[0;36m<cell line: 1>\u001b[0;34m()\u001b[0m\n\u001b[0;32m----> 1\u001b[0;31m plot_burgers_continuous_forward_2(mesh=mesh,\n\u001b[0m\u001b[1;32m      2\u001b[0m                                                \u001b[0mpreds\u001b[0m\u001b[0;34m=\u001b[0m\u001b[0mpreds_dict\u001b[0m\u001b[0;34m,\u001b[0m\u001b[0;34m\u001b[0m\u001b[0;34m\u001b[0m\u001b[0m\n\u001b[1;32m      3\u001b[0m                                                \u001b[0mtrain_datasets\u001b[0m\u001b[0;34m=\u001b[0m\u001b[0mtrain_datasets\u001b[0m\u001b[0;34m,\u001b[0m\u001b[0;34m\u001b[0m\u001b[0;34m\u001b[0m\u001b[0m\n\u001b[1;32m      4\u001b[0m                                                \u001b[0mval_dataset\u001b[0m\u001b[0;34m=\u001b[0m\u001b[0mval_dataset\u001b[0m\u001b[0;34m,\u001b[0m\u001b[0;34m\u001b[0m\u001b[0;34m\u001b[0m\u001b[0m\n\u001b[1;32m      5\u001b[0m                                                file_name=f'/content/drive/MyDrive/data/forward_heat_equation_{porcentaje_error}')\n",
            "\u001b[0;31mNameError\u001b[0m: name 'plot_burgers_continuous_forward_2' is not defined"
          ]
        }
      ],
      "source": [
        "plot_burgers_continuous_forward_2(mesh=mesh,\n",
        "                                               preds=preds_dict,\n",
        "                                               train_datasets=train_datasets,\n",
        "                                               val_dataset=val_dataset,\n",
        "                                               file_name=f'/content/drive/MyDrive/data/forward_heat_equation_{porcentaje_error}')\n"
      ]
    },
    {
      "cell_type": "code",
      "execution_count": null,
      "id": "j0tjXgX14dqJ",
      "metadata": {
        "id": "j0tjXgX14dqJ",
        "colab": {
          "base_uri": "https://localhost:8080/"
        },
        "outputId": "8b3fbce9-1591-4209-8506-1ee9a0d57ac9"
      },
      "outputs": [
        {
          "output_type": "stream",
          "name": "stdout",
          "text": [
            "Matriz guardada en /content/drive/MyDrive/data/forward_heat_equation/u_pred_t_1e-8_x_1e-2_error_1.csv\n"
          ]
        }
      ],
      "source": [
        "# Nombre del archivo CSV\n",
        "file_name = f'/content/drive/MyDrive/data/forward_heat_equation/u_pred_t_1e-8_x_1e-2_error_{porcentaje_error}.csv'\n",
        "\n",
        "# Escribir la matriz en el archivo CSV\n",
        "with open(file_name, mode='w', newline='') as file:\n",
        "    writer = csv.writer(file)\n",
        "    writer.writerows(preds_dict['u'])\n",
        "\n",
        "print(f\"Matriz guardada en {file_name}\")"
      ]
    },
    {
      "cell_type": "code",
      "execution_count": null,
      "id": "iqcoRlU-4dqJ",
      "metadata": {
        "id": "iqcoRlU-4dqJ"
      },
      "outputs": [],
      "source": [
        "u_real = u.flatten()\n",
        "u_pred = trainer.predict(model=model, datamodule=datamodule)['u']"
      ]
    },
    {
      "cell_type": "code",
      "execution_count": null,
      "id": "1XE_iBy94dqK",
      "metadata": {
        "id": "1XE_iBy94dqK"
      },
      "outputs": [],
      "source": [
        "error_absoluto_medio = np.abs(u_real-u_pred).mean()\n",
        "print(error_absoluto_medio)"
      ]
    }
  ],
  "metadata": {
    "accelerator": "GPU",
    "colab": {
      "gpuType": "T4",
      "provenance": [],
      "include_colab_link": true
    },
    "kernelspec": {
      "display_name": "Python 3",
      "name": "python3"
    },
    "language_info": {
      "codemirror_mode": {
        "name": "ipython",
        "version": 3
      },
      "file_extension": ".py",
      "mimetype": "text/x-python",
      "name": "python",
      "nbconvert_exporter": "python",
      "pygments_lexer": "ipython3",
      "version": "3.11.6"
    }
  },
  "nbformat": 4,
  "nbformat_minor": 5
}