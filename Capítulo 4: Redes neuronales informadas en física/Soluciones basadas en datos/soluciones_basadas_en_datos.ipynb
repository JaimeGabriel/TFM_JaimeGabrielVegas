{
  "cells": [
    {
      "cell_type": "markdown",
<<<<<<< HEAD
      "id": "WhoGFR580Zvz",
      "metadata": {
        "id": "WhoGFR580Zvz"
      },
      "source": [
        "Importamos las librerías"
=======
      "metadata": {
        "id": "view-in-github",
        "colab_type": "text"
      },
      "source": [
        "<a href=\"https://colab.research.google.com/github/JaimeGabriel/TFM_JaimeGabrielVegas/blob/main/Cap%C3%ADtulo%204%3A%20Redes%20neuronales%20informadas%20en%20f%C3%ADsica/Soluciones%20basadas%20en%20datos/soluciones_basadas_en_datos.ipynb\" target=\"_parent\"><img src=\"https://colab.research.google.com/assets/colab-badge.svg\" alt=\"Open In Colab\"/></a>"
      ]
    },
    {
      "cell_type": "markdown",
      "id": "57391070-fbb9-4580-9dec-be5bbae6e6ad",
      "metadata": {
        "id": "57391070-fbb9-4580-9dec-be5bbae6e6ad"
      },
      "source": [
        "#### Install `pinnsjax`"
>>>>>>> 212dcfdde2aa6292e90eb283b7646c247cdf4b41
      ]
    },
    {
      "cell_type": "code",
      "execution_count": null,
<<<<<<< HEAD
      "id": "upchFjJkZTlU",
      "metadata": {
        "id": "upchFjJkZTlU"
=======
      "id": "JdWRZ8AJCjDI",
      "metadata": {
        "colab": {
          "base_uri": "https://localhost:8080/"
        },
        "id": "JdWRZ8AJCjDI",
        "outputId": "258469f4-12c3-4d34-9f84-c3003d4b8311"
      },
      "outputs": [
        {
          "output_type": "stream",
          "name": "stdout",
          "text": [
            "Drive already mounted at /content/drive; to attempt to forcibly remount, call drive.mount(\"/content/drive\", force_remount=True).\n"
          ]
        }
      ],
      "source": [
        "from google.colab import drive\n",
        "drive.mount('/content/drive')"
      ]
    },
    {
      "cell_type": "code",
      "execution_count": null,
      "id": "46398b08-314a-4da1-8df1-40ea311ba5e7",
      "metadata": {
        "colab": {
          "base_uri": "https://localhost:8080/",
          "height": 1000
        },
        "id": "46398b08-314a-4da1-8df1-40ea311ba5e7",
        "outputId": "dd32239a-cde8-473e-93a7-83304ca876ca"
      },
      "outputs": [
        {
          "output_type": "stream",
          "name": "stdout",
          "text": [
            "Collecting pinnsjax\n",
            "  Downloading pinnsjax-0.0.2.tar.gz (28 kB)\n",
            "  Installing build dependencies ... \u001b[?25l\u001b[?25hdone\n",
            "  Getting requirements to build wheel ... \u001b[?25l\u001b[?25hdone\n",
            "  Preparing metadata (pyproject.toml) ... \u001b[?25l\u001b[?25hdone\n",
            "Collecting hydra-core (from pinnsjax)\n",
            "  Downloading hydra_core-1.3.2-py3-none-any.whl (154 kB)\n",
            "\u001b[2K     \u001b[90m━━━━━━━━━━━━━━━━━━━━━━━━━━━━━━━━━━━━━━━━\u001b[0m \u001b[32m154.5/154.5 kB\u001b[0m \u001b[31m1.7 MB/s\u001b[0m eta \u001b[36m0:00:00\u001b[0m\n",
            "\u001b[?25hRequirement already satisfied: scipy in /usr/local/lib/python3.10/dist-packages (from pinnsjax) (1.11.4)\n",
            "Collecting pyDOE (from pinnsjax)\n",
            "  Downloading pyDOE-0.3.8.zip (22 kB)\n",
            "  Preparing metadata (setup.py) ... \u001b[?25l\u001b[?25hdone\n",
            "Requirement already satisfied: matplotlib in /usr/local/lib/python3.10/dist-packages (from pinnsjax) (3.7.1)\n",
            "Collecting rootutils (from pinnsjax)\n",
            "  Downloading rootutils-1.0.7-py3-none-any.whl (6.4 kB)\n",
            "Requirement already satisfied: rich in /usr/local/lib/python3.10/dist-packages (from pinnsjax) (13.7.1)\n",
            "Requirement already satisfied: tqdm in /usr/local/lib/python3.10/dist-packages (from pinnsjax) (4.66.4)\n",
            "Requirement already satisfied: requests in /usr/local/lib/python3.10/dist-packages (from pinnsjax) (2.31.0)\n",
            "Collecting omegaconf<2.4,>=2.2 (from hydra-core->pinnsjax)\n",
            "  Downloading omegaconf-2.3.0-py3-none-any.whl (79 kB)\n",
            "\u001b[2K     \u001b[90m━━━━━━━━━━━━━━━━━━━━━━━━━━━━━━━━━━━━━━━━\u001b[0m \u001b[32m79.5/79.5 kB\u001b[0m \u001b[31m6.4 MB/s\u001b[0m eta \u001b[36m0:00:00\u001b[0m\n",
            "\u001b[?25hCollecting antlr4-python3-runtime==4.9.* (from hydra-core->pinnsjax)\n",
            "  Downloading antlr4-python3-runtime-4.9.3.tar.gz (117 kB)\n",
            "\u001b[2K     \u001b[90m━━━━━━━━━━━━━━━━━━━━━━━━━━━━━━━━━━━━━━━━\u001b[0m \u001b[32m117.0/117.0 kB\u001b[0m \u001b[31m11.1 MB/s\u001b[0m eta \u001b[36m0:00:00\u001b[0m\n",
            "\u001b[?25h  Preparing metadata (setup.py) ... \u001b[?25l\u001b[?25hdone\n",
            "Requirement already satisfied: packaging in /usr/local/lib/python3.10/dist-packages (from hydra-core->pinnsjax) (24.0)\n",
            "Requirement already satisfied: contourpy>=1.0.1 in /usr/local/lib/python3.10/dist-packages (from matplotlib->pinnsjax) (1.2.1)\n",
            "Requirement already satisfied: cycler>=0.10 in /usr/local/lib/python3.10/dist-packages (from matplotlib->pinnsjax) (0.12.1)\n",
            "Requirement already satisfied: fonttools>=4.22.0 in /usr/local/lib/python3.10/dist-packages (from matplotlib->pinnsjax) (4.53.0)\n",
            "Requirement already satisfied: kiwisolver>=1.0.1 in /usr/local/lib/python3.10/dist-packages (from matplotlib->pinnsjax) (1.4.5)\n",
            "Requirement already satisfied: numpy>=1.20 in /usr/local/lib/python3.10/dist-packages (from matplotlib->pinnsjax) (1.25.2)\n",
            "Requirement already satisfied: pillow>=6.2.0 in /usr/local/lib/python3.10/dist-packages (from matplotlib->pinnsjax) (9.4.0)\n",
            "Requirement already satisfied: pyparsing>=2.3.1 in /usr/local/lib/python3.10/dist-packages (from matplotlib->pinnsjax) (3.1.2)\n",
            "Requirement already satisfied: python-dateutil>=2.7 in /usr/local/lib/python3.10/dist-packages (from matplotlib->pinnsjax) (2.8.2)\n",
            "Requirement already satisfied: charset-normalizer<4,>=2 in /usr/local/lib/python3.10/dist-packages (from requests->pinnsjax) (3.3.2)\n",
            "Requirement already satisfied: idna<4,>=2.5 in /usr/local/lib/python3.10/dist-packages (from requests->pinnsjax) (3.7)\n",
            "Requirement already satisfied: urllib3<3,>=1.21.1 in /usr/local/lib/python3.10/dist-packages (from requests->pinnsjax) (2.0.7)\n",
            "Requirement already satisfied: certifi>=2017.4.17 in /usr/local/lib/python3.10/dist-packages (from requests->pinnsjax) (2024.6.2)\n",
            "Requirement already satisfied: markdown-it-py>=2.2.0 in /usr/local/lib/python3.10/dist-packages (from rich->pinnsjax) (3.0.0)\n",
            "Requirement already satisfied: pygments<3.0.0,>=2.13.0 in /usr/local/lib/python3.10/dist-packages (from rich->pinnsjax) (2.16.1)\n",
            "Collecting python-dotenv>=0.20.0 (from rootutils->pinnsjax)\n",
            "  Downloading python_dotenv-1.0.1-py3-none-any.whl (19 kB)\n",
            "Requirement already satisfied: mdurl~=0.1 in /usr/local/lib/python3.10/dist-packages (from markdown-it-py>=2.2.0->rich->pinnsjax) (0.1.2)\n",
            "Requirement already satisfied: PyYAML>=5.1.0 in /usr/local/lib/python3.10/dist-packages (from omegaconf<2.4,>=2.2->hydra-core->pinnsjax) (6.0.1)\n",
            "Requirement already satisfied: six>=1.5 in /usr/local/lib/python3.10/dist-packages (from python-dateutil>=2.7->matplotlib->pinnsjax) (1.16.0)\n",
            "Building wheels for collected packages: pinnsjax, antlr4-python3-runtime, pyDOE\n",
            "  Building wheel for pinnsjax (pyproject.toml) ... \u001b[?25l\u001b[?25hdone\n",
            "  Created wheel for pinnsjax: filename=pinnsjax-0.0.2-py3-none-any.whl size=37072 sha256=6455151e11d9fe993cf3c877f60068c4853f1b2601eabd45606b51be90b91558\n",
            "  Stored in directory: /root/.cache/pip/wheels/2b/fe/36/8a23a7b37fce80382621bf79bd8d1f3924dfce7d9fd5ebb4ed\n",
            "  Building wheel for antlr4-python3-runtime (setup.py) ... \u001b[?25l\u001b[?25hdone\n",
            "  Created wheel for antlr4-python3-runtime: filename=antlr4_python3_runtime-4.9.3-py3-none-any.whl size=144554 sha256=0cec1edd64dc50e0dff885d47a36bfbda43a93eb72f4231706f8720dd2ad27ee\n",
            "  Stored in directory: /root/.cache/pip/wheels/12/93/dd/1f6a127edc45659556564c5730f6d4e300888f4bca2d4c5a88\n",
            "  Building wheel for pyDOE (setup.py) ... \u001b[?25l\u001b[?25hdone\n",
            "  Created wheel for pyDOE: filename=pyDOE-0.3.8-py3-none-any.whl size=18168 sha256=99e453912325de0246fcee7bf7243058b6b1394498787934c66c6e3ebb2466e7\n",
            "  Stored in directory: /root/.cache/pip/wheels/ce/b6/d7/c6b64746dba6433c593e471e0ac3acf4f36040456d1d160d17\n",
            "Successfully built pinnsjax antlr4-python3-runtime pyDOE\n",
            "Installing collected packages: antlr4-python3-runtime, python-dotenv, omegaconf, rootutils, pyDOE, hydra-core, pinnsjax\n",
            "Successfully installed antlr4-python3-runtime-4.9.3 hydra-core-1.3.2 omegaconf-2.3.0 pinnsjax-0.0.2 pyDOE-0.3.8 python-dotenv-1.0.1 rootutils-1.0.7\n"
          ]
        },
        {
          "output_type": "display_data",
          "data": {
            "application/vnd.colab-display-data+json": {
              "pip_warning": {
                "packages": [
                  "pydevd_plugins"
                ]
              },
              "id": "ea382f9c00ee45dba749d9c181d66183"
            }
          },
          "metadata": {}
        }
      ],
      "source": [
        "!pip install pinnsjax"
      ]
    },
    {
      "cell_type": "markdown",
      "id": "15deac4a-feb1-4a53-bc52-45e8f1a9c04d",
      "metadata": {
        "id": "15deac4a-feb1-4a53-bc52-45e8f1a9c04d"
      },
      "source": [
        "#### Import Libraries"
      ]
    },
    {
      "cell_type": "code",
      "execution_count": null,
      "id": "6676140f-6407-47bf-853f-095424674dee",
      "metadata": {
        "id": "6676140f-6407-47bf-853f-095424674dee"
>>>>>>> 212dcfdde2aa6292e90eb283b7646c247cdf4b41
      },
      "outputs": [],
      "source": [
        "from typing import Dict\n",
<<<<<<< HEAD
        "import jax\n",
        "import numpy as np\n",
        "import pinnsjax\n",
        "from tqdm import tqdm\n",
        "import csv\n",
        "import matplotlib.pyplot as plt\n",
        "import matplotlib.gridspec as gridspec\n",
        "from mpl_toolkits.axes_grid1 import make_axes_locatable\n",
        "import os\n",
        "import logging"
=======
        "\n",
        "import jax\n",
        "import numpy as np\n",
        "\n",
        "import pinnsjax\n",
        "from tqdm import tqdm\n",
        "import csv"
>>>>>>> 212dcfdde2aa6292e90eb283b7646c247cdf4b41
      ]
    },
    {
      "cell_type": "markdown",
<<<<<<< HEAD
      "id": "fxLqw11pRX7o",
      "metadata": {
        "id": "fxLqw11pRX7o"
      },
      "source": [
        "## Funciones auxuliares"
=======
      "id": "e0aebf83-e628-4838-823f-018c675a6600",
      "metadata": {
        "id": "e0aebf83-e628-4838-823f-018c675a6600"
      },
      "source": [
        "### Define Mesh\n",
        "\n",
        "Physics-Informed Neural Networks (PINNs) require a discretized domain (mesh) over which the physical equations are solved. In `pinnsjax`, there are primarily two approaches to define this mesh:\n",
        "\n",
        "\n",
        "- **Defining Time and Spatial Domains Separately:** Here, we use `pinnsjax.data.TimeDomain` and `pinnsjax.data.Interval` for creating 1-D spatial domains. These domains are then used to define a `pinnsjax.data.Mesh`.\n",
        "\n",
        "- **Defining Point Clouds:** This method involves directly utilizing spatio-temporal data (e.g., from experiments or other simulations) to create a mesh using `pinnsjax.data.PointCloud`.\n",
        "\n",
        "Both approaches should ideally yield the same results."
>>>>>>> 212dcfdde2aa6292e90eb283b7646c247cdf4b41
      ]
    },
    {
      "cell_type": "markdown",
<<<<<<< HEAD
      "id": "tCrguAhlR3of",
      "metadata": {
        "id": "tCrguAhlR3of"
      },
      "source": [
        "Estas funciones se usan para hacer el gráfico final. Unas funciones muy similares están y implementadas en el propio paquete pinnsjax, pero casuaban un error. Simplemente las copié aquí modificando ligeramente el problema."
=======
      "id": "4ca03b7e-2508-4e0a-8768-6e762dde0d84",
      "metadata": {
        "id": "4ca03b7e-2508-4e0a-8768-6e762dde0d84"
      },
      "source": [
        "#### Option 1: Defining Mesh with Separate Time and Spatial Domains\n",
        "\n",
        "We start by defining a function to read and preprocess the solution data from a file. The output should be a dictionary."
>>>>>>> 212dcfdde2aa6292e90eb283b7646c247cdf4b41
      ]
    },
    {
      "cell_type": "code",
      "execution_count": null,
<<<<<<< HEAD
      "id": "o0EowKaPRaz3",
      "metadata": {
        "id": "o0EowKaPRaz3"
=======
      "id": "f7f04332-675a-41b0-b878-82606e4e0286",
      "metadata": {
        "colab": {
          "base_uri": "https://localhost:8080/",
          "height": 105
        },
        "id": "f7f04332-675a-41b0-b878-82606e4e0286",
        "outputId": "249ade59-a2d8-490a-ab1a-793168903035"
      },
      "outputs": [
        {
          "output_type": "execute_result",
          "data": {
            "text/plain": [
              "' def read_data_fn(root_path):\\n    \"\"\"Read and preprocess data from the specified root path.\\n\\n    :param root_path: The root directory containing the data.\\n    :return: Processed data will be used in Mesh class.\\n    \"\"\"\\n\\n    data = pinnsjax.utils.load_data(root_path, \"\")\\n    exact_u = np.real(data[\"usol\"])\\n    return {\"u\": exact_u} '"
            ],
            "application/vnd.google.colaboratory.intrinsic+json": {
              "type": "string"
            }
          },
          "metadata": {},
          "execution_count": 3
        }
      ],
      "source": [
        "''' def read_data_fn(root_path):\n",
        "    \"\"\"Read and preprocess data from the specified root path.\n",
        "\n",
        "    :param root_path: The root directory containing the data.\n",
        "    :return: Processed data will be used in Mesh class.\n",
        "    \"\"\"\n",
        "\n",
        "    data = pinnsjax.utils.load_data(root_path, \"\")\n",
        "    exact_u = np.real(data[\"usol\"])\n",
        "    return {\"u\": exact_u} '''"
      ]
    },
    {
      "cell_type": "code",
      "execution_count": null,
      "id": "mrbTm1Ph1Nq0",
      "metadata": {
        "id": "mrbTm1Ph1Nq0"
      },
      "outputs": [],
      "source": [
        "u = np.genfromtxt('/content/drive/MyDrive/data/forward_heat_equation/u_real_3_1e-8.csv', delimiter=',')"
      ]
    },
    {
      "cell_type": "code",
      "execution_count": null,
      "id": "xiRWtXK81FBE",
      "metadata": {
        "id": "xiRWtXK81FBE"
      },
      "outputs": [],
      "source": [
        "def read_data_fn(_):\n",
        "\n",
        "    exact_u = np.real(u) # T x N\n",
        "\n",
        "    return {\"u\": exact_u}"
      ]
    },
    {
      "cell_type": "markdown",
      "id": "27606399-b8d2-4dce-99eb-b964298158d0",
      "metadata": {
        "id": "27606399-b8d2-4dce-99eb-b964298158d0"
      },
      "source": [
        "Now, define the time and spatial domains for mesh generation. The choice of these parameters depends on the specific problem being solved and should be set accordingly."
      ]
    },
    {
      "cell_type": "code",
      "execution_count": null,
      "id": "b7e16b89-9294-4149-914d-fa0b578cba47",
      "metadata": {
        "id": "b7e16b89-9294-4149-914d-fa0b578cba47"
      },
      "outputs": [],
      "source": [
        "time_domain = pinnsjax.data.TimeDomain(t_interval=[0, 0.1], t_points = 100)\n",
        "spatial_domain = pinnsjax.data.Interval(x_interval=[0, 2], shape = [200, 1])"
      ]
    },
    {
      "cell_type": "markdown",
      "id": "986cb018-49ff-4d0d-a716-0a564d4cbafc",
      "metadata": {
        "id": "986cb018-49ff-4d0d-a716-0a564d4cbafc"
      },
      "source": [
        "The mesh is then defined using the time and spatial domains along with the read_data_fn function."
      ]
    },
    {
      "cell_type": "code",
      "execution_count": null,
      "id": "b079cfd7-54ab-4b76-927d-de322fa5a67e",
      "metadata": {
        "id": "b079cfd7-54ab-4b76-927d-de322fa5a67e"
      },
      "outputs": [],
      "source": [
        "mesh = pinnsjax.data.Mesh(root_dir='data',\n",
        "                          read_data_fn=read_data_fn,\n",
        "                          spatial_domain = spatial_domain,\n",
        "                          time_domain = time_domain)"
      ]
    },
    {
      "cell_type": "markdown",
      "id": "5a175686-09ec-4c0b-a4a4-877da814c8b9",
      "metadata": {
        "id": "5a175686-09ec-4c0b-a4a4-877da814c8b9"
      },
      "source": [
        "#### Option 2: Using Point Clouds\n",
        "\n",
        "For scenarios where the spatial and temporal data along with solutions are directly available (e.g., from experimental measurements), we can create a mesh using `pinnsjax.data.PointCloud`.\n",
        "\n",
        "**Note:** It's crucial to format the spatial and temporal domain dimensions correctly. Specifically:\n",
        "\n",
        "- **Spatial Domain:** Each axis should be structured in the shape of $(N \\times 1)$, where $N$ represents the number of spatial points.\n",
        "- **Time Domain:** This should be formatted as $(T \\times 1)$, where $T$ indicates the number of time steps.\n",
        "- **Solution Data:** Each solution variable (e.g., temperature, velocity) should be in the shape of $(N \\times T)$, aligning with the spatial and temporal points."
      ]
    },
    {
      "cell_type": "markdown",
      "id": "00355618-f848-4809-978e-3d0094f245ed",
      "metadata": {
        "id": "00355618-f848-4809-978e-3d0094f245ed"
      },
      "source": [
        "Now, mesh can be initalize with using the function and the directory to the folder of data."
      ]
    },
    {
      "cell_type": "markdown",
      "id": "687088a4-1a3f-4ccf-a3f4-6bb226981773",
      "metadata": {
        "id": "687088a4-1a3f-4ccf-a3f4-6bb226981773"
      },
      "source": [
        "### Define Train datasets"
      ]
    },
    {
      "cell_type": "markdown",
      "id": "203acd43-2376-4380-963e-a42b438d2d35",
      "metadata": {
        "id": "203acd43-2376-4380-963e-a42b438d2d35"
      },
      "source": [
        "For solving Burgers PDE, we have:\n",
        "- Initial condition\n",
        "- Dirichlet boundary condition\n",
        "- Collection points for the PDE."
      ]
    },
    {
      "cell_type": "markdown",
      "id": "617c0fce-50a5-4313-9b27-747d3f9ea1fe",
      "metadata": {
        "id": "617c0fce-50a5-4313-9b27-747d3f9ea1fe"
      },
      "source": [
        "#### Initial Condition\n",
        "\n",
        "Let's start with initial condition of the Burgers.\n",
        "$$ u(0, x) = -\\sin(\\pi x) $$\n",
        "\n",
        "For defining initial condition, again we have two options.\n",
        "\n",
        "- **Sample from the data.**\n",
        "- **Defining a function for calculating initial condition.**"
      ]
    },
    {
      "cell_type": "markdown",
      "id": "a97e4020-d83b-459a-93f3-e7abb125ec06",
      "metadata": {
        "id": "a97e4020-d83b-459a-93f3-e7abb125ec06"
      },
      "source": [
        "##### Set number of samples"
      ]
    },
    {
      "cell_type": "code",
      "execution_count": null,
      "id": "8be5824c-6c26-423d-8178-e9310b67dfec",
      "metadata": {
        "id": "8be5824c-6c26-423d-8178-e9310b67dfec"
      },
      "outputs": [],
      "source": [
        "N0 = 100"
      ]
    },
    {
      "cell_type": "markdown",
      "id": "a22c4c2f-87c2-4eac-96da-5980791f6cc3",
      "metadata": {
        "id": "a22c4c2f-87c2-4eac-96da-5980791f6cc3"
      },
      "source": [
        "##### Option 1: Sample from the data"
      ]
    },
    {
      "cell_type": "code",
      "execution_count": null,
      "id": "1e230de8-eddd-4c49-97d5-abd06913530f",
      "metadata": {
        "id": "1e230de8-eddd-4c49-97d5-abd06913530f"
      },
      "outputs": [],
      "source": [
        "in_c = pinnsjax.data.InitialCondition(mesh = mesh,\n",
        "                                      num_sample = N0,\n",
        "                                      solution = ['u'])"
      ]
    },
    {
      "cell_type": "markdown",
      "id": "4f35d57e-6243-4775-ab1c-1d070bf20cf1",
      "metadata": {
        "id": "4f35d57e-6243-4775-ab1c-1d070bf20cf1"
      },
      "source": [
        "##### Option 2: Defining a function for calculating initial condition"
      ]
    },
    {
      "cell_type": "markdown",
      "id": "7579313b-2079-46b3-806d-7c81efbc6e26",
      "metadata": {
        "id": "7579313b-2079-46b3-806d-7c81efbc6e26"
      },
      "source": [
        "The input of `initial_fun` should be the same as spatial domain of the problem."
      ]
    },
    {
      "cell_type": "markdown",
      "id": "4d626918-27a8-48e4-888f-703871193d42",
      "metadata": {
        "id": "4d626918-27a8-48e4-888f-703871193d42"
      },
      "source": [
        "The `solution` attribute in `pinnsjax.data.InitialCondition` specifies the solutions (`u` in our case) to be sampled for initial conditions."
      ]
    },
    {
      "cell_type": "markdown",
      "id": "37b283ff-80a1-4074-8c63-0df265a63925",
      "metadata": {
        "id": "37b283ff-80a1-4074-8c63-0df265a63925"
      },
      "source": [
        "#### Periodic Boundary Condition"
      ]
    },
    {
      "cell_type": "markdown",
      "id": "42cbb359-8cd3-4bf0-ac27-70921c2e5c6d",
      "metadata": {
        "id": "42cbb359-8cd3-4bf0-ac27-70921c2e5c6d"
      },
      "source": [
        "The `pinnsjax.data.DirichletBoundaryCondition` is used to specify fixed values of a function at specific points or boundaries in the domain. In our case, for the Burgers equation, we have:\n",
        "\n",
        "$$ u(t,-1) = u(t, 1) = 0 $$"
      ]
    },
    {
      "cell_type": "code",
      "execution_count": null,
      "id": "7002a433-0e32-441d-a60e-6386f8c2c594",
      "metadata": {
        "colab": {
          "base_uri": "https://localhost:8080/",
          "height": 53
        },
        "id": "7002a433-0e32-441d-a60e-6386f8c2c594",
        "outputId": "a4189e2a-64ac-4373-ae85-1b3953ce3ba4"
      },
      "outputs": [
        {
          "data": {
            "application/vnd.google.colaboratory.intrinsic+json": {
              "type": "string"
            },
            "text/plain": [
              "\" di_b = pinnsjax.data.MeshSampler(mesh = mesh,\\n                                 num_sample = N_b,\\n                                 solution = ['u']) \""
            ]
          },
          "execution_count": 27,
          "metadata": {},
          "output_type": "execute_result"
        }
      ],
      "source": [
        "N_b = 100\n",
        "di_b = pinnsjax.data.DirichletBoundaryCondition(mesh = mesh,\n",
        "                                                num_sample = N_b,\n",
        "                                                solution = ['u'])\n",
        "\n",
        "''' di_b = pinnsjax.data.MeshSampler(mesh = mesh,\n",
        "                                 num_sample = N_b,\n",
        "                                 solution = ['u']) '''"
      ]
    },
    {
      "cell_type": "markdown",
      "id": "17457d3d-3ccd-4b79-b7ab-1975bc9d19a3",
      "metadata": {
        "id": "17457d3d-3ccd-4b79-b7ab-1975bc9d19a3"
      },
      "source": [
        "#### Mesh Sampler for collection points and solutions\n",
        "\n",
        "In our problem, the partial differential equations (PDEs) governing the dynamics are given by:\n",
        "\n",
        "$$ f_u := u_t + uu_x - (0.01/\\pi)u_{xx}$$\n",
        "\n",
        "To find the solutions to these PDEs using a neural network, we must sample points from the domain at which the network will be trained to satisfy these equations. This sampling process is crucial for training our PINN. We utilize the `pinnsjax.data.MeshSampler` for this purpose, specifying the following:\n",
        "\n",
        "- **Number of Sample Points (N_f):** We choose to sample 20,000 points from the domain. This number is a balance between computational efficiency and the need for a sufficiently dense sampling to capture the dynamics of the PDEs.\n",
        "- **Mesh (mesh):** This parameter defines the spatial-temporal domain from which the points will be sampled.\n",
        "- **Collection Points:** We define `['f_u']` as the targets for our collection points. These are not direct outputs from the neural network but are derived from the network outputs and their derivatives (We will define `pde_fn` function later). The PINN will be trained such that these expressions tend towards zero, aligning with the PDE constraints.\n",
        "\n",
        "Here's the code to implement this sampler:"
      ]
    },
    {
      "cell_type": "code",
      "execution_count": null,
      "id": "492bb3de-453c-49b3-b2e6-add7f3458de7",
      "metadata": {
        "id": "492bb3de-453c-49b3-b2e6-add7f3458de7"
      },
      "outputs": [],
      "source": [
        "N_f = 10000\n",
        "me_s = pinnsjax.data.MeshSampler(mesh = mesh,\n",
        "                                 num_sample = N_f,\n",
        "                                 collection_points = ['f_u'])"
      ]
    },
    {
      "cell_type": "markdown",
      "id": "76ed5d5e-f384-4480-b1e5-49d2b88a87ae",
      "metadata": {
        "id": "76ed5d5e-f384-4480-b1e5-49d2b88a87ae"
      },
      "source": [
        "### Define Validation dataset\n",
        "\n",
        "For validation, we sample all points from the mesh to evaluate our model comprehensively. Model will be validated for solutions of `u`.\n",
        "\n",
        "**Note:** If `num_sample` is not specified, the sampler will use the entire mesh."
      ]
    },
    {
      "cell_type": "code",
      "execution_count": null,
      "id": "7c530a34-deef-4660-849b-02c240c5db11",
      "metadata": {
        "id": "7c530a34-deef-4660-849b-02c240c5db11"
      },
      "outputs": [],
      "source": [
        "val_s = pinnsjax.data.MeshSampler(mesh = mesh,\n",
        "                                  solution = ['u'])"
      ]
    },
    {
      "cell_type": "markdown",
      "id": "9959e346-1d1a-4d9c-bf38-d23c956d34f8",
      "metadata": {
        "id": "9959e346-1d1a-4d9c-bf38-d23c956d34f8"
      },
      "source": [
        "### Define Neural Networks\n",
        "\n",
        "Here, we try to define a neural network for solving the problem. For defining a neural network, we should set number of layers and the name of the outputs. Also, domain bounds should be defined. The `lb` and `ub` parameters represent the lower and upper bounds of the spatial-temporal domain, helping in normalizing inputs to the network. Therefore, the inputs of this network are `x` and `t`, and the output of this network is `u`."
      ]
    },
    {
      "cell_type": "code",
      "execution_count": null,
      "id": "5eeb7181-3dfe-4aa9-b454-61644b1542c9",
      "metadata": {
        "id": "5eeb7181-3dfe-4aa9-b454-61644b1542c9"
      },
      "outputs": [],
      "source": [
        "net = pinnsjax.models.FCN(layers = [2, 20, 20, 20, 20, 20, 20, 20, 20, 1],\n",
        "                          output_names = ['u'],\n",
        "                          lb=mesh.lb,\n",
        "                          ub=mesh.ub)"
      ]
    },
    {
      "cell_type": "markdown",
      "id": "260e697e-f68b-4c17-9445-fe319aa06221",
      "metadata": {
        "id": "260e697e-f68b-4c17-9445-fe319aa06221"
      },
      "source": [
        "### Define `pde_fn` function\n",
        "\n",
        "Now, we define `pde_fn`.\n",
        "- **`pde_fn`:** formulates the PDE constraints, which will be used by the `MeshSampler` to compute the loss at the collection points."
      ]
    },
    {
      "cell_type": "markdown",
      "id": "db0f43f5-972b-4be0-94da-40feea4ea3c7",
      "metadata": {
        "id": "db0f43f5-972b-4be0-94da-40feea4ea3c7"
      },
      "source": [
        "#### `pde_fn` function\n",
        "\n",
        "**Note:** `pde_fn` should always have Five inputs:\n",
        "- **Functional Model:** This is the neural network or any other functional approximation model, used for computing gradients with JAX automatic differentiation.\n",
        "- **Model's Prameters:** These include all trainable parameters of the model as well as any additional parameters needed for inverse problems.\n",
        "- **Outputs:** The outputs of the network, typically a dictionary. For the Burgers' equation, this dictionary should have at least one key `u` representing the function `u(t, x)`.\n",
        "- **Spatial domains:** These are the spatial domain variables. In our case, because our problem has 1-D spatial domain, the input just have `x`. For example, if we had 2-D space, we need another input for that dimention. For example, the inputs from `(functional_model, params, outputs, x, t)` will be changed to `(functional_model, params, outputs, x, y, t)`.\n",
        "- **Time domin:** The last input of `pde_fn` function always should be time."
      ]
    },
    {
      "cell_type": "code",
      "execution_count": null,
      "id": "F5W67Ghy2aBr",
      "metadata": {
        "id": "F5W67Ghy2aBr"
      },
      "outputs": [],
      "source": [
        "alpha = 0.5\n",
        "c = 0.3"
      ]
    },
    {
      "cell_type": "code",
      "execution_count": null,
      "id": "e8763e3c-ebaa-4f59-8a75-515818f379f3",
      "metadata": {
        "id": "e8763e3c-ebaa-4f59-8a75-515818f379f3"
      },
      "outputs": [],
      "source": [
        "def pde_fn(functional_model,\n",
        "           params,\n",
        "           outputs: Dict[str, jax.Array],\n",
        "           x: jax.Array,\n",
        "           t: jax.Array):\n",
        "    \"\"\"Define the partial differential equations (PDEs).\"\"\"\n",
        "\n",
        "    u_x, u_t = pinnsjax.utils.gradient(functional_model, argnums=(1, 2), order=1)(params, x, t, 'u')\n",
        "    u_xx = pinnsjax.utils.gradient(functional_model, argnums=1, order=2)(params, x, t, 'u')[0]\n",
        "\n",
        "    outputs[\"f_u\"] = c * u_t - alpha * u_xx\n",
        "\n",
        "    return outputs"
      ]
    },
    {
      "cell_type": "markdown",
      "id": "5ed79263-eeff-466d-b5c1-183c0d050329",
      "metadata": {
        "id": "5ed79263-eeff-466d-b5c1-183c0d050329"
      },
      "source": [
        "### Define PINNDataModule and PINNModule\n",
        "\n",
        "To integrate with Lightning, we utilize two specialized modules:\n",
        "\n",
        "- `PINNDataModule` manages data.\n",
        "- `PINNModule` handles the model and compilation."
      ]
    },
    {
      "cell_type": "markdown",
      "id": "b04abdf5-b97e-433a-8663-a6b2866200d9",
      "metadata": {
        "id": "b04abdf5-b97e-433a-8663-a6b2866200d9"
      },
      "source": [
        "#### Define `PINNDataModule`\n",
        "Here, we define collection points, initial condition, and preiodic boundary condition as training datasets, and also, we set validation set. `PINNDataModule` is used for defining training, validation, prediction, and test datasets."
      ]
    },
    {
      "cell_type": "code",
      "execution_count": null,
      "id": "bc810afe-fa36-4948-b31f-e5527e54b28b",
      "metadata": {
        "id": "bc810afe-fa36-4948-b31f-e5527e54b28b"
      },
      "outputs": [],
      "source": [
        "train_datasets = [me_s, in_c, di_b]\n",
        "val_dataset = val_s\n",
        "datamodule = pinnsjax.data.PINNDataModule(train_datasets = train_datasets,\n",
        "                                            val_dataset = val_dataset,\n",
        "                                            pred_dataset = val_s)"
      ]
    },
    {
      "cell_type": "markdown",
      "id": "1d170a8a-a55e-4d40-9078-4a2f56b32813",
      "metadata": {
        "id": "1d170a8a-a55e-4d40-9078-4a2f56b32813"
      },
      "source": [
        "#### Define `PINNModule`\n",
        "\n",
        "`PINNModule` handle several things. Here, we will explore the inputs of this class:\n",
        "\n",
        "- **net:**  The neural network model to be used for approximating solutions.\n",
        "- **pde_fn:** The partial differential equation (PDE) function defining the PDE to solve.\n",
        "- **optimizer:**  (Optional) The optimizer used for training the neural network. The default is Adam\n",
        "- **loss_fn:** (Optional) The loss function to use, either \"sse\" or \"mse\". The default is \"sse\".\n",
        "- **extra_variables:** (Optional) Extra variables in inverse problems. The default is None.\n",
        "- **runge_kutta:** (Optional) Runge-Kutta method for solving PDEs in discrete mode. The default is None.\n",
        "- **jit_compile:** (Optional) Flag to enable JIT compilation. The default is True.\n",
        "\n",
        "In this example, we initalize `PINNModule` with defined variables. We set Adam optimizer and try to compile the model with XLA compiler. The loss function here is Mean Square Error (MSE)."
      ]
    },
    {
      "cell_type": "code",
      "execution_count": null,
      "id": "1a23d83e-d7b6-468e-8204-74b9a40355a0",
      "metadata": {
        "id": "1a23d83e-d7b6-468e-8204-74b9a40355a0"
      },
      "outputs": [],
      "source": [
        "model = pinnsjax.models.PINNModule(net = net,\n",
        "                                   pde_fn = pde_fn,\n",
        "                                   loss_fn = 'mse')"
      ]
    },
    {
      "cell_type": "markdown",
      "id": "730294eb-5dd2-46ee-84d7-4743f8bbff13",
      "metadata": {
        "id": "730294eb-5dd2-46ee-84d7-4743f8bbff13"
      },
      "source": [
        "### Setting Up the Trainer\n",
        "\n",
        "For training our model, we write a custom trainer. Arguments that you can set are:\n",
        "\n",
        "- **max_epochs:** Maximum number of training epochs.\n",
        "- **check_val_every_n_epoch:** (Optional) Frequency of validation checks within epochs. Defualt is 1.\n",
        "- **enable_progress_bar:** (Optional) Flag to enable/disable the progress bar. Defualt is True.\n"
      ]
    },
    {
      "cell_type": "code",
      "execution_count": null,
      "id": "2d63a5cc-a0c4-4de7-ba2b-2b10f5140fc9",
      "metadata": {
        "id": "2d63a5cc-a0c4-4de7-ba2b-2b10f5140fc9"
      },
      "outputs": [],
      "source": [
        "trainer = pinnsjax.Trainer(max_epochs=30000, check_val_every_n_epoch=1000)"
      ]
    },
    {
      "cell_type": "markdown",
      "id": "5107377f-c811-43c8-8534-644a1dbb640d",
      "metadata": {
        "id": "5107377f-c811-43c8-8534-644a1dbb640d"
      },
      "source": [
        "### Training"
      ]
    },
    {
      "cell_type": "code",
      "execution_count": null,
      "id": "ee7c8b03-1706-4ba4-84c5-0d293a178a9d",
      "metadata": {
        "colab": {
          "base_uri": "https://localhost:8080/"
        },
        "id": "ee7c8b03-1706-4ba4-84c5-0d293a178a9d",
        "outputId": "d12a8cd4-6d54-42dd-ea92-460fd42e9bb6"
      },
      "outputs": [
        {
          "name": "stderr",
          "output_type": "stream",
          "text": [
            "30000/30000 100%|██████████|[03:46<00:00, 132.42it/s, val/loss: 0.0000, val/error_u: 0.0075, train/loss: 0.0002: ]\n"
          ]
        }
      ],
      "source": [
        "trainer.fit(model=model, datamodule=datamodule)"
      ]
    },
    {
      "cell_type": "markdown",
      "id": "82b872bd-6120-4c65-8693-a9281a2d2396",
      "metadata": {
        "id": "82b872bd-6120-4c65-8693-a9281a2d2396"
      },
      "source": [
        "### Validation"
      ]
    },
    {
      "cell_type": "code",
      "execution_count": null,
      "id": "26c2c9b9-52e9-4a89-aa44-be86fbb27e22",
      "metadata": {
        "colab": {
          "base_uri": "https://localhost:8080/"
        },
        "id": "26c2c9b9-52e9-4a89-aa44-be86fbb27e22",
        "outputId": "301bf28c-065f-4a29-976a-e75c5ea14c30"
      },
      "outputs": [
        {
          "data": {
            "text/plain": [
              "(Array(6.4647948e-06, dtype=float32), {'u': Array(0.00663798, dtype=float32)})"
            ]
          },
          "execution_count": 37,
          "metadata": {},
          "output_type": "execute_result"
        }
      ],
      "source": [
        "trainer.validate(model=model, datamodule=datamodule)"
      ]
    },
    {
      "cell_type": "markdown",
      "id": "5cd209e5-e554-4baf-9c4b-f78174f8147c",
      "metadata": {
        "id": "5cd209e5-e554-4baf-9c4b-f78174f8147c"
      },
      "source": [
        "### Plotting\n",
        "\n",
        "For plotting, we need predict the results, and then, we should concatenate the results."
      ]
    },
    {
      "cell_type": "code",
      "execution_count": null,
      "id": "d1a853d0-edc1-494f-a5ff-0ad21870aeb6",
      "metadata": {
        "colab": {
          "base_uri": "https://localhost:8080/"
        },
        "id": "d1a853d0-edc1-494f-a5ff-0ad21870aeb6",
        "outputId": "4569ecf7-cb2f-4ed4-f2ef-719842b29307"
      },
      "outputs": [
        {
          "data": {
            "text/plain": [
              "dict"
            ]
          },
          "execution_count": 38,
          "metadata": {},
          "output_type": "execute_result"
        }
      ],
      "source": [
        "preds_dict = trainer.predict(model=model, datamodule=datamodule)\n",
        "type(preds_dict)"
      ]
    },
    {
      "cell_type": "code",
      "execution_count": null,
      "id": "zD-rEDaU8w2V",
      "metadata": {
        "id": "zD-rEDaU8w2V"
>>>>>>> 212dcfdde2aa6292e90eb283b7646c247cdf4b41
      },
      "outputs": [],
      "source": [
        "def figsize(scale, nplots=1):\n",
        "    \"\"\"Calculate the figure size based on a given scale and number of plots.\n",
        "\n",
        "    :param scale: Scaling factor for the figure size.\n",
        "    :param nplots: Number of subplots in the figure (default is 1).\n",
        "    :return: Calculated figure size in inches.\n",
        "    \"\"\"\n",
        "\n",
        "    fig_width_pt = 390.0  # Get this from LaTeX using \\the\\textwidth\n",
        "    inches_per_pt = 1.0 / 72.27  # Convert pt to inch\n",
        "    golden_mean = (np.sqrt(5.0) - 1.0) / 2.0  # Aesthetic ratio (you could change this)\n",
        "    fig_width = fig_width_pt * inches_per_pt * scale  # width in inches\n",
        "    fig_height = nplots * fig_width * golden_mean  # height in inches\n",
        "    fig_size = [fig_width, fig_height]\n",
<<<<<<< HEAD
        "    return fig_size\n",
        "\n",
        "\n",
=======
        "    return fig_size"
      ]
    },
    {
      "cell_type": "code",
      "execution_count": null,
      "id": "mf6Gx4cv85bl",
      "metadata": {
        "id": "mf6Gx4cv85bl"
      },
      "outputs": [],
      "source": [
>>>>>>> 212dcfdde2aa6292e90eb283b7646c247cdf4b41
        "def newfig(width, nplots=1):\n",
        "    \"\"\"Create a new figure with a specified width and number of subplots.\n",
        "\n",
        "    :param width: Width of the figure.\n",
        "    :param nplots: Number of subplots in the figure (default is 1).\n",
        "    :return: Created figure and subplot axis.\n",
        "    \"\"\"\n",
        "\n",
        "    fig = plt.figure(figsize=figsize(width, nplots))\n",
        "    ax = fig.add_subplot(111)\n",
        "    return fig, ax\n",
        "\n",
        "\n",
        "def savefig(filename, crop=True):\n",
        "    \"\"\"Save a figure to the specified filename with optional cropping.\n",
        "\n",
        "    :param filename: Name of the output file (without extension).\n",
        "    :param crop: Whether to apply tight cropping to the saved image (default is True).\n",
        "    \"\"\"\n",
        "\n",
        "    log.info(f\"Image saved at {filename}\")\n",
        "\n",
        "    dir_name = os.path.dirname(filename)\n",
        "    if dir_name and not os.path.exists(dir_name):\n",
        "        os.makedirs(dir_name)\n",
        "\n",
        "    if crop:\n",
        "        plt.savefig(f\"{filename}.pdf\", bbox_inches=\"tight\", pad_inches=0)\n",
        "        plt.savefig(f\"{filename}.eps\", bbox_inches=\"tight\", pad_inches=0)\n",
        "    else:\n",
        "        plt.savefig(f\"{filename}.pdf\")\n",
<<<<<<< HEAD
        "        plt.savefig(f\"{filename}.eps\")\n",
        "\n",
        "\n",
        "def plot_resultados(mesh, preds, train_datasets, val_dataset, file_name):\n",
        "    \"\"\"\n",
        "    Esta función está implementada dentro del propio paquete, pero parece que contenía algún error que causaba un mal funcionamiento.\n",
        "    Esta función es la misma pero ligeramente modificada para que funcione correctamente\n",
        "    \"\"\"\n",
=======
        "        plt.savefig(f\"{filename}.eps\")\n"
      ]
    },
    {
      "cell_type": "code",
      "execution_count": null,
      "id": "x57g5J_P72O6",
      "metadata": {
        "id": "x57g5J_P72O6"
      },
      "outputs": [],
      "source": [
        "import matplotlib.pyplot as plt\n",
        "import matplotlib.gridspec as gridspec\n",
        "from mpl_toolkits.axes_grid1 import make_axes_locatable\n",
        "import os\n",
        "import logging\n",
        "\n",
        "\n",
        "def plot_burgers_continuous_forward_2(mesh, preds, train_datasets, val_dataset, file_name):\n",
        "    \"\"\"Plot burgers continuous forward PDE.\"\"\"\n",
>>>>>>> 212dcfdde2aa6292e90eb283b7646c247cdf4b41
        "\n",
        "    U_pred = preds[\"u\"]\n",
        "    exact_u = mesh.solution[\"u\"]\n",
        "    x = mesh.spatial_domain[:]\n",
        "    x_i, t_i, _ = train_datasets[1][:]\n",
        "    x_b, t_b, _ = train_datasets[2][:]\n",
        "\n",
        "    U_pred = U_pred.reshape(exact_u.shape)\n",
        "    X_u_train = np.vstack([x_i[0], x_b[0]])\n",
        "\n",
        "    X_u_time = np.vstack([t_i, t_b])\n",
        "\n",
        "    X_u_train = np.hstack([X_u_train, X_u_time])\n",
        "    fig, ax = newfig(1.5, 0.9)\n",
        "    ax.axis(\"off\")\n",
        "\n",
        "    # Row 0: u(t,x)\n",
        "    gs0 = gridspec.GridSpec(1, 2)\n",
        "    gs0.update(top=1 - 0.06, bottom=1 - 1 / 3, left=0.15, right=0.85, wspace=0)\n",
        "    ax = plt.subplot(gs0[:, :])\n",
        "\n",
        "    h = ax.imshow(\n",
        "        U_pred,\n",
        "        interpolation=\"nearest\",\n",
        "        cmap=\"rainbow\",\n",
        "        extent=[\n",
        "            mesh.time_domain[:].min(),\n",
        "            mesh.time_domain[:].max(),\n",
        "            mesh.spatial_domain[:].min(),\n",
        "            mesh.spatial_domain[:].max(),\n",
        "        ],\n",
        "        origin=\"lower\",\n",
        "        aspect=\"auto\",\n",
        "    )\n",
        "    divider = make_axes_locatable(ax)\n",
        "    cax = divider.append_axes(\"right\", size=\"5%\", pad=0.05)\n",
        "    fig.colorbar(h, cax=cax)\n",
        "\n",
        "    ax.plot(\n",
        "        X_u_train[:, 1],\n",
        "        X_u_train[:, 0],\n",
        "        \"kx\",\n",
<<<<<<< HEAD
        "        #label=\"Datos (%d puntos)\" % (X_u_train.shape[0]),\n",
=======
        "        label=\"Datos (%d puntos)\" % (X_u_train.shape[0]),\n",
>>>>>>> 212dcfdde2aa6292e90eb283b7646c247cdf4b41
        "        markersize=4,\n",
        "        clip_on=False,\n",
        "    )\n",
        "\n",
        "    line = np.linspace(mesh.spatial_domain[:].min(), mesh.spatial_domain[:].max(), 2)[:, None]\n",
        "    ax.plot(mesh.time_domain[25] * np.ones((2, 1)), line, \"w-\", linewidth=1)\n",
        "    ax.plot(mesh.time_domain[50] * np.ones((2, 1)), line, \"w-\", linewidth=1)\n",
        "    ax.plot(mesh.time_domain[75] * np.ones((2, 1)), line, \"w-\", linewidth=1)\n",
        "\n",
        "    ax.set_xlabel(\"$t$\")\n",
        "    ax.set_ylabel(\"$x$\")\n",
        "    ax.legend(frameon=False, loc=\"best\")\n",
        "    ax.set_title(\"$u(x,t)$\", fontsize=10)\n",
        "\n",
        "    # Row 1: u(t,x) slices\n",
        "    gs1 = gridspec.GridSpec(1, 3)\n",
        "    gs1.update(top=1 - 1 / 3, bottom=0, left=0.1, right=0.9, wspace=0.5)\n",
        "\n",
        "    ax = plt.subplot(gs1[0, 0])\n",
<<<<<<< HEAD
        "    ax.plot(x, exact_u[:, 25], \"b-\", linewidth=2, label=\"Solución real (FDM)\")\n",
=======
        "    ax.plot(x, exact_u[:, 25], \"b-\", linewidth=2, label=\"Solución exacta\")\n",
>>>>>>> 212dcfdde2aa6292e90eb283b7646c247cdf4b41
        "    ax.plot(x, U_pred[:, 25], \"r--\", linewidth=2, label=\"Predicción\")\n",
        "    ax.set_xlabel(\"$x$\")\n",
        "    ax.set_ylabel(\"$u(x,t)$\")\n",
        "    ax.set_title(\"$t = 0.025$\", fontsize=10)\n",
        "    ax.axis(\"square\")\n",
        "    ax.set_xlim([0, 2])\n",
        "    ax.set_ylim([-1, 1])\n",
        "\n",
        "    ax = plt.subplot(gs1[0, 1])\n",
<<<<<<< HEAD
        "    ax.plot(x, exact_u[:, 50], \"b-\", linewidth=2, label=\"Solución real (FDM)\")\n",
=======
        "    ax.plot(x, exact_u[:, 50], \"b-\", linewidth=2, label=\"Solución exacta\")\n",
>>>>>>> 212dcfdde2aa6292e90eb283b7646c247cdf4b41
        "    ax.plot(x, U_pred[:, 50], \"r--\", linewidth=2, label=\"Predicción\")\n",
        "    ax.set_xlabel(\"$x$\")\n",
        "    ax.set_ylabel(\"$u(x,t)$\")\n",
        "    ax.axis(\"square\")\n",
        "    ax.set_xlim([0, 2])\n",
        "    ax.set_ylim([-1, 1])\n",
        "    ax.set_title(\"$t = 0.050$\", fontsize=10)\n",
        "    ax.legend(loc=\"upper center\", bbox_to_anchor=(0.5, -0.35), ncol=5, frameon=False)\n",
        "\n",
        "    ax = plt.subplot(gs1[0, 2])\n",
<<<<<<< HEAD
        "    ax.plot(x, exact_u[:, 75], \"b-\", linewidth=2, label=\"Solución real (FDM)\")\n",
=======
        "    ax.plot(x, exact_u[:, 75], \"b-\", linewidth=2, label=\"Solución exacta\")\n",
>>>>>>> 212dcfdde2aa6292e90eb283b7646c247cdf4b41
        "    ax.plot(x, U_pred[:, 75], \"r--\", linewidth=2, label=\"Predicción\")\n",
        "    ax.set_xlabel(\"$x$\")\n",
        "    ax.set_ylabel(\"$u(x,t)$\")\n",
        "    ax.axis(\"square\")\n",
        "    ax.set_xlim([0, 2])\n",
        "    ax.set_ylim([-1, 1])\n",
        "    ax.set_title(\"$t = 0.075$\", fontsize=10)\n",
        "\n",
<<<<<<< HEAD
        "    plt.savefig(file_name + \"/fig_soluciones.pdf\", bbox_inches = 'tight')\n",
=======
        "    #plt.savefig(file_name + \"/fig_forward.pdf\", bbox_inches = 'tight')\n",
>>>>>>> 212dcfdde2aa6292e90eb283b7646c247cdf4b41
        "    plt.show()"
      ]
    },
    {
<<<<<<< HEAD
      "cell_type": "markdown",
      "id": "qvC-fUsxu4LV",
      "metadata": {
        "id": "qvC-fUsxu4LV"
      },
      "source": [
        "# Sin ruido"
      ]
    },
    {
      "cell_type": "code",
      "execution_count": null,
      "id": "KJaQhxhxfEQR",
      "metadata": {
        "id": "KJaQhxhxfEQR"
      },
      "outputs": [],
      "source": [
        "porcentaje_error = 0"
      ]
    },
    {
      "cell_type": "markdown",
      "id": "O0Jf3B0Wo24t",
      "metadata": {
        "id": "O0Jf3B0Wo24t"
      },
      "source": [
        "Leemos los datos reales"
      ]
    },
    {
      "cell_type": "code",
      "execution_count": 2,
      "id": "mrbTm1Ph1Nq0",
      "metadata": {
        "id": "mrbTm1Ph1Nq0"
      },
      "outputs": [],
      "source": [
        "u = np.genfromtxt('generacion_datos/data/u_real_t_1e-8_x_1e-2.csv', delimiter=',')"
      ]
    },
    {
      "cell_type": "markdown",
      "id": "UtDiH1wIo6Pg",
      "metadata": {
        "id": "UtDiH1wIo6Pg"
      },
      "source": [
        "Definimos una función para meter los datos a la red\n",
        "\n"
      ]
    },
    {
      "cell_type": "code",
      "execution_count": null,
      "id": "xiRWtXK81FBE",
      "metadata": {
        "id": "xiRWtXK81FBE"
      },
      "outputs": [],
      "source": [
        "def read_data_fn(_):\n",
        "    exact_u = np.real(u) # T x N\n",
        "    return {\"u\": exact_u}"
      ]
    },
    {
      "cell_type": "markdown",
      "id": "cVl1_YmlpGTi",
      "metadata": {
        "id": "cVl1_YmlpGTi"
      },
      "source": [
        "Definimos los dominios temporales y espaciales"
      ]
    },
    {
      "cell_type": "code",
      "execution_count": null,
      "id": "b7e16b89-9294-4149-914d-fa0b578cba47",
      "metadata": {
        "id": "b7e16b89-9294-4149-914d-fa0b578cba47"
      },
      "outputs": [],
      "source": [
        "time_domain = pinnsjax.data.TimeDomain(t_interval=[0, 0.1], t_points = 100)\n",
        "spatial_domain = pinnsjax.data.Interval(x_interval=[0, 2], shape = [200, 1])"
      ]
    },
    {
      "cell_type": "markdown",
      "id": "EWC8pRCopPEK",
      "metadata": {
        "id": "EWC8pRCopPEK"
      },
      "source": [
        "Definimos el mesh"
      ]
    },
    {
      "cell_type": "code",
      "execution_count": null,
      "id": "b079cfd7-54ab-4b76-927d-de322fa5a67e",
      "metadata": {
        "id": "b079cfd7-54ab-4b76-927d-de322fa5a67e"
      },
      "outputs": [],
      "source": [
        "mesh = pinnsjax.data.Mesh(root_dir='data',\n",
        "                          read_data_fn=read_data_fn,\n",
        "                          spatial_domain = spatial_domain,\n",
        "                          time_domain = time_domain)"
      ]
    },
    {
      "cell_type": "markdown",
      "id": "xBKsm0oZpYLW",
      "metadata": {
        "id": "xBKsm0oZpYLW"
      },
      "source": [
        "Seleccionamos algunos puntos de la condición inicial al azar para incorporar a la red como datos de entrenamiento"
      ]
    },
    {
      "cell_type": "code",
      "execution_count": null,
      "id": "1e230de8-eddd-4c49-97d5-abd06913530f",
      "metadata": {
        "id": "1e230de8-eddd-4c49-97d5-abd06913530f"
      },
      "outputs": [],
      "source": [
        "N0 = 100\n",
        "in_c = pinnsjax.data.InitialCondition(mesh = mesh,\n",
        "                                      num_sample = N0,\n",
        "                                      solution = ['u'])"
      ]
    },
    {
      "cell_type": "markdown",
      "id": "5bJJb3k8pwf6",
      "metadata": {
        "id": "5bJJb3k8pwf6"
      },
      "source": [
        "Lo mismo para las condiciones de frontera"
      ]
    },
    {
      "cell_type": "code",
      "execution_count": null,
      "id": "7002a433-0e32-441d-a60e-6386f8c2c594",
      "metadata": {
        "id": "7002a433-0e32-441d-a60e-6386f8c2c594"
      },
      "outputs": [],
      "source": [
        "N_b = 100\n",
        "di_b = pinnsjax.data.DirichletBoundaryCondition(mesh = mesh,\n",
        "                                                num_sample = N_b,\n",
        "                                                solution = ['u'])"
      ]
    },
    {
      "cell_type": "markdown",
      "id": "ShTlVGt7p29W",
      "metadata": {
        "id": "ShTlVGt7p29W"
      },
      "source": [
        "Seleccionamos punto al azar para evaluar la pérdida física"
      ]
    },
    {
      "cell_type": "code",
      "execution_count": null,
      "id": "492bb3de-453c-49b3-b2e6-add7f3458de7",
      "metadata": {
        "id": "492bb3de-453c-49b3-b2e6-add7f3458de7"
      },
      "outputs": [],
      "source": [
        "N_f = 10000\n",
        "me_s = pinnsjax.data.MeshSampler(mesh = mesh,\n",
        "                                 num_sample = N_f,\n",
        "                                 collection_points = ['f_u'])"
      ]
    },
    {
      "cell_type": "markdown",
      "id": "ciuzM_yFqHNt",
      "metadata": {
        "id": "ciuzM_yFqHNt"
      },
      "source": [
        "Seleccionamos todo el dominio como conjunto de validación  "
      ]
    },
    {
      "cell_type": "code",
      "execution_count": null,
      "id": "7c530a34-deef-4660-849b-02c240c5db11",
      "metadata": {
        "id": "7c530a34-deef-4660-849b-02c240c5db11"
      },
      "outputs": [],
      "source": [
        "val_s = pinnsjax.data.MeshSampler(mesh = mesh,\n",
        "                                  solution = ['u'])"
      ]
    },
    {
      "cell_type": "markdown",
      "id": "bfL-UtF8qPhs",
      "metadata": {
        "id": "bfL-UtF8qPhs"
      },
      "source": [
        "Definimos nuestra red nueronal"
      ]
    },
    {
      "cell_type": "code",
      "execution_count": null,
      "id": "5eeb7181-3dfe-4aa9-b454-61644b1542c9",
      "metadata": {
        "id": "5eeb7181-3dfe-4aa9-b454-61644b1542c9"
      },
      "outputs": [],
      "source": [
        "net = pinnsjax.models.FCN(layers = [2, 20, 20, 20, 20, 20, 20, 20, 20, 1],\n",
        "                          output_names = ['u'],\n",
        "                          lb=mesh.lb,\n",
        "                          ub=mesh.ub)"
      ]
    },
    {
      "cell_type": "markdown",
      "id": "nrQwtmAfqVcQ",
      "metadata": {
        "id": "nrQwtmAfqVcQ"
      },
      "source": [
        "Definimos los parámetros y las EDP que domina el el sistema como una función. Hallamos las derivadas con autodiferenciación"
      ]
    },
    {
      "cell_type": "code",
      "execution_count": null,
      "id": "F5W67Ghy2aBr",
      "metadata": {
        "id": "F5W67Ghy2aBr"
      },
      "outputs": [],
      "source": [
        "k = 0.5\n",
        "c = 0.3"
      ]
    },
    {
      "cell_type": "code",
      "execution_count": null,
      "id": "e8763e3c-ebaa-4f59-8a75-515818f379f3",
      "metadata": {
        "id": "e8763e3c-ebaa-4f59-8a75-515818f379f3"
      },
      "outputs": [],
      "source": [
        "def pde_fn(functional_model,\n",
        "           params,\n",
        "           outputs: Dict[str, jax.Array],\n",
        "           x: jax.Array,\n",
        "           t: jax.Array):\n",
        "\n",
        "    u_x, u_t = pinnsjax.utils.gradient(functional_model, argnums=(1, 2), order=1)(params, x, t, 'u')\n",
        "    u_xx = pinnsjax.utils.gradient(functional_model, argnums=1, order=2)(params, x, t, 'u')[0]\n",
        "\n",
        "    outputs[\"f_u\"] = c * u_t - k * u_xx\n",
        "\n",
        "    return outputs"
      ]
    },
    {
      "cell_type": "markdown",
      "id": "1_EAxFrYs_dB",
      "metadata": {
        "id": "1_EAxFrYs_dB"
      },
      "source": [
        "Definimos el datamodule, que gestiona los conjuntos de datos"
      ]
    },
    {
      "cell_type": "code",
      "execution_count": null,
      "id": "bc810afe-fa36-4948-b31f-e5527e54b28b",
      "metadata": {
        "id": "bc810afe-fa36-4948-b31f-e5527e54b28b"
      },
      "outputs": [],
      "source": [
        "train_datasets = [me_s, in_c, di_b]\n",
        "val_dataset = val_s\n",
        "datamodule = pinnsjax.data.PINNDataModule(train_datasets = train_datasets,\n",
        "                                            val_dataset = val_dataset,\n",
        "                                            pred_dataset = val_s)"
      ]
    },
    {
      "cell_type": "markdown",
      "id": "GHu03owPtMKi",
      "metadata": {
        "id": "GHu03owPtMKi"
      },
      "source": [
        "Definimos el modelo proporcionando la red neuronal, la EDP y la función de pérdida"
      ]
    },
    {
      "cell_type": "code",
      "execution_count": null,
      "id": "1a23d83e-d7b6-468e-8204-74b9a40355a0",
      "metadata": {
        "id": "1a23d83e-d7b6-468e-8204-74b9a40355a0"
      },
      "outputs": [],
      "source": [
        "model = pinnsjax.models.PINNModule(net = net,\n",
        "                                   pde_fn = pde_fn,\n",
        "                                   loss_fn = 'mse')"
      ]
    },
    {
      "cell_type": "markdown",
      "id": "l6r1oIL9tXQr",
      "metadata": {
        "id": "l6r1oIL9tXQr"
      },
      "source": [
        "Ajustamos el trainer y entrenamos a la red"
      ]
    },
    {
      "cell_type": "code",
      "execution_count": null,
      "id": "2d63a5cc-a0c4-4de7-ba2b-2b10f5140fc9",
      "metadata": {
        "id": "2d63a5cc-a0c4-4de7-ba2b-2b10f5140fc9"
      },
      "outputs": [],
      "source": [
        "trainer = pinnsjax.Trainer(max_epochs=30000, check_val_every_n_epoch=1000)"
      ]
    },
    {
      "cell_type": "code",
      "execution_count": null,
      "id": "ee7c8b03-1706-4ba4-84c5-0d293a178a9d",
      "metadata": {
        "colab": {
          "base_uri": "https://localhost:8080/"
        },
        "id": "ee7c8b03-1706-4ba4-84c5-0d293a178a9d",
        "outputId": "95a3852b-9af6-4fee-8bc6-f446c23aa204"
      },
      "outputs": [
        {
          "name": "stderr",
          "output_type": "stream",
          "text": [
            "30000/30000 100%|██████████|[04:04<00:00, 122.69it/s, val/loss: 0.0000, val/error_u: 0.0125, train/loss: 0.0003: ]\n"
          ]
        }
      ],
      "source": [
        "trainer.fit(model=model, datamodule=datamodule)"
      ]
    },
    {
      "cell_type": "markdown",
      "id": "RwI1_jnBtq_-",
      "metadata": {
        "id": "RwI1_jnBtq_-"
      },
      "source": [
        "Obtenemos la predicción de cada red para todo el dominio espacial y temporal"
      ]
    },
    {
      "cell_type": "code",
      "execution_count": null,
      "id": "d1a853d0-edc1-494f-a5ff-0ad21870aeb6",
      "metadata": {
        "colab": {
          "base_uri": "https://localhost:8080/"
        },
        "id": "d1a853d0-edc1-494f-a5ff-0ad21870aeb6",
        "outputId": "c3627411-11d7-4442-d6ed-80fee4698537"
      },
      "outputs": [
        {
          "data": {
            "text/plain": [
              "dict"
            ]
          },
          "execution_count": 21,
          "metadata": {},
          "output_type": "execute_result"
        }
      ],
      "source": [
        "preds_dict = trainer.predict(model=model, datamodule=datamodule)\n",
        "type(preds_dict)"
      ]
    },
    {
=======
>>>>>>> 212dcfdde2aa6292e90eb283b7646c247cdf4b41
      "cell_type": "code",
      "execution_count": null,
      "id": "07f1631e-0f78-4a62-8833-9ae69bf3ada9",
      "metadata": {
        "colab": {
          "base_uri": "https://localhost:8080/",
<<<<<<< HEAD
          "height": 553
        },
        "id": "07f1631e-0f78-4a62-8833-9ae69bf3ada9",
        "outputId": "46fa70a4-02d2-41fd-ea1b-0f42d77594ab"
=======
          "height": 556
        },
        "id": "07f1631e-0f78-4a62-8833-9ae69bf3ada9",
        "outputId": "c53b1255-5496-451c-e7c8-e18944ae6046"
>>>>>>> 212dcfdde2aa6292e90eb283b7646c247cdf4b41
      },
      "outputs": [
        {
          "name": "stderr",
          "output_type": "stream",
          "text": [
<<<<<<< HEAD
            "<ipython-input-4-f73a368f9bd6>:76: MatplotlibDeprecationWarning: Auto-removal of overlapping axes is deprecated since 3.6 and will be removed two minor releases later; explicitly call ax.remove() as needed.\n",
            "  ax = plt.subplot(gs0[:, :])\n",
            "WARNING:matplotlib.legend:No artists with labels found to put in legend.  Note that artists whose label start with an underscore are ignored when legend() is called with no argument.\n"
=======
            "<ipython-input-41-c83e82f6091e>:29: MatplotlibDeprecationWarning: Auto-removal of overlapping axes is deprecated since 3.6 and will be removed two minor releases later; explicitly call ax.remove() as needed.\n",
            "  ax = plt.subplot(gs0[:, :])\n"
>>>>>>> 212dcfdde2aa6292e90eb283b7646c247cdf4b41
          ]
        },
        {
          "data": {
<<<<<<< HEAD
            "image/png": "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",
=======
            "image/png": "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\n",
>>>>>>> 212dcfdde2aa6292e90eb283b7646c247cdf4b41
            "text/plain": [
              "<Figure size 809.465x450.249 with 5 Axes>"
            ]
          },
          "metadata": {},
          "output_type": "display_data"
        }
      ],
      "source": [
<<<<<<< HEAD
        "plot_resultados(mesh=mesh,\n",
        "                preds=preds_dict,\n",
        "                train_datasets=train_datasets,\n",
        "                val_dataset=val_dataset,\n",
        "                file_name=f'error_{porcentaje_error}')\n"
      ]
    },
    {
      "cell_type": "markdown",
      "id": "VO5UQER_umd4",
      "metadata": {
        "id": "VO5UQER_umd4"
      },
      "source": [
        "Guardamos los resultados obtenidos"
=======
        "plot_burgers_continuous_forward_2(mesh=mesh,\n",
        "                                               preds=preds_dict,\n",
        "                                               train_datasets=train_datasets,\n",
        "                                               val_dataset=val_dataset,\n",
        "                                               file_name='/content/drive/MyDrive/data/forward_heat_equation')\n"
>>>>>>> 212dcfdde2aa6292e90eb283b7646c247cdf4b41
      ]
    },
    {
      "cell_type": "code",
      "execution_count": null,
<<<<<<< HEAD
      "id": "Sj40eVsovMh6",
=======
      "id": "yLq-HFEBO_MU",
>>>>>>> 212dcfdde2aa6292e90eb283b7646c247cdf4b41
      "metadata": {
        "colab": {
          "base_uri": "https://localhost:8080/"
        },
<<<<<<< HEAD
        "id": "Sj40eVsovMh6",
        "outputId": "6f36c6f2-3f08-4818-b9a9-b8f4fb90ffe5"
=======
        "id": "yLq-HFEBO_MU",
        "outputId": "d1552d05-e500-48cc-eacc-264fcb1881ed"
>>>>>>> 212dcfdde2aa6292e90eb283b7646c247cdf4b41
      },
      "outputs": [
        {
          "name": "stdout",
          "output_type": "stream",
          "text": [
<<<<<<< HEAD
            "Matriz guardada en /content/drive/MyDrive/data/Segunda vez/soluciones/error_0/u_pred_t_1e-8_x_1e-2.csv\n"
=======
            "Matriz guardada en /content/drive/MyDrive/data/forward_heat_equation/u_pred_t_1e-8_x_1e-2.csv\n"
>>>>>>> 212dcfdde2aa6292e90eb283b7646c247cdf4b41
          ]
        }
      ],
      "source": [
<<<<<<< HEAD
        "file_name = f'error_{porcentaje_error}/u_pred_t_1e-8_x_1e-2.csv'\n",
        "\n",
=======
        "# Nombre del archivo CSV\n",
        "file_name = '/content/drive/MyDrive/data/forward_heat_equation/u_pred_t_1e-8_x_1e-2.csv'\n",
        "\n",
        "# Escribir la matriz en el archivo CSV\n",
>>>>>>> 212dcfdde2aa6292e90eb283b7646c247cdf4b41
        "with open(file_name, mode='w', newline='') as file:\n",
        "    writer = csv.writer(file)\n",
        "    writer.writerows(preds_dict['u'])\n",
        "\n",
        "print(f\"Matriz guardada en {file_name}\")"
      ]
    },
    {
<<<<<<< HEAD
=======
      "cell_type": "code",
      "execution_count": null,
      "id": "US6r36ORP7Qj",
      "metadata": {
        "colab": {
          "base_uri": "https://localhost:8080/"
        },
        "id": "US6r36ORP7Qj",
        "outputId": "8ea48e08-1cf3-4cbc-a3bf-759fed6a9692"
      },
      "outputs": [
        {
          "data": {
            "text/plain": [
              "Array([[-0.00028768],\n",
              "       [-0.0003463 ],\n",
              "       [-0.00043836],\n",
              "       ...,\n",
              "       [ 0.00478352],\n",
              "       [ 0.00522823],\n",
              "       [ 0.00567669]], dtype=float32)"
            ]
          },
          "execution_count": 44,
          "metadata": {},
          "output_type": "execute_result"
        }
      ],
      "source": [
        "preds_dict['u']"
      ]
    },
    {
>>>>>>> 212dcfdde2aa6292e90eb283b7646c247cdf4b41
      "cell_type": "markdown",
      "id": "Z5Kwrli5zRpW",
      "metadata": {
        "id": "Z5Kwrli5zRpW"
      },
      "source": [
        "# Añadimos error a los datos"
      ]
    },
    {
      "cell_type": "markdown",
<<<<<<< HEAD
      "id": "2vns_VBdvTDR",
      "metadata": {
        "id": "2vns_VBdvTDR"
      },
      "source": [
        "En los siguientes casos añadimos un ruido gaussiano a los datos con una desviación típica igual a un cierto porcentaje del valor de la función en cada punto"
      ]
    },
    {
      "cell_type": "markdown",
=======
>>>>>>> 212dcfdde2aa6292e90eb283b7646c247cdf4b41
      "id": "sgWNUQ7E0UHC",
      "metadata": {
        "id": "sgWNUQ7E0UHC"
      },
      "source": [
        "## 10 %"
      ]
    },
    {
      "cell_type": "code",
      "execution_count": null,
      "id": "d852f05b",
      "metadata": {
        "id": "d852f05b"
      },
      "outputs": [],
      "source": [
<<<<<<< HEAD
        "u = np.genfromtxt('generacion_datos/data/u_real_t_1e-8_x_1e-2.csv', delimiter=',')"
=======
        "u = np.genfromtxt('/content/drive/MyDrive/data/forward_heat_equation/u_real_3_1e-8.csv', delimiter=',')"
>>>>>>> 212dcfdde2aa6292e90eb283b7646c247cdf4b41
      ]
    },
    {
      "cell_type": "code",
      "execution_count": null,
      "id": "EQQusYtIzbel",
      "metadata": {
        "colab": {
          "base_uri": "https://localhost:8080/"
        },
        "id": "EQQusYtIzbel",
<<<<<<< HEAD
        "outputId": "52c012e2-ee3f-47d0-ed59-375438e0a60d"
      },
      "outputs": [
        {
          "name": "stdout",
          "output_type": "stream",
          "text": [
            "[0.         0.03156855 0.06310563] \n",
            " [0.         0.03665692 0.06478872]\n"
=======
        "outputId": "6222d65c-fd0c-4c95-b4f9-cd6efcd7b241"
      },
      "outputs": [
        {
          "output_type": "stream",
          "name": "stdout",
          "text": [
            "[0.         0.03156855 0.06310563] \n",
            " [0.         0.03185439 0.05821936]\n"
>>>>>>> 212dcfdde2aa6292e90eb283b7646c247cdf4b41
          ]
        }
      ],
      "source": [
        "porcentaje_error = 10\n",
        "u_10 = np.random.normal(u, np.abs(u * porcentaje_error/100), u.shape)\n",
<<<<<<< HEAD
        "print(u[0:3, 0], \"\\n\", u_10[0:3, 0]) # Comprobamos que se ha modificado el valor"
=======
        "print(u[0:3, 0], \"\\n\", u_10[0:3, 0])"
>>>>>>> 212dcfdde2aa6292e90eb283b7646c247cdf4b41
      ]
    },
    {
      "cell_type": "code",
      "execution_count": null,
      "id": "3cuC5l87z2ln",
      "metadata": {
        "id": "3cuC5l87z2ln"
      },
      "outputs": [],
      "source": [
        "def read_data_fn_10(_):\n",
        "\n",
        "    exact_u = np.real(u_10) # T x N\n",
        "\n",
        "    return {\"u\": exact_u}"
      ]
    },
    {
      "cell_type": "code",
      "execution_count": null,
      "id": "28laoj8_08up",
      "metadata": {
        "id": "28laoj8_08up"
      },
      "outputs": [],
      "source": [
        "mesh = pinnsjax.data.Mesh(root_dir='data',\n",
        "                          read_data_fn=read_data_fn_10,\n",
        "                          spatial_domain = spatial_domain,\n",
        "                          time_domain = time_domain)"
      ]
    },
    {
      "cell_type": "code",
      "execution_count": null,
      "id": "U1Qw4qoL08uu",
      "metadata": {
        "id": "U1Qw4qoL08uu"
      },
      "outputs": [],
      "source": [
        "N0 = 100"
      ]
    },
    {
      "cell_type": "code",
      "execution_count": null,
      "id": "M8szP0sH08uv",
      "metadata": {
        "id": "M8szP0sH08uv"
      },
      "outputs": [],
      "source": [
        "in_c = pinnsjax.data.InitialCondition(mesh = mesh,\n",
        "                                      num_sample = N0,\n",
        "                                      solution = ['u'])"
      ]
    },
    {
      "cell_type": "code",
      "execution_count": null,
      "id": "3VmmRVdx08ux",
      "metadata": {
<<<<<<< HEAD
        "id": "3VmmRVdx08ux"
      },
      "outputs": [],
=======
        "colab": {
          "base_uri": "https://localhost:8080/",
          "height": 53
        },
        "id": "3VmmRVdx08ux",
        "outputId": "fed6a534-1121-42f6-af53-086593c91596"
      },
      "outputs": [
        {
          "output_type": "execute_result",
          "data": {
            "text/plain": [
              "\" di_b = pinnsjax.data.MeshSampler(mesh = mesh,\\n                                 num_sample = N_b,\\n                                 solution = ['u']) \""
            ],
            "application/vnd.google.colaboratory.intrinsic+json": {
              "type": "string"
            }
          },
          "metadata": {},
          "execution_count": 13
        }
      ],
>>>>>>> 212dcfdde2aa6292e90eb283b7646c247cdf4b41
      "source": [
        "N_b = 100\n",
        "di_b = pinnsjax.data.DirichletBoundaryCondition(mesh = mesh,\n",
        "                                                num_sample = N_b,\n",
<<<<<<< HEAD
        "                                                solution = ['u'])"
=======
        "                                                solution = ['u'])\n",
        "\n",
        "''' di_b = pinnsjax.data.MeshSampler(mesh = mesh,\n",
        "                                 num_sample = N_b,\n",
        "                                 solution = ['u']) '''"
>>>>>>> 212dcfdde2aa6292e90eb283b7646c247cdf4b41
      ]
    },
    {
      "cell_type": "code",
      "execution_count": null,
      "id": "106ysEND08uz",
      "metadata": {
        "id": "106ysEND08uz"
      },
      "outputs": [],
      "source": [
        "N_f = 10000\n",
        "me_s = pinnsjax.data.MeshSampler(mesh = mesh,\n",
        "                                 num_sample = N_f,\n",
        "                                 collection_points = ['f_u'])"
      ]
    },
    {
      "cell_type": "code",
      "execution_count": null,
      "id": "3IjI-v6k08u0",
      "metadata": {
        "id": "3IjI-v6k08u0"
      },
      "outputs": [],
      "source": [
        "val_s = pinnsjax.data.MeshSampler(mesh = mesh,\n",
        "                                  solution = ['u'])"
      ]
    },
    {
      "cell_type": "code",
      "execution_count": null,
      "id": "C26FB-8-08u1",
      "metadata": {
        "id": "C26FB-8-08u1"
      },
      "outputs": [],
      "source": [
        "net = pinnsjax.models.FCN(layers = [2, 20, 20, 20, 20, 20, 20, 20, 20, 1],\n",
        "                          output_names = ['u'],\n",
        "                          lb=mesh.lb,\n",
        "                          ub=mesh.ub)"
      ]
    },
    {
      "cell_type": "code",
      "execution_count": null,
      "id": "Y57stSrW08u2",
      "metadata": {
        "id": "Y57stSrW08u2"
      },
      "outputs": [],
      "source": [
<<<<<<< HEAD
        "k = 0.5\n",
=======
        "alpha = 0.5\n",
>>>>>>> 212dcfdde2aa6292e90eb283b7646c247cdf4b41
        "c = 0.3"
      ]
    },
    {
      "cell_type": "code",
      "execution_count": null,
      "id": "VYpFU9cb08u4",
      "metadata": {
        "id": "VYpFU9cb08u4"
      },
      "outputs": [],
      "source": [
        "def pde_fn(functional_model,\n",
        "           params,\n",
        "           outputs: Dict[str, jax.Array],\n",
        "           x: jax.Array,\n",
        "           t: jax.Array):\n",
<<<<<<< HEAD
=======
        "    \"\"\"Define the partial differential equations (PDEs).\"\"\"\n",
>>>>>>> 212dcfdde2aa6292e90eb283b7646c247cdf4b41
        "\n",
        "    u_x, u_t = pinnsjax.utils.gradient(functional_model, argnums=(1, 2), order=1)(params, x, t, 'u')\n",
        "    u_xx = pinnsjax.utils.gradient(functional_model, argnums=1, order=2)(params, x, t, 'u')[0]\n",
        "\n",
<<<<<<< HEAD
        "    outputs[\"f_u\"] = c * u_t - k * u_xx\n",
=======
        "    outputs[\"f_u\"] = c * u_t - alpha * u_xx\n",
>>>>>>> 212dcfdde2aa6292e90eb283b7646c247cdf4b41
        "\n",
        "    return outputs"
      ]
    },
    {
      "cell_type": "code",
      "execution_count": null,
      "id": "ZWnIkBPS08u4",
      "metadata": {
        "id": "ZWnIkBPS08u4"
      },
      "outputs": [],
      "source": [
        "train_datasets = [me_s, in_c, di_b]\n",
        "val_dataset = val_s\n",
        "datamodule = pinnsjax.data.PINNDataModule(train_datasets = train_datasets,\n",
        "                                            val_dataset = val_dataset,\n",
        "                                            pred_dataset = val_s)"
      ]
    },
    {
      "cell_type": "code",
      "execution_count": null,
      "id": "LjAdNk9m08u4",
      "metadata": {
        "id": "LjAdNk9m08u4"
      },
      "outputs": [],
      "source": [
        "model = pinnsjax.models.PINNModule(net = net,\n",
        "                                   pde_fn = pde_fn,\n",
        "                                   loss_fn = 'mse')"
      ]
    },
    {
      "cell_type": "code",
      "execution_count": null,
      "id": "gSSkpz2E08u6",
      "metadata": {
        "id": "gSSkpz2E08u6"
      },
      "outputs": [],
      "source": [
        "trainer = pinnsjax.Trainer(max_epochs=30000, check_val_every_n_epoch=1000)"
      ]
    },
    {
      "cell_type": "code",
      "execution_count": null,
      "id": "JrXFHmdV08u7",
      "metadata": {
        "colab": {
          "base_uri": "https://localhost:8080/"
        },
        "id": "JrXFHmdV08u7",
<<<<<<< HEAD
        "outputId": "698ceffe-68a7-4652-c701-94cefd67bbfa"
      },
      "outputs": [
        {
          "name": "stderr",
          "output_type": "stream",
          "text": [
            "30000/30000 100%|██████████|[03:59<00:00, 125.03it/s, val/loss: 0.0015, val/error_u: 0.1017, train/loss: 0.0053: ]\n"
=======
        "outputId": "59e99b2e-b73e-4bf7-ba2d-cec4f6f86f19"
      },
      "outputs": [
        {
          "output_type": "stream",
          "name": "stderr",
          "text": [
            "30000/30000 100%|██████████|[04:38<00:00, 107.76it/s, val/loss: 0.0015, val/error_u: 0.1015, train/loss: 0.0038: ]\n"
>>>>>>> 212dcfdde2aa6292e90eb283b7646c247cdf4b41
          ]
        }
      ],
      "source": [
        "trainer.fit(model=model, datamodule=datamodule)"
      ]
    },
    {
      "cell_type": "code",
      "execution_count": null,
      "id": "ed227g-308u8",
      "metadata": {
        "colab": {
          "base_uri": "https://localhost:8080/"
        },
        "id": "ed227g-308u8",
<<<<<<< HEAD
        "outputId": "1256d26b-59e1-4ca2-8ec1-6cb6cab45ac7"
      },
      "outputs": [
        {
          "data": {
            "text/plain": [
              "(Array(0.00151962, dtype=float32), {'u': Array(0.10133183, dtype=float32)})"
            ]
          },
          "execution_count": 40,
          "metadata": {},
          "output_type": "execute_result"
=======
        "outputId": "71b417b4-ed2d-4349-8fb3-ffbe7e5439d0"
      },
      "outputs": [
        {
          "output_type": "execute_result",
          "data": {
            "text/plain": [
              "(Array(0.00151409, dtype=float32), {'u': Array(0.10118844, dtype=float32)})"
            ]
          },
          "metadata": {},
          "execution_count": 23
>>>>>>> 212dcfdde2aa6292e90eb283b7646c247cdf4b41
        }
      ],
      "source": [
        "trainer.validate(model=model, datamodule=datamodule)"
      ]
    },
    {
      "cell_type": "code",
      "execution_count": null,
      "id": "OMqeLjCa08u-",
      "metadata": {
        "colab": {
          "base_uri": "https://localhost:8080/"
        },
        "id": "OMqeLjCa08u-",
<<<<<<< HEAD
        "outputId": "e020ef4d-1c2f-46a6-fb9e-1aa89838173f"
      },
      "outputs": [
        {
=======
        "outputId": "3c95e5f6-432e-48b7-f1c8-7e908dd689a4"
      },
      "outputs": [
        {
          "output_type": "execute_result",
>>>>>>> 212dcfdde2aa6292e90eb283b7646c247cdf4b41
          "data": {
            "text/plain": [
              "dict"
            ]
          },
<<<<<<< HEAD
          "execution_count": 41,
          "metadata": {},
          "output_type": "execute_result"
=======
          "metadata": {},
          "execution_count": 24
>>>>>>> 212dcfdde2aa6292e90eb283b7646c247cdf4b41
        }
      ],
      "source": [
        "preds_dict = trainer.predict(model=model, datamodule=datamodule)\n",
        "type(preds_dict)"
      ]
    },
    {
      "cell_type": "code",
      "execution_count": null,
      "id": "923_USch08vA",
      "metadata": {
        "colab": {
          "base_uri": "https://localhost:8080/",
<<<<<<< HEAD
          "height": 553
        },
        "id": "923_USch08vA",
        "outputId": "1eb3b9b0-baf1-4fbe-d913-e2b902281fbe"
=======
          "height": 536
        },
        "id": "923_USch08vA",
        "outputId": "15161528-8877-4290-a87b-3af40b1dbdb9"
>>>>>>> 212dcfdde2aa6292e90eb283b7646c247cdf4b41
      },
      "outputs": [
        {
          "name": "stderr",
          "output_type": "stream",
          "text": [
<<<<<<< HEAD
            "<ipython-input-4-f73a368f9bd6>:76: MatplotlibDeprecationWarning: Auto-removal of overlapping axes is deprecated since 3.6 and will be removed two minor releases later; explicitly call ax.remove() as needed.\n",
            "  ax = plt.subplot(gs0[:, :])\n",
            "WARNING:matplotlib.legend:No artists with labels found to put in legend.  Note that artists whose label start with an underscore are ignored when legend() is called with no argument.\n"
=======
            "<ipython-input-12-c536d30c8bfd>:29: MatplotlibDeprecationWarning: Auto-removal of overlapping axes is deprecated since 3.6 and will be removed two minor releases later; explicitly call ax.remove() as needed.\n",
            "  ax = plt.subplot(gs0[:, :])\n"
>>>>>>> 212dcfdde2aa6292e90eb283b7646c247cdf4b41
          ]
        },
        {
          "data": {
<<<<<<< HEAD
            "image/png": "iVBORw0KGgoAAAANSUhEUgAAAuEAAAHkCAYAAACQZfG8AAAAOXRFWHRTb2Z0d2FyZQBNYXRwbG90bGliIHZlcnNpb24zLjcuMSwgaHR0cHM6Ly9tYXRwbG90bGliLm9yZy/bCgiHAAAACXBIWXMAAA9hAAAPYQGoP6dpAADUGklEQVR4nOydd3gUVffHv7O7KbSEJiV0LEgNNSGgdEXFwquvYKMpqK/w/lQsdEIPWLAgig14LUgRARUFMRSpUkMVBKRDAghJBJJsmfv7Y5JNNntnM7OzM7O7OZ/n2SfJzb333Cl35ztnzj0jMMYYCIIgCIIgCIIwDIvZAyAIgiAIgiCI0gaJcIIgCIIgCIIwGBLhBEEQBEEQBGEwJMIJgiAIgiAIwmBIhBMEQRAEQRCEwZAIJwiCIAiCIAiDIRFOEARBEARBEAZDIpwgCIIgCIIgDIZEOEEQBEEQBEEYDIlwgiAIgiAIgjAYEuEEQRAEQRAEYTAkwgmCIMKMv//+G9WqVcPJkyd1s/HYY4/h7bff1q1/giCIcEdgjDGzB0EQBEEEjuHDh+Off/7Bp59+GrA+X375ZZw6dQrfffcdAODAgQPo1KkTTpw4gdjY2IDZIQiCKC2QJ5wgCCKMuHHjBj7//HM888wzAe13+/btaNu2rfvvZs2a4eabb8ZXX30VUDsEQRClBRLhBEEQIcSqVatQrlw5iKLoLjtw4AAEQcDly5fx008/ISoqCu3bt/do980336BMmTK4cOGCu2zQoEFo0aIFsrKyZO3Z7XZERERgy5YtGDNmDARBcPf9wAMPYOHChQHeQoIgiNIBiXCCIIgQYs+ePWjWrBkslsKv77S0NMTFxaFq1arYuHEj2rRp49Xusccew2233YZp06YBAJKTk/Hrr7/i559/9hlOYrPZsHnzZredCxcuYNWqVQCAhIQEbN++HXl5eYHcRIIgiFKBzewBEARBEMpJS0tDfHy8R9nevXvdZadOnUJcXJxXO0EQMHXqVPz73/9GjRo1MGvWLGzcuBG1atXyac9iseD8+fOoUqWKl924uDjY7Xakp6ejXr16GreMIAiidEGecIIgiBBiz549aNGihUdZUWGek5OD6Ohobtv7778fTZo0waRJk7Bs2TI0bdpUsc3iAhwAypQpA0CKQycIgiDUQSKcIAgiRLh+/TqOHz/uIYhFUfQQyVWrVsXVq1e57VetWoXDhw/D5XKhevXqiu3yvO8AcOXKFQDATTfdpGYzCIIgCJAIJwiCCBlOnDgBURRx++23u8tWr16Nv//+2y2SW7VqhUOHDnm13b17N/r06YPPP/8c3bt3x7hx4xTb3b9/P1q2bOlVfuDAAdSuXRtVq1ZVvzEEQRClHBLhBEEQIUKVKlUgCAJ27NgBANi2bRuGDRuG6Oho3HbbbQCAnj174uDBgx7e8JMnT6JXr14YPXo0Hn/8cUyaNAlLly7F7t27FdkVRRFHjhzB+fPnPTKpbNy4EXfffXcAt5AgCKL0QCKcIAgiRKhZsyYmT56Mp556CvXq1cOcOXPw6KOPolmzZrBarQCA5s2bo3Xr1li8eDEAKWTknnvuwUMPPYSRI0cCABITE3Hvvfdi9OjR7r7nz58PQRC4dqdMmYL58+ejVq1amDJlCgAgNzcXy5cvx5AhQ/TcZIIgiLCF3phJEAQRZqxcuRKvvfYaDhw44JHK0BfJycnYsGED1q9fr6j+Rx99hGXLluGXX37RMFKCIIjSC6UoJAiCCDN69eqFo0eP4ty5c6hTp46iNj///DM++OADxTYiIiIwa9Ysf4dIEARR6iFPOEEQBEEQBEEYDMWEEwRBEARBEITBkAjXiZSUFLRr1w4VKlRAtWrV0Lt3bxw5cqTEdkuWLMHtt9+O6OhoNG/eHD/99JMBoyUIgiAIgiCMhES4TmzYsAFDhw7Ftm3bsGbNGjgcDtx99924fv26bJstW7bg8ccfxzPPPIM9e/agd+/e6N27Nw4cOODTVpcuXdC9e3ePsu7du6NLly5edSdMmIDJkyd7lE2ePBldunThlk+YMMH3hgYIuXFptc/rt2vXrujatasiW2ra8/Yhr65W+3rtF639BqJPpfs7EPtQ6fFSsw1q9oHWuRiI7TL7nDW7biC+D7V+xxhJqM97I7/7guFaqcd+CYbtIorACEO4ePEiA8A2bNggW6dPnz6sV69eHmWJiYnsueee89l3t27dGADWrVs37t9FmTRpEgPAJk2a5PF3QZvi5QV/643cuLTal+tXqS017eX2oR729dovWvoNRJ9q9rfWfajmeCndBjX7QOtcDMR2mX3Oml03EN+HWr9jjCQc5r1R333BcK3UY78Ew3YRhZAIN4ijR48yAGz//v2yderUqcPeeecdj7Lx48ezFi1acOvn5uayrKwslpWVxTp16uSenABYp06d3P8r/hk9ejQDwCIiIhgANnr0aJ/lRn30ss/rV40tNe2V1tVqP1j3dyD6NHIfau1X6z7QOhcDsV1mn7Nm1w3E96Ee55Fen1Cf90bug2C4Vhr5HSVXnpmZyc6cOcNcLpeHBsnJyTHsvM3JydGsw4IREuEG4HK5WK9evVjHjh191ouIiGALFizwKJs9ezarVq0at35ycrKH8KYPfehDH/rQhz700eNz5swZt/7IyclhNQy0XaNGjbAU4pQn3ACGDh2KAwcOYNOmTQHtd9SoURg+fDiaN2+O06dPe/2/bJ3quH/3V17lB9/+Cgen/w9ChA3M4UTzkf3R9JWncPDtr7B/+hde5WqwCMzv7Tnw1tfYV8R+/Mh+aP7qk373V8D+t77G3ulfuvttObIfACCtWFmL157gtt/35gKvunLt97/5NfZM/8pd3mqktP+UlMXL2N/75gJuXTX7uhbK4VVrK7zl2oNzkNYlpL3xDXYX6bf1yKfQ8vXHue0tUGZrzxvfYNf0r919thn5JFrJ9KmmDwDeZQKwK6VI2agn0eb1x7h97npjIbcurxxQ3i+P3W98g50pC9zt2456wue4eHXlyrW0B+BR1m7UE2j7el/sfGMR8lYewMaNG3HnnXciqlczAMCOlAWwRNgg5tfllbV9vS93u3a+sci0ugXzYseMRdie8o27bsKox9FuhHe/cvWUtpfrA4Di9iWhdP4pYfuMRfg9ZaF7XImjHkOCj3HFoQJeENrhQ7YD5/FPQPosoOh2/T5jMbYV6aP9KOl8L16WOKKPyi32hmeL169cveLlSaP6on0AxsVj24zF2JqyyMMWAK8yNfZ5fbYf0adIuRWiw4UOo/oiacSjyMu+gQ/q9keFChXcfdjtdqQDOBNhQUygN7oY2QDqpKfDbrcjOjpaZ2vGQiJcZ4YNG4Yff/wRv/32G2rXru2zbo0aNZCRkeFRlpGRgRo1anDrR0VFISoqCtnZ2dz/O7JvQCwX61F2KOVzHJr+PzQZ9xyajHoGh1I+x/7JHyN96yFc2rATTcc9i6ajnsHBlM+xf/InECOi0XTUM9z+eSJQ9LmF8u33T5uL/dO/QPPxQ9B89NPYP20u9k76FGJkNJqPflqx/eLsmzYP+6Z/iRbJQ9Bi9CDsmzYPaRM/BQC0TB5cpOwzICoKLUYP8mqfNv1L77qc9unbDiF9/S60Sh6M+DEDsXfqfOzJr6uoLCoa8WMGetjfO3U+9kz/Cq2Tn0HLMQORNnU+dk/8HEJUFFoWq+sLK8ohJiIGVkcMAKvUz/Sv0GbCM2g1ZgD2TP0fdk34HEJ0FFqNGaC436Lsmfo/7Jr+tVefiI5GmzH9FfWxO7+PthOeRusxA7B76v+wc8JcAFBUJkRFoe1YT1u7pnyBXSlfo92Ep9FmbH/smvIFdkyYi/Rtf+Dcut1e5QC8yixRUWgztuRt2DXlC+xMWYCECYPQdmx/7JzyBbZPmAcLZ1w7Zepe2PYHzq3bU2IfatsDQOLEQWg3th92TPkSvydLdc+u24P+HycjJiYGLYf+C188N5Fbl1dmiY5Cu7H9PLZrx5QvsSNlgaK6O6d8gR0pC9B+4kAkjO2H7VO+xLbk+bBGRyKhWN3t+f0qrbs95RuvupboKI+6cvXObzuMs+v2uMt3TPkSW5PnwxodhcSxno6J36d8he0p3yBp4kAkjn0Kv0/5CluT5wOAVxmvfaDx9b24bfJX+D1lITpMHID2457CtslfYUvy/2CNjkL7cfxxRaI8YoQYRLLyiODcDPjTp3us+f1tnfwVtqUsRMeJ/ZE07ilsnfwVNid/AQBeZdboSCSV0K8v5GwV71eu3vlth3F6XRo6TuyPjuOexJbJX2NT8hewRkehwzjtTqOibJn8NbamLMIdE/ujQxFbALzKlNov2ucd457A5slfY2Pylzi/7TBOrduLOyf2Q8dxT7rLrdGRaPtibwCAIAhe/cVEWRHDKQ8ojAEONeoidCARrhOMMfz3v//FsmXLsH79ejRo0KDENklJSUhNTcVLL73kLluzZg2SkpJ8touNjUVmZqZXuSWmAq7keN413sgT0GDUUNR46Tlk5jLEvfwCcp1WXNnwOxqOegG1hj+HzDyg1vChyHXZkGMXkZnHv/NU6olVUi/HbsGtY/6Deq8OQbYdqPfqf5DnsiHX7kK2PcrvfnPtAhqNfR4NXxuMaw6g4WvP4dza3QCA+q89j2yH9FPaVheyHZ62cuwCbh/7PBq+/gyuOYGGrz+Hs+v2AJB+LyjLE624uG4Hmox7DjePkOrePOJZnMmve/OIZ32W5YlW5DpcuOGM8LCf5wCajnsWt+T3eYu7rohrzkjF+yRXkKZ6rmjDDRaBPCfQbPyzuHXE07jmBG4dMQR5ohV5DhduuCK4fZREngNoPn4IGo18GjdcQKORg2EXLchziLghKuszzwm0SB6C20cNwg0RuH3UYJxelwYBDE1GPYNcEWgy6pn8fSh4lDmZBXan6DX+PKd0w9R41CDccAGNRz0DB7PgwtqdaJU8GE1HD0SuCDQd/bT72DQd/bS7TOrXhVyx5K9Lu5OhdfIzaJbfZzN3e9Grvd0Jbt1za3cp6sPhYmgz4Rm0GDMAdga0GDMILlhwbu1Or/Iz69IAAM1HD0KuKP2UbEl1b3n6QQDALU8/iJoLvveqe3qttL/jRw+EXQTiRw+EiwlwOEXYRavHdjmcDG0nPI340QNKrGt3SjdSLUYPQK4ItBg9CC5mgcPpgp1599tuwtNoOaY/7AxoOWag5rq8eiITcGbtbiRMGITWY/rDyYBWYwYUbgPHVsKEQWiV30erMQNwaq20v1vlHwNf7Yuj5WkiAPhymjtcDIkTB6H12H6wM6D12AFwwQKHq3C/FPe6uyAAAuBiApychGpOF0P7iQPRdmw/OBnQdmx/iBDgdIlwMmUJ2BwuoP3EgWiTP642Ywfg5Lq9AAS0GSvtw3Zj+0OEBU6XS3G/PJwuhqSJA9Fu7FNw+ui3eL3Ecf3AIOBU6h50mDgAieOeghNAwrh+hdsb4IRzThdDh4kDkFDElrRfpN/l7Pt6cuJyieg4sT/a5/eZmN/+VOoedJzY371diUq3K8IKWHQW4SID4NDXhknQGzN14oUXXsCCBQuwYsUKNGrUyF0eGxuLMmXKAAD69++PWrVqISUlBYCUorBz586YPn06evXqhYULF2LatGnYvXs3mjVrJmtrwoQJeO+99zyEuDU2BjUHP4W6rw2Tbcf7sldzAbBYNLZXLOIVd6mLfTV1tV5A9Rp/A6Es3irTBK/mHMIJdkN1e659jY/IjdxXRvYbyNABd586bWsB9VAOEyJaYoIjDWdwLeD96z1+D1s67H9ZWwZtl5HbVJw6KI+R1raYIe7AWR3ODaWYuQ+CwT4Po86/vOzrmF2xN7KyshATIwWfZGdnIzY2FlnVyyNGZxGeLTLEZlzzsB8ukCdcJz766CMA8MrVPW/ePAwcOBAAcPr0aVgshXeYHTp0wIIFCzB27FiMHj0at956K5YvX+5TgAPwEuAA4MrKxvlPvkL551+RnagWzs0tV5hzxLYcatprFeFax6WmnlJb+t0EaOsz15LvCXfafHqlzb6JCYb2ZotwPS6sJfXpEKQvAwezIJezVEgv72yo3LDIjlOjKUPH6icFXlCHaIUdnl78cL254toPwm0VmT7it7h9n3bK2AzyhIcnJMJ1QskDhvXr13uVPfroo3j00UdV2crJyeGWi3m5yMyOlBfBGkU43xOurJ58ezWeeE6ZTiJaHxHuvx21tnIjpItnrtOKG075aa+XfSNvOIysq6V9MN2YOATp/HCI1hLDJTz6CManISYLY1X7RGFV3Z76KBiAC9KE5IajcJqbOdaA2JEZvx6CV26bROhgS8VxKW7f5SscJdICWHV+76MrPOPBARLhYUF0dDTy8vK8/xEZjdxcqzoRzJlLNht/AvDqcuupELZKhb2a9mrGJbdNioWVVq+/qvbeO0ZuX7k9nU4L7E6rvC2Z7zo9Qpdk6+oSpqS8cjiKcO4i6iKiwmUpIrRE70kgK0wUigU1wkaN2FIqjFQJEN6YNAgYte2VjgkIgDBVsPtYfiUGQdnx1ksr6+Bs5e0/3bzL3EQGxniyAW3b5bNtpI1EuAZIhIcBFStWRFZWlvc/ysYi82oEbBEaRbDM/OKJc653WuNNgJr2chjl9Ze3r/SGQ58nAQUhBrkOG27YXQGyr7G9xv0n368xNwxmPwnQasvDE57v/Xa4rF6LJ9X0qXVMutlS0aWa9mY/CdDcpwJPtjP/Bt4Ji6IFkXp5rHUJXTIwHEqruFd1c6rx5lhVf5FWA0S4zuEuJkIiPAzgpQ0CADABUTkWOJ38iebgzBshQpmwBgCnk+PxUSHieXVtNm3CWA6l4l6v0B3el4hmrz835InfgStfV7lcgDN/LBYVFwXutqpY0615rYEqEaVsX8vb0kGEG7h+ge/J9V3PlS+0XMzCbS/riVV6EVfRXrMnWmN7NWj1emt9EmAEBaNhTKGQ1Esv6RBmpNUTrZcnPdjG6rNehBWw6SzCOVojXCARHgZcuHCB/4+rGYi5aoNTxhMuWr3LnRHek4nzdDq/rnd7B0dsyLVnPGHJGZNWT7xUrs3rr9g7qkbE63ATIIc7RaHdhhu5orx9jYtgtYbjSH1obR8aHv5g8u478i/wDpcAu9yEVTgufj3FXWqyo2ddLe0NfZKg1Ttf7CbUfYMmKvSE67SteoQ+qYErYlUIY603Z0rHJNunhrGW6AnXW4TrvfDTREiEhzkxV6xwRvInqpOTJEPkXKzlRTyvT29hLHdN594EcDzhPDsA4OCoNb0Evx4i3sj29vwvSbvdgtw8HzHhMugRziNrS+GCVb3i/5W3N/BJgM4Lfh0oEo7iUrEwU+NaB+V9qvHEK18robxP7XW1tA+EJ99fWwWLMZ3MmHAUNU/YuO3D4CZAcXYUg24CfB53EuGaIBEeBsgtzBSs0YjMtcAik97H4lImeC0ifwLwBLvFxRHGMtd0bnuO4OeJdak957G5zMVetHrX5Ql+p5yI5O0Xjn11nnDj2rvyQ1BcLqFIGBGvPbe58vh9ubADzjkoN1beEhxeVbnzktcvN2xA5mKv9FGw7LYqbq/Rvqyw5bTnhUMVKRLFwp9OzhyWPVZKQz9UvUpXRV3FqBFmyi/4Roa+KCXQnuCCZkxDH3JoDbvQGg6iNBzKyPaACsGvwyJmQOU5HGGRQlL0JHw1OInwcMbCgPKZFllPNs9Dzvduq/GEKxfRenji5UW4sn5lvfY8Ycex75Kxz4u/V+qdB+REuHJhm2vLT1GYa8WNG0x1e13CaTR6zdVkstHuSefZ1zh+2axBSscUOPvuxXcuC5y8mxu5Gx6NnmilGXp0C0cxKPWofN3AZ3cJtCe4ID2dS7R4Zc5RI0J1EbwaPcF6ZOcJRNiJ1gWTgc7GU6InnES435AIDwMqVarEzY5ii6qEyBwBFhe/Hc+TyPdu89vzRDSvLq+emrpqPPFytkROH/wnASpuGDhiQT70Rlld3jgBvodeqXceKFyM6SziCVfqXZfKFXrCNbaX64MvlpR7kXhea9knRFy3uzLvstSvwvHLnSucecG9qMrsa77X27f9gouuyAS+J1zuoq7Yay1zrErw0Ku3oxKlHnrdnrYrFUsGps0rNleKnht6pe8raUy8cenVXs2u1sMTr6YPvdqrgkS4JkiEhwHF35ZZgCv3KspmC3BGyolY7zKed1w2pjyS16fy9so96dzmqrzu3G1VYUupJ5wXEy9nnzdWrZ54XogNADjsgvunPU8yEowx8b76UN5e6Q2Dtvay49Loide6sJNf7luYO/I9sg6nShHOu2HQYWGsGk+8qpzwSj3hGjMBabZvoie+YGEmT4Sr8QQrratXOIgumXx0yI4DKPfGG7WtrKTsKJE6i/AwhkR4GCD3xkyXMxdlsyzqRDBHWMuJeL6I5cRe6ybiObY0hq7I2uLFn3NFuHKvvZpwGqU3HDYH335kGelCGplnQVQOU23fqHAaufLQas8p5Kao5DZXLuLlrrMKvctF+3SJRUIOuB5+FSI4DFNfyolV7voDNcJU4VML2bADhfZl++U+YGHcOtKLnIRidb3bG5mOUg1G2dIqjAFo9/wGeLN8v6yHRLgWSISHAWXKlOEuzLRZohGZA1hkHpvzBSevrtyM5ghTmdAVHtxwFI4wl0POa82ty7Glqj1PsHLDGZQ/deCFs8iF09gcytrLedKt+eeA1SXAlh+OosY+d7Ef7/jLNeeeQ2quNMHXXi50SGs4DV/ZcIpULEzlqs0i7Qv6EkUBTqfyhZncMA2ZMB9+e2XbKt+eZ19be6ViVfqH0scWyofEbS4n4pWGPsF/T7SveyK+iJerG3hPuBq03gToESKimy2NCzu9n3j46CTaJr01U08oOwoRzFSsWJEbkhJprYToa4KssOV7vZWVASo86RwBKdvezutTRtjyFlvKeIL5Xm/venKeZKWhOza7Gq+/Gvuc8asIp4nIE9w/I3PzHy/zwlFkBIzSTDS8pxNydTlRDwDk4t+DL3RGcyYZFfHz/Ew2Mp54hfHvnp5wwf2T5wmX1eAqRCC3PUfh8b32/PZKPcmywlRp/LwMSkNvZNcPcO9BVBxrVbYUhlMUs1UgyFyioHBhJte8ChHMb28UAfFkhwoK97VPUW9EOIrGtJXBDInwMIAxhujoaOTm5rrLrEI0IIqI/keQDweJ4oWOcOqpEPE2rojW2F5GxPO8trz2srY4gldNOAtPsPLEqmRLm4hWmjpSLpwkIj+eJMJhQWSevH3eYlXJPmes3BAd5eE8svta4YLVcE0nqVRwa15EW/SNmUVEOG9fq/G6cx3xct5RhSLe9HSScseK9x2gor2ScBCposzNrSpbCm84im1TwdwVGefcCKF0kqUdLU8dTA9HIRFOBDNZWVkeAhwAXCwXDld2viiVm0BKT2zl7fnCWk1777py3mXeuJwy28QbA9eTLbOtvH6V9inB2S6FduTb84S9jNhwFf4s+J23rbJvR+WWqgnx4Ow/NU8deDcscqE/Cu2bHc4iG2fNe8LAFWHKz5WSxlQ0T7iqx+aKwzHkRLSGPgHl4SRyISq8myNue5kxKbavNaZb+/5TEz/uYTm/DuNlR+GlkwxwOIzvurx63Oa6pBPUK0WjLotI9YqJjzAgO4qaELcQg0R4GCAXjhJtqZgfE85vx4sV59W1OGUuAArby3lH+e2VhzhwxyqzrVxPsoo4caV11djn3bCoid/nprKTsW/NjwO3OgW3+FUTU87zuvPzrMuJNeW2lHr9S5cnnVtVBmUisOiYXPmxQS6XpcjLnEq2zy3XGL+uJjuKYk+6rCdbqSec31yrJ1x7ikQV4sTP+HXVKQrD9MVMRsWUq8EoWz77MyIchUQ4EcwwmUc1TGSwOPmiAlAuYuWEnc17LSgXuZhunuBW413mjUvO667U6y3nieaLY17ssnJPsNx+5cHfL8rsAHwRzt9WFePnXkC1eof5fajJX690cXG4etJ5qInTVuWJ5o1LoXdZlX2N6Ry1e7JlOta6rUq9qxrHL9ni1eXUK2ZLdttlUOWdNWBhqe+6vHrc5rrYl8NIW5oxwhMuEyYZDpAIDwMEmfRZAuRjpAE1IlxO2PJKlYslXr/KM7bw+1UTDsL30KuxpayebF013l2FY5X15IuFP32Go8h4HORi3b3by5SreTERJ9c6L3RFNn5eodddPie8dxn/sAYuHETv9iWJHVf+TZrLKcgcw8ALcwCaF0aWlPXFL9R4ZxUrW232VYUDaXxqIh+/z7GnhydbZl9pTgepWNjK2Ocd1hDK5KJbTLgRr613qbwTDCFIhIcB8iLc4lOEq0knqGI0HDtaHw/KCVOl7fl98MNc+LaUxrrL3QRoj0nn9KkibZ7VWfjTVzgKP/YbUBrTrSamXW5f2zhXdm52GBlLyr3GKsbKMabX2031eTup731SIDxEpn/8eYloFrGBD9FQ451V5V7ldsobgPLmWkVs8WPla28a6ckOlbebBiIm3aj484B4zG0GeMKdJMKJIEaUcz8y0WMhnlc7njDgiA2t4Syy3mVOrDlXrMh44tV53WW6UGhLLmuIv3ZU11UY+iEXfy/kb5fgEtx2uSkKVYR4cENEZEWN8qcOctvgbUvuPwrDUXS7WJdu1ISzqAmT0WJfqx1VOdm57fnlSmP9tdqX60NNewbv+wutC0MJfTA0nMWIcBQS4UQwU79+fVgsFpw4ccJdVhENEIM6PkW40nSCaoStmhSFSkW8fNpBzheNjFhW6omW31cK28t6vHi2lHsc+bHmKm5CWOHPAvGqPM5cxpaq710V26pLrDlPgGhrL/uERvFLjIInnIWJhT+1xoSrWUSq2Osu617kVFWcXQaKw1lkvbsKw0H0iAdW015NH0peTV/4P54dRWZk+9bsHdaYHSYYwlmC7e2iJS7MDFIRPnv2bLz55ptIT09HfHw8Zs2ahYSEBG7d+fPnY9CgQR5lUVFRXpnnAg35gnTit99+wwMPPIC4uDgIgoDly5f7rL9+/XoIguD1SU9PL9GW1Wr1EOAAkIkTsMAGS77nk/fhwa3rlPko7FMOaWzFPhw76vrUNi7N7UX+R6ktNePi1+PsU9knCcrsqLKlYvtlxyAKXh89kBurUfbDFSl2uPhH4H70sW+MnUDA21fq2mvbViP3VSgdl3CkILtN0U9AKBDhen9UsmjRIgwfPhzJycnYvXs34uPj0bNnT1y8eFG2TUxMDC5cuOD+nDp1SsueUQR5wnXi+vXriI+Px9NPP42HH35YcbsjR44gJibG/Xe1atVKbCMXjsLy3URqPNlq0u5pza6i1JbW8cv3qzycQ824uO0VvthGTjDz326pfvwliX35hZ3Kbfmy79FehQtATZgTD7nUifrY53ixFHvH+e31zqTikYZO48JMfUJM5IwF3jvI9WRqDUcxMB+0mj7Uti/ehx6eWL28w3qEKelFSGVHMSIm3KHeEz5z5kwMGTLE7d2eM2cOVq5ciblz52LkyJHcNoIgoEaNGpqGqhYS4Tpx77334t5771Xdrlq1aqhYsaKqNowxdOvWDRs3boTD4YAFEaiLO8Fkcjr4Qo2w1dJnIGypyeSiOM5YxQ2DVozMU64Hmo+fXO5nFeJeuS2enYCbIYhSj5pwjGBEt5sAjaE7QYsR2VEipItNdna2R3FUVBSioqK8qtvtduzatQujRo1yl1ksFvTo0QNbt26VNXPt2jXUq1cPoiiidevWmDZtGpo2bRqgjeBD4ShBRsuWLVGzZk3cdddd2Lx5s8+6eXl5yM7Oxh133IG1a9fC4ZDe7y7CgZNYiwbobsSQCYIgCIIojUTZjPkAqFOnDmJjY92flJQU7pAuX74Ml8uF6tWre5RXr15dNsS3UaNGmDt3LlasWIGvvvoKoiiiQ4cOOHv2bGD3VzHIEx4k1KxZE3PmzEHbtm2Rl5eHzz77DF26dMHvv/+O1q1bc9ukpKRg4sSJsn2ewFp0xjhV49DDO6iXx5HXr1YvqpHeUTW2lNYN1vFz2xv4KDjUM6GoegtkGKLujaHhh6HhBRoJVu+u0vmiZl+rq6u4akghWq0QbfpeeESr1P+ZM2c8wnV5XnB/SUpKQlJSkvvvDh06oHHjxvj4448xefLkgNkpDonwIKFRo0Zo1KiR++8OHTrg+PHjeOedd/Dll19y24waNQrDhw/H/fffj40bN8JiseTHh1tQNApV9qUkGoUdXwQr61NN+0AIS62CXetYldpSNSY16cmshT/dv6vJYqE1xZtWwc7b13IZK3QIZ1Fln7NfGTd3uJrsMMrh5xT3LeILxIRFYIrb+yo3Cj3EKU8sad3OYBDRWsdgEZgh26GXCA4llG5XMGy/02aFU2cRXtB/TEyMhwiXo2rVqrBarcjIyPAoz8jIUBzzHRERgVatWuHYsWPqB6wCEuFBTEJCAjZt2iT7/4J4qG7duuHs2bNFMqSIqIgGqCt0Ui2euGJD41miRpiqsaWHYNfu3dXHlvIbJm1p69SNSZ/c23p4yNWM1UgPfTiiRsTrY9+4pwaaxbnmGy6t9s09LoRx6CXYHRFWOHSOCVfbf2RkJNq0aYPU1FT07t0bgJTAIjU1FcOGDVPUh8vlwv79+3HfffepHa4qSIQHMWlpaahZs2aJ9f73v//h5MmTHmWZOIG97AvcaZ0gm/tZq3eX1y+vTKsnXX78HGElO1ZldbW3l/POKqsr/yp1beMvWAMpCoXik7tNst5l3phU2Fc4fnlbvPbKPdFKx6TKvowdpV5vOQGmVEQGsr1gKfypRsTqISK5Il5GQGj3UOvRp7bc6fz2xnmHi7f31Z/W/aeH19t0+yrCTvQLfTHuHHDZrHDp7An3p//hw4djwIABaNu2LRISEvDuu+/i+vXr7mwp/fv3R61atdxx5ZMmTUL79u1xyy23IDMzE2+++SZOnTqFwYMHB3RbikMiXCeuXbvm8RjjxIkTSEtLQ+XKlVG3bl2MGjUK586dwxdffAEAePfdd9GgQQM0bdoUubm5+Oyzz7B27Vr88ssvJdpiTG6C+J6ISr3e2sNZZMSOCltK7WsV/OrCQfSwr6a98rGy/LrMyny20xxOo1HYqkHWk62Th14LWkM8Qikm2kgRr9i+xnhc3TzpARZLPutq3AYBwRfXrIfg1ivOOxhCR4oTiDE5bRYDwlHUf1H07dsXly5dwvjx45Geno6WLVti1apV7sWap0+fhqXIF9DVq1cxZMgQpKeno1KlSmjTpg22bNmCJk2aBGw7eJAI14mdO3eia9eu7r+HDx8OABgwYADmz5+PCxcu4PTp0+7/2+12vPLKKzh37hzKli2LFi1a4Ndff/XoQ47MzExueQ4y4YyU9yQ7OWsalHq35cp5AohnR96WGu+2svZyffDqynrdOd8B6saqrK4zQnmcszNCWT0AEPOvFqKl0C7PlhrvMr89t7kqT7gzwjufIP+GR/lYVdm3eddVE9Nt9SMm27M88O359YrGhBf+1Nvr7lGu0bupVXArHr8qscsp0yiWAyG2/fXk+tqdWkWwHjcRZi+sNNNjractOZwWKxxWnUW4utczuxk2bJhs+Mn69es9/n7nnXfwzjvv+GVHCyTCdaJLly4+PNTSK1KL8vrrr+P111/3y5bca1VdyIW9jDoRrCYchCtiFQp7yZYyESwnrNWEvmgVwYpvOGRFvEL7cjcRSm8CZC5ULpuQ/7NwG7WKaO0iXKPgp3CSgLW35t94WG0MNs5NiBxGhZPIC0v/+5SrG4zhJPqFWHDKitkq2HYLJ1SJwklCI5xEz3qSJ1zfR3V6928mJMLDgLi4OK/X1gNAOWscRJu6EAdVIpgjuNWETSgV0YEI0VAquFUtIlWVsYNjnyuiVdhX4d115Qsrl425t1vr+LVmLNFrW5UKbp7YBpQLbq3hJGa3V4Mqr71WEanCu61dxAef4FZDoAV3SbaU2NMrRCZUwkmCUWwHwpYcwRoTHiqQCA8D5DzuIkTJE66TJ1uxd1mNfYUeZ9m6MhdQvi3lwk6pYJcdq8LQEflwFKXtuc3hshX89E+EKw1dCUSctmKvu0ZPNi9sBAgdT7Yc/oSzWK2i+yfPE645nMJkT7Z8e96YjLSvsb3W0BsVolpQKsJLuSc7EGLXKFsB8YRbrXDqHY6ic/9mQiI8nBGE/Jhw5Z5s7XHWyttrD/FQY0vhDYMKEazVk63VE88V9rKeaMHdv8+YcI2ebK0hJnJjKO2ebH49uXL1NwEeIQch7snmt5cpN8iTHeg4bX1tedYTfGVHIU+28gGEkC01uAzIE06ecCKouXr1Krc8j11FbgUWUp5sNcJUD0+2XjHZmsNhNMZkO/IXOzoiRNijxPy6KjzxGhc76hGTHeqebEM94SWITWv+71YLg83mvTBW1pZCT7b2mGjFzYMyJjsQIlqpLa115eK+bRYRNmvJ54aRb5E025NdWkS4r7YOi0X3hZmOUEoPpRIS4WFAdnY2t9zhykZueXUiXOtiR553VmvGEnXCWkbwmxwOojjPt07hII4oS/5PBnu0KFvXSO90uIpoLX3K9au3d9pDhKtIfUkLGzllZnuHA2y/MBxFaX3F5k0X0Vrbh5StElIW+9vWYbPBYdNXSurdv5mE75aVImJjY7lpCm22GN/hKApDR7SGg6gS4Vo94SpiwrneZRWecFXhLBpFuOJwFpntd+W3d1mZOwWf2a9iD6VwECMXRioVkWrirLn1irQv+N1iYbp4rc2Os5ata5DXWjY7TAhkDBGKpq9UsG+CVZgGQ/x0oG3JttcguHn2fR13p9UCp5xHJUDo3b+ZkAgPA1q2bOmV8xIAKlRqiRuxTF6EK/Ramy2i5YVx8IloXo5refvKRbRWEW+PKvgpIq+MNEY1afciDAyx8CfPtT/j0tzewMWKSvuUtVXCWK0W0f2T5wk3W0QH22JFtXXNDjGR6vrXp7XAEw7vhZnhKIINvYkIsFjWq31JCzN1zxNOCzOJYIaXnhAAbtw4CXsZJisstS6MVBoiIRuioXGxYjDmuTY7plo+HKTwZ4H4DlbvcFCGk6gIcVCzMFFxe52zgBRc46xWwOJSc8OgTYQauTBRqX09vO5mC2s1/coJbV1SFAahiNetvQrBrcciSt0WZlqtcOkskvXu30xIhIcBgsD/JmZW4FolUXPGD1XttcZpqxCmemT30C2cRIdwDqXeaQCIihTyf4qIzo8J1xynrEN7+X65VfntTQjnKNFWkKfNs+V7wm0WEZERLuW2KJxDYT3FXQadMC2oY7WIsEH5ol1/bKmpp1t7k8VyIPoN9D4QBfnj7rRY4NR54aTe/ZsJifAwQO619c68TFyrKGoO55CNs1aacUSVsA28d1luXLy6Lpm3BSoN3bDK2OcLZo4dnTzR0dFC/k8XyopObh25PuXtq/BOh3jau3BcWFh0/xVkvbBZRUT6uOD6byvw3mXd7FPaOw8KQpV4nvBQWVgYEPsmt+f2adA+8RmOIlj9fq28UpwCecKJICY+Ph579+71EOOW6IqIrNkM9mhfIty7THM4iMKwD6lfZYJfVcYQjWnv5N6Oa3aIhNb21vxttVoLX0uud9q7ksr1CNGQba9CWBsWYhFECwg98oRzXv5FIjq4hLE/df1tLxT5qUWEc+2HeIiG2TcWsv3q5KHn4bQKcOi+MFNjLssghkR4GCAIgpc3XMzNhDNCQHZll2YRrHmxoox3WakwlhWWnPY8j7NcH8EYjqE1bZ0ckZGW/J8iokWXvH3yLituL1+XU2a2MC3BfoTV5f4ZKWgLR+HXU9ylTuEgwSmiTbelQATa8p+M2ATvcBTTRWwIe5dV96uDYFc6Vl/hKC6LFS6dPeF6928mJMLDgK1bt3LLnX/9juxKTlXhHGrilHmvt+YLY25zw7zDcn0Ee+5mf/qVDUfJjwmPjnSiLJz5dRV1mT+u4BPBZr8ARTZOOUQW6xXtMzI/5CAyGMJRQknEloIQC6tQJHMOC7AIN1FYqu63FI/VV39OwQKnoLMnXOf+zYREeDgjCMgrI8qKaN4TJN7b8oI1xMJIEa1cWMmUm5DxoihFs1/Y3NlRAh92oFvYgEGp5ORsae5TZxGttW7RDBgFizT9JRhFsNli0Wyxr6WPgnX/guC9H8zeL9w+wyDEQ69t8LITiJhwiwEx4eQJJ4KZmjVr4uTJk17lQpWbUCHWwfVYA8oFr175lJULU27zAHidjQuRMDtOONomfYlFRzhRVijwhGu1FXhhq6bfUIoTDnbvboSlSDgKC3w4imz7EBe3pUFEFoSgREBdqJK/hIp3WNZOOIp1X2/MtFh0f608vbaeCGrq16/PFeG2WnUQHS1yvduAPt5hI/MhB+Ob+YIxdhgAIvLPgQibiEjIX0iNFOby/fpv38i6wS6s1bQveCGLVWDcC25pF8vBJox99hngsQoofEpiZJhDoDFSHHPth/C2+upPFKxw6Zy9RKTsKEQwwxPgAMDSz6BijF3zYjlVnuwgjf01Y7FbSf0aGaIQbZGmerTNhbIWHykKTRa2oWQr1IVpUSLyPZwRFheiIX9+KKE0x84CoSGsfdoqNv6IfE+4VWCa8oRzbRm4XVz7pUiYq6H4uFw+jjvFhGuDRHgYIJcnnP2ThcoV8kwPO9AqoMzOrKC2rpb2eo0pWpDejBRtc6Isc6huz7Uf4iLU7O2X7dcEEVfwdCRScPl8UuLVb5gJTt3sBIHY8ndbrW4RrvFlPUGwD4oTjGOSw8wbBl+27RYrrBZ9paSdYsKJYIZx8vrm/wfRkc6QF8HBIKxD3bta1NPpK+bXbGEr2y8tAAu8nSLjt6IwHEWrt7M0eRfN3lYeeoWMWKAtHCVUBG8wHlO1GBk25BAssOnsqXaQJ5xQy2+//YY333wTu3btwoULF7Bs2TL07t3bZ5v169dj+PDhOHjwIOrUqYOxY8di4MCBJdqqVKkSsrKyvMqjKsWgcplc2XZ6CEOzRZzZ3s1gFaEFIQbRFifKIjCecB7hKoDMFhB6b2sEitykcTzhZm+/HME6ruKEsrAruEGLEHyvJwkXQuWcMhJf+ySYY8Jnz56NN998E+np6YiPj8esWbOQkJAgW3/JkiUYN24cTp48iVtvvRUzZszAfffd5++wFUEivAj//PMPKlSoEJC+rl+/jvj4eDz99NN4+OGHS6x/4sQJ9OrVC88//zy+/vprpKamYvDgwahZsyZ69uzps+3Vq1e55farWYi2ao//NVuYhpLHMVhFaEFcZ4TFvwtpsG6XUQTjhTmQY7Ll92VD6HvC9SAYj38gULJdBeEogkZPeKhD287HCQuc0Dkm3I/+Fy1ahOHDh2POnDlITEzEu+++i549e+LIkSOoVq2aV/0tW7bg8ccfR0pKCu6//34sWLAAvXv3xu7du9GsWbNAbAYXEuFFuPPOO7Fq1SrUqFFDc1/33nsv7r33XsX158yZgwYNGuDtt98GADRu3BibNm3CO++8U6IIz8vL45azPDsqR+QoH7QMhgqwIP2iC3VhUeD9LmtxoDzsJo9GX4L1HDKTkmPCpZv1SMGpeWFmaSfczr9A3qCFG5ZSsj98Lcx0CBZYgzAcZebMmRgyZAgGDRoEQNJYK1euxNy5czFy5Eiv+u+99x7uuecevPbaawCAyZMnY82aNfjggw8wZ84cbRvgAxLhRWjVqhUSExOxevVq3H777e7ytLQ0jB49Gj/99JNutrdu3YoePXp4lPXs2RMvvfRSiW3bt2+P9evXe5XXTrodlYUbARohEcpEIyr/pwNlw1yEE+pxh6PA5RbkBAEA1vxzwwoXbKUgHIXwxrcn3AondH5Zj8r+7XY7du3ahVGjRrnLLBYLevToIfuG8a1bt2L48OEeZT179sTy5ctVj1cNJMKLMG/ePCQnJ+OOO+7A8uXLUa1aNYwdOxZLly7VPS4oPT0d1atX9yirXr06srOzkZOTgzJlyni1ycvLQ15eHjp27MgV4bd2bVbqvFoiVKwiLUW4w1EQmnGddFz1xb0wk7ydRDHUnhs0V8MPwYcId8ECl87hKAX9Z2dne5RHRUUhKirKq/7ly5fhcrm4murw4cNcG3IaLD09XcvQS4REeDEmTpyIqKgo3HXXXXC5XOjevTu2bt3qM5jfLFJSUjBx4kTu/6o0uAlRzjxUdl2XbS8atOLYyC9lUTD3AmD2BUjOfjQcgABEs+DxhJt9rLQi6nzhMRJ3OAr44Shmn9ehRLjtK3eKQmhLUWgU4bb/gwFfx91lQEx4gQivU6eOR3lycjImTJigq229IRFehIyMDEybNg2ffvopmjRpgsOHD2PgwIGGCPAaNWogIyPDazwxMTFcLzgAjBo1CsOHD0eLFi1w6tQpj//9feIStn+xAQNG3aNKLGgVRqa31/hloJcw1Hph0DquMrADFqCMaEd58NcQAEbfMBknYs2+MJt9w1HS9kfABQhABDM2HMXs46IUs49fIPD3uzHURLgcoXKuGYnSfeI7HEWAVfeFmdI4z5w5g5iYGHc5zwsOAFWrVoXVauVqKrk1f3IaLBBrBH1BIrwIDRo0QKNGjbBkyRL06tULq1atQt++fXH69Gl3sL5eJCUlecWcr1mzBklJSbJtCh7FFDwu6dSpE3777Tc06XAzDm05jqsXMhHtdMi2VyqC1FyA9Kir7uLBD7Uw/eZAa3um7UsuQsgPR2GiO0+49hsejRc1xr+gGyV4DL3hMNBrztuukhYLukMOmPZwFDXHT49FjHocV4vsuxiUEQwC0KIwDK348fPMEx66Ihxh9OSqJAIhrpXWczALLBqvTyXhyO8/JibGQ4TLERkZiTZt2iA1NdWdGloURaSmpmLYsGHcNklJSUhNTfVYh1eSBgsEJMKLMHfuXDz22GPuv++55x6sW7cO999/P06ePInZs2cr7uvatWs4duyY++8TJ04gLS0NlStXRt26dTFq1CicO3cOX3zxBQDg+eefxwcffIDXX38dTz/9NNauXYvFixdj5cqVJdpKSkrC+vXr8dtvvwEADm05DgBo3rYeKt+4LntRVCyCee+yV9NelTDX5rXX64aB3z7wTxj0EvvRgh2IAKJddpRlvjzhxj010atfs5+mcPvUYV8FUthFwQlYgSjRiUhBoyecc72mJyw62ddjDhY7fp5PSUoW8mbvEznEEMpao/W4BnoG+FqQa2RMuBqGDx+OAQMGoG3btkhISMC7776L69evu7Ol9O/fH7Vq1UJKSgoA4MUXX0Tnzp3x9ttvo1evXli4cCF27tyJTz75JKDbUhwS4UUoKsALaN26NbZs2aIq3SAA7Ny5E127dnX/XbDqdsCAAZg/fz4uXLiA06dPu//foEEDrFy5Ei+//DLee+891K5dG5999lmJ6QkB6Y2ZDRo0wIkTJ9xltepUguASEW236yai5fpV3N6gmwBVtlQJa+VeIbNvWCIs+Z5wUUSk6MsTrsI7reKapuqiwhVxRt4ceO8Ds58a8LZfqxe56DYV9XbaZJ5QKO7XD098iX2q8a77eCOsV78aj4vSs1KvGwOehz7QIrigN4EpPI7BqcGDErljpfXJS6DxNR4Xs8LJ9M2O4vKj/759++LSpUsYP3480tPT0bJlS6xatcq9+PL06dOwFNEWHTp0wIIFCzB27FiMHj0at956K5YvX65rjnAAEJj8O8+JIly9ehWVKlUyexhcGjRogJMnT3qV164Vi/VrhvoQ0YEXwbw+5S5Aiu2ruAnQKsyV3lgEqy25ehWsN6F9zBPYlr0A/7gu5dcNPk++OlvhudbBjHUNlYQquCfqIazKW4G/cUWT/UCNyaO9Tp62YH9C4e7TxLUqVVEJj9juxVLnz7gM/ovhFNkKw0QAXPtBun5Ay37Jzb6BkZUGIisryx0Okp2djdjYWAy68jMiY8oFaphc7NnXMa/yvR72wwXyhCskWAW4LyyiiMpX/4HTxr+L5ApmnrCVEctKBbd8e2UiWqlYl+tTTb+qhB23vbax6hVOEx0prQ2Idjjgctp1s2XkTYx83dBY6yDfPvDjL6l9RH4ISoToRDTzXkditohW89SJ315m/ApdUPqJYIX7RWacRtxEBGy9AOcJS6jcBMna4sxVvbzY2p/a+D8uq4+nYw5mgWBQTHg4QiI8jBEYEJ1r9yHClQlmVSJaobBXY0uNJ12zCNcoImX3FW8bXJyLkmx7bSLYKorunzaX/ON6zTcRKi5AWm3J96tsDEauVVBTT2k4hdbxFxULVkuh0OKJCDXCgjcupYsCZdvLiVCFIlZu/Er3odb2sv1y9ou60BvvMq03PMXFmjX/Bsiix2vr9dCrOmlwbpiVxtAtWVu8+Rqki5hdzAKXziJZ7/7NhER4GDBgwAC89957yMzMdJdVLBeJgZ0aoEzWDUBGwDAbR0RZtXmyeYJfu4jX1j4gtpR6J032+stdwCPzc4NH2+2A3cfCTANDh9T0oYdg180TbtATDnWP932LvYh84R/hciFa1OYJ1+vmht9emQjSzROutL2hIUaBzTpUmKLQBZuKeHsl6LFf9MpkE6zrGri2FGdHUYav4+4ULRBEnVMU6ty/mZAIDwM2btzoIcABIPO6HRsPpAM3GgMRfE+44PA+sa1W78lrlfGkM44wszk5F3sZAccX7IEX1nLluoh4JvPlx/E+aw7dEZVfFCJs+SLL6YLocMr3KedF5nwHqwrnMdDrr9Qbr5ewtnCPtR43ERq900WaW4X8V5MzlypPuFIRpMbrr9kTrCJEwDBPuMZwGpjoCSwQnwLTJnD5T0iCcL/oFc2ig9dfdl5pvWFQsRNcTNA9RaFL7roaBpAIDwOOHz/OL0//B7h6A5DzYvLEOa+M4x0HAIFT18qxZZURFREcwQ+OMOeJfUC711576EwQ3gTItLdZJeEdZXdCyPOROz5I4/f57XV6ahGMqTt19q5HoNATHikqT1FodtYfpRl+gjGmX50t7d5tf0MPrPnnhk0UNWXO0WNxs5owJ8V9qsn6pMKTr0YYa7055Pap4vgXH6vNhx2HKACiviLZoXP/ZkIiPAxo0KABTp06hdGjR2PatGkYfWc9TNt4Cg1iooC/rwORMul9lApuGU86V9yrEPHcupw+BZn2XMEvO1ZOH5z2WgW/fiJemwi3WPIXZuY5YMvJUzUmtba47XVYsCtrS+m+1tpnGC3idYtwp3YRrt3rb5yI1mcRr3FhC0ZkCCpcL6AtHEVzmk6F3lZ1T1LMXesghxGx/oAKse/jBsIlWmDROVzEReEoRDDTuXNndOvWDS+++CKmTZuGEW1rIRqAS2RArhOQC1twccp53mlOKIFUlzMxeLbkxBqvX16fajz5ctvK64MjAHjefQCwcvq18ISVVeaxNVcYcr4UZYWpsrpyIlrID5GwulxAfsiQ0jGptcVvzxm/zCNGXpiNGvsWznmttE+5frl9yogtXr8WXjiPivh7NSEu3PGXECIiFIQcgMEiqvB2+mHLo67C7ZI709ScgzI9KKynwuOpYvu1o8Yz7d++KtgeAcpEq3zokbYwMcWhKxpDI3Qbv2bBrzV/v/+ZXHzVczCL7uFSlB2FCC0yc4EcJ8AYcDVH3hPOK+cJE7086TzBr4MnXbYPpZ58mfaCitAbXqy9HqE3cqKE5acojMxzgOXaZesauYhWDqNSZ2q2b2D+fTV21Dx1KCBCKOIJd6rwhJudq9+g+H+t4SDB4N32N2tQQQYQm+iCTVTwxkyN49fLO608xEPGlkGZeOT6MDMTj68bANFlgculr0gWde7fTEiEhwHz58/HqVOnkJubCwCYsfMspu2/iHrlIjChWTV5TzavnCe41XjSee3l7HPrKuxTrl+tgl1uW5W2l/GEc2PmONuqmyc+f19ZXWIRT7hxnng1tngeOwvn4q/uhkGFfc6jT1X2OV4bpbHLAN9fyd2vMtOKe7HlPHUoKpYKLvoWmRSFsnC85orHL4Oqha2aPeEcND4JCMAAVNTVX5wIBZ5wzrnBF9H6jF+PTChK7QDKPdFyYl3zzYUO6V+V9in4jAm3gFF2FL8hER4GCPkTbtq0adLP/RelcpEBWbnqPOFqPNG89rwyNcJYqXdcrl+9vO5a49+5gp1T16k8/l7gCACuxx2ANTr/ZSx5TiDHIdun2THxauqavQhWLhxUj5dYcbPLqPDE8+NpC/uMsBZZmOnw9oRrjv/XKCBkRTxHMBuV4hLQ7on3J3TIs67yGxZ/M8lYhYIbNO//aReWgR+/HEr3q+ZMOho98dIYOO1NDIny/dp6/VMUUp5wIqipX78+97X19aOs+SJc5jArFdFyIj5XoTCVs88TjEpvDAC+iJUbq1IRbLaId8goO6XjlxNL5fKFld0JFGRH4cXEy4l4nuDXQcRL5WYvgg28iOd5N3V7Ey3vglWCiLfmi3Cr08V9mZPSRXFSv8rj//ntDRTxvPY62JIVdoaF08j1W7JYK/BsW5m2cBQ9RLDWFJdGxvprFsYmprn0GRPuEsBceq15kHDq3L+ZkAgPA7p164b169d7l5ePkmLDtaImnEQNcoJVKSryZHNFtCpbCturWRiqtT2vrtxNREH+dqerUOjzQlfktpPnmuHsU0Empzz/Ua7scjuFdeUuSkrrqjn/OGEXMuaVh76osM8zJuN9Uhw6U0SsCUV+WnihTzLiq6R+Cytym/NRsa389pwyjSEmqhbb6WBLlTCVsa/m5oBXhxeqpCYcRWn+djX7WnuIivJjpXX8PLTm35dD6cJOrRlXAClzie6ecApHIUKSPCfwT54PEc25sKoJJ9HqSef16+DUtQfAE67Vk83r165w/wF8YcLzeqvx+nNDJGSOdYEth0s6L+Taa/Xk82L6wfewyy5iVehh53nXAePCUbTGv2vPRCMntnjhKJyyImK74CVbNhlPuBzc+HfKRKO4vVJbspmADMhEU/Daet7LevQInZFdGKmDCFaHMsGuZvymo9C77ise3uGwQOS8+C+QuHTu30xIhIcBM2fO5JdfvoFxFaJkhRFXMEapENE8wadGmCpdxMnrU669XcbzzwuJUZqiUW5cSlM0AsoFr9yx4o1Ljf0C4Z3nBHId8u21poPUmp1GxhY3/l1mW5UuWNW+CFWbiFbXXoUXzA/71nzvqVUU+eEosgJC4cJMmUfhSgW7rHWFi2Bl43RLWLBa0gCMSrHIs6OXreIIbk+4qCx9pS6LVQHlXmtzBZv8TUjgF6wGIh2iEnz153QJYDpnL3FROAoRzDCZCcIAeQGrF5GcMrkJqnRsvD4BwM6rq+aGQUV7pS9l4PUp26+aL2WN7QvOEcaKiGcVIRpysepK22u1FaHcFj/wI/zCYWS9o9ybE9/2hfw2gsj47eVjb/jliuxDceiK7EuoeKJQTTiJ0m2V2U7uDYMa77DW8RtoS3F2FI3hMNrDUYIzHEZdmApvDYeKtQYas6OoGavTZTFAhJMnnAhiKlasiKysLO9yAYUeUKXwxKpciIOTM4F5nlw13l3N7VWkY+R6olW8mEgPT7qamwilKR4Bvidc68uOeGiNaVdTVyb+nBurXso96SXdGBRc9CVvJy8mXM6Wwv0iK9Y1etIVpn5U5R3m3q/IpJNUGvqi6n5LmVgOCAps+Z2+UoktHqXckw6ou7ngE1hPuk9PuChA1NlTLdJr64lgJjMzEwBgsVggitJSCxFApgj1nnA1wo4r2DmTRY13WGmfALhfNHJj5YbJ8LpUMdm545L58uPm79ZjW+U8lkV+FrRTOiY5+4o9rjLt1dTlPgjQxxNdWjzpRdsXaEyLyPdkqsrzrdGTriYdIn9hJM9M4PuU65crljR60uXOdVWZWJR6R4vZkrsBk7Ol2ZOsYlvNRo/tV1tXC4HwhLsM8ITTy3qIoKZNmzZYu3YtxPwvr4KvsDYWwfhwFK7HVuNpJruwVEW/mrOjKPQAyb2sh1tXxZiU9isn4nnZUdSMSen2y74AR0UmF6UeK9n4c4VZX7ghLgBP3CoX5vz26kS0HiLetx0h/7tDEOU84cqzo6gSS4pDPzS+QEe2uUbvrGLnqrabEFlPpAEvFhKQ7wkXmaaYcKWhG1rDabQT+IwpUl2NWW9UiXiFLxZSmE7SpyfcKcDi1NkTrnP/ZkIiPAwQ5TwHjEleTzXeYa1oFbt69am1DzXimofi+HMVx0RVTDwr/Cl3UwOA73IGFF+YtAprQMXTCI0iVjYnu7IbBvlnFmZ7wtV7zT1CDtQIOz289lpTFPLsqxDRXBEst0+UphiUDb0KfDpG3WLCoS0m3Kh0jFozyagTxspit9XYV1NXe0y48vh5ORxOCyxOnT3hOvdvJiTCw4A9e/bwyxkkwSXnHbUqDD2RjbPmZezQIZyF16dcv7Ix3Uq3VS7+nGefd1EL0nAW3sJMrSEeSveJmvZyaA190ZjSnr9fwiecpaSFmWrCObSiJpxFa9o3o8JZ9FiUp8a+mjFoeSumWiicRS9PuDHhLICUHcWid0w4ZUch/GX27Nl48803kZ6ejvj4eMyaNQsJCQncuvPnz8egQYM8yqKiopCbm+vThiDruYB6TzgvTlruURBvYaHSPgG+YOTe8cqlKFTYJyCToUWFiFXqdZb1mPNsqRBWSgV7STc8LrHwd1UvkFG6r1S0lxU2Gr2rim8ODBTBBopYrfiKAfYm8PtKneDVFs6iOEWg7D4JfPy8qu3X3F7j+DWGk+gR064Gs7OzGImWcBZf4S0ul6B7uIjeb+Q0k+C7NQwjFi1ahOHDhyM5ORm7d+9GfHw8evbsiYsXL8q2iYmJwYULF9yfU6dOlWjnn3/+4ZcX/FIgvIp/lFIg5L0+GvqU7VePPlX0K9desX0V+1rNtiodkxr7IvP+qEHLfpKzr3YM3HFxtl8POyoQROb1sbhE/iffG+35ETkfXj01dYv8v0g4SjAit6262MrPAlL0o0efavq1MJH70ToGI9vrgZox8eZFsKJ0u7SeV4HA5bQY8tGLK1eu4Mknn0RMTAwqVqyIZ555BteuXfPZpkuXLhAEwePz/PPP+2WfPOE6MnPmTAwZMsTt3Z4zZw5WrlyJuXPnYuTIkdw2giCgRo0aquyUL1+em6KwvPoh84WUmkf5WkM8ePBSIQJ8r7Nsmm+FnmhV7VWEzvAEA9djqzUcpgT7YhGxrCacRG67lLaXG5fiPnQIMVETOkPuCl3gCyFt3nGt9rWGLeiRXcbYcCDP8Qsqb3aM9GTrgZGLJc32jgcCh1OAoLcnXMf+n3zySVy4cAFr1qyBw+HAoEGD8Oyzz2LBggU+2w0ZMgSTJk1y/122bFm/7JMI1wm73Y5du3Zh1KhR7jKLxYIePXpg69atsu2uXbuGevXqQRRFtG7dGtOmTUPTpk25dfPy8pCXl4cWLVpg48aNXv9vVdIgtQpuJ+cCKvfac6UozadNGAvvXFG1Vk7jucYjEIJfKTyxqPTGhPCRZ9wYYWa2fSMJpW3V4yaIMBanQ4Dg0FmE69T/H3/8gVWrVmHHjh1o27YtAGDWrFm477778NZbbyEuLk62bdmyZVU7THnQ2a4Tly9fhsvlQvXq1T3Kq1evjvT0dG6bRo0aYe7cuVixYgW++uoriKKIDh064OzZs9z6KSkpiI2N5QpwAJCX+gQRBlgt/A9BEARhCC6HBS67zh+H9L2enZ3t8cnLy9M09q1bt6JixYpuAQ4APXr0gMViwe+//+6z7ddff42qVauiWbNmGDVqFG7cuOHXGMgTHkQkJSUhKSnJ/XeHDh3QuHFjfPzxx5g8ebJX/VGjRmH48OGoW7cuNxwluiSDWtP22XghAlpTAXL6tAUiRaFGcaa1vVIvlKrc4WpSmQmFP/05RlqPq1YvnJFePJ4t8s5pwmwvrNn21aB1rNrbe57rTMd9R17v0CfCAQM84YADQJ06dTzKk5OTMWHCBL/7TU9PR7Vq1TzKbDYbKleuLOssBYAnnngC9erVQ1xcHPbt24cRI0bgyJEj+O6771SPgUS4TlStWhVWqxUZGRke5RkZGYofYURERKBVq1Y4duwY9/9RUVE+s6e4S+XEGq+cJ7bkBJhSESjbnmdLxZey1rGqaq9wrKrGr3FbtfbJu7hq3v8a7avtQ2l7rduqA6KMfeWvrefvP6V1Perlx7EaHberfKz6jItrX+M+0ENYBiJ22Khja+Q5pMaW0uOiqk9VdZUfQ6X9BkOcvdWgcBQHgDNnziAmJsZdHhUVxa0/cuRIzJgxw2eff/zxh9/jefbZZ92/N2/eHDVr1kT37t1x/Phx3Hzzzar6IhGuE5GRkWjTpg1SU1PRu3dvAIAoikhNTcWwYcMU9eFyubB//37cd999/g9ErQdTDwGklxfabO+2Hl7rQIhYX/36G7KhVFiYLaz1gnes5fYJZ1x6ehMDjRoRbLYn06iFbZq9y0EglrQiCoIh2xEO+yoY0Wu/Rhi0MDMXUva4oiJcjldeeQUDBw70Wadhw4aoUaOGV7Y6p9OJK1euqIr3TkxMBAAcO3aMRHgwMXz4cAwYMABt27ZFQkIC3n33XVy/ft2dLaV///6oVasWUlJSAACTJk1C+/btccsttyAzMxNvvvkmTp06hcGDB/u0U7NmTZw8edK7HJDEi9xbFJV6gqNkThNunmwV3mXea+ejFPYpVy73KnulY5XdVwpvLuTeGMmrq3RMcv0q9e4Dbk8nBKFQJKoav8YnAWo80dxwEI3t1Yh4nrDklvHb8wQ3z+sdUE+2H3WL1hPyf2cWQZdwCHVj5ZSp8SKqsa+D11udd1aHbdXoHS7e3ld/gbbls71S77CKG0Nd7Ovg8dazLr+9xeffRbE6LRAc+t4MM5UpCm+66SbcdNNNJdZLSkpCZmYmdu3ahTZt2gAA1q5dC1EU3cJaCWlpaQAkLaYWEuE60rdvX1y6dAnjx49Heno6WrZsiVWrVrkXa54+fRqWIl8YV69exZAhQ5Ceno5KlSqhTZs22LJlC5o0aeLTzoULF/jlgCSe1IRoqInz1irMeLHeakIc1IhQxe3lbCkUhrK2dAgnUbWvhMKfbq+4xn3ljydeSXujvOZyF2ut8e9hiFbBrxd62DeqTyPbS30Y9dQgOOO89QjxCPUUg4EYv80hwBKIdVs+EHUKd2ncuDHuueceDBkyBHPmzIHD4cCwYcPw2GOPuTOjnDt3Dt27d8cXX3yBhIQEHD9+HAsWLMB9992HKlWqYN++fXj55ZfRqVMntGjRQvUYSITrzLBhw2TDT9avX+/x9zvvvIN33nlHtY0yZcpwVwmXASRvq5yo4Xmded5ZOe8w15PLscWzo8aW3PjVjFWpJ1quPe8iyPO6y3r9FW6XGk+0Uu84wF+Y6U97rfaV1OX1q9mTruKGTaHXWy7EhOf1dtq8t0mNsNInJryIJ7xITLgetuRQ6gnWGg4jJ6y0Cm5ev3p4t9XZ1zj+YmUMgvunl5dcB6+z/LEKjZhuYz3W+twwqHkaYjVAhOsZc/71119j2LBh6N69OywWCx555BG8//777v87HA4cOXLEnf0kMjISv/76qzuyoU6dOnjkkUcwduxYv+yTCA8DcnJy+OWAJP7UhJOoCZFQGk6iJhyG16eqmwC9RLBB4SSqbgJ4YlXuqYOl8GfBWPQQ0XL7T49wEo6wleoqFOFhFE6iuX3++eGyWQwNJ1EqONWEk2i+udEhnESrsJa3b0yIh2TL+waNwknMDSfR6skORJx4hBOwODR34xPRqV/flStX9vlinvr164MVeSlTnTp1sGHDhoDZJxEeBjid/DPUCUgXV1XhJAqFMaA8fluNiFcjbLXGdKsRoUrHpVXEqwnRUOPd5S3M1BoiotRjHQhbXGFunCfbWBGt3pMdSDQLfq3CwMCMJcqFocz2GySCAhHT7q+tgm1XujBTj4wlavoNpYwlQZtJRq0nXOcQPr2zr5gJifAwQPa19QKAMhHqPMlqPNlcT7rGEA2t4Sih5MnWY2GkXPui3u+CJyNqhLHS7Q+ECOddmFUI/nD0ZPPrBc6+kP/2T5fVCidnXYjZCyNVHaswWxjps70BtgrqMKUivJR7sgMhrPUIfdGjPQDY7AKsOmd/ctlJhBNBzLVr1/jlDJIolBOGmmPCFQpurTHlcu1D3ZPNHb/OnuiinnA9PNlaY8qBUu/JVhz7GkD7bm+nRdBFcGsWxiZ7suXbG+PJDoR32V9bzFd2FPJkK67Lb6/PDYPW9mo94Va9F7OTJ5wIWcpEAGXVxISriMlWKri1hohoXWwJKI+pVrNYUE3uaKWCXa/Fiko94WpiunVY7AiEpydbq4hXakfWfglxygVZmlwWC3cRqewYlC5M1GGxo3z7wMdkG+ndNd2T7BX3bXH/NCQmPIQ82UbGZBsqwmHx+XdRIhz6e8ItJMKJYMZms8HlcnmXCwAqRqnLna01O4rSLCJy7fXwTsuOS8XCxkBlJymprtaFjXJfhgXCO8oGREdIv/PElslx1lJ5aItofp+Bj7MO5AJEa1ERriJFJC1sDB1PuL/9svwqLosAJyu571AS0fz25o5ft/Y+hHRJtkr0hOsswskTTgQ1sgszGSQBrCqmW4UIV+q1VhMiolQsy/Wrd4q/QLY3UoQXDUcpEN86vAXSKTN+Y9PeBT4cRI+MIXIoFaGB9C57hKNQij7l7Q1Km2emd7ygjihYFB1HM8MmfNcNvjhrI4W1HvYBIDJXgE3UVyQ7KSacCGYqVKiAzMxM7/IICxAbpVJEa0wRqIeI1rpYUq6uHjHNer3FkTt+FSEeUTYI+T9RRvKEB6N3Wr6uRmGih/0wWqxos+QvzLRYuZ5wWqyozZbZISZSXf9EqEuQzg1unvAgjJ8mER349r7q2Rz89+4FFJ1TIJoJifAwoGLFilwRXjHKKgkuOe+qUq+3XosVlYaDqAkxUTNWI2OytcZUc0JHlMZOA4BosyIC+S+Nyd8WfRYbKhe2cpi9MJLbp8YXyOixMDGQYR+u/PPGZbVAdKnYVoNEqJHhGMHoCZevq//CxAInpyio85wrsxV8CxPNFtYBGUOA2/tanGuzC7BBZxVOnnAimLl69Sq/3O4CKpVRJ8L9SXvn0V6jMNYr97TWFHtKBbPMRZnx0r4Z6IlGVAQiANijIiA6IlX16atcqX3yRAdOMPvX3rd9Z/6YnRYL7BHelwUjPdFq+gwVT3QoxxkXCDCXxQonSl60S57oEGqvcPt91SMRrg0S4WFAbm4uv9zFgIpltKf4UxOnHIwhIkCpT3tniYxAOQD2yAg4oyNl62r1ZKtJBac5O4icMKPsHKrrReTnCXdarbALyi8LobCwULX9EEp7Z0R2DmdBqJIguG/W9LLls71SwWi2sA1AnDW3XxNvGEoMR/G7Z4VQOAoRzMgvzGRAuUh1IliNJ1qrd1lpnLNOae94iwiDVURr6RMALPnHxWktTEGnarGi1nzKlDua017j+AMobD0WZjLOviYRrbhPre2DLUSD+fiflrR3ajFbHJvtdef2qXlMCs9/H/WsdgE2zndGIGGUHYUIZmrXro1Tp055l1csA8T6CEcxSkTLtHdxRXDgvctq6hqZ+1lznLQKj6st3/udGx0JO6Lk7ZB3WXn7UBKmJdiPtEqXAofVppMn3OxwkODyLvtTV5f2CoRhwcJMl+AdjmL6+EM8HEW2X43hHYEel6/kJzY7YPN1pxYAGHnCiWBm4MCB+OKLL3DixAl3WYNq5dG/S0OganlD45R5L/ow8s2CtFiP32e0TZrqdpsNuZER8n2anAVDTR/BmAVDzpbmPnXOghFpyT8/dBPhJIK57Q0KsdDShzP/eDisFtiZ8hc5KSEYRXCwCWB3vzrEXSuda05B/rjbHAZ4wp3kCSeCmI0bN3oIcAA4cfEafjtyCa4ykSEvogORj1nvl52UaF+HOGd+e74dR/5xddissDP5aS9v35gFdIGwFfL2dUjFVlLdohkwtMT9Sn0EVzhFQOyEeCiFlj4K9JUIS8BDKowKp1DVZxiKaD2x2QGbqK8Nxo+4DQtIhIcBf/31F7f8+MVryKxYztgQjSD0Dsv1W5rCIVi+9zs3MgI3LOrDURSPKYTyIWu1ZazHVV9h67AUCUfxcZMWCFse7UNc3OrjiQ0u77ArPwTFBYvbKx4ogtGTLduvDoJXr7FybWnY176Ou9UAES6SCCeCGcakgCyLxQJRFGERAJFJEzw32ocnXOOb+TQvgNPoXeaPScUNRxCGM+gVohFZ9LXk+b+bHqccwmnbpHrB5/H1t70r//8uQeAKA7OFoentdVhUB4SGJ9iZb0MUtNkzSnDq5R0OFcGsyo7CbWI+6tkc+r8xU3RROAoRxAwcOBAbN27E2rVrAUgCPDGpPlq3rYfMCuUMzQJh9mI3I0MU9FlApo+ws1nyF2baIt2ecLPHr91WaAsz08dfpH1BHLjdakMui9DWb5B5cgE9vaOhM1auLQXz1e0J5yzMVGXLMBFu4P4z8lgZaEuNbZud+y65wNp36du/mZAIDwM2bNiA9evXY/To0Zg2bRr6v9gNX7y3FnbBgifLl9Mcp2uosKYsCprr8rBZJGF1IyIC15h8OIqs/TASnIEinLyjjvxLgQP6LMxUQ7CJ0IDYCWEvqguFT0mcxc55M4VhUNg3UPCrIdDfTb4WZkbmAJF6TyOdw13MhER4GHDy5EmPv+35GU7OnbmKG5GRsu3MWADmT91gfewfSp5UXpqxYBS2gD7iNpTEohlj9SW0VNsycLFYaRFhweAFdcGi+dwINMEogvW6OdeKXqFEVrsAm4qQUX9w6RzuYiYkwnVm9uzZePPNN5Geno74+HjMmjULCQkJsvWXLFmCcePG4eTJk7j11lsxY8YM3HfffT5tPP300xg/fjymTZsGAFg481cAQJeBdyIzuix5MWG+J5fbp4Er+6OQ7wm3RuCajzzhqmyFocdS1n4IezKV4Mi/MXNYrLBzLgtmi105gnFcwSgM5VDyvVhwbjgFi6ZwFK0E47HmESrj9EXxbfB182WzA5xsxwHFRZ5wwh8WLVqE4cOHY86cOUhMTMS7776Lnj174siRI6hWrZpX/S1btuDxxx9HSkoK7r//fixYsAC9e/fG7t270axZM1k7LpcL3bp1c8eEA0DjLo2xd/0ROCw2PDT6IXf5imkrILpE/Gvcvzz6WDZ5GSxWi0fd6XenAABeXzPaXfb91OUQXSJ6j3+4xO1fPuk7WKwWPDimt0f7Q2sPokm3prh/TOEYfsjv9yEF/a7I7/eBIv0WtH8g+RGPut9PWgqL1eJh68epyyC6RDw43rMuj4L2940pHNfMHlMAAMN/HesuWzl1GQ6vPYDbuzVDryK2VubbekCBLcBbbP448VvJ/thC+z9N+Q6iS8T9yf9W1CfAj+vUcrFYOXEJLFYL7h1buF0/T1kK0SWiV/KjivrgiZWf8vu9p0i/73efCAD4v9Rkn2Wr8u3fp9C+7LiK7ZefJy6GxWpBz7GF+3v1lG/xZ+p+3Na9uUf5B90nAACGpU4ose7qKd9CdIm4N7mP6jEBwKr8cd1dpM9f8vu8R0GfRft4auxgAJK3873ukwAAQ4tsg1y/vDHMzt8H/1k70V22ZvISiC4RPSf09Wi/esIiWKwW3DWu8Jh91C1ZU/s1k5fgaOp+3Nq9eYn9fphf9vzaye6yXycvxtHUfbi1ewv0GNfHo1x0ibh7wmMeY/hlwkJYrBZFdZUi12fxcYkQkJpv664ittbkt+9epH3q5MU4lroPt3Rv4VH+SbdxAIBni+yDonWfGDcEgLQ4b0638V51S2qvxFbR8fv6Xvp1wjewWC3oNq7wPFg7eZHbVvFy0SWix4THZfvz1e+n3aTv9yFrp6iyVXT8qfn9di1S9/NuYwAAz6yd6i5bl9++e7Gx8tqrqavGlr/YHIBN5/sOl84vAzKT4HxuEibMnDkTQ4YMwaBBg9CkSRPMmTMHZcuWxdy5c7n133vvPdxzzz147bXX0LhxY0yePBmtW7fGBx984NOO1Wr1EOAA8Mf6PyDabFg28Tssmr4SmbYyWDR9JZZN/A72iEhk2sp4fOwRkVg28TssnP4TrtjKYuH0n3B4w2Ec3nAYi1NWItNaBotTVmL5xO9gj4hCprVMiR97RBSWT/zOq71oi8Dyid/h25QfkW2NxrcpP2LFxKVwREQi2xpd4scREYkVE5cqau+wReL7CUuxdNoPyLZGY+m0H/D9hKVw2BTaym+/bNr3uGaNwrJp3+PPDX/gzw1/eJT9MOFbMKsNP0z41qvcaYvANWuUso/F8+O0ReDHCUuwfOoKXLNEYfnUFfhxwhKpT4t3fbnPjYKYcEtEkbJIvz8uWwRWTliC76cuxw1LJL6fuhwrJyyByxahuI9cIcLrI1pt+Cl5MX6Yshw3hEj8MGU5jq0/hGPrD5VY9lPyYrisEbghRGr6eI8pAj8nL8bKKcuQK0Rg5ZRl+Dl5MWC1eZUXjEtJ3Z+TF0O0eu8D3scu2Lw+zGrDquRF+HnKd7ALNvw85TusSl4E0WpT1GfB/l6VvAibPpO+PzZ9thbH1x/E8fUH8dOU75ArROAnH/0WtC9at6D9qslLYYcNqyYvxerkRWBWG+zw/DCrDauTF3nU1dp+dfIiwGpV1O9f6w/ir/UH8cvkJXDCgl8mL8EvyQshWK34JXkhVk/+FnZYsXryt/gleWH+GKweH2a1Ka6r9CPXZ/FxrZm8BGuSvwGsVjjzw0WcsABWK9Ykf4M1+dtVUE+wWrzK/1p/AH+tPyBbd9un0pPVbZ/+6lX3lyLtf5m8BHZY8Yt7TFL7ouVydZm1cNuLbkfxD6xW/Jr8DX6dvBhOWPDr5MX4NX+svPLi+0VNvyfWH8CJ9QdU2xIhuD+C1YLU5AVYO3kRnLAgtUi/qfntUycvRmryAu5YYbUiNXmB33XV2CpxH8lgyzPmE64IrCC/HRFQ7HY7ypYti2+//Ra9e/d2lw8YMACZmZlYsWKFV5u6deti+PDheOmll9xlycnJWL58Ofbu3etVPy8vD3l5eXjjjTcwdepUr//fMUryQGxKWQxLhBWiw4U7RvVBxxF8D+rmGd961VXTXmmfHUf8W7ZcgLLTcfOMpdhYpP2do/qg4wi+t1lNXaXtAXD71GpLj/EDQHVUwNNCR8xlm5GBfzSNJ5DjUtov4L2/eWWBsK90THLHW25cwXpubJ6xFFkrD2Pjxo248847EdvrdtltUDoGs9urOTZytoq3V/vdqeZ7Uk2fSm2paQ/wv+c3z/gW2UXOjZj8c0NNe7OvKVr6VbNdWq6rHUf1QYcR/Cd4W2YswWYNdQEobi9HXvYNvF9X0i6xsbEAgOzsbMTGxuIlyxlEIUZVf2rJQzbeFesgKysLMTH62jIcRujCuXPnGAC2ZcsWj/LXXnuNJSQkcNtERESwBQsWeJTNnj2bVatWjVs/OTmZAaAPfehDH/rQhz700fVz/Phxt/7IyclhNWrUMMx2jRo1WE5OjkZlFnxQOEoIM2rUKGRlZWHkyJHo1KmTx/86deqEkSNHYvRoKZ47IkIKRxg9ejSysrK4H15dNe2V9umrXGu/Wutq3S9KbZ05cwYAcObMmYBuq5EfvcaldH8btV8KjpXS463XOa/XMdC6b4OtfcG80noeGfkdo6ZPpbbUtNdaV0v7V1991dD9Eojz0Oz5oZctuc/p06cBAJUrV0YB0dHROHHihObzXOnnxIkTiI6ORthh9l1AuJKXl8esVitbtmyZR3n//v3Zgw8+yG1Tp04d9s4773iUjR8/nrVo0cKnrUmTJjEAbMyYMR4/u3XrxgCwSZMmedQr+JvXR/G6Stv7Glfx9mrGpaZfNdul1ZbW7crKymIAWFZWVsC21Uj0Gpea/W3Ufik6r4rakjveepzzPAJxDLTO+2BrX3CsOnXqpOk8CsR3px7HVum41LbXWtef9gXfgcF8TdHr3NDj3NJqyxdKr1eEekiE60hCQgIbNmyY+2+Xy8Vq1arFUlJSuPX79OnD7r//fo+ypKQk9txzz/m0k5yc7PGllpWVxSZNmsQ6d+7M/XJOTk6W7aMoXbp0YV26dFHU3te4irdXMy41/SrdLq225PaLmu1S+qWmdfx6ode4lO5vreemGkaOHOl1rOSOdyDODaUE4hhonffB1r5gXnXs2FHTeaT1u1OvY6t0XGraq9kHWvdh0boFx2rMmDFBeU3R69zQOj+MvIYXQCJcP2hhpo4sWrQIAwYMwMcff4yEhAS8++67WLx4MQ4fPozq1aujf//+qFWrFlJSpFSAW7ZsQefOnTF9+nT06tULCxcuxLRp00pMUVhAwUKJrKwwXLwQZtCxCh3oWIUOdKxCBzpWoQMdK/2gPOE60rdvX1y6dAnjx49Heno6WrZsiVWrVqF69eoAgNOnT8NS5JXwHTp0wIIFCzB27FiMHj0at956K5YvX65IgANAVFQUkpOTERUVmJexEPpBxyp0oGMVOtCxCh3oWIUOdKz0gzzhBEEQBEEQBGEwlB2FIAiCIAiCIAyGRDhBEARBEARBGAyJcIIgCIIgCIIwGBLhBEEQBEEQBGEwJMKDnNmzZ6N+/fqIjo5GYmIitm/f7rP+kiVLcPvttyM6OhrNmzfHTz/95PF/xhjGjx+PmjVrokyZMujRoweOHj2q5yaUGgJ5rBwOB0aMGIHmzZujXLlyiIuLQ//+/XH+/Hm9N6NUEOh5VZTnn38egiDg3XffDfCoSyd6HKs//vgDDz74IGJjY1GuXDm0a9fO/VZAwn8CfayuXbuGYcOGoXbt2ihTpgyaNGmCOXPm6LkJpQY1x+rgwYN45JFHUL9+fZ/fbWqPPwF6Y2Yws3DhQhYZGcnmzp3LDh48yIYMGcIqVqzIMjIyuPU3b97MrFYre+ONN9ihQ4fY2LFjWUREBNu/f7+7zvTp01lsbCxbvnw527t3L3vwwQdZgwYNWE5OjlGbFZYE+lhlZmayHj16sEWLFrHDhw+zrVu3soSEBNamTRsjNyss0WNeFfDdd9+x+Ph4FhcX5/X2W0I9ehyrY8eOscqVK7PXXnuN7d69mx07doytWLFCtk9CGXocqyFDhrCbb76ZrVu3jp04cYJ9/PHHzGq1shUrVhi1WWGJ2mO1fft29uqrr7JvvvmG1ahRg/vdprZPQoJEeBCTkJDAhg4d6v7b5XKxuLg4n2/c7NWrl0dZYmKi+42boiiyGjVqsDfffNP9/8zMTBYVFcW++eYbHbag9BDoY8Vj+/btDAA7depUYAZdStHrWJ09e5bVqlWLHThwgNWrV49EeADQ41j17duXPfXUU/oMuBSjx7Fq2rSp11sgW7duzcaMGRPAkZc+1B6rosh9t2npszRD4ShBit1ux65du9CjRw93mcViQY8ePbB161Zum61bt3rUB4CePXu66584cQLp6ekedWJjY5GYmCjbJ1EyehwrHllZWRAEARUrVgzIuEsjeh0rURTRr18/vPbaa2jatKk+gy9l6HGsRFHEypUrcdttt6Fnz56oVq0aEhMTsXz5ct22ozSg17zq0KEDvv/+e5w7dw6MMaxbtw5//vkn7r77bn02pBTgz7Eyo8/SAonwIOXy5ctwuVzut2sWUL16daSnp3PbpKen+6xf8FNNn0TJ6HGsipObm4sRI0bg8ccfp9cGa0CvYzVjxgzYbDb83//9X+AHXUrR41hdvHgR165dw/Tp03HPPffgl19+wb/+9S88/PDD2LBhgz4bUgrQa17NmjULTZo0Qe3atREZGYl77rkHs2fPRqdOnQK/EaUEf46VGX2WFui19QQR5DgcDvTp0weMMXz00UdmD4coxq5du/Dee+9h9+7dEATB7OEQPhBFEQDw0EMP4eWXXwYAtGzZElu2bMGcOXPQuXNnM4dHFGPWrFnYtm0bvv/+e9SrVw+//fYbhg4diri4OC8vOkGEIuQJD1KqVq0Kq9WKjIwMj/KMjAzUqFGD26ZGjRo+6xf8VNMnUTJ6HKsCCgT4qVOnsGbNGvKCa0SPY7Vx40ZcvHgRdevWhc1mg81mw6lTp/DKK6+gfv36umxHaUCPY1W1alXYbDY0adLEo07jxo0pO4oG9DhWOTk5GD16NGbOnIkHHngALVq0wLBhw9C3b1+89dZb+mxIKcCfY2VGn6UFEuFBSmRkJNq0aYPU1FR3mSiKSE1NRVJSErdNUlKSR30AWLNmjbt+gwYNUKNGDY862dnZ+P3332X7JEpGj2MFFArwo0eP4tdff0WVKlX02YBShB7Hql+/fti3bx/S0tLcn7i4OLz22mtYvXq1fhsT5uhxrCIjI9GuXTscOXLEo86ff/6JevXqBXgLSg96HCuHwwGHwwGLxVOmWK1W9xMNQj3+HCsz+iw1mL0ylJBn4cKFLCoqis2fP58dOnSIPfvss6xixYosPT2dMcZYv3792MiRI931N2/ezGw2G3vrrbfYH3/8wZKTk7kpCitWrMhWrFjB9u3bxx566CFKURgAAn2s7HY7e/DBB1nt2rVZWloau3DhgvuTl5dnyjaGC3rMq+JQdpTAoMex+u6771hERAT75JNP2NGjR9msWbOY1WplGzduNHz7wgk9jlXnzp1Z06ZN2bp169hff/3F5s2bx6Kjo9mHH35o+PaFE2qPVV5eHtuzZw/bs2cPq1mzJnv11VfZnj172NGjRxX3SfAhER7kzJo1i9WtW5dFRkayhIQEtm3bNvf/OnfuzAYMGOBRf/Hixey2225jkZGRrGnTpmzlypUe/xdFkY0bN45Vr16dRUVFse7du7MjR44YsSlhTyCP1YkTJxgA7mfdunUGbVH4Euh5VRwS4YFDj2P1+eefs1tuuYVFR0ez+Ph4tnz5cr03o1QQ6GN14cIFNnDgQBYXF8eio6NZo0aN2Ntvv81EUTRic8IaNcdK7nrUuXNnxX0SfATGGDPJCU8QBEEQBEEQpRKKCScIgiAIgiAIgyERThAEQRAEQRAGQyKcIAiCIAiCIAyGRDhBEARBEARBGAyJcIIgCIIgCIIwGBLhBEEQBEEQBGEwJMIJgiAIgiAIwmBIhBMEQRAEQRCEwZAIJwiCIAiCIAiDIRFOEARRCnn55Zfx8MMPmz0MgiCIUguJcIIgiFLI9u3b0bZtW7OHQRAEUWoRGGPM7EEQBEEQxmC321GuXDk4nU53WWJiIrZt22biqAiCIEofNrMHQBAEQRiHzWbD5s2bkZiYiLS0NFSvXh3R0dFmD4sgCKLUQSKcIAiiFGGxWHD+/HlUqVIF8fHxZg+HIAii1EIx4QRBEKWMPXv2kAAnCIIwGRLhBEEQpYy0tDQS4QRBECZDIpwgCKKUsX//frRs2dLsYRAEQZRqSIQTBEGUMkRRxJEjR3D+/HlkZWWZPRyCIIhSCYlwgiCIUsaUKVMwf/581KpVC1OmTDF7OARBEKUSyhNOEARBEARBEAZDnnCCIAiCIAiCMBgS4QRBEARBEARhMCTCCYIgCIIgCMJgSIQTBEEQBEEQhMGQCCcIgiAIgiAIgyERThAEQRAEQRAGQyKcIAiCIAiCIAyGRDhBEARBEARBGAyJcIIgCIIgCIIwGBLhpZyXX34ZDz/8cMD7nT17NurXr4/o6GgkJiZi+/btmtukpKSgXbt2qFChAqpVq4bevXvjyJEjHnUmTJgAQRA8PrfffntAt40ggpFQmstK56k/tgki1AmluVy/fn2vuSwIAoYOHequQ9dleUiEl3K2b9+Otm3bBrTPRYsWYfjw4UhOTsbu3bsRHx+Pnj174uLFi5rabNiwAUOHDsW2bduwZs0aOBwO3H333bh+/bpHX02bNsWFCxfcn02bNgV0+wgiGAmluQyUPE/9sU0Q4UAozeUdO3Z4zOM1a9YAAB599FGPvui6LAMjSiV5eXnMZrMxAO5PYmJiQPpOSEhgQ4cOdf/tcrlYXFwcS0lJCWibixcvMgBsw4YN7rLk5GQWHx+vbQMIIoQIxbmsZJ76Y5sgQplQnMvFefHFF9nNN9/MRFF0l9F1WR7yhJdSbDYbNm/eDABIS0vDhQsXsGrVKo8606ZNQ/ny5X1+Tp8+7dHGbrdj165d6NGjh7vMYrGgR48e2Lp1K3cs/rQBgKysLABA5cqVPcqPHj2KuLg4NGzYEE8++aTXGAkinAjVuexrnvr7nUAQoUyozuWibb766is8/fTTEATB4390XeZjM3sAhDlYLBacP38eVapUQXx8PLfO888/jz59+vjsJy4uzuPvy5cvw+VyoXr16h7l1atXx+HDh7l9+NNGFEW89NJL6NixI5o1a+YuT0xMxPz589GoUSNcuHABEydOxJ133okDBw6gQoUKPreFIEKRUJzLJc1Tf2wTRKgTinO5KMuXL0dmZiYGDhzoUU7XZXlIhJdi9uzZIzvRAcnDXNzLHCwMHToUBw4c8Ioru/fee92/t2jRAomJiahXrx4WL16MZ555xuhhEoQhhNpcpnlKEHxCbS4X5fPPP8e9997rdRNA810eCkcpxaSlpfmc7P489qpatSqsVisyMjI8yjMyMlCjRg2uHbVthg0bhh9//BHr1q1D7dq1fW5jxYoVcdttt+HYsWM+6xFEKBOqc7mA4vPU334IItQJ1bl86tQp/Prrrxg8eHCJ20jX5UJIhJdi9u/fj5YtW8r+//nnn0daWprPT/E73sjISLRp0wapqanuMlEUkZqaiqSkJK4dpW0YYxg2bBiWLVuGtWvXokGDBiVu47Vr13D8+HHUrFmzxLoEEaqE2lwuTvF56m8/BBHqhOpcnjdvHqpVq4ZevXqVuI10XS6C2StDCfOoV68eGz16NDt37hzLzMwMWL8LFy5kUVFRbP78+ezQoUPs2WefZRUrVmTp6enuOrNmzWLdunVT1eY///kPi42NZevXr2cXLlxwf27cuOGu88orr7D169ezEydOsM2bN7MePXqwqlWrsosXLwZs+wgi2Ai1uaxknirphyDCjVCby4xJWVPq1q3LRowYwbVN12V5SISXYr788ksWFxfHALBXX301oH3PmjWL1a1bl0VGRrKEhAS2bds2j/8nJyezevXqqWqDImmbin7mzZvnrtO3b19Ws2ZNFhkZyWrVqsX69u3Ljh07FtBtI4hgI9TmstJ5WlI/BBFuhNpcZoyx1atXMwDsyJEjXLt0XZZHYIwxs7zwBEEQBEEQBFEaoZhwgiAIgiAIgjAYEuEEQRAEQRAEYTAkwgmCIAiCIAjCYEJWhP/222944IEHEBcXB0EQsHz58hLbrF+/Hq1bt0ZUVBRuueUWzJ8/X/dxEgThG5rLBBH60DwmCPWErAi/fv064uPjMXv2bEX1T5w4gV69eqFr165IS0vDSy+9hMGDB2P16tU6j5QgCF/QXCaI0IfmMUGoJyyyowiCgGXLlqF3796ydUaMGIGVK1fiwIED7rLHHnsMmZmZWLVqlQGjJAiiJGguE0ToQ/OYIJRhM3sARrF161b06NHDo6xnz5546aWXZNvk5eUhLy/P/bcoirhy5QqqVKkCQRD0GipB+IQxhn/++QdxcXGwWEL2YZbf0FwmwoXSPJf9mccAzWUi+NAyj0uNCE9PT0f16tU9yqpXr47s7Gzk5OSgTJkyXm1SUlIwceJEo4ZIEKo4c+YMateubfYwDIfmMhFulMa57M88BmguE8GLP/O41Ihwfxg1ahSGDx/u/jsrKwt169bFmTNnEBMTY+LIiNJMdnY26tSpgwoVKpg9lJCB5jIRjNBcVg/NZSLY0DKPS40Ir1GjBjIyMjzKMjIyEBMTI3vHHRUVhaioKK/ymJgYmuyE6ZTWR680l4lwozTOZX/mMUBzmQhe/JnHpSYILSkpCampqR5la9asQVJSkkkjIgjCH2guE0ToQ/OYIEJYhF+7dg1paWlIS0sDIKU7SktLw+nTpwFIj6z69+/vrv/888/jr7/+wuuvv47Dhw/jww8/xOLFi/Hyyy+bMXyCIPKhuUwQoQ/NY4LwAxairFu3jgHw+gwYMIAxxtiAAQNY586dvdq0bNmSRUZGsoYNG7J58+apspmVlcUAsKysrMBsBEH4QbidhzSXidJKOJ2HZsxjxsJrHxKhiZZzMCzyhBtFdnY2YmNjkZWVRbFnhGnQeagd2odEMEDnoXZoHxJmo+UcDNlwFIIgCIIgCIIIVUiEEwRBEARBEITBkAgnCIIgCIIgCIMhEU4QBEEQBEEQBkMinCAIgiAIgiAMhkQ4QRAEQRAEQRgMiXCCIAiCIAiCMBgS4QRBEARBEARhMCTCCYIgCIIgCMJgSIQTBEEQBEEQhMGQCCcIgiAIgiAIgyERThAEQRAEQRAGQyI8RHG5gF27gH/+MXskBEEQBEEQhFpIhIcAly4Bly8X/v3330CnTkDbttLH5fJuwxiwdStw6pRx4yQIgiAIgiCUQSI8yDl+HKhTB6hVCzh6VCr75BNgyxbp9z//5AvtBQuADh2AFi2AixeNGy9BEARBEARRMiTCg5zx44G8PMBuB55/Xio7ftyzTnq69JMx4ORJwOEAhgyRyrKzgblzDRsuQRAEQRAEoQAS4UHOtWuFv//5p/Tz3DnPOgUifMwYoEEDoHdvICen8P9nzug6RIIgCIIgCEIlJMKDnMqVC3+/ckX6efasZ52MDOlnSor086efPP9/8qTn31evAuvXA05noEZJEARBEARBqIFEeJBTVITfuCH9LC7C09MBl0NEGdzg9rF3b+HvogjccQfQtasU6kIQBEEQBEEYD4lwkzl9GrjzTqBfP0kgF4cxz7+vXQMyM6XfW2AvJmMsek7qAHt0BXyLf3u1vwMbUe/cZuzcIXV0/jxw6JD0vwLPOUEQBEEQBGEsNrMHUNoZMgTYtEn6PPQQ8O9/AwcPAsOGAR07Ateve9Y/e4bhQXyPEZiBDtha+A8RqISrXv1Pxjh0wQYcTGiCdQNeh3XAUwCs+m4UQRAEQRAE4RPyhJvML78U/r5/v/TznXekmO2pU4Fvvin8f1McQHqTrliB3p4CHMBxNMQBNPMoq4YMdMJv+W0Poev/BiKmWxt0xCZ3naI5xq9fB0aOBD7/PCCbRhAEQRAEQchAIjyIsOU/lygqgv/5BxAg4iW8g11ogy7Y4P7ffjTDC5iNmjiPW3Acz+JTAIWpDK+hPAZiPjaho7tNS+zFb+iEFIxEBOzuRZ0AMGOG9Bk8GEhL02srCYIgCIIgCBLhQYQ1P0qkXTvP8qY4iBkYgSjYAUhe795YhrYR+/ARXkA6anrUHzgQWLgQuLNnOXyJ/rgTm9AJG7AbrQAAFjCMxAz8ih7IOHDJ3W7y5MI+li8P9NYRBEEQBEEQBZAIDyLy8qS0gRcueJYfQHMMxmcQIWAmXkZTHMQK9MbdPQWvPlq0ANq0Afr2BV57rbB8IzqhHXZgBKbDjggAQCdsxG39EoDjx73eunn4cKC3jiAIgiAIgiiARHgQce4c0KiRdwpCAPgS/dEYf+AVzEQeonHXXdLr7Iuydy+wa1dhWEuNGp7/F2HFGxiBO7AJ5/O95+UunoS4ajUGD/as+/vvAdoogiAIgiAIwgvKjmIixdMPFsSCV8UldMYGLC2WcrDtE41Q7g+gUiXg3XeBFSs82zdqVCjAAaCmZ5SKmx1IQDvswCrcg3N3PIasqi/g118965w8Kb3yPiZG9WYRBEEQBEEQJUAi3ESysrzLKuIq1uAutMRePIuP8SmeBQDcdBPw9deedXfv9vw7Ksrz70qV5G2fRy0k4nfkbCqLIslSUK5cYVrEq1dJhBMEQRAEQegBhaOYyN9/e/5tgwNL8ChaQnrF5VhMQTlcAwBERnq3Lx6OUhxBAB55xLt89WopVCUHZT3KO3YEXr9rD8rjHwCFLwUiCIIgCIIgAguJcBO5fNnz73fxEnogFQBwETehB37FdZQHAOTmerevXr1kG4sWeQvxu++WXl1fnA97rsDIHztiEfrCAheJcIIgCIIgCJ0IaRE+e/Zs1K9fH9HR0UhMTMT27dtl686fPx+CIHh8oqOjDRytNxcvFv7+H3yIofgQAJCHSPwLy3AUt7n/n5Pj3f6WW4B69aTfi2ZCKYrVyveY9+vn+ffgPtlo/t4ziHTm4D78jAmYQCKcMIxQn8sEQUjQXCYI5YSsCF+0aBGGDx+O5ORk7N69G/Hx8ejZsycuFlW2xYiJicGFCxfcn1PF8/IZzMcfSz/bYCfexUvu8mfxCbYUecEOwBfhNhuwcSOwdCkwaZK8nebNC3/v3Vv6+eCDwJIl0uLO3Fzg00UxEL79FqJFSlY+DlNQdsPPfmwVQagjHOayPzAGrFwJbNli9kgIIjCU1rlMEH7DQpSEhAQ2dOhQ998ul4vFxcWxlJQUbv158+ax2NhYTTazsrIYAJaVlaWpH8YYO3WKMYCxCshix9BQ+gNgb+Plgl+9Pv5itzN2//2MJSQwduGC77q7H3/DbfBG2cqMnTzpv2FCFwJ5HgYDoT6X/eXLL6WpJgiMHT5s2jAIEwmG8zCQlNa5TJRutJyDIekJt9vt2LVrF3r06OEus1gs6NGjB7Zu3Srb7tq1a6hXrx7q1KmDhx56CAcPHvRpJy8vD9nZ2R6fQHH0KAAwfIzncDP+AgD8jgSMxHR3nUBlJomIAH74Qcr9XTx3eHHSn3oVK/AgAKDMjStS3IrLFZiBEEQxwmEu+0tBSBhj0mJpgghlSvNcJgh/CUkRfvnyZbhcLlQvtjKxevXqSE9P57Zp1KgR5s6dixUrVuCrr76CKIro0KEDzvLejJNPSkoKYmNj3Z86JaUjUciJE0CfPkBj/IGH8R0AIBOxeAwL4YCUBqVbN+DllwNiThUVKwkYiPk4ifxg840bpaTkBKEDoT6X/eXIEc+/r10zZxwEEShK61wmCC2EpAj3h6SkJPTv3x8tW7ZE586d8d133+Gmm27CxwWB2RxGjRqFrKws9+fMmTMBGcvTTwNXrgB/oAlaYzcyb22Hb7p/hpNo4K6Tmuo7z7deVKoEZKISBuB/ECEAANio0Zjz34M4dMj48RBEcYJpLvvL0qWefxcMJzcXOHgQuHEDWLMGeP114MsvPV/sVfT3f/6RbuoJIhQJh7lMEFoISRFetWpVWK1WZGRkeJRnZGSgRknxFvlERESgVatWOHbsmGydqKgoxMTEeHy0cvYssH594d+H0BRnFm/FQ1/8G2XKSGUvvCD9/HeRF2a+9ZZm04qoWFH6+Rs64x1IrnjBYUe7D/rjXw84vd7ySRBaCOW5rIXib7s9e1YS0/XqAc2aSS/Nuvtu4M03gf79gQYNgFWrpDfZ3nwz0LYtkJ4O3HYb0LAhsHw5cPw48P77wIULZmwRUdoprXOZILQQkiI8MjISbdq0QWpqqrtMFEWkpqYiKSlJUR8ulwv79+9HTbl3u+vEd995l9VraEVcHLB2rXTRnTxZKq9VC9i0SXqd/dChxoyvQIQDwBhMxUE0wXnUxDSMxp9/Wb3e0kkQWgjluewv588DnlnbGK78th9L7v4Ur158DUvxMCKR59Gm4qk0zL13CXq1SceJE8CuXUDr1pIQB4B//UtKWfrii9KTNoIwmtI4lwlCMzosFDWEhQsXsqioKDZ//nx26NAh9uyzz7KKFSuy9PR0xhhj/fr1YyNHjnTXnzhxIlu9ejU7fvw427VrF3vsscdYdHQ0O3jwoGKbgViF3e++y+xVvMEikas564leFM3Icgv+ZDHIdP+dnGz26IhwywYQqnPZX+bMYQwQWXtsYZ9gMDuLOK9USBWQ5VE0EtPcfxxAEzYaU1hdnAx4JiXCWGguh/ZcJgjGtJ2DNjNvALTQt29fXLp0CePHj0d6ejpatmyJVatWuReFnD59GhZLoaP/6tWrGDJkCNLT01GpUiW0adMGW7ZsQZMmTQwd9z2/jcYT+ASD8Rkew0Jcrt3KUPtKaNIE7vjvY7jV439LlgDJyYAgmDAwIiwJ1bmshs8/l7zXUye5cG32V9iLt9EC+2Xr2+D0+LsOCuNem+IQpmIspmIsfsD9mIxx2IEEj/p2OxAZGdhtIIiSKA1zmSACicAYRfkqJTs7G7GxscjKyvIrDi3rl99RoWcSLGDIRgX8p8thPDcxDp066TBYDWzfDsyfDyxbVvi4uyi7U6+iVTcTVo0SALSfh4Sx+3D9eqBrV6AGLmBXxe6Iy/zD4/83UAbr0QVrcBf2ozmO4lacQR0ktrdg2zapTiK24SGsQBesRxK2edlYifvwMt5xv2X3r7+kOHIiuKG5rB3ah4TZaDkHQzImPCRxuSAMfQEWSPc8qZ0m4et1wSfAASAhAfjwQ2Dq1MKyrl2B+jiBb/EIKndviaVfcV7hSRCEG8YkMfzqq9Lf6aiB85ll3f//s0oSMt+bj8n/dxkfP/gT3sXLSEUPtPlXPezdZ8HatcAzz0h1f0d7jEYKOmAr6uEkRmMqzqC2u69e+An70Rx9sRCAtNCTIAiCCG5IhBvFnDmIOSatatyLFsjuP8zkAZXMwIHAe+8BX38NfPIJ8B5exCP4DvVwGmn93sIff5TYBUGUKo4cAcaOBQ4cAL75RspksmtXwX8FjMY0bEJHdMZ6/DR2Cyr+3wCkvFcW334rLa5s3BiYMgVo3hwoUwaYNAm45x5PG6dRDykYjVtwDM/iY5yGlCfZBSu2oT0AYN06KavKggXGbTtBEAShDgpHUYHfjxwuXwZuvRXIzAQAdMQmTP+tI+68U59x6kFuLtC6zCHsQwvY4MJ1lMWsoUcw8oPaJTcmAgo9ftWOHvuQMaBlS2DfPqBdk+sYn/UKXj73SrF1FQVftwK2bAEUJo3AjBnAyJH8/5XFdYzBVPyNKpiJV7z+//XXQFYWMGQIYAvZVUDhCc1l7dA+JMyGwlGClOvXgZdeAhY3m+QW4PMwEFvQEfXrmzky9URHA5eqNsGHkJKYl8MNJK2QUQUEUQr54w9JgNfHCcw9lIj7z32MJXgU0chBtWqA9DZvAYCAatWAVirWZBd7CaEHN1AOYzDNS4Db4MDLmImBT9rxwgvA7Nn+bBVBEHqwZQuwZ4/ZoyDMhkS4jvzvf8BP7/2Jf2V8BAC4jrIYg6mw2YC4OJMH5we1awMTMAF/ozIAoPPZr3Fq4VaTR0UQwcHSpdICyt+RiGY4CAC4GcfRAvuwY4f0BszMTODtt4Gff5ZubJUi966TmBi5+G+GWfgvZuIV/IK7URl/46WXpJsEgiDMZe1aoGNHoF07YOdOs0dDmAmJcB3Zswd4A68jIj/d2Bt4HRcQh6pVAavV5MH5QWQkcBWVMQ6T3WU3nnsZ9BpNorSRmiqJ6m++Ae64A/j+e+Dk+yuwDl1RDZcAAIfRCG2xEw9NTUTdulK72Fhg+HDpRTtqKC7CW7cGHn5YivmuVs27/q04ioGYDwDogg3YiDtRC2cRHw/8/bfKjSUIQjPbtgEFLwL9+GPpp8slrb0iSi8kwnXk2BEX/sRtyEMkzqMm3oKUJoGX9i8UcDikn5/gWRxAUwBA4+zfcfmzZSaOiiCMZetWKbTk7ruBJ54ANm8GvnpoMT6+/AjKIBcAsBZdkYSt+BON8NBD2m3WqeP591NPSZ73Xr2AiAjv+kdxGzpjAy5AUu9N8Ac24Q7cjGNYs0b7eAiCkHA4pDddf/ZZYdnSpZ5vx/7uO2n9R/PmwKlTgCgW/u/gwcJrK1H6IBGuI4ePWjECb+B2HMaT+Bo3UA4AcNttJg/MTypUkH66YMMopLjLLz87Gv2fcCI316SBEYSBvPmm599P4it8g8dhgwsA8DWewD1YhUxUwuHDQNOm2m1WqQLMnAm0bSulLRw0qOQ225GIDtiC42gIAKiPU9iIO7F53p9ISpIehV+5on1sBFGa+fpr4PXXpYXP990nvcju3/8GHnkE+OEHqc5TT0k/c3OBL77wfhp18KCxYyaCBxLhOsAYsHdvoce7bqcGWJ7ZFbVqSRN05kxzx+cvM2YU/t5sxP3YhI4AgNtxBNe/WYHXXjNpYARhIC5X4e8DMQ9foD+skFxb31d7BusGfoHoCpFYtAho1Chwdl9+GdixQ/K4VawoX++33wrflnkSDXAHNuF6w+YAgJpIx+u/dEf6thPYuROYPj1w4yOI0sL69VI60VGjPG/Kf/5Z+vk8PsIbeA3pDw7BiY5PYl5OX3yOp/Ee/g/Xxs9AlXVL0AJ7Yc0PVT1+3PhtIIIE1S+6L8VkZWUxACwrK8tnvYEDGZOkuPQZPFgqv36dsbNnDRiojmzbxtjOnYz9/Tdj91TYxA6iMeuN7xggMquVsatXzR5h+KP0PCTk0bIPu3UrnNuf4hn3Hx/gBfbRbBdjjDFRDPSIfTNnDmM2G2MDBkh/Oxye30GOjL/Z0XIt3AXH0YDVwhnWvLmx4yQ8obmsHTP24c03S1MpDmdZYxz0mGsAYydRl3kVcj6z8R8GMDZ9Ot+O08nY+vWMXbhg2KYRfqDlHCRPeIARRSB3/jcYgekoi+sAgFtukf5XtixQq5aJgwsAiYlAmzZA5crAuzs64uh3B1D+qX8BEOBygV7gQ4Q9f/1V+Puz+ARvYzjew/9hGD7ArY2kr1RBMHZMzz0n5QKfP1/622aTUhLWrAnMmgXYqlXG3MfW4BAaAwAa4gRmYygsdAUgiBK5dEnKajRzJnD5r2x0Pv45fsOdOIfaeJuTm/8k6ivqdwfaAZA84enpwAvPufBd22no3+EYEhOBPn2ALl2k0LFr1wK4QUTQQK9uCDBnjuVhOkaiHk7jJbyL5tiPhg1vMntYutCoEdCokQUnTwNffSWVHTmi/AUkBBFq2O3A6dOFfzNY8Creyv9LQMOGpgwLgHSTX5QXXpA+BTRsXw09Pv8Vv6ETbqAshuBTXNoLvP8+8H//Z+xYCSKYYQw4c0ZaEC0I0vzYuvAkXsK7KPPa5/gchYq4K9ahLK6713wBwDhMhhUuZEdURaajLFywouWtN5B+NBt1cdqdunQT7gAApKUBnTsDDf5cg4cxBg9jDH7CvZi+fSSAO3H2rIAlS5StBSFCCxLhASb3/U/QCNJVejda4zJuCrkX86jl9tsLfz+7Mx0YKJPUmCBCnHMb/0J9keEv3FyktNDtXTyLSTDRvDlwAXHoinW4gbK4gioAgBdfBB5/HLgpPH0FBKGaV1+VvN59+wIL3zyDB5ZPwJf4n7T4ukhmk0NojCV4FJGwe4jwg5U74ccfJYdUTo60ELN2bekFfqdPt0f79kB2dmE/O3ZIPyfmpxUFgPvwM+7Dz9iK9piMcVjw9b0YNMjgR2yE7tDDyADhcgGTRlxH7Oyp7rKxmAIAYS/CGzUC2mE7fsK9eOmTxu63gxJEuLBvH9CjbSacPXvhdySiIzZx6wXza+GbNZPGdxZ13AK8gDWrXJTvnyAgTYOZM4EyuIHWi15Hbt1b8UTuXHf2oxxE42M8i3bYjqY4iG8aTcT9T1XC3r3AG28Ahw8DFy8WPhEuU0YS4ABQrpy0oPPgQWD//oK36BYyHDMxAtNxCnXdZUnYhp/QC6+n3o3pT+zD6NGeKQ6J0IZEeID44Qfg+hsfoAYyAADf4hHsgfRGjqpVzRyZ/tStC7xg/Rj3YhXKOzIhznwXTqfZoyKIwHD1KjDoKQdG7HoUt7oOoyr+xiz8Fzc3CK0rYblyUoajFi2ATz6R8pwDQAVko/nr90pxKQRRCjl1Cu5rVoZ0CYcdkbgfPyIaeQCATMQiGRNQF6fxPD7GTrTD9u0CDh8GvvxSmlevvSY5pUp6GV/t2tJN8cyZhZmMAOlJ1RsYgVtwDE/hS+xHM/f/7sKveP2blmiQMgTLPqfcouGCJhHucDhw5swZHDlyBFdKecLZPeuzMAJSDj8RAsZjkvt/Ri/SMhqLBVjZciwc+dFN/0x+B60bXHV/mRHBD81lPhkZwC03MwzZ/1/chV8BAJdQFY8KS7FpiwVff104v996y0dHQcLw4VL61CFDgB9/BG6qkIuNuBPN09eAvfIKkJqKnByzR0logeayOt55R3pafeedkod5/36p3AUbRmMachGFN/AaGuIvTEIyLkOK23r7bWnBpBaaNy/MIV4UJyLwNZ5CC+xDHyzCifyFnhYwDMFnOPTxRrz1FvDss8DcudLbuYkQRW06lezsbPbhhx+yTp06sejoaGaxWJggCMxisbC6deuywYMHs+3bt6tO0xIK+EpDM++Wye60Q/PR352FyGIxYaAmMGkSY59gsHsfTMQ4NmmS2aMKTwKVkovmcsn7cPRoxl7AB+7zOheRrAM2sVatCutkZDC2YYOUTizUmDiRsSkY7d6+62Uqswb4i732mtkjKx3QXNaO1n0onfoiew4fsf0/n2Fvv100i6DIauC8++916xg7cSKgw2c//FBo76GHGGvfXvr9/vsZW7yYsUGDGItCDnsVb7BMxLAleMQr22FkJGO//Raa30HhgJZzUJUIf/vtt1nlypVZu3bt2KRJk9iqVavYvn372NGjR9nvv//OPv/8czZw4EBWsWJF1rNnT/bnn3+qHlAwI7ejxaxs9rdQmTGAOWBlf28/xgYPZqxmTcbWrDFpsAbz+++M1cMJZoeNMYBloQJr0+Bvw/MllwYCceGmuaxsH77UbpP7nGYAewJfsagoxlatMmigOpOXx9jN9Z3sR9zn3sY0tGBlcY3l5Zk9uvCH5rJ2tOxDl4ux6rjAVuJexgD2V8NurE0rl1vc9u/P2KZNjMXHS2JYj+uZyyW9S6RVK8b275dygn/1lfQuDsak93IUjCcOZ1k1pHuJ8IJc5UOHBn58RMkYJsIfe+wxduDAgRLr5eTksI8++oh9/vnnqgcUzMjt6Muvz3DPhl9q9nOXlyYB6nJJLzH5WHjWvS8mYwz74w+zRxZ+BOLCTXO55H1oP3WeXRBquM/nGXiNASzszun332csFlfZYdzm3tZFeJRt/70UfYGZBM1l7WjZh+lfrGYXUdVD0XbDrwxgrE4dFhQ3oteuMVamTOEQbTbGqlVjzGqV/v4XljIGsLcwnEUil6Wnmz3i0odhIrwoSUlJpe4tX7wdvXs3Y6MwlV1DWeaCwD56Mcyu0CoQRcay959kTmsEYwDLRnm27PO/zR5W2BHoN8TRXOaQl8f+btLRfeVLRVdmhYM99pix4zSCvDzGHnuMsdtxiGWhgnubX8d01r8/Y3a72SMMX2gua8evfehyMXHyFCYKgvt8v4Dq7B78xADGoqIY27xZvzGr5dtvGevXj7HDh6W3Ujud0vV2wTvp7G9Ucm/D72jHPh1/2uzhljpMEeGCILCMjAzuYF5//XV/uw1qeDu6VSvp/K+Ki2xg1AL3I6TSzF93P1coXjpNMHs4YUegL9w0l73ZM2G5+xw+hTqsKi4ygLF584wdp5GsXs3YA1jh3m4HrOwO/Ma++srskYUvNJe1o3QfiiJjX3zB2Kj/XGWpFR708H7/gF7uOd6xI2N79hgzds2IIvs64V2Wi0j3tlyy3MT++WEd++UXxv77X8aOHzd7kOGPoSL8kUceYSkpKcxisbD9+/d7/f/8+fPMEqarEYvv6CNHPOOyPv7Y5AEGCSfXn2AOSM/KsiMqMZadbfaQwopAXbhpLvP34fvvS/P5USxil1CFtbduZ/ffz9iAAYw5HMaP1UjsdsbejRnn/lI7izg28mlvUUcEBprL2lG6Dz/7TIqd/hO3uM9vFwQ2BpOZABfbu5exs2cNGnQAuXqVsUWj9rC/0MDjBvplvM0Akd17r9kjDH+0zGPVr5aoW7cufvzxRzDGEB8fjypVqiA+Ph7x8fFo2bIljhw5gpo1a6rtNiT59tvC32fMkNIFEUCdO+vja1s/3Ow8go8qjMXnkeURWXIzwmBoLntz5UrhK9yXoA9+wn24/9/lsXChueMyiogI4N/7k3Gh5ybUPLwO29AeH86NQut7gEcfNXt0hBw0l31z4wbw+dgT2IIOqIgsAMAVVMITWIDVuAf/+Y+U5zsUqVgR6DOtJT4qtxMNxj6Be7AaNrgwE6+gNXZj8M+fIScnGmXKmD1SgofAmH+vSYuMjMTmzZtx/vx57NmzB2lpadi/fz9EUcTUqVPxxBNPBHqsppOdnY3Y2FhkZWWhfEQUZtSehRlXBiMLFXHiRPi/GVMN93XNwc/ro1HwSu9t24DERHPHFC4UPQ9jYmI091fa53LBPjx9GnjkEWDnTs+6n3wi5dUuVaSnY2SjZZiR/TwAATab9NKi8uXNHlh4QXNZO772oSgC69cDs2YBy5czfIbBeAZzsQct8TC+Q+cBDdC6NfCf/0g3oKFMZibQsb0Ljx9JxlgUvrl7EzrC9e1ydH4kzN8aaCKa5rG/7nd7KVytU/SRw9ZBHzMGsEzEsJTmX5s9tKBj61bPUJ2HHjJ7ROFDoONIS/tcZoyxS5cYm1VuBHsKX3il/yqtMZX9+nnuh6VLzR5R+EFzWTu+9uH48Z7ncEwZO1vcdAIrh3/YAw+EXwYzUZTCZHvjO3YNZRkD2FXEsr7xf7BLl8weXfiiZR77/cbMiFC/bdTA+VMO1JifAgCIRTY69L/F5BEFH+3bA3PmFP79yy/Ajet+PXQhdKY0z+UCvumzDMOuz8CX6I85lv9gzBigdWsgORlo2NDs0ZnDmDGef29YcA70GtzghuayBGPAJ+/l4IdJuz3KJ0+PwL/3J+OP0+Xx7bfh9zZrQQBuuw0YsOxf6Ff3N5xCXTyCpVi093Y0bSo9zSKCC02vrS+tbB2+GPXZSQDAvhp3485XEswdUJDy3HPAs0MYuiEVP+Z0w8Hhn5s9JILwInvfSTy17mn33w9PbIkpU4Bdu4AJE8wbl9k0agTk5QExMcDdWI1xS1vC+diTgMtl9tAIwidfzspE45fuxjp0RRMcBCCJ0+efl4RqnTpAZBgvVOrdG/juVBscWPon1qI7AODiRaBJE+D8OXKGBRMkwv2gZepb7t9rzRkXdnfTgeTpdvuRih7ohnWo8b/pYA6n2UMiCDc52Q6cufNxVEImAGD3LX1w0xhaYV1AZCTQv08uPsNgVMVl2NanIm/SdLOHRRCy7P/lAlq/1Al3YhNikY1v8DiGvSBi7drwFt48ej0chW++Kfw7PZ1hQ+PnkDNxhvS4gDAdEuF+cDP7CwDwR82uqPLQHSaPJrhJGNwC28pLd+J18o7jr+mLTB4RQRTy+wOT0TR7GwDgOBrCNveT8HtGrZFB/4nGU/gKrvzLhW3SeDjWbjR5VAThzanUY4i9rwOasf0AgMuWm1B24TzMmm1BrVomD84k+vYFmjeXfp+ACXj8n09RZsJIfH/zy8i5Lpo7OEIfEW6xWNCtWzfs2rVLj+7dzJ49G/Xr10d0dDQSExOxfft2n/WXLFmC22+/HdHR0WjevDl++uknTfbLTB2nqX1pQBCAv58rDC4t++40ack6ERKE+1zukvYeAMCOCBwatxAt7oz1q59wpnVroP9nnTHVlgwAsEJEVq/HwS5dNnlkhBrCfS7vnLsXZXp0RF3XSQDA+aj6qLB3M27p28av/sIFQQDmzgUaNwZyEe0uf/DEezjV8XEp5owwDx0WirJ58+ax5ORklpiYqEf3jDHGFi5cyCIjI9ncuXPZwYMH2ZAhQ1jFihW5bwtjjLHNmzczq9XK3njjDXbo0CE2duxYFhERwX2xgRzuFbAAO1CpY/gtrdaJq1dEtlno4F6invvNd2YPKaQJdEYFX5SGucwAtvaBmYHanLBl7RonW2fpWvgin1a9GHO5zB5WSENzOXBz+QzKu8/Nw5HN2N/7zwVqs8KGvXsZm9F4nvtlegxgl1t2Y8yA8y+cMeW19dkmvwUxISGBDR061P23y+VicXFxLCUlhVu/T58+rFevXh5liYmJ7LnnnlNss+iFO23GKv8GXkqZdudK96Q/H9eabmD8xOVibO7cwF64S/tc3ljxfuZ00PmohJWfnWcZuMk9lzNef8vsIYUsLhdjH31EczmQc5kBbF9sR5Z54op/G1BKmNn9R3YdZdzz+GLtloxduGD2sEKWq1dNSFF45513Ij09Xasj3i/sdjt27dqFHj16uMssFgt69OiBrVu3ctts3brVoz4A9OzZU7Y+AOTl5SE7O9vjAwCHyrRGi1fvDsCWlB56z7kXu9EKAFDz/G5c/261ySMKTb79Fnj66ZLrqaE0z+WziMNNK+fDaqM4cCXc90xNfNThK/ffld4YidwNv5s4otBl+nTpJTGBpDTPZQDYVqUX4vb/gtj6lTRuTXjz3Pe9MKnzWvyNygCAm86m4XKjDnAdPmryyEKPGzeA5/tf97u93yK8VatWSExMxOHDhz3K09LScN999/k9ICVcvnwZLpcL1atX9yivXr267BdQenq6qvoAkJKSgtjYWPenTp06kv3nxkCw0EVbDY2bCNjWrTA2/MrwKbQ6WyUOh3fu5kBQmufynhc+R6MOVTRuReli+Kq78dlNowAAEXDi2gOPATk5Jo8qtPhtdQ4SxtyFbvg1oP2W5rl8MP4xJJ5fhip1ymrckvCnbFlg2tr2mPfMZpxCXQBA1ewTuBbfAde37DV5dKHDhQtAly7A8h/8X17pd8t58+Zh4MCBuOOOO7Bp0yb8+eef6NOnD9q0aQOr1er3gIKJUaNGISsry/05c+YMACBpbI8SWhI87v7oXziExgCAOqc348bq30weUWjx9dfAsWOB77c0z+UHUjqYPLLQo0IFoGPqJGyxdEQWYvCff97A0p/KmD2skOHiRaDfAAv+wO1YikcC2ndpnstN138EIZJeVqQUiwV49bPbseWtrdgPKX3KBXsV3DukNs6eNXlwIcDRo0BCArBjB5AH/7//bFoGMXHiRERFReGuu+6Cy+VC9+7dsXXrViQk6PvymqpVq8JqtSKj2NvbMjIyUKNGDW6bGjVqqKoPAFFRUYiKivIqp5eS+cctt1nwUccxaLL5KaSiG06sKI/B95g9qtCAMeD99/Xrv7TOZcI/Gje3YeH0b9DvdTv+ws345Wng5puBli3NHlnw8+KLwOmMKPwfZuF80/bAwacC2n+pncsWyrjsD4+/EoeNt/2G5Y88i5cdM3DyUBX06gVs2waUoXtrLsePOPHvLldwNr0aAKB2bfh94+L3WZuRkYEXX3wRU6ZMQZMmTRAREYGBAwfqPtEBIDIyEm3atEFqaqq7TBRFpKamIikpidsmKSnJoz4ArFmzRrY+oQ9d5/RFB8s29EAqXvqyDS5dMntEoUHa4j/Rb8/LiMO5gAsdmsuEP/R9tQ4SHrsZAJCdDTz+OEWYlcSePcDChdLvlSsDzyx/IKD901wm/OHOByqiyYHFsDRsAADYt08KWfn6k+s0qYtgtwMfvnkdx5s9hG/Su6ASrqBFC2DdOg2d+rsatEyZMqxly5bsxx9/ZIwx9vPPP7OYmBj2xhtv+NulKhYuXMiioqLY/Pnz2aFDh9izzz7LKlasyNLT0xljjPXr14+NHDnSXX/z5s3MZrOxt956i/3xxx8sOTnZ/7RmlM5HE//5j3tRNvvwQ7NHExqsrz9ASu+ISLZs2NKAnoc0lwl/uXaNsebNC+fz4SlLGDM5Q0ewknUpj91R/U/3vpo1K/DnIc1lQgsHDjBWJj9pSjRusE3owHa0GMTyrtnNHprp/PILY1VxkW1DgvsLb0u57uxihmhOisJvvvnGq2zXrl2sZs2a7IUXXvC3W1XMmjWL1a1bl0VGRrKEhAS2bds29/86d+7MBgwY4FF/8eLF7LbbbmORkZGsadOmbOXKlars0WQPDHv2FF6077rL7NEEP6mf/eXO63pFqMQyjp0J6HlIc5nQwv/+x1hZXGNzMZAxgOU8/DilIC2GKDL2bb3h7BrKsoGYy6KjRJaZGfjzkOYyoZV58xgDRLYY/3ZfqNdF38N2//aP2UMzjV27GGuA4+wIbnXvk2xLDPt76TrGmEl5wuU4ceIEu/322wPdbVBAkz0wiCJj9epJE/0+/MjOPD3e7CEFLXY7Y1+Ue8498Tf2mGDYeUhzmVBCdjZjLSocZ5mIcZ+n02/9jOXmmj2y4GH3pB8KX1aGSDa+31+MMePOQ5rLhBo2bWLs31jMchHpPm/3RbRmV/8oPbnEjx5lbPdu6ffpD21h6ajm3hdXysYxx6697rpazsGAr2SoX78+tmzZEuhuiTBCEKRc1z/ifqzE/YibOxns4CGzhxWU/PDRWfS5Pg8AcN1aAR0W/p9htmkuE0qoUAGYuawhXir7qbvsv0f/iy2fHDBxVMHD+vknUT+5v/vvFR3fxLi5DQwdA81lQg0dOwIf//0oVgxdgyxLRQBAc8duXG2chCXJ4T+vjx0DmjQBWrcGtv33a7y4oiuq4yIA4GrNxqh4aCtsrVsExJYqEX769GlF9SpVkhLlnzt3Tv2IiFLBqFHAn7W6AQAsYLj8aorJIwpOhLfeRBTsAIC/HxsGS5XAvISC5jIRSLp3B8bu64OP8DwAoCxyUPPlvrh+0f+XWIQ6jAGvDMtD+UH/RiV2FQCwofK/8O8N/4VNU14yT2guE3pQuTLQ54NOuLF6E84KUi72BjiJeyYlYeWzK+BwmDxAHVm0CHA6REzGWLT/4ClEIw8AcKh6F1Q6sAlCvboBs6VKhLdr1w7PPfccduzYIVsnKysLn376KZo1a4alS5dqHiARnkREAFXHPIfLkF6UUmX1AuD4cZNHFVxk/ZmBe858AgDIEcqgzsyXA9Y3zWUi0Nx8MzDw75nYL0geottdh7C9vXFPboKNDz4Abp79MtpiFwDglO1m1Fs7DxZrYF/0RnOZ0JOaPZrij7lbsRNtAAAVcA29Pu2N1G5TsHkTw333FWb8CRd27AB6YznGYqq77BMMwYG3Vkt3JwFE1f34oUOHMHXqVNx1112Ijo5GmzZtEBcXh+joaFy9ehWHDh3CwYMH0bp1a7zxxhu6v6GLCG0eerI83v6/lzHRORYWJsI1bTqsn39acsNSwra+M9ETuQCA31s+jy7VbgpY3zSXCT0oU7kMljy6CA0Xt0E53EDXE3PxnwpdMfrQU8h/sWGpYOtWYMdLX+MLfAQAcEZEo+ambxEZHxtwWzSXCb25a2AtHG31G75p+Qweh6S479k0Dk/dWR8/4ymsXg3UqSOFsYQ6R44AK1YAwL/wP/THU/gKr+BtvI8XcenewL8pXWBMfRLInJwcrFy5Eps2bcKpU6eQk5ODqlWrolWrVujZsyeaNWsW8IEGA9nZ2YiNjUVWVhZiYmLMHk5Y8PQjWZj5XT1URBYcQgQ2zTuGrgMC96gnVNm4/G+0/Fd9VMA15CIKB7//C20eiAMQ2POQ5jLN5UDjcADj63+BlPMDAADXUA4fDNqNkXNvM3lkxnDpEtC32UH8cDEB5XBDKvz8c2khTDFoLmuH5rJxTJvKkD12BqZhNFbhHjyAHyBCehPrXXcBv/xi8gBVcvUqEBMjvcX2xAng5EngueeAa9ek/0ciD12if8cvuZ3w1FPAl1/y+9F0Dvq7cvTvv//2t2nIQquwA8/PPzM2CWPdq44/sAxjGRlmj8p8JvbczM6hJmMA29bGM7VYoM9DmstEoNmwgbF5GOCe1z/hHvbFF4xdumT2yPRn3BgX24vC5OmugU/L1qW5rB2ay8ayaBFjd2E1i8VVd6phgLGbbjJ7ZMrYs4ex999n7NNPGbNYGKtZk7FqlezsDbzKHsRy9/bUqMHYtm3SuxD+/FPKVCaHlnPQL084AFgsFtSqVQvx8fEen9tuuw2CEHiXfTBAd9yBhzFg6vC/8dK79VAe15GLKPy+8CQ695V/bXE4c/Uq8NprwLx5QISYi6Fl52HanvsQdVs9d51An4c0l2kuBxrGgFeeu4Yhn7bDadRFP3yJS6iGnj2BVavMHp1+2O1Aw4ZA/XObsAh9cVOTmxC5c6vs+79pLmuH5rKxOJ3AkCHA/Pme5Z2wASm3/w8TK78PS0x5pKUBlSrBHaoSDOTmSmO5fLmwrAH+whfojzuwGZmIRWvsRquHG+J//wPKl1fWr5Zz0G8RfvDgQaSlpWHv3r1IS0vDnj17cOXKFURHR6NZs2b4/fff/ek2qKHJrh+773odrX99EwCQ1uNVtFzzpskjMocBA4Avvij8e8QIYPp0zzqBPg9pLtNc1otlH6XjkReqgeXnALBYpIt4OOpBhwOIiyu8wN8dn4HVy24ADeTTEdJc1g7NZXNgDPjpJ+Ctt4AD6y8hDS1RC+dxBLdhEOZhKzoAAF59FXgzSC7nu3YBbdsW/MUwGJ/hHbyM8pCyODmECOx88Uu0n9lX1XeUKeEoxRFFkf3000/s5ptvZqNGjQpUt0EFPfbSj03fXmA3EM0YwHbe/kSpfeNe06bSozCrlbEpUxhzOLzr6H0e0lwmAoUoMvbuu8zjsfWFMHvfx6pVjFWtKs3Zots5XsE7yGgua4fmsrm8/TZjXZHKslG+MAQLApuJl1gZXGcAYx995N0uJyfwY1myhLE+fRhLSyssW7yYsZ49GXvyScbmzJGGWAen2A/o5TFh08vWZ2zrVr/sBtUbM7du3coGDRoU6G6DAprs+nHmDGPP4FPWBjvY/febPRpzEEXGHotcyhrgOGvUSL6eUechzWUiULzwQn7cKDLY3516M3bihNlDCghnzzIWE8NYPPawSRjLLHC6r+uZmSW3p7msHZrL5rJ8uXS+34I/2TYkeAjbY2jI7sf3DBDZqVPS69///JOxZ56RqkyfHrhx/PNPoelOnaSyU6c8b4yjLXlsBFLYNZT1+MeCCkNYxrFsv20HlQhnjLH69evr0a3p0GTXD5eLsWjJEe5TgIYzF/ZfYv+gHLPDxr6vN1T2aYCR5yHNZSIQvP02Y43wBzuJutIkb9FCumqGMBcuMHbffdKNxSnUYQxgP6AXK49stnOnsj5oLmuH5rK5ZGQUXrstcLLpVd9kYkFB/mc17mJNcMBDEBd8zp4NzDh+/tmzX8YYe++9wr8b4hg7iMYelS7aarDtyT+ybP/1N2NM2zno93u7ypcvj+bNmyM+Ph4tWrRAfHw8br/9duzYsQP//POPv90SpRSLBbjtNmDfPuDoUeDcOaBWLbNHZRwOB/BT1zfxdH5sWsUYZljgLM1lQm8aNgQyUB15iJIK9u0DnnoKWLoUsFrNHZwfuFxA587AuT+vYS3uR12cAQBUwd9wIAJmZQOkuUwYTbVqwIYNwKFDQK9eVpQv/yqEMw/i2pPPovzODQCAu7EGexGPPliMZXjYo31KivRiK62sW+f5d5UqwJUrhX+fQy1UgDQHXLDgl1uGouUPk9Hu9sDn7leDqjdmFuXbb7/FQw89hMz/b+++w6Oqtj6OfydAQkkDE0gizYgUCb0JSFEiqKhgQ5QrYBSuVBGUoiKoIIIXXhQRKVJUpIiAiF6UCwiYS0c6Rnrx0jEJBAIh2e8fR4YMCSFkJjMpv8/zzJM5fc14lqxzZp+9Y2P56KOPaNasGSVLluSRRx6hX79+roxR8ok2bay/KSkwZVIKSV/Mwhw85Nmg3GTW2BM8c9r6P1EiPsQ8Mchtx1YuS3a74w6IpTiP8j2x/P2P3nffsaVpb17obDh50rPxpef3361rhMuX0y77z39g/x9JzKUd9bFGqjxCaZ5gPvWbFMbHx83B/k25LJ5Qvz507gzBwX93BFSxIr7rV5AwbS4HsXr2SqQwK2mWZttJk2DnzmvThw5ZHRRMm3bj4126ZD3gDVb/3vPmwdix15YXJInqZx2r8ksU5j0Gs4Z7+Pj5jTy052NCPVyAA657MDMhIcHs2LHDHMtrT92kop+9stfBg8bYbMZUZbvZRoQxYL4t/qLTPxXlVFu2GLNrl/V+dtir9p/IxtLbLFp04+2y+zxULourXbhg9ccLVh/DlyloP9/f4l3z0kuejtBRXJzV1huM+fBDx2Vz5hgDKWYKUfbP8BcBZv3U7aZvX2N+//1WjqNcdpZyOWd7qvUFM4jh5g2GpWmK8hbvmj6MMfVKHrS3Tnv4YceHuI8etR6qHD3aWh4dbTV/uesuY7ZvN6aovXl3iqnFJvMv+trH2KjEbofjeXHFvP6a6zt9yHFtwvMqJXv269bNmEDOmr8IMAZMEgXM5AF7PB2Wy61Z8/f/FLyM+e83R+09w1ygsIm47X8ZPtSl89B5+g7db/du64EpMKYDXzr8a9yFiZ4Oz0F67UuveuABY4bxhn1hIt6mKb9k6Tg6D52n7zBnO3XKmOeft4rm1DnlT6xJsF17QHJH4drm1AuvmTYsMLdzxECK+f57Y3r3vrbNqlXX3hcgyTwWvt38gy/MFKLMYUqnaXA+jh4GrAvn1q2N+ec/Mx50J6tUhLuJkj37JSYa07atdYV8NZHmFfmHuXLF05G51tViBIyZxEv2ie/u6nvTXhV0HjpP36FnXLpkzJ13Wqd7X/5lP++v4GXMzJkO6x48aMz//Z/1191++CFtEZ6SYj1APsz7HYeFTzMnTaGeWToPnafvMPf49FMrbXx8jIl+9Zu0T2mmep2nqDkZEmGW09ze1eHV10S6mES8b7jtJQqZH7zbmqb8Yu68M/2ufl3JmXMwy23CRbKDjw/Mnw9tl7/CWVsJAB6/OJNN07Z5ODLXunTJ+luFXUQxFYA4/PEdNoiAHNBMTSQ7eHvDl19a78fQjw95DYACpGCefx42brSv26EDvPoqPP+8++M8c8ZxOj4eHnsMuhT4nDcvD7HP78k4vqGdm6MTyZ1efhnWrIH9+6HRmKfYv3gXbzKMjdRJs24xLhB8fAfNWEkihR2WJVEIHxwf1kj2Lkxi81ZcGT+RxAPHaXZ2Ab2+acbKlVAwy12QZD8V4ZLj2GxQ5z5/Dj9nPZzohaHYO/09HJVrXS203+cNCpACwIdeA6j/cJAHoxLJfg0bXhu6fgAjmcDLAHyU0ou72tehVi345z8hOtpaZ/Vq6/aWO6Ue1hrg2Wdh8WKYzxNswBpyb0zpMYynJwBRUe6NTyQ3stngnnuskWUByraqwvu8ST02UpITtGUBo3idxbTmD+7iMoWIx98+4u5VMVRiOxHM5WkGMoLpHZZSIPYshVcsoWD3rviXL0GxYvDUUzm/l7UcfH0g+V2FsT059PUnlDOHqHr0JxK/X0rhRx/wdFguUagQ+BFPZX4H4H+EsrFxH3x9PRyYiBvUrGn9NXjRg/EsowXf8iTss7rl3LLFcf3z58HPz33xXX8n/Mcfrb+xFOcBlvIo33PvW88zMg527ID333dfbCJ5Reo71KcoyXe05TvaplrD4MOlNNuNozfj6G2f/q4dUCTbwsxWuhMuOZZvUGF+bDTcPp3Q43Wrg9484OxZOIc/EeygKxMZWGgMH3xc1NNhibhFqVJWcxOwCvFveQpw7Be/MrsB6xb4gw/CX3+5L76rd8ILkkQQpxyWxRHIVzzPAw9A//7wxRfW5xGRWzduXNp5U6ZcHT7AxqXrmqIA1KrlOF23braE5hYqwiVHqznyWTZRG4DbjmyFmTM9HJFzJk+G8uWtdnEAyRRkMl2hfXv73UGR/OCrr+DCBRgyJO2y+qxjE3WYTmcKc5H//heGDXNfbKdPQxCnWMoDLOd+AoglNBSKFrUGFps82RqASESc07Onw6MglCoFL75o9cXfvn36v4BNmnTtfZky15q35EYqwiVHq3+PF28U+hdgjXLFnj0ejijr4uOha1drMILUfHxg6FCPhCTiUUWKpD33i3GeRTxGUS7SiS+IpjF3sJ8xY+DiReePuWuXVfjv33/jdUoc3MxG6tKclVRjBzHVnmb/PsPBg7B3L7z0kvNxiIilTh0YPNi6o714sTWveXOYNcv6d/P6vK9bFxYsgBYt4LPP3B6uS6kIlxytQAE4cfd9DOZdarCVj4Le47ffYPp0ePNNK0Fzi6u9QnTgK2qzyT5/xQrdVZP8beJEq+cUgAR86c6nJGA1z6rNb2yiDs8wm0YNDRcuZO0Yx4/DM89A1arw7rtw//3pFPXJyTBqFOM330M5DlvzQkMpNfFdChexERxsjf4pIq717ruwYUP6TUsKF7ZGxKxc2RrFFqBtW+tu+cMPuzNK11MRLjlelSowjMHsJII+faB2bXjhBethqIkTPR1dxpKTrQe3jLGK8Ns5ykT+yQbq8SndePghQ8OGno5SxLO6doVz5+DUKevn5fk8SQPW8Qd3AVCcWGbzLG9tfYoFE47bt7t4Edatg8TEtPv83/+sO9aTJ1v7bt0a5s69tvzQIRgzJtUGu3ZZlfmAARQySQBs9m5g/VauJBXxqFdegd274YknPB2Ja6kIlxyvSpUbL+ufw3sufOYZqFbNumpftw5G0Z9iXMALw2W8uZJsu+k+RPIDb28ICrKaiSQmwnvzI6jHBuak6of7SebTpn9Fkt8djkm4wCOPWF2edepk9UE8bNi17gx79IDPP7cKfH9/2Lw57THHjIE5E84yO7QPKdWqw6pVAKRg4wMG0Kvaytzd4FREcjR1USg5XkSE43RBkujNx+wggphyrTh/nhzZtZ8x1346W7QIGvMrzzELgNPcxlCGEhWRwQ5E8qGCBa3X/fdDPAG0Zw7zeIpP6U4wp/FNOQdD3mLf7gssX271npT6Dne1atCmDSxcePNjnT0Ld3ZvSd1UzcP2cwedmc7GIk2Z+aaLP5yISCq6Ey45XuvW0LKl1StBSU6wlRqM5jXG04PjhxLx97cGAWjUyPq5KqdI3aVaIS7z2d+DkgBMLDMcW/HiPPusBwITyQUCAmDaNHjgAdhe6Wna3rWLCbzMFQpYd6pPvuiwfij/ozwH+GBE+iP7FOAK1dlKALEO8yfQDYALFOEt3qMqO9kW0JRt2+Dxx7Plo4mIACrCJRfw8YGffoLLl2H78ZKcspUEoAL7GMQI+8/Pa9ZYzT9yiuPXmq7Sn1FEsNOaqF2bNw+8xJkzubt/U5Hs1rkz/Pwz/P47RP8RzLR6E6jGdgbyAVOWOz7N3JcxHCCcn9YFcKVOfX6iJQtoy1Ii2Up1YglkKzVpxU+A9ZAXwFf8gw8YQCViGM5bJFKEYcOgQgU3f1gRyXdUhEuuUaAAlCxlg3GfkPR3S6o3eJ9qbLOvs327p6JL62oRXpEYBvMeACleBewjEdjUHFzkljRoAL9ThQ+5/mEQQxu+A8CfcxTcvIGWLKUt3xHJMqqzHV8SrH2wDoBevawtL+PDID7gKGXse+vaNds/iohI7izCz549S4cOHfD39ycwMJAXX3yR8+fPZ7hN8+bNsdlsDq+XX345w20kZ2rWI4I5dwwEoBBXmEoUBbhiXx4T46nIHB0/DjZSmERXfLgMwNFn+qUd7isfUy7LrbjnnrTz6tWDglzha57jex7hAOXTrJOID/sIZw7tWIu1k5AQ6NMn7f7GjbvWXaJknnJZ5NblygczO3TowLFjx1i6dClJSUm88MILdO3ala+//jrD7bp06cK7775rny5aVMOE51b/afAWtQ7Mpyq7qMsmXuNfjMQqzCtXhhMnoGRJz8Z47Bj05mOaYfW4sI9wkl5LZ3jAfEy5LLeieXOrz+CrXRIGB8OSJfD994X45JN3GPr3yHteJFOUC/hyngSKcQ4/wPGnp6AgGD4cqle3moV5eVk5Gxnp1o+UZyiXRbLA5DK7du0ygNmwYYN93r///W9js9nMn3/+ecPtmjVrZl555RWnjh0XF2cAExcX59R+xHlRUcbUZ625gpcxYBLxNjXZbKw+SYz55z+NOXfOM7ElJxuTmGjMa68ZcxcxZi31TTI205zl5swZ5/efV85D5bJkxZo1xgwbZsznnxtz+rTj/Kv5n5nXrl2e+wxX5ZXzULks+Zkz52Cua46yZs0aAgMDqZvqibbIyEi8vLxYt25dhtvOnDmToKAgIiIiGDRoEBeyOvSaeJyfH6ynAf/iNQB8uMwsnqXo3+0+J060BvS5atgwq7/xpUtdG8eaNdagQSdPWtNXrljtVgMCYOZM2ENFGhPNgyzhF+4jMNC1x8/NlMuSFffcY42WGxUFt912bf6tPkiZeltxjnJZJGtyXXOU48ePU/K6dgYFCxakRIkSHE/dHcV1nnvuOcqVK0dYWBjbtm1jwIABxMTEMH/+/Btuc+nSJS5dumSfjs9NY6TncS+9ZBXagxPfI5L/UIfNVCaGPozlfazOfefNs+55JSbC4MHWdi1bXhvMw1mJidC4sbW/6Gho0cLqwWXj3z+JHztm/U2mIEtpCVg/eYtFuSyudH1RvXu3NZjX999D06bWg5hvvgl//GE1PwkO9kyceZFyWSRrckwRPnDgQEaOHJnhOrud6AS6a6rH3atVq0ZoaCgtWrRg37593HnnneluM2LECN55550sH1OyT0QEHD4Mx49782T1WWykLuPpwajrek04c8a6O50djhy5VtD/+KP1AmjKSrZQk3gCsufAOZxyWTzBZoOOHeGLL+Dpp61nQxYsgPXrrXbfxYrBk0/Ctm1QqRLqnSgTlMsi2ctmjKvuCzrn1KlTnDlzJsN1wsPD+eqrr+jXrx9/pRoJ5cqVKxQuXJhvvvmGxzM5ukJCQgK+vr4sWbKEVq1apbtOelfcZcqUIS4uDn9//0wdR7LX5ctWP+JBnOI0aW9trV0LxYtb/+hedfq0a36K3rAB6td3nFeVHayjAX9yO08wn504DonpimyLj48nICAgx56HymXxlORkq5vSiAhr1M2cTrnsSLksuZEzeZxj/jcVHBxMcCZ+H2zYsCGxsbFs2rSJOnXqALB8+XJSUlJo0KBBpo+3ZcsWAEJDQ2+4jo+PDz4+Ppnep7ift7c1QM+cOcG0bg0//OC4fP9+uOsux3kxMdboms46fdpxOpiTLKQtxbhARfbQnU/pwaf25UPySccoymXxlAIFoGZNT0eRdyiXRbJXrmuhWqVKFR588EG6dOnC+vXriY6OpmfPnrRv356wsDAA/vzzTypXrsz69esB2LdvH++99x6bNm3i4MGDLFq0iI4dO9K0aVOqV6/uyY8jLjBrltUl4YgR1+bVYz0LacORnfGcO+e4/o4drjlu6iK8GOf5gdZUYB8Am6lFP0bz2GPWnbmvv4YBA1xz3LxCuSySNyiXRbLI5X21uMGZM2fMs88+a3x9fY2/v7954YUXzLlU/dEdOHDAAGbFihXGGGMOHz5smjZtakqUKGF8fHxMhQoVzOuvv37L3cmoK6Sc7dAhq+uxp5hrLuJjDJjdpZqZRXMuOHRNVrq0MefPO3+8MWOs/RXksvmBh+wHOExpcztHzG+/OX+M9OSl81C5LPlZXjoPlcuSXzlzDuaYNuG5QU5vv5ffxcVBYCDczU5W0ZTbOAvA0RoPU2Hrt1yisMP648dD9+5ZP96bb8Lo9xOZSzse43sAYgngXn5lJxEcOQKlS2d9/zei89B5+g4lJ9B56Dx9h+JpzpyDua45isiN+Ppaf3dRlQdZQjx+AJTe+iM/0YpA/nJYv0cP0jRVuRXnjp1nMY/YC/BEfGjDd/aHMdUPsYiIiNyIinDJMwoUuPZ+I/V4lO9JwBoCuRmr+JV7Kcshh21WrIAPP4RvvrHupG/dmrkeTJb/lESHaS2IZBkA5ylGa35gFc3s6xQp4vxnEhERkbxJRbjkWatoRnN+4eTfXRdWZRe/UYs2LLSv066dNaBHu3ZWU5aaNWHUKKsQ/+MPSElJu99jx6Brj0Is4jHAaoLyAEup279F9n8oERERyRNUhEueVaSIdUe8IWvYgzWmdQn+YiGPM5h3AUjV3azdyJHQt6/Vt/gzz1ybf+aMNUR9WBjs2wfv8wZjeYUmrGZ0dEPeessdn0pERETyAhXhkmfFxMDAgbCfO6nHBubxJACmQAFWBra94XZ//QVjx1rv580zmO07uNS1F0vLd+HNN1OvaeNVxlK4bjUaNQI/P/jHP6yh6ceNy65PJSIiInlBjhmsR8QVHnsMFi2y3pcsCffcY72PI5Cn+Ya/xn5BYPxhzsypDrHXtvuI3tzGGfYTTjz+FCOBCuylIWuwVd+PD9Ae+Bf/ZBN1HY45c+a1919+CZ9+ahXkIiIiIjeiIlzylEmTrKHkW7SwhrN3HC3TRqGXOkExKLkCdu68Ot/QjrmEcCLDfSdQlDpscijCu3SBihUd11MBLiIiIjejIlzylFKlcGgyEh7uuLyo1VkKJUtemxfKMQKIS3d/SRRkNU1YSFu+5HliKZ7meCIiIiK3SkW45GmFHcfnwWaz/qYuwo8RRgBxVGE3YfyPolzgIkU4Qhn+oCKX8bnh/pOSsiFoERERyfNUhEueN2sWDBkCr756bV7qIhzgjwPeHDtWg0aNamS4r5Ejwd8funWzpjt1cnGwIiIiki+oCJc8r31765Xa9UV4uXKQkHDzfYWHQ5s2Vj/it98OVaq4Lk4RERHJP1SES74UHOw4bbNZd7gzUqoUtGoFhQpduxMuIiIikhXqJ1zypUKF0s7LqFeToCBrBE31fCIiIiKuoCJc8qUaqZp+P/WU9TejArtVq5vfKRcRERHJLDVHkXypTBn46itYuxb7cPMFClhdGF64kHb9hx5yb3wiIiKSt6kIl3yrQwfrlZqfX9oivHdveO4598UlIiIieZ+KcJFUvFI10Lr/fqt7w+t7UhERERFxltqEi9yAv78KcBEREckeKsJFUjHm2vv0elARERERcQUV4SKppC7Crw5xLyIiIuJqKsJFUlERLiIiIu6gIlzkBlSEi4iISHZRES6Siu6Ei4iIiDuoCBdJJSjo2nuNkCkiIiLZRUW4SCrTpll3wH18YPBgT0cjIiIieZUG6xFJpUED2LfPGr6+VClPRyMiIiJ5lYpwkevccYenIxAREZG8Ts1RRERERETcTEW4iIiIiIibqQgXEREREXGzXFmEDx8+nEaNGlG0aFECAwMztY0xhrfffpvQ0FCKFClCZGQke/bsyd5ARSRDymWRvEG5LHLrcmURfvnyZZ5++mm6deuW6W1GjRrFxx9/zGeffca6desoVqwYrVq1IjExMRsjFZGMKJdF8gblskgWmFxs2rRpJiAg4KbrpaSkmJCQEPPhhx/a58XGxhofHx8za9asTB8vLi7OACYuLi4r4Yq4RF48D5XLkh/lxfNQuSz5jTPnYL7oovDAgQMcP36cyMhI+7yAgAAaNGjAmjVraN++fbrbXbp0iUuXLtmn4+LiAIiPj8/egEUycPX8M8Z4OBL3Uy5LXqJcVi5L7udMHueLIvz48eMAlLpu9JVSpUrZl6VnxIgRvPPOO2nmlylTxrUBimTBmTNnCAgI8HQYbqVclrxIuXyNcllyq6zkcY4pwgcOHMjIkSMzXGf37t1UrlzZTRHBoEGD6Nu3r306NjaWcuXKcfjw4Xz3P0xXiY+Pp0yZMhw5cgR/f39Ph5MrxcXFUbZsWUqUKOHpUNKlXM4flMvOUy7fOuWy6ymXneNMHueYIrxfv3507tw5w3XCw8OztO+QkBAATpw4QWhoqH3+iRMnqFmz5g238/HxwcfHJ838gIAAnahO8vf313foJC+vnPlctXI5f1EuO0+5rFzOCZTLzslKHueYIjw4OJjg4OBs2fcdd9xBSEgIy5Ytsyd3fHw869atu6UnuUXk5pTLInmDclkke+XMy++bOHz4MFu2bOHw4cMkJyezZcsWtmzZwvnz5+3rVK5cmQULFgBgs9no06cPw4YNY9GiRWzfvp2OHTsSFhZG27ZtPfQpRES5LJI3KJdFssDVXbW4Q6dOnQyQ5rVixQr7OoCZNm2afTolJcUMHjzYlCpVyvj4+JgWLVqYmJiYWzpuYmKiGTJkiElMTHTRJ8l/9B06Ly99h8rl3EvfofPy0neoXM699B06x5nvz2ZMPuwbSURERETEg3JlcxQRERERkdxMRbiIiIiIiJupCBcRERERcTMV4SIiIiIibqYiPJPGjx9P+fLlKVy4MA0aNGD9+vWeDilXWbVqFY8++ihhYWHYbDYWLlzo6ZBylREjRlCvXj38/PwoWbIkbdu2JSYmxtNh5UrKZecol52jXHYd5bJzlMvOcUUuqwjPhDlz5tC3b1+GDBnC5s2bqVGjBq1ateLkyZOeDi3XSEhIoEaNGowfP97ToeRKK1eupEePHqxdu5alS5eSlJREy5YtSUhI8HRouYpy2XnKZecol11Duew85bJzXJLLLu8wMQ+qX7++6dGjh306OTnZhIWFmREjRngwqtwLMAsWLPB0GLnayZMnDWBWrlzp6VByFeWyaymXnadczhrlsmspl52XlVzWnfCbuHz5Mps2bSIyMtI+z8vLi8jISNasWePByCQ/i4uLA6BEiRIejiT3UC5LTqRcvnXKZcmJspLLKsJv4vTp0yQnJ1OqVCmH+aVKleL48eMeikrys5SUFPr06UPjxo2JiIjwdDi5hnJZchrlctYolyWnyWouF8zGmEQkG/To0YMdO3bw66+/ejoUEXGCclkkb8hqLqsIv4mgoCAKFCjAiRMnHOafOHGCkJAQD0Ul+VXPnj1ZvHgxq1atonTp0p4OJ1dRLktOolzOOuWy5CTO5LKao9yEt7c3derUYdmyZfZ5KSkpLFu2jIYNG3owMslPjDH07NmTBQsWsHz5cu644w5Ph5TrKJclJ1AuO0+5LDmBK3JZd8IzoW/fvnTq1Im6detSv359xo4dS0JCAi+88IKnQ8s1zp8/z969e+3TBw4cYMuWLZQoUYKyZct6MLLcoUePHnz99dd89913+Pn52ds9BgQEUKRIEQ9Hl3sol52nXHaOctk1lMvOUy47xyW5nF1dteQ148aNM2XLljXe3t6mfv36Zu3atZ4OKVdZsWKFAdK8OnXq5OnQcoX0vjvATJs2zdOh5TrKZecol52jXHYd5bJzlMvOcUUu2/7ekYiIiIiIuInahIuIiIiIuJmKcBERERERN1MRLiIiIiLiZirCRURERETcTEW4iIiIiIibqQgXEREREXEzFeEiIiIiIm6mIlxERERExM1UhIuIiIiIuJmKcBERERERN1MRLiIiIiLiZirCxS1mzZpFkSJFOHbsmH3eCy+8QPXq1YmLi/NgZCKSWcpjkbxBuZwz2IwxxtNBSN5njKFmzZo0bdqUcePGMWTIEKZOncratWu5/fbbPR2eiGSC8lgkb1Au5wwFPR2A5A82m43hw4fz1FNPERISwrhx41i9erWSXSQXUR6L5A3K5ZxBd8LFrWrXrs3OnTv5+eefadasmafDEZEsUB6L5A3KZc9Sm3BxmyVLlvD777+TnJxMqVKlPB2OiGSB8lgkb1Aue57uhItbbN68mebNmzNx4kSmT5+Ov78/33zzjafDEpFboDwWyRuUyzmD2oRLtjt48CCtW7fmjTfe4NlnnyU8PJyGDRuyefNmateu7enwRCQTlMcieYNyOefQnXDJVmfPnqVRo0Y0b96czz77zD6/devWJCcns2TJEg9GJyKZoTwWyRuUyzmLinARERERETfTg5kiIiIiIm6mIlxERERExM1UhIuIiIiIuJmKcBERERERN1MRLiIiIiLiZirCRURERETcTEW4iIiIiIibqQgXEREREXEzFeEiIiIiIm6mIlxERERExM1UhIuIiIiIuJmKcBERERERN1MRLiIiIiLiZirCRURERETcTEW4iIiIiIibqQgXEREREXEzFeEiIiIiIm6mIlxERERExM1UhIuIiIiIuJmKcBERERERN1MRLiIiIiLiZirCRURERETcTEW4iIiIiIibqQgXEREREXEzFeEiIiIiIm6mIlxERERExM1UhIuI3MC8efOYN2+ep8MQEZE8SEW4iOQaQ4cOpWbNmi7b3y+//ILNZiM2NjbNstWrV/Paa69xzz33uOx4rnbw4EFsNhtbtmzJcL2YmBhCQkI4d+6cewLLwMCBA+nVq5enwxAPSkxMZPjw4ezdu9fToYh4lIpwEXGLU6dO0a1bN8qWLYuPjw8hISG0atWK6Ohoj8XUqFEjjh07RkBAgMP8U6dO0bVrVxYtWkTp0qU9FJ3rDBo0iF69euHn5wdcu/i4/vXWW2+lWe7l5UVAQAC1atWif//+HDt2zGHfQ4cOxWaz8eCDD6Y57ocffojNZqN58+b2ea+99hozZsxg//792feBJVM6d+5M27Zt7dPNmzenT58+2bLv1Hr37s3evXupUKGCS44lklsV9HQAIpI/PPnkk1y+fJkZM2YQHh7OiRMnWLZsGWfOnPFYTN7e3oSEhKSZHxwczO7du7PtuJcvX8bb2zvb9p/a4cOHWbx4MePGjUuzLCYmBn9/f/u0r69vusvj4+PZvHkzo0aN4vPPP+eXX36hWrVq9vVCQ0NZsWIFR48edbhomTp1KmXLlnXYZ1BQEK1atWLChAl8+OGHrvqYeUrnzp2ZMWMGAIUKFaJs2bJ07NiRN954g4IFs++f7fnz51OoUCGX7Oujjz7CGJNm/syZMzl48CA//PCDS44jkpvpTriIZLvY2FhWr17NyJEjue+++yhXrhz169dn0KBBPPbYY/b1Dh8+TJs2bfD19cXf35927dpx4sSJG+43vTt3bdu2pXPnzvbpS5cuMWDAAMqUKYOPjw8VKlTg888/B9JvjvLtt99StWpVfHx8KF++PKNHj3bYf/ny5Xn//feJiorCz8+PsmXLMmnSpAw/f/PmzenZsyd9+vSxF6EAO3bs4KGHHsLX15dSpUrx/PPPc/r0aft2S5Ys4d577yUwMJDbbruNRx55hH379mV4rOvNnTuXGjVqcPvtt6dZVrJkSUJCQuyv64vwq8srVqxI+/btiY6OJjg4mG7duqVZr2XLlvbCEeC///0vp0+fpnXr1mmO++ijjzJ79uxb+hz5zYMPPsixY8fYs2cP/fr1Y+jQoeletFy+fNllxyxRooT91xJnBQQEEBgYmGZ+hw4d+Pnnn11W7IvkZirCRSTb+fr64uvry8KFC7l06VK666SkpNCmTRvOnj3LypUrWbp0Kfv37+eZZ55x6tgdO3Zk1qxZfPzxx+zevZuJEyemKTav2rRpE+3ataN9+/Zs376doUOHMnjwYKZPn+6w3ujRo6lbty6//fYb3bt3p1u3bsTExGQYx4wZM/D29iY6OprPPvuM2NhY7r//fmrVqsXGjRtZsmQJJ06coF27dvZtEhIS6Nu3Lxs3bmTZsmV4eXnx+OOPk5KSkunPv3r1aurWrZvp9TNSpEgRXn75ZaKjozl58qTDsqioKIfvaerUqXTo0CHdO/7169fn6NGjHDx40CVx5UVXm2yVK1eObt26ERkZyaJFi+zNPIYPH05YWBiVKlUC4MiRI7Rr147AwEBKlChBmzZtHL7f5ORk+vbta7+g69+/f5o71ddf1GZ0AQuwc+dOHnnkEfz9/fHz86NJkyb2i8Trm6NcunSJ3r17U7JkSQoXLsy9997Lhg0b7MuvXhAvW7aMunXrUrRoURo1anTTvBLJzVSEi0i2K1iwINOnT2fGjBkEBgbSuHFj3njjDbZt22ZfZ9myZWzfvp2vv/6aOnXq0KBBA7744gtWrlzp8I/1rfjjjz+YO3cuU6dO5fHHHyc8PJwWLVrcsLAfM2YMLVq0YPDgwVSsWJHOnTvTs2fPNHcgH374Ybp3706FChUYMGAAQUFBrFixIsNY7rrrLkaNGkWlSpWoVKkSn3zyCbVq1eL999+ncuXK1KpVi6lTp7JixQr++OMPwGrC88QTT1ChQgVq1qzJ1KlT2b59O7t27cr0d3Do0CHCwsLSXVa6dGn7BZKvr2+mmgZVrlwZIE0B/cgjjxAfH8+qVatISEhg7ty5REVFpbuPq/EcOnQo058jvytSpIj9rveyZcuIiYlh6dKlLF68mKSkJFq1aoWfnx+rV68mOjoaX19fHnzwQfs2o0ePZvr06UydOpVff/2Vs2fPsmDBggyPmdEF7J9//knTpk3x8fFh+fLlbNq0iaioKK5cuZLuvvr378+3337LjBkz2Lx5MxUqVKBVq1acPXvWYb0333yT0aNHs3HjRgoWLHjDc0gkL1CbcJE8om5dOH7cvccMCYGNGzO37pNPPknr1q1ZvXo1a9eu5d///jejRo1iypQpdO7cmd27d1OmTBnKlClj3+buu+8mMDCQ3bt3U69evVuOb8uWLRQoUIBmzZplav3du3fTpk0bh3mNGzdm7NixJCcnU6BAAQCqV69uX26z2QgJCUlzZ/h6derUcZjeunUrK1asSPeu/L59+6hYsSJ79uzh7bffZt26dZw+fdp+B/zw4cNERERk6jNdvHiRwoULp7ts9erVDs0PihcvftP9Xb17arPZHOYXKlSIf/zjH0ybNo39+/dTsWJFh+8ptSJFigBw4cKFTH0GlxszxnrdTO3asGiR47zHHoPNm2++bd++1stJxhiWLVvGTz/9RK9evTh16hTFihVjypQp9l8ZvvrqK1JSUpgyZYr9v8u0adMIDAzkl19+oWXLlowdO5ZBgwbxxBNPAPDZZ5/x008/3fC4Vy9gly5dSmRkJADh4eH25ePHjycgIIDZs2fbm5ZUrFgx3X0lJCQwYcIEpk+fzkMPPQTA5MmTWbp0KZ9//jmvv/66fd3hw4fb83XgwIG0bt2axMTEG57DIrmZinCRPOL4cfjzT09HkbHChQvzwAMP8MADDzB48GBeeuklhgwZ4tCG+1Z4eXml+Uk9KSnJ/v5qsedq17dntdlsN20iUqxYMYfp8+fP8+ijjzJy5Mg064aGhgJW2+ly5coxefJkwsLCSElJISIi4pbaAQcFBfHXX3+lu+yOO+5It91uRq4+sFq+fPk0y6KiomjQoAE7duzI8A7m1bufwcHBt3Rsl4mPz1yypLogtDt1KnPbxsffelypLF68GF9fX5KSkkhJSeG5555j6NCh9OjRg2rVqjk089m6dSt79+5N0547MTGRffv2ERcXx7Fjx2jQoIF9WcGCBalbt266D0/CzS9gt2zZQpMmTTLVtnvfvn0kJSXRuHFj+7xChQpRv379NA9Ap75wu5oHJ0+eTPOAr0heoCJcJI9Ip5OPHH/Mu+++m4ULFwJQpUoVjhw5wpEjR+x3w3ft2kVsbCx33313utsHBwc7dJmXnJzMjh07uO+++wCoVq0aKSkprFy50n43LyNVqlRJ02VidHQ0FStWtN8Fd5XatWvz7bffUr58+XR7vDhz5gwxMTFMnjyZJk2aAPDrr7/e8nFq1ap1S81XMnLx4kUmTZpE06ZN0y2gq1atStWqVdm2bRvPPffcDfezY8cOChUqRNWqVV0S1y3z94d0HlRNI72LhODgzG2bqteZrLjvvvuYMGEC3t7ehIWFOZwj6V3Q1alTh5kzZ6YTbtYudG52AeuOC9yrd/Vv5RkIkdxERbhIHpHZZiGecObMGZ5++mmioqKoXr06fn5+bNy4kVGjRtmbf0RGRlKtWjU6dOjA2LFjuXLlCt27d6dZs2Y3fLDw/vvvp2/fvvzwww/ceeedjBkzxqGnk/Lly9OpUyeioqL4+OOPqVGjBocOHeLkyZMOD0Be1a9fP+rVq8d7773HM888w5o1a/jkk0/49NNPXf6d9OjRg8mTJ/Pss8/Sv39/SpQowd69e5k9ezZTpkyhePHi3HbbbUyaNInQ0FAOHz7MwIEDb/k4rVq14qWXXnJoTpNZJ0+eJDExkXPnzrFp0yZGjRrF6dOnmT9//g23Wb58OUlJSRneYV+9ejVNmjTJtkLuppxpKnJ985RsUqxYsUz3o127dm3mzJlDyZIlHbqcTC00NJR169bRtGlTAK5cucKmTZuoXbt2uuvf7AK2evXqzJgxg6SkpJveDb/zzjvtDyWXK1cOsH6x2rBhg8v6JRfJjfRgpohkO19fXxo0aMD//d//0bRpUyIiIhg8eDBdunThk08+Aay7Xt999x3FixenadOmREZGEh4ezpw5c26436ioKDp16kTHjh1p1qwZ4eHh9rvgV02YMIGnnnqK7t27U7lyZbp06UJCQkK6+6tduzZz585l9uzZRERE8Pbbb/Puu+9mublMRsLCwoiOjiY5OZmWLVtSrVo1+vTpQ2BgIF5eXnh5eTF79mw2bdpEREQEr776apb61X7ooYcoWLAg//nPf25520qVKhEWFkadOnX44IMPiIyMZMeOHTf8ZQKs4vFmTVxmz55Nly5dbjkeSV+HDh0ICgqiTZs2rF69mgMHDvDLL7/Qu3dvjh49CsArr7zCBx98wMKFC/n999/p3r17uiPFXpX6AnbhwoX2fc6dOxeAnj17Eh8fT/v27dm4cSN79uzhyy+/TLc3k2LFitGtWzdef/11lixZwq5du+jSpQsXLlzgxRdfzJbvRCRXMCIikqd98sknpmXLlp4OwxhjzI8//miqVKlikpKSPB1KjtWpUyfTpk2bW1p27Ngx07FjRxMUFGR8fHxMeHi46dKli4mLizPGGJOUlGReeeUV4+/vbwIDA03fvn1Nx44dHfbVrFkz88orr9inL168aF599VUTGhpqvL29TYUKFczUqVPty7du3WpatmxpihYtavz8/EyTJk3Mvn370o3z4sWLplevXvb4GjdubNavX29fvmLFCgOYv/76yz7vt99+M4A5cOBApr87kdzEZswNnsoQEZE84cqVK4wcOZLevXu7bDCWrJo3bx5lypRxeEhQRCQ/UhEuIiIiIuJmahMuIiIiIuJmKsJFRERERNxMRbiIiIiIiJupCBcRERERcTMV4SIiIiIibqYiXERERETEzVSEi4iIiIi4mYpwERERERE3UxEuIiIiIuJmKsJFRERERNxMRbiIiIiIiJupCBcRERERcTMV4SIiIiIibqYiXERERETEzVSEi4iIiIi4mYpwERERERE3+3+e5iBxHH+7fQAAAABJRU5ErkJggg==",
=======
            "image/png": "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\n",
>>>>>>> 212dcfdde2aa6292e90eb283b7646c247cdf4b41
            "text/plain": [
              "<Figure size 809.465x450.249 with 5 Axes>"
            ]
          },
          "metadata": {},
          "output_type": "display_data"
        }
      ],
      "source": [
<<<<<<< HEAD
        "plot_resultados(mesh=mesh,\n",
        "                preds=preds_dict,\n",
        "                train_datasets=train_datasets,\n",
        "                val_dataset=val_dataset,\n",
        "                file_name=f'error_{porcentaje_error}')\n"
=======
        "plot_burgers_continuous_forward_2(mesh=mesh,\n",
        "                                               preds=preds_dict,\n",
        "                                               train_datasets=train_datasets,\n",
        "                                               val_dataset=val_dataset,\n",
        "                                               file_name=f'/content/drive/MyDrive/data/forward_heat_equation_{porcentaje_error}')\n"
>>>>>>> 212dcfdde2aa6292e90eb283b7646c247cdf4b41
      ]
    },
    {
      "cell_type": "code",
      "execution_count": null,
<<<<<<< HEAD
      "id": "K5DzV1fCwCIj",
=======
      "id": "E9aYwXGw1g2d",
>>>>>>> 212dcfdde2aa6292e90eb283b7646c247cdf4b41
      "metadata": {
        "colab": {
          "base_uri": "https://localhost:8080/"
        },
<<<<<<< HEAD
        "id": "K5DzV1fCwCIj",
        "outputId": "65c20942-aef5-4d31-c532-2f57f88c3714"
=======
        "id": "E9aYwXGw1g2d",
        "outputId": "7a7848ab-41e3-4a88-aa95-746b8ca2ff83"
      },
      "outputs": [
        {
          "output_type": "stream",
          "name": "stdout",
          "text": [
            "Matriz guardada en /content/drive/MyDrive/data/forward_heat_equation/forward_u_pred_t_1e-8_x_1e-2_error_10.csv\n"
          ]
        }
      ],
      "source": [
        "# Nombre del archivo CSV\n",
        "file_name = f'/content/drive/MyDrive/data/forward_heat_equation/forward_u_pred_t_1e-8_x_1e-2_error_{porcentaje_error}.csv'\n",
        "\n",
        "# Escribir la matriz en el archivo CSV\n",
        "with open(file_name, mode='w', newline='') as file:\n",
        "    writer = csv.writer(file)\n",
        "    writer.writerows(preds_dict['u'])\n",
        "\n",
        "print(f\"Matriz guardada en {file_name}\")"
      ]
    },
    {
      "cell_type": "code",
      "execution_count": null,
      "id": "LAInR4t62BiN",
      "metadata": {
        "id": "LAInR4t62BiN"
      },
      "outputs": [],
      "source": [
        "u_real = u.flatten(order = 'F')\n",
        "u_pred = trainer.predict(model=model, datamodule=datamodule)['u']"
      ]
    },
    {
      "cell_type": "code",
      "execution_count": null,
      "id": "qtIP6xTT2TRJ",
      "metadata": {
        "colab": {
          "base_uri": "https://localhost:8080/"
        },
        "id": "qtIP6xTT2TRJ",
        "outputId": "1b512541-136e-4340-8486-d174c75ebd4e"
>>>>>>> 212dcfdde2aa6292e90eb283b7646c247cdf4b41
      },
      "outputs": [
        {
          "name": "stdout",
          "output_type": "stream",
          "text": [
<<<<<<< HEAD
            "Matriz guardada en /content/drive/MyDrive/data/Segunda vez/soluciones/error_10/soluciones_u_pred_t_1e-8_x_1e-2_error_10.csv\n"
=======
            "0.4309384\n"
>>>>>>> 212dcfdde2aa6292e90eb283b7646c247cdf4b41
          ]
        }
      ],
      "source": [
<<<<<<< HEAD
        "file_name = f'error_{porcentaje_error}/soluciones_u_pred_t_1e-8_x_1e-2_error_{porcentaje_error}.csv'\n",
        "\n",
        "with open(file_name, mode='w', newline='') as file:\n",
        "    writer = csv.writer(file)\n",
        "    writer.writerows(preds_dict['u'])\n",
        "\n",
        "print(f\"Matriz guardada en {file_name}\")"
=======
        "error_absoluto_medio = np.abs(u_real-u_pred).mean()\n",
        "print(error_absoluto_medio)"
      ]
    },
    {
      "cell_type": "code",
      "execution_count": null,
      "id": "tF-ezbD__nD0",
      "metadata": {
        "colab": {
          "base_uri": "https://localhost:8080/"
        },
        "id": "tF-ezbD__nD0",
        "outputId": "e5d5eb3e-5fd5-4a50-b280-94f490f60f82"
      },
      "outputs": [
        {
          "data": {
            "text/plain": [
              "-0.03227304158875194"
            ]
          },
          "execution_count": 35,
          "metadata": {},
          "output_type": "execute_result"
        }
      ],
      "source": [
        "u_real[17904]"
      ]
    },
    {
      "cell_type": "code",
      "execution_count": null,
      "id": "z1unj2R7_qPO",
      "metadata": {
        "colab": {
          "base_uri": "https://localhost:8080/"
        },
        "id": "z1unj2R7_qPO",
        "outputId": "e0887bb8-f9cf-4069-f8cd-7efb1f784fa5"
      },
      "outputs": [
        {
          "data": {
            "text/plain": [
              "Array([[0.00698663],\n",
              "       [0.00574621],\n",
              "       [0.00462227],\n",
              "       ...,\n",
              "       [0.00873198],\n",
              "       [0.00918621],\n",
              "       [0.00964772]], dtype=float32)"
            ]
          },
          "execution_count": 36,
          "metadata": {},
          "output_type": "execute_result"
        }
      ],
      "source": [
        "u_pred"
>>>>>>> 212dcfdde2aa6292e90eb283b7646c247cdf4b41
      ]
    },
    {
      "cell_type": "markdown",
      "id": "JP4dHeME20nu",
      "metadata": {
        "id": "JP4dHeME20nu"
      },
      "source": [
        "## 5 %"
      ]
    },
    {
      "cell_type": "code",
      "execution_count": null,
      "id": "sFaMtnKn3IYL",
      "metadata": {
        "id": "sFaMtnKn3IYL"
      },
      "outputs": [],
      "source": [
<<<<<<< HEAD
        "u = np.genfromtxt('generacion_datos/data/u_real_t_1e-8_x_1e-2.csv', delimiter=',')"
=======
        "u = np.genfromtxt('/content/drive/MyDrive/data/forward_heat_equation/u_real_3_1e-8.csv', delimiter=',')"
>>>>>>> 212dcfdde2aa6292e90eb283b7646c247cdf4b41
      ]
    },
    {
      "cell_type": "code",
      "execution_count": null,
      "id": "Ee00bag53IYR",
      "metadata": {
        "colab": {
          "base_uri": "https://localhost:8080/"
        },
        "id": "Ee00bag53IYR",
<<<<<<< HEAD
        "outputId": "4640c90e-3358-43eb-edf4-25bc899b6730"
      },
      "outputs": [
        {
          "name": "stdout",
          "output_type": "stream",
          "text": [
            "[0.         0.03156855 0.06310563] \n",
            " [0.         0.03337775 0.06569359]\n"
=======
        "outputId": "5f55d824-b9cd-4044-9a04-fe12ac53454a"
      },
      "outputs": [
        {
          "output_type": "stream",
          "name": "stdout",
          "text": [
            "[0.         0.03156855 0.06310563] \n",
            " [0.         0.03161186 0.06392576]\n"
>>>>>>> 212dcfdde2aa6292e90eb283b7646c247cdf4b41
          ]
        }
      ],
      "source": [
        "porcentaje_error = 5\n",
        "u_5 = np.random.normal(u, np.abs(u * porcentaje_error/100), u.shape)\n",
        "print(u[0:3, 0], \"\\n\", u_5[0:3, 0])"
      ]
    },
    {
      "cell_type": "code",
      "execution_count": null,
      "id": "I_8tzGs73IYS",
      "metadata": {
        "id": "I_8tzGs73IYS"
      },
      "outputs": [],
      "source": [
        "def read_data_fn_5(_):\n",
<<<<<<< HEAD
        "    exact_u = np.real(u_5) # T x N\n",
=======
        "\n",
        "    exact_u = np.real(u_5) # T x N\n",
        "\n",
>>>>>>> 212dcfdde2aa6292e90eb283b7646c247cdf4b41
        "    return {\"u\": exact_u}"
      ]
    },
    {
      "cell_type": "code",
      "execution_count": null,
      "id": "R6mBJjX23IYV",
      "metadata": {
        "id": "R6mBJjX23IYV"
      },
      "outputs": [],
      "source": [
        "mesh = pinnsjax.data.Mesh(root_dir='data',\n",
        "                          read_data_fn=read_data_fn_5,\n",
        "                          spatial_domain = spatial_domain,\n",
        "                          time_domain = time_domain)"
      ]
    },
    {
      "cell_type": "code",
      "execution_count": null,
      "id": "1r9GJfQn3IYW",
      "metadata": {
        "id": "1r9GJfQn3IYW"
      },
      "outputs": [],
      "source": [
        "N0 = 100"
      ]
    },
    {
      "cell_type": "code",
      "execution_count": null,
      "id": "tdsi9FQ23IYX",
      "metadata": {
        "id": "tdsi9FQ23IYX"
      },
      "outputs": [],
      "source": [
        "in_c = pinnsjax.data.InitialCondition(mesh = mesh,\n",
        "                                      num_sample = N0,\n",
        "                                      solution = ['u'])"
      ]
    },
    {
      "cell_type": "code",
      "execution_count": null,
      "id": "2QAU7h-R3IYZ",
      "metadata": {
<<<<<<< HEAD
        "id": "2QAU7h-R3IYZ"
      },
      "outputs": [],
=======
        "colab": {
          "base_uri": "https://localhost:8080/",
          "height": 53
        },
        "id": "2QAU7h-R3IYZ",
        "outputId": "44f39f21-329c-4aba-d53c-377853d124b7"
      },
      "outputs": [
        {
          "output_type": "execute_result",
          "data": {
            "text/plain": [
              "\" di_b = pinnsjax.data.MeshSampler(mesh = mesh,\\n                                 num_sample = N_b,\\n                                 solution = ['u']) \""
            ],
            "application/vnd.google.colaboratory.intrinsic+json": {
              "type": "string"
            }
          },
          "metadata": {},
          "execution_count": 32
        }
      ],
>>>>>>> 212dcfdde2aa6292e90eb283b7646c247cdf4b41
      "source": [
        "N_b = 100\n",
        "di_b = pinnsjax.data.DirichletBoundaryCondition(mesh = mesh,\n",
        "                                                num_sample = N_b,\n",
<<<<<<< HEAD
        "                                                solution = ['u'])"
=======
        "                                                solution = ['u'])\n",
        "\n",
        "''' di_b = pinnsjax.data.MeshSampler(mesh = mesh,\n",
        "                                 num_sample = N_b,\n",
        "                                 solution = ['u']) '''"
>>>>>>> 212dcfdde2aa6292e90eb283b7646c247cdf4b41
      ]
    },
    {
      "cell_type": "code",
      "execution_count": null,
      "id": "73gyGOdD3IYa",
      "metadata": {
        "id": "73gyGOdD3IYa"
      },
      "outputs": [],
      "source": [
        "N_f = 10000\n",
        "me_s = pinnsjax.data.MeshSampler(mesh = mesh,\n",
        "                                 num_sample = N_f,\n",
        "                                 collection_points = ['f_u'])"
      ]
    },
    {
      "cell_type": "code",
      "execution_count": null,
      "id": "yCBr2dM-3IYc",
      "metadata": {
        "id": "yCBr2dM-3IYc"
      },
      "outputs": [],
      "source": [
        "val_s = pinnsjax.data.MeshSampler(mesh = mesh,\n",
        "                                  solution = ['u'])"
      ]
    },
    {
      "cell_type": "code",
      "execution_count": null,
      "id": "NaclVmUx3IYc",
      "metadata": {
        "id": "NaclVmUx3IYc"
      },
      "outputs": [],
      "source": [
        "net = pinnsjax.models.FCN(layers = [2, 20, 20, 20, 20, 20, 20, 20, 20, 1],\n",
        "                          output_names = ['u'],\n",
        "                          lb=mesh.lb,\n",
        "                          ub=mesh.ub)"
      ]
    },
    {
      "cell_type": "code",
      "execution_count": null,
      "id": "wK_SYz5k3IYd",
      "metadata": {
        "id": "wK_SYz5k3IYd"
      },
      "outputs": [],
      "source": [
<<<<<<< HEAD
        "k = 0.5\n",
=======
        "alpha = 0.5\n",
>>>>>>> 212dcfdde2aa6292e90eb283b7646c247cdf4b41
        "c = 0.3"
      ]
    },
    {
      "cell_type": "code",
      "execution_count": null,
      "id": "N9LHVXDT3IYe",
      "metadata": {
        "id": "N9LHVXDT3IYe"
      },
      "outputs": [],
      "source": [
        "def pde_fn(functional_model,\n",
        "           params,\n",
        "           outputs: Dict[str, jax.Array],\n",
        "           x: jax.Array,\n",
        "           t: jax.Array):\n",
<<<<<<< HEAD
=======
        "    \"\"\"Define the partial differential equations (PDEs).\"\"\"\n",
>>>>>>> 212dcfdde2aa6292e90eb283b7646c247cdf4b41
        "\n",
        "    u_x, u_t = pinnsjax.utils.gradient(functional_model, argnums=(1, 2), order=1)(params, x, t, 'u')\n",
        "    u_xx = pinnsjax.utils.gradient(functional_model, argnums=1, order=2)(params, x, t, 'u')[0]\n",
        "\n",
<<<<<<< HEAD
        "    outputs[\"f_u\"] = c * u_t - k * u_xx\n",
=======
        "    outputs[\"f_u\"] = c * u_t - alpha * u_xx\n",
>>>>>>> 212dcfdde2aa6292e90eb283b7646c247cdf4b41
        "\n",
        "    return outputs"
      ]
    },
    {
      "cell_type": "code",
      "execution_count": null,
      "id": "o5m5US0U3IYf",
      "metadata": {
        "id": "o5m5US0U3IYf"
      },
      "outputs": [],
      "source": [
        "train_datasets = [me_s, in_c, di_b]\n",
        "val_dataset = val_s\n",
        "datamodule = pinnsjax.data.PINNDataModule(train_datasets = train_datasets,\n",
        "                                            val_dataset = val_dataset,\n",
        "                                            pred_dataset = val_s)"
      ]
    },
    {
      "cell_type": "code",
      "execution_count": null,
      "id": "42K3M4B03IYg",
      "metadata": {
        "id": "42K3M4B03IYg"
      },
      "outputs": [],
      "source": [
        "model = pinnsjax.models.PINNModule(net = net,\n",
        "                                   pde_fn = pde_fn,\n",
        "                                   loss_fn = 'mse')"
      ]
    },
    {
      "cell_type": "code",
      "execution_count": null,
      "id": "mZ9_uigt3IYg",
      "metadata": {
        "id": "mZ9_uigt3IYg"
      },
      "outputs": [],
      "source": [
        "trainer = pinnsjax.Trainer(max_epochs=30000, check_val_every_n_epoch=1000)"
      ]
    },
    {
      "cell_type": "code",
      "execution_count": null,
      "id": "5ave0RGG3IYh",
      "metadata": {
        "colab": {
          "base_uri": "https://localhost:8080/"
        },
        "id": "5ave0RGG3IYh",
<<<<<<< HEAD
        "outputId": "58f85701-40c2-48a1-a187-9ec38c691e5e"
      },
      "outputs": [
        {
          "name": "stderr",
          "output_type": "stream",
          "text": [
            "30000/30000 100%|██████████|[04:04<00:00, 122.46it/s, val/loss: 0.0004, val/error_u: 0.0525, train/loss: 0.0023: ]\n"
=======
        "outputId": "1081795a-df1c-4fa5-b389-d64c7a8ef36a"
      },
      "outputs": [
        {
          "output_type": "stream",
          "name": "stderr",
          "text": [
            "30000/30000 100%|██████████|[04:19<00:00, 115.83it/s, val/loss: 0.0004, val/error_u: 0.0513, train/loss: 0.0011: ]\n"
>>>>>>> 212dcfdde2aa6292e90eb283b7646c247cdf4b41
          ]
        }
      ],
      "source": [
        "trainer.fit(model=model, datamodule=datamodule)"
      ]
    },
    {
      "cell_type": "code",
      "execution_count": null,
      "id": "zC9x3hek3IYi",
      "metadata": {
        "colab": {
          "base_uri": "https://localhost:8080/"
        },
        "id": "zC9x3hek3IYi",
<<<<<<< HEAD
        "outputId": "b60ac4ab-91e6-4dac-80bd-b1677c4a1b15"
      },
      "outputs": [
        {
          "data": {
            "text/plain": [
              "(Array(0.00040989, dtype=float32), {'u': Array(0.05280226, dtype=float32)})"
            ]
          },
          "execution_count": 60,
          "metadata": {},
          "output_type": "execute_result"
=======
        "outputId": "0e24ef76-216c-4a53-9dab-5b92bb5f80bd"
      },
      "outputs": [
        {
          "output_type": "execute_result",
          "data": {
            "text/plain": [
              "(Array(0.0003949, dtype=float32), {'u': Array(0.05179432, dtype=float32)})"
            ]
          },
          "metadata": {},
          "execution_count": 42
>>>>>>> 212dcfdde2aa6292e90eb283b7646c247cdf4b41
        }
      ],
      "source": [
        "trainer.validate(model=model, datamodule=datamodule)"
      ]
    },
    {
      "cell_type": "code",
      "execution_count": null,
      "id": "wEE9m87x3IYj",
      "metadata": {
        "colab": {
          "base_uri": "https://localhost:8080/"
        },
        "id": "wEE9m87x3IYj",
<<<<<<< HEAD
        "outputId": "5afb58ff-0bb4-4f16-f410-843dca155fc3"
      },
      "outputs": [
        {
=======
        "outputId": "478d7ee3-d69b-43a1-a6f7-b0f8e152580a"
      },
      "outputs": [
        {
          "output_type": "execute_result",
>>>>>>> 212dcfdde2aa6292e90eb283b7646c247cdf4b41
          "data": {
            "text/plain": [
              "dict"
            ]
          },
<<<<<<< HEAD
          "execution_count": 61,
          "metadata": {},
          "output_type": "execute_result"
=======
          "metadata": {},
          "execution_count": 43
>>>>>>> 212dcfdde2aa6292e90eb283b7646c247cdf4b41
        }
      ],
      "source": [
        "preds_dict = trainer.predict(model=model, datamodule=datamodule)\n",
        "type(preds_dict)"
      ]
    },
    {
      "cell_type": "code",
      "execution_count": null,
      "id": "OJEoMJqi3IYj",
      "metadata": {
        "colab": {
          "base_uri": "https://localhost:8080/",
<<<<<<< HEAD
          "height": 553
        },
        "id": "OJEoMJqi3IYj",
        "outputId": "ccbfbb32-6184-41b7-d9b6-5f04911ed5cb"
=======
          "height": 536
        },
        "id": "OJEoMJqi3IYj",
        "outputId": "6f94bf86-7a09-473d-a6ed-234ad916cd52"
>>>>>>> 212dcfdde2aa6292e90eb283b7646c247cdf4b41
      },
      "outputs": [
        {
          "name": "stderr",
          "output_type": "stream",
          "text": [
<<<<<<< HEAD
            "<ipython-input-4-f73a368f9bd6>:76: MatplotlibDeprecationWarning: Auto-removal of overlapping axes is deprecated since 3.6 and will be removed two minor releases later; explicitly call ax.remove() as needed.\n",
            "  ax = plt.subplot(gs0[:, :])\n",
            "WARNING:matplotlib.legend:No artists with labels found to put in legend.  Note that artists whose label start with an underscore are ignored when legend() is called with no argument.\n"
=======
            "<ipython-input-12-c536d30c8bfd>:29: MatplotlibDeprecationWarning: Auto-removal of overlapping axes is deprecated since 3.6 and will be removed two minor releases later; explicitly call ax.remove() as needed.\n",
            "  ax = plt.subplot(gs0[:, :])\n"
>>>>>>> 212dcfdde2aa6292e90eb283b7646c247cdf4b41
          ]
        },
        {
          "data": {
<<<<<<< HEAD
            "image/png": "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",
=======
            "image/png": "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\n",
>>>>>>> 212dcfdde2aa6292e90eb283b7646c247cdf4b41
            "text/plain": [
              "<Figure size 809.465x450.249 with 5 Axes>"
            ]
          },
          "metadata": {},
          "output_type": "display_data"
        }
      ],
      "source": [
<<<<<<< HEAD
        "plot_resultados(mesh=mesh,\n",
        "                preds=preds_dict,\n",
        "                train_datasets=train_datasets,\n",
        "                val_dataset=val_dataset,\n",
        "                file_name=f'error_{porcentaje_error}')\n"
=======
        "plot_burgers_continuous_forward_2(mesh=mesh,\n",
        "                                               preds=preds_dict,\n",
        "                                               train_datasets=train_datasets,\n",
        "                                               val_dataset=val_dataset,\n",
        "                                               file_name=f'/content/drive/MyDrive/data/forward_heat_equation_{porcentaje_error}')\n"
>>>>>>> 212dcfdde2aa6292e90eb283b7646c247cdf4b41
      ]
    },
    {
      "cell_type": "code",
      "execution_count": null,
      "id": "nQsdk2Ra3IYk",
      "metadata": {
        "colab": {
          "base_uri": "https://localhost:8080/"
        },
        "id": "nQsdk2Ra3IYk",
<<<<<<< HEAD
        "outputId": "fee0af91-3446-42dc-d703-41f0735049f9"
      },
      "outputs": [
        {
          "name": "stdout",
          "output_type": "stream",
          "text": [
            "Matriz guardada en /content/drive/MyDrive/data/Segunda vez/soluciones/error_5/soluciones_u_pred_t_1e-8_x_1e-2_error_5.csv\n"
=======
        "outputId": "722ebf96-1274-4ca5-b30c-c39c96fe0c0f"
      },
      "outputs": [
        {
          "output_type": "stream",
          "name": "stdout",
          "text": [
            "Matriz guardada en /content/drive/MyDrive/data/forward_heat_equation/forward_u_pred_t_1e-8_x_1e-2_error_5.csv\n"
>>>>>>> 212dcfdde2aa6292e90eb283b7646c247cdf4b41
          ]
        }
      ],
      "source": [
<<<<<<< HEAD
        "file_name = f'error_{porcentaje_error}/soluciones_u_pred_t_1e-8_x_1e-2_error_{porcentaje_error}.csv'\n",
        "\n",
=======
        "# Nombre del archivo CSV\n",
        "file_name = f'/content/drive/MyDrive/data/forward_heat_equation/forward_u_pred_t_1e-8_x_1e-2_error_{porcentaje_error}.csv'\n",
        "\n",
        "# Escribir la matriz en el archivo CSV\n",
>>>>>>> 212dcfdde2aa6292e90eb283b7646c247cdf4b41
        "with open(file_name, mode='w', newline='') as file:\n",
        "    writer = csv.writer(file)\n",
        "    writer.writerows(preds_dict['u'])\n",
        "\n",
        "print(f\"Matriz guardada en {file_name}\")"
      ]
    },
    {
<<<<<<< HEAD
=======
      "cell_type": "code",
      "execution_count": null,
      "id": "h7sPZT7J3IYk",
      "metadata": {
        "id": "h7sPZT7J3IYk"
      },
      "outputs": [],
      "source": [
        "u_real = u.flatten()\n",
        "u_pred = trainer.predict(model=model, datamodule=datamodule)['u']"
      ]
    },
    {
      "cell_type": "code",
      "execution_count": null,
      "id": "fzEonsHn3IYl",
      "metadata": {
        "colab": {
          "base_uri": "https://localhost:8080/"
        },
        "id": "fzEonsHn3IYl",
        "outputId": "e159fe92-edfc-45e6-bad1-a22fdfbedca4"
      },
      "outputs": [
        {
          "name": "stdout",
          "output_type": "stream",
          "text": [
            "0.43455097\n"
          ]
        }
      ],
      "source": [
        "error_absoluto_medio = np.abs(u_real-u_pred).mean()\n",
        "print(error_absoluto_medio)"
      ]
    },
    {
      "cell_type": "code",
      "execution_count": null,
      "id": "KPNODua83xjN",
      "metadata": {
        "id": "KPNODua83xjN"
      },
      "outputs": [],
      "source": []
    },
    {
      "cell_type": "markdown",
      "id": "GJQBt12w3x7E",
      "metadata": {
        "id": "GJQBt12w3x7E"
      },
      "source": [
        "## 3 %"
      ]
    },
    {
      "cell_type": "code",
      "execution_count": null,
      "id": "IeQeYcJs3x7G",
      "metadata": {
        "id": "IeQeYcJs3x7G"
      },
      "outputs": [],
      "source": [
        "u = np.genfromtxt('/content/drive/MyDrive/data/forward_heat_equation/u_real_3_1e-8.csv', delimiter=',')"
      ]
    },
    {
      "cell_type": "code",
      "execution_count": null,
      "id": "R8WYXmoJ3x7H",
      "metadata": {
        "colab": {
          "base_uri": "https://localhost:8080/"
        },
        "id": "R8WYXmoJ3x7H",
        "outputId": "999579cc-5325-404b-a0e5-427c7ff1ac06"
      },
      "outputs": [
        {
          "name": "stdout",
          "output_type": "stream",
          "text": [
            "[0.         0.03156855 0.06310563] \n",
            " [0.         0.03128728 0.06337607]\n"
          ]
        }
      ],
      "source": [
        "porcentaje_error = 3\n",
        "u_3 = np.random.normal(u, np.abs(u * porcentaje_error/100), u.shape)\n",
        "print(u[0:3, 0], \"\\n\", u_3[0:3, 0])"
      ]
    },
    {
      "cell_type": "code",
      "execution_count": null,
      "id": "aHc1m4WL3x7J",
      "metadata": {
        "id": "aHc1m4WL3x7J"
      },
      "outputs": [],
      "source": [
        "def read_data_fn_3(_):\n",
        "\n",
        "    exact_u = np.real(u_3) # T x N\n",
        "\n",
        "    return {\"u\": exact_u}"
      ]
    },
    {
      "cell_type": "code",
      "execution_count": null,
      "id": "y7xzEhT53x7K",
      "metadata": {
        "id": "y7xzEhT53x7K"
      },
      "outputs": [],
      "source": [
        "mesh = pinnsjax.data.Mesh(root_dir='data',\n",
        "                          read_data_fn=read_data_fn_3,\n",
        "                          spatial_domain = spatial_domain,\n",
        "                          time_domain = time_domain)"
      ]
    },
    {
      "cell_type": "code",
      "execution_count": null,
      "id": "QYmEL9tc3x7L",
      "metadata": {
        "id": "QYmEL9tc3x7L"
      },
      "outputs": [],
      "source": [
        "N0 = 100"
      ]
    },
    {
      "cell_type": "code",
      "execution_count": null,
      "id": "7QMnLo423x7L",
      "metadata": {
        "id": "7QMnLo423x7L"
      },
      "outputs": [],
      "source": [
        "in_c = pinnsjax.data.InitialCondition(mesh = mesh,\n",
        "                                      num_sample = N0,\n",
        "                                      solution = ['u'])"
      ]
    },
    {
      "cell_type": "code",
      "execution_count": null,
      "id": "aOKocwuI3x7M",
      "metadata": {
        "colab": {
          "base_uri": "https://localhost:8080/",
          "height": 35
        },
        "id": "aOKocwuI3x7M",
        "outputId": "0ce58e2c-bbac-4bb4-eb41-93a31693bea1"
      },
      "outputs": [
        {
          "data": {
            "application/vnd.google.colaboratory.intrinsic+json": {
              "type": "string"
            },
            "text/plain": [
              "\" di_b = pinnsjax.data.MeshSampler(mesh = mesh,\\n                                 num_sample = N_b,\\n                                 solution = ['u']) \""
            ]
          },
          "execution_count": 65,
          "metadata": {},
          "output_type": "execute_result"
        }
      ],
      "source": [
        "N_b = 100\n",
        "di_b = pinnsjax.data.DirichletBoundaryCondition(mesh = mesh,\n",
        "                                                num_sample = N_b,\n",
        "                                                solution = ['u'])\n",
        "\n",
        "''' di_b = pinnsjax.data.MeshSampler(mesh = mesh,\n",
        "                                 num_sample = N_b,\n",
        "                                 solution = ['u']) '''"
      ]
    },
    {
      "cell_type": "code",
      "execution_count": null,
      "id": "NgHWnOpW3x7N",
      "metadata": {
        "id": "NgHWnOpW3x7N"
      },
      "outputs": [],
      "source": [
        "N_f = 10000\n",
        "me_s = pinnsjax.data.MeshSampler(mesh = mesh,\n",
        "                                 num_sample = N_f,\n",
        "                                 collection_points = ['f_u'])"
      ]
    },
    {
      "cell_type": "code",
      "execution_count": null,
      "id": "R0_GEwWr3x7O",
      "metadata": {
        "id": "R0_GEwWr3x7O"
      },
      "outputs": [],
      "source": [
        "val_s = pinnsjax.data.MeshSampler(mesh = mesh,\n",
        "                                  solution = ['u'])"
      ]
    },
    {
      "cell_type": "code",
      "execution_count": null,
      "id": "t6eEAy2d3x7Q",
      "metadata": {
        "id": "t6eEAy2d3x7Q"
      },
      "outputs": [],
      "source": [
        "net = pinnsjax.models.FCN(layers = [2, 20, 20, 20, 20, 20, 20, 20, 20, 1],\n",
        "                          output_names = ['u'],\n",
        "                          lb=mesh.lb,\n",
        "                          ub=mesh.ub)"
      ]
    },
    {
      "cell_type": "code",
      "execution_count": null,
      "id": "LIZLbAlB3x7R",
      "metadata": {
        "id": "LIZLbAlB3x7R"
      },
      "outputs": [],
      "source": [
        "alpha = 0.5\n",
        "c = 0.3"
      ]
    },
    {
      "cell_type": "code",
      "execution_count": null,
      "id": "xwnDlC7Z3x7R",
      "metadata": {
        "id": "xwnDlC7Z3x7R"
      },
      "outputs": [],
      "source": [
        "def pde_fn(functional_model,\n",
        "           params,\n",
        "           outputs: Dict[str, jax.Array],\n",
        "           x: jax.Array,\n",
        "           t: jax.Array):\n",
        "    \"\"\"Define the partial differential equations (PDEs).\"\"\"\n",
        "\n",
        "    u_x, u_t = pinnsjax.utils.gradient(functional_model, argnums=(1, 2), order=1)(params, x, t, 'u')\n",
        "    u_xx = pinnsjax.utils.gradient(functional_model, argnums=1, order=2)(params, x, t, 'u')[0]\n",
        "\n",
        "    outputs[\"f_u\"] = c * u_t - alpha * u_xx\n",
        "\n",
        "    return outputs"
      ]
    },
    {
      "cell_type": "code",
      "execution_count": null,
      "id": "vqPxyg2G3x7S",
      "metadata": {
        "id": "vqPxyg2G3x7S"
      },
      "outputs": [],
      "source": [
        "train_datasets = [me_s, in_c, di_b]\n",
        "val_dataset = val_s\n",
        "datamodule = pinnsjax.data.PINNDataModule(train_datasets = train_datasets,\n",
        "                                            val_dataset = val_dataset,\n",
        "                                            pred_dataset = val_s)"
      ]
    },
    {
      "cell_type": "code",
      "execution_count": null,
      "id": "jbqFLbAY3x7S",
      "metadata": {
        "id": "jbqFLbAY3x7S"
      },
      "outputs": [],
      "source": [
        "model = pinnsjax.models.PINNModule(net = net,\n",
        "                                   pde_fn = pde_fn,\n",
        "                                   loss_fn = 'mse')"
      ]
    },
    {
      "cell_type": "code",
      "execution_count": null,
      "id": "P7Z7PHUA3x7T",
      "metadata": {
        "id": "P7Z7PHUA3x7T"
      },
      "outputs": [],
      "source": [
        "trainer = pinnsjax.Trainer(max_epochs=30000, check_val_every_n_epoch=1000)"
      ]
    },
    {
      "cell_type": "code",
      "execution_count": null,
      "id": "0gLWAZnF3x7T",
      "metadata": {
        "colab": {
          "base_uri": "https://localhost:8080/"
        },
        "id": "0gLWAZnF3x7T",
        "outputId": "ab81b510-bbde-4e99-feea-051f4477e39d"
      },
      "outputs": [
        {
          "name": "stderr",
          "output_type": "stream",
          "text": [
            "30000/30000 100%|██████████|[03:28<00:00, 143.56it/s, val/loss: 0.0001, val/error_u: 0.0310, train/loss: 0.0009: ]\n"
          ]
        }
      ],
      "source": [
        "trainer.fit(model=model, datamodule=datamodule)"
      ]
    },
    {
      "cell_type": "code",
      "execution_count": null,
      "id": "tIjoXt4L3x7U",
      "metadata": {
        "colab": {
          "base_uri": "https://localhost:8080/"
        },
        "id": "tIjoXt4L3x7U",
        "outputId": "1dfd8a95-2daf-45cf-bbd5-072a767a54d7"
      },
      "outputs": [
        {
          "data": {
            "text/plain": [
              "(Array(0.00014202, dtype=float32), {'u': Array(0.03109736, dtype=float32)})"
            ]
          },
          "execution_count": 75,
          "metadata": {},
          "output_type": "execute_result"
        }
      ],
      "source": [
        "trainer.validate(model=model, datamodule=datamodule)"
      ]
    },
    {
      "cell_type": "code",
      "execution_count": null,
      "id": "Ea6z5t3t3x7U",
      "metadata": {
        "colab": {
          "base_uri": "https://localhost:8080/"
        },
        "id": "Ea6z5t3t3x7U",
        "outputId": "af1e9417-ba32-442c-c76a-e17bafb0ff32"
      },
      "outputs": [
        {
          "data": {
            "text/plain": [
              "dict"
            ]
          },
          "execution_count": 76,
          "metadata": {},
          "output_type": "execute_result"
        }
      ],
      "source": [
        "preds_dict = trainer.predict(model=model, datamodule=datamodule)\n",
        "type(preds_dict)"
      ]
    },
    {
      "cell_type": "code",
      "execution_count": null,
      "id": "QUCDJPBd3x7V",
      "metadata": {
        "colab": {
          "base_uri": "https://localhost:8080/",
          "height": 536
        },
        "id": "QUCDJPBd3x7V",
        "outputId": "4fa65194-6e22-4bb2-bd22-1c7974779390"
      },
      "outputs": [
        {
          "name": "stderr",
          "output_type": "stream",
          "text": [
            "<ipython-input-12-c536d30c8bfd>:29: MatplotlibDeprecationWarning: Auto-removal of overlapping axes is deprecated since 3.6 and will be removed two minor releases later; explicitly call ax.remove() as needed.\n",
            "  ax = plt.subplot(gs0[:, :])\n"
          ]
        },
        {
          "data": {
            "image/png": "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\n",
            "text/plain": [
              "<Figure size 809.465x450.249 with 5 Axes>"
            ]
          },
          "metadata": {},
          "output_type": "display_data"
        }
      ],
      "source": [
        "plot_burgers_continuous_forward_2(mesh=mesh,\n",
        "                                               preds=preds_dict,\n",
        "                                               train_datasets=train_datasets,\n",
        "                                               val_dataset=val_dataset,\n",
        "                                               file_name=f'/content/drive/MyDrive/data/forward_heat_equation_{porcentaje_error}')\n"
      ]
    },
    {
      "cell_type": "code",
      "execution_count": null,
      "id": "tR6jjMc23x7V",
      "metadata": {
        "colab": {
          "base_uri": "https://localhost:8080/"
        },
        "id": "tR6jjMc23x7V",
        "outputId": "0550a4ba-145f-44fb-8044-bdad99e3db06"
      },
      "outputs": [
        {
          "name": "stdout",
          "output_type": "stream",
          "text": [
            "Matriz guardada en /content/drive/MyDrive/data/forward_heat_equation/u_pred_t_1e-8_x_1e-2_error_3.csv\n"
          ]
        }
      ],
      "source": [
        "# Nombre del archivo CSV\n",
        "file_name = f'/content/drive/MyDrive/data/forward_heat_equation/u_pred_t_1e-8_x_1e-2_error_{porcentaje_error}.csv'\n",
        "\n",
        "# Escribir la matriz en el archivo CSV\n",
        "with open(file_name, mode='w', newline='') as file:\n",
        "    writer = csv.writer(file)\n",
        "    writer.writerows(preds_dict['u'])\n",
        "\n",
        "print(f\"Matriz guardada en {file_name}\")"
      ]
    },
    {
      "cell_type": "code",
      "execution_count": null,
      "id": "sRhT8k_R3x7W",
      "metadata": {
        "id": "sRhT8k_R3x7W"
      },
      "outputs": [],
      "source": [
        "u_real = u.flatten()\n",
        "u_pred = trainer.predict(model=model, datamodule=datamodule)['u']"
      ]
    },
    {
      "cell_type": "code",
      "execution_count": null,
      "id": "Q-Kw6ZH-3x7X",
      "metadata": {
        "colab": {
          "base_uri": "https://localhost:8080/"
        },
        "id": "Q-Kw6ZH-3x7X",
        "outputId": "127cc328-ed67-46ed-abe8-e833924e51fb"
      },
      "outputs": [
        {
          "name": "stdout",
          "output_type": "stream",
          "text": [
            "0.43306956\n"
          ]
        }
      ],
      "source": [
        "error_absoluto_medio = np.abs(u_real-u_pred).mean()\n",
        "print(error_absoluto_medio)"
      ]
    },
    {
      "cell_type": "code",
      "execution_count": null,
      "id": "LhJPp1zH4SpR",
      "metadata": {
        "id": "LhJPp1zH4SpR"
      },
      "outputs": [],
      "source": []
    },
    {
>>>>>>> 212dcfdde2aa6292e90eb283b7646c247cdf4b41
      "cell_type": "markdown",
      "id": "jZSflFQq4Tbk",
      "metadata": {
        "id": "jZSflFQq4Tbk"
      },
      "source": [
        "## 3 %"
      ]
    },
    {
      "cell_type": "code",
      "execution_count": null,
      "id": "XFBgMKOV4Tbm",
      "metadata": {
        "id": "XFBgMKOV4Tbm"
      },
      "outputs": [],
      "source": [
<<<<<<< HEAD
        "u = np.genfromtxt('generacion_datos/data/u_real_t_1e-8_x_1e-2.csv', delimiter=',')"
=======
        "u = np.genfromtxt('/content/drive/MyDrive/data/forward_heat_equation/u_real_3_1e-8.csv', delimiter=',')"
>>>>>>> 212dcfdde2aa6292e90eb283b7646c247cdf4b41
      ]
    },
    {
      "cell_type": "code",
      "execution_count": null,
      "id": "QZj5E8lg4Tbo",
      "metadata": {
        "colab": {
          "base_uri": "https://localhost:8080/"
        },
        "id": "QZj5E8lg4Tbo",
<<<<<<< HEAD
        "outputId": "d35e016a-9dac-42de-dc43-a33ef1eddf8d"
=======
        "outputId": "6c96b870-0010-42fd-af4f-3a3a46aa2598"
>>>>>>> 212dcfdde2aa6292e90eb283b7646c247cdf4b41
      },
      "outputs": [
        {
          "name": "stdout",
          "output_type": "stream",
          "text": [
            "[0.         0.03156855 0.06310563] \n",
<<<<<<< HEAD
            " [0.         0.03253893 0.0641193 ]\n"
=======
            " [0.         0.03075798 0.0625298 ]\n"
>>>>>>> 212dcfdde2aa6292e90eb283b7646c247cdf4b41
          ]
        }
      ],
      "source": [
        "porcentaje_error = 3\n",
        "u_3 = np.random.normal(u, np.abs(u * porcentaje_error/100), u.shape)\n",
        "print(u[0:3, 0], \"\\n\", u_3[0:3, 0])"
      ]
    },
    {
      "cell_type": "code",
      "execution_count": null,
      "id": "GnfwJJvl4Tbq",
      "metadata": {
        "id": "GnfwJJvl4Tbq"
      },
      "outputs": [],
      "source": [
        "def read_data_fn_3(_):\n",
<<<<<<< HEAD
        "    exact_u = np.real(u_3) # T x N\n",
=======
        "\n",
        "    exact_u = np.real(u_3) # T x N\n",
        "\n",
>>>>>>> 212dcfdde2aa6292e90eb283b7646c247cdf4b41
        "    return {\"u\": exact_u}"
      ]
    },
    {
      "cell_type": "code",
      "execution_count": null,
      "id": "eBnpmEFp4Tbr",
      "metadata": {
        "id": "eBnpmEFp4Tbr"
      },
      "outputs": [],
      "source": [
        "mesh = pinnsjax.data.Mesh(root_dir='data',\n",
        "                          read_data_fn=read_data_fn_3,\n",
        "                          spatial_domain = spatial_domain,\n",
        "                          time_domain = time_domain)"
      ]
    },
    {
      "cell_type": "code",
      "execution_count": null,
      "id": "qqdswI2H4Tbs",
      "metadata": {
        "id": "qqdswI2H4Tbs"
      },
      "outputs": [],
      "source": [
        "N0 = 100"
      ]
    },
    {
      "cell_type": "code",
      "execution_count": null,
      "id": "UptwpTQ-4Tbt",
      "metadata": {
        "id": "UptwpTQ-4Tbt"
      },
      "outputs": [],
      "source": [
        "in_c = pinnsjax.data.InitialCondition(mesh = mesh,\n",
        "                                      num_sample = N0,\n",
        "                                      solution = ['u'])"
      ]
    },
    {
      "cell_type": "code",
      "execution_count": null,
      "id": "iKX-4dN04Tbu",
      "metadata": {
<<<<<<< HEAD
        "id": "iKX-4dN04Tbu"
      },
      "outputs": [],
=======
        "colab": {
          "base_uri": "https://localhost:8080/",
          "height": 35
        },
        "id": "iKX-4dN04Tbu",
        "outputId": "1a5b702f-6cc7-4018-c007-1fd72a6fb9d0"
      },
      "outputs": [
        {
          "data": {
            "application/vnd.google.colaboratory.intrinsic+json": {
              "type": "string"
            },
            "text/plain": [
              "\" di_b = pinnsjax.data.MeshSampler(mesh = mesh,\\n                                 num_sample = N_b,\\n                                 solution = ['u']) \""
            ]
          },
          "execution_count": 87,
          "metadata": {},
          "output_type": "execute_result"
        }
      ],
>>>>>>> 212dcfdde2aa6292e90eb283b7646c247cdf4b41
      "source": [
        "N_b = 100\n",
        "di_b = pinnsjax.data.DirichletBoundaryCondition(mesh = mesh,\n",
        "                                                num_sample = N_b,\n",
<<<<<<< HEAD
        "                                                solution = ['u'])"
=======
        "                                                solution = ['u'])\n",
        "\n",
        "''' di_b = pinnsjax.data.MeshSampler(mesh = mesh,\n",
        "                                 num_sample = N_b,\n",
        "                                 solution = ['u']) '''"
>>>>>>> 212dcfdde2aa6292e90eb283b7646c247cdf4b41
      ]
    },
    {
      "cell_type": "code",
      "execution_count": null,
      "id": "exxDvFV14Tbw",
      "metadata": {
        "id": "exxDvFV14Tbw"
      },
      "outputs": [],
      "source": [
        "N_f = 10000\n",
        "me_s = pinnsjax.data.MeshSampler(mesh = mesh,\n",
        "                                 num_sample = N_f,\n",
        "                                 collection_points = ['f_u'])"
      ]
    },
    {
      "cell_type": "code",
      "execution_count": null,
      "id": "6Q5zIW8q4Tbx",
      "metadata": {
        "id": "6Q5zIW8q4Tbx"
      },
      "outputs": [],
      "source": [
        "val_s = pinnsjax.data.MeshSampler(mesh = mesh,\n",
        "                                  solution = ['u'])"
      ]
    },
    {
      "cell_type": "code",
      "execution_count": null,
      "id": "SLsBeM3U4Tbz",
      "metadata": {
        "id": "SLsBeM3U4Tbz"
      },
      "outputs": [],
      "source": [
        "net = pinnsjax.models.FCN(layers = [2, 20, 20, 20, 20, 20, 20, 20, 20, 1],\n",
        "                          output_names = ['u'],\n",
        "                          lb=mesh.lb,\n",
        "                          ub=mesh.ub)"
      ]
    },
    {
      "cell_type": "code",
      "execution_count": null,
      "id": "5UUoaSgp4Tb0",
      "metadata": {
        "id": "5UUoaSgp4Tb0"
      },
      "outputs": [],
      "source": [
<<<<<<< HEAD
        "k = 0.5\n",
=======
        "alpha = 0.5\n",
>>>>>>> 212dcfdde2aa6292e90eb283b7646c247cdf4b41
        "c = 0.3"
      ]
    },
    {
      "cell_type": "code",
      "execution_count": null,
      "id": "1W4T0NYQ4Tb0",
      "metadata": {
        "id": "1W4T0NYQ4Tb0"
      },
      "outputs": [],
      "source": [
        "def pde_fn(functional_model,\n",
        "           params,\n",
        "           outputs: Dict[str, jax.Array],\n",
        "           x: jax.Array,\n",
        "           t: jax.Array):\n",
<<<<<<< HEAD
=======
        "    \"\"\"Define the partial differential equations (PDEs).\"\"\"\n",
>>>>>>> 212dcfdde2aa6292e90eb283b7646c247cdf4b41
        "\n",
        "    u_x, u_t = pinnsjax.utils.gradient(functional_model, argnums=(1, 2), order=1)(params, x, t, 'u')\n",
        "    u_xx = pinnsjax.utils.gradient(functional_model, argnums=1, order=2)(params, x, t, 'u')[0]\n",
        "\n",
<<<<<<< HEAD
        "    outputs[\"f_u\"] = c * u_t - k * u_xx\n",
=======
        "    outputs[\"f_u\"] = c * u_t - alpha * u_xx\n",
>>>>>>> 212dcfdde2aa6292e90eb283b7646c247cdf4b41
        "\n",
        "    return outputs"
      ]
    },
    {
      "cell_type": "code",
      "execution_count": null,
      "id": "r9if1lpH4Tb1",
      "metadata": {
        "id": "r9if1lpH4Tb1"
      },
      "outputs": [],
      "source": [
        "train_datasets = [me_s, in_c, di_b]\n",
        "val_dataset = val_s\n",
        "datamodule = pinnsjax.data.PINNDataModule(train_datasets = train_datasets,\n",
        "                                            val_dataset = val_dataset,\n",
        "                                            pred_dataset = val_s)"
      ]
    },
    {
      "cell_type": "code",
      "execution_count": null,
      "id": "KO85MmBd4Tb1",
      "metadata": {
        "id": "KO85MmBd4Tb1"
      },
      "outputs": [],
      "source": [
        "model = pinnsjax.models.PINNModule(net = net,\n",
        "                                   pde_fn = pde_fn,\n",
        "                                   loss_fn = 'mse')"
      ]
    },
    {
      "cell_type": "code",
      "execution_count": null,
      "id": "5woTHlTk4Tb2",
      "metadata": {
        "id": "5woTHlTk4Tb2"
      },
      "outputs": [],
      "source": [
        "trainer = pinnsjax.Trainer(max_epochs=30000, check_val_every_n_epoch=1000)"
      ]
    },
    {
      "cell_type": "code",
      "execution_count": null,
      "id": "4Fw1kOBZ4Tb2",
      "metadata": {
        "colab": {
<<<<<<< HEAD
          "base_uri": "https://localhost:8080/"
        },
        "id": "4Fw1kOBZ4Tb2",
        "outputId": "7661c1e5-839f-4568-80b0-cb325f807041"
=======
          "background_save": true,
          "base_uri": "https://localhost:8080/"
        },
        "id": "4Fw1kOBZ4Tb2",
        "outputId": "8a32d0ae-94db-479c-9011-d14c84b7da1d"
>>>>>>> 212dcfdde2aa6292e90eb283b7646c247cdf4b41
      },
      "outputs": [
        {
          "name": "stderr",
          "output_type": "stream",
          "text": [
<<<<<<< HEAD
            "30000/30000 100%|██████████|[04:13<00:00, 118.19it/s, val/loss: 0.0001, val/error_u: 0.0308, train/loss: 0.0007: ]\n"
=======
            "30000/30000 100%|██████████|[03:32<00:00, 141.15it/s, val/loss: 0.0001, val/error_u: 0.0315, train/loss: 0.0010: ]\n"
>>>>>>> 212dcfdde2aa6292e90eb283b7646c247cdf4b41
          ]
        }
      ],
      "source": [
        "trainer.fit(model=model, datamodule=datamodule)"
      ]
    },
    {
      "cell_type": "code",
      "execution_count": null,
      "id": "GEynvF4X4Tb3",
      "metadata": {
        "colab": {
<<<<<<< HEAD
          "base_uri": "https://localhost:8080/"
        },
        "id": "GEynvF4X4Tb3",
        "outputId": "b37fe034-b614-4264-bce5-6cffc84f8c6b"
=======
          "background_save": true
        },
        "id": "GEynvF4X4Tb3",
        "outputId": "7f09f617-9966-466b-9029-412f44c1d48f"
>>>>>>> 212dcfdde2aa6292e90eb283b7646c247cdf4b41
      },
      "outputs": [
        {
          "data": {
            "text/plain": [
<<<<<<< HEAD
              "(Array(0.00014066, dtype=float32), {'u': Array(0.03092554, dtype=float32)})"
            ]
          },
          "execution_count": 80,
=======
              "(Array(0.0001438, dtype=float32), {'u': Array(0.03129986, dtype=float32)})"
            ]
          },
          "execution_count": 97,
>>>>>>> 212dcfdde2aa6292e90eb283b7646c247cdf4b41
          "metadata": {},
          "output_type": "execute_result"
        }
      ],
      "source": [
        "trainer.validate(model=model, datamodule=datamodule)"
      ]
    },
    {
      "cell_type": "code",
      "execution_count": null,
      "id": "7rYQNQZa4Tb4",
      "metadata": {
        "colab": {
<<<<<<< HEAD
          "base_uri": "https://localhost:8080/"
        },
        "id": "7rYQNQZa4Tb4",
        "outputId": "8fecdf26-6609-476e-e597-83511b292b64"
=======
          "background_save": true
        },
        "id": "7rYQNQZa4Tb4",
        "outputId": "cc07efe8-b239-4ed3-ddd8-f74897b9823b"
>>>>>>> 212dcfdde2aa6292e90eb283b7646c247cdf4b41
      },
      "outputs": [
        {
          "data": {
            "text/plain": [
              "dict"
            ]
          },
<<<<<<< HEAD
          "execution_count": 81,
=======
          "execution_count": 98,
>>>>>>> 212dcfdde2aa6292e90eb283b7646c247cdf4b41
          "metadata": {},
          "output_type": "execute_result"
        }
      ],
      "source": [
        "preds_dict = trainer.predict(model=model, datamodule=datamodule)\n",
        "type(preds_dict)"
      ]
    },
    {
      "cell_type": "code",
      "execution_count": null,
      "id": "nh4dKyoj4Tb4",
      "metadata": {
        "colab": {
<<<<<<< HEAD
          "base_uri": "https://localhost:8080/",
          "height": 553
        },
        "id": "nh4dKyoj4Tb4",
        "outputId": "504edcdf-a9f6-4acf-f7f2-758819535448"
=======
          "background_save": true
        },
        "id": "nh4dKyoj4Tb4",
        "outputId": "95dc6c28-1408-4461-9002-bb529a09fd2f"
>>>>>>> 212dcfdde2aa6292e90eb283b7646c247cdf4b41
      },
      "outputs": [
        {
          "name": "stderr",
          "output_type": "stream",
          "text": [
<<<<<<< HEAD
            "<ipython-input-4-f73a368f9bd6>:76: MatplotlibDeprecationWarning: Auto-removal of overlapping axes is deprecated since 3.6 and will be removed two minor releases later; explicitly call ax.remove() as needed.\n",
            "  ax = plt.subplot(gs0[:, :])\n",
            "WARNING:matplotlib.legend:No artists with labels found to put in legend.  Note that artists whose label start with an underscore are ignored when legend() is called with no argument.\n"
=======
            "<ipython-input-12-c536d30c8bfd>:29: MatplotlibDeprecationWarning: Auto-removal of overlapping axes is deprecated since 3.6 and will be removed two minor releases later; explicitly call ax.remove() as needed.\n",
            "  ax = plt.subplot(gs0[:, :])\n"
>>>>>>> 212dcfdde2aa6292e90eb283b7646c247cdf4b41
          ]
        },
        {
          "data": {
<<<<<<< HEAD
            "image/png": "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",
=======
            "image/png": "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\n",
>>>>>>> 212dcfdde2aa6292e90eb283b7646c247cdf4b41
            "text/plain": [
              "<Figure size 809.465x450.249 with 5 Axes>"
            ]
          },
          "metadata": {},
          "output_type": "display_data"
        }
      ],
      "source": [
<<<<<<< HEAD
        "plot_resultados(mesh=mesh,\n",
        "                preds=preds_dict,\n",
        "                train_datasets=train_datasets,\n",
        "                val_dataset=val_dataset,\n",
        "                file_name=f'error_{porcentaje_error}')\n"
=======
        "plot_burgers_continuous_forward_2(mesh=mesh,\n",
        "                                               preds=preds_dict,\n",
        "                                               train_datasets=train_datasets,\n",
        "                                               val_dataset=val_dataset,\n",
        "                                               file_name=f'/content/drive/MyDrive/data/forward_heat_equation_{porcentaje_error}')\n"
>>>>>>> 212dcfdde2aa6292e90eb283b7646c247cdf4b41
      ]
    },
    {
      "cell_type": "code",
      "execution_count": null,
      "id": "79c2sCQx4Tb5",
      "metadata": {
        "colab": {
<<<<<<< HEAD
          "base_uri": "https://localhost:8080/"
        },
        "id": "79c2sCQx4Tb5",
        "outputId": "87b1cf67-651b-4fa7-8c8f-95af23e0f62b"
=======
          "background_save": true
        },
        "id": "79c2sCQx4Tb5",
        "outputId": "15c9cd5a-0f32-485b-f619-924172a185a4"
>>>>>>> 212dcfdde2aa6292e90eb283b7646c247cdf4b41
      },
      "outputs": [
        {
          "name": "stdout",
          "output_type": "stream",
          "text": [
<<<<<<< HEAD
            "Matriz guardada en /content/drive/MyDrive/data/Segunda vez/soluciones/error_3/u_pred_t_1e-8_x_1e-2_error_3.csv\n"
=======
            "Matriz guardada en /content/drive/MyDrive/data/forward_heat_equation/u_pred_t_1e-8_x_1e-2_error_3.csv\n"
>>>>>>> 212dcfdde2aa6292e90eb283b7646c247cdf4b41
          ]
        }
      ],
      "source": [
<<<<<<< HEAD
        "file_name = f'error_{porcentaje_error}/u_pred_t_1e-8_x_1e-2_error_{porcentaje_error}.csv'\n",
        "\n",
=======
        "# Nombre del archivo CSV\n",
        "file_name = f'/content/drive/MyDrive/data/forward_heat_equation/u_pred_t_1e-8_x_1e-2_error_{porcentaje_error}.csv'\n",
        "\n",
        "# Escribir la matriz en el archivo CSV\n",
>>>>>>> 212dcfdde2aa6292e90eb283b7646c247cdf4b41
        "with open(file_name, mode='w', newline='') as file:\n",
        "    writer = csv.writer(file)\n",
        "    writer.writerows(preds_dict['u'])\n",
        "\n",
        "print(f\"Matriz guardada en {file_name}\")"
      ]
    },
    {
<<<<<<< HEAD
=======
      "cell_type": "code",
      "execution_count": null,
      "id": "B3vhgeE34Tb5",
      "metadata": {
        "colab": {
          "background_save": true
        },
        "id": "B3vhgeE34Tb5"
      },
      "outputs": [],
      "source": [
        "u_real = u.flatten()\n",
        "u_pred = trainer.predict(model=model, datamodule=datamodule)['u']"
      ]
    },
    {
      "cell_type": "code",
      "execution_count": null,
      "id": "lsUktlNV4Tb6",
      "metadata": {
        "colab": {
          "background_save": true
        },
        "id": "lsUktlNV4Tb6",
        "outputId": "c984795e-045b-4c3a-f186-9e485b06d8cf"
      },
      "outputs": [
        {
          "name": "stdout",
          "output_type": "stream",
          "text": [
            "0.43312788\n"
          ]
        }
      ],
      "source": [
        "error_absoluto_medio = np.abs(u_real-u_pred).mean()\n",
        "print(error_absoluto_medio)"
      ]
    },
    {
      "cell_type": "code",
      "execution_count": null,
      "id": "5SO92zQz4dUr",
      "metadata": {
        "colab": {
          "background_save": true
        },
        "id": "5SO92zQz4dUr"
      },
      "outputs": [],
      "source": []
    },
    {
>>>>>>> 212dcfdde2aa6292e90eb283b7646c247cdf4b41
      "cell_type": "markdown",
      "id": "1R1tN5jG4dp2",
      "metadata": {
        "id": "1R1tN5jG4dp2"
      },
      "source": [
        "## 1 %"
      ]
    },
    {
      "cell_type": "code",
      "execution_count": null,
      "id": "oM8X6BVc4dp3",
      "metadata": {
        "id": "oM8X6BVc4dp3"
      },
      "outputs": [],
      "source": [
<<<<<<< HEAD
        "u = np.genfromtxt('generacion_datos/data/u_real_t_1e-8_x_1e-2.csv', delimiter=',')"
=======
        "u = np.genfromtxt('/content/drive/MyDrive/data/forward_heat_equation/u_real_3_1e-8.csv', delimiter=',')"
>>>>>>> 212dcfdde2aa6292e90eb283b7646c247cdf4b41
      ]
    },
    {
      "cell_type": "code",
      "execution_count": null,
      "id": "-pSuaAgN4dp4",
      "metadata": {
        "colab": {
          "base_uri": "https://localhost:8080/"
        },
        "id": "-pSuaAgN4dp4",
<<<<<<< HEAD
        "outputId": "b9679b25-e6c7-47c6-db8c-2544e37b2284"
      },
      "outputs": [
        {
          "name": "stdout",
          "output_type": "stream",
          "text": [
            "[0.         0.03156855 0.06310563] \n",
            " [0.         0.03138577 0.06339195]\n"
=======
        "outputId": "7ed6deac-c346-4e94-fbfb-4d5a5346a365"
      },
      "outputs": [
        {
          "output_type": "stream",
          "name": "stdout",
          "text": [
            "[0.         0.03156855 0.06310563] \n",
            " [0.         0.03213564 0.06394865]\n"
>>>>>>> 212dcfdde2aa6292e90eb283b7646c247cdf4b41
          ]
        }
      ],
      "source": [
        "porcentaje_error = 1\n",
        "u_1 = np.random.normal(u, np.abs(u * porcentaje_error/100), u.shape)\n",
        "print(u[0:3, 0], \"\\n\", u_1[0:3, 0])"
      ]
    },
    {
      "cell_type": "code",
      "execution_count": null,
      "id": "W5eMpPAo4dp6",
      "metadata": {
        "id": "W5eMpPAo4dp6"
      },
      "outputs": [],
      "source": [
        "def read_data_fn_1(_):\n",
<<<<<<< HEAD
        "    exact_u = np.real(u_1) # T x N\n",
=======
        "\n",
        "    exact_u = np.real(u_1) # T x N\n",
        "\n",
>>>>>>> 212dcfdde2aa6292e90eb283b7646c247cdf4b41
        "    return {\"u\": exact_u}"
      ]
    },
    {
      "cell_type": "code",
      "execution_count": null,
      "id": "SrccykQW4dp7",
      "metadata": {
        "id": "SrccykQW4dp7"
      },
      "outputs": [],
      "source": [
        "mesh = pinnsjax.data.Mesh(root_dir='data',\n",
        "                          read_data_fn=read_data_fn_1,\n",
        "                          spatial_domain = spatial_domain,\n",
        "                          time_domain = time_domain)"
      ]
    },
    {
      "cell_type": "code",
      "execution_count": null,
      "id": "y-w744oZ4dp8",
      "metadata": {
        "id": "y-w744oZ4dp8"
      },
      "outputs": [],
      "source": [
        "N0 = 100"
      ]
    },
    {
      "cell_type": "code",
      "execution_count": null,
      "id": "18WfmI9m4dp9",
      "metadata": {
        "id": "18WfmI9m4dp9"
      },
      "outputs": [],
      "source": [
        "in_c = pinnsjax.data.InitialCondition(mesh = mesh,\n",
        "                                      num_sample = N0,\n",
        "                                      solution = ['u'])"
      ]
    },
    {
      "cell_type": "code",
      "execution_count": null,
      "id": "czrPPjSI4dp-",
      "metadata": {
<<<<<<< HEAD
        "id": "czrPPjSI4dp-"
      },
      "outputs": [],
=======
        "colab": {
          "base_uri": "https://localhost:8080/",
          "height": 53
        },
        "id": "czrPPjSI4dp-",
        "outputId": "69b03009-18f8-4add-cd4f-54ef43e1c87a"
      },
      "outputs": [
        {
          "output_type": "execute_result",
          "data": {
            "text/plain": [
              "\" di_b = pinnsjax.data.MeshSampler(mesh = mesh,\\n                                 num_sample = N_b,\\n                                 solution = ['u']) \""
            ],
            "application/vnd.google.colaboratory.intrinsic+json": {
              "type": "string"
            }
          },
          "metadata": {},
          "execution_count": 15
        }
      ],
>>>>>>> 212dcfdde2aa6292e90eb283b7646c247cdf4b41
      "source": [
        "N_b = 100\n",
        "di_b = pinnsjax.data.DirichletBoundaryCondition(mesh = mesh,\n",
        "                                                num_sample = N_b,\n",
<<<<<<< HEAD
        "                                                solution = ['u'])"
=======
        "                                                solution = ['u'])\n",
        "\n",
        "''' di_b = pinnsjax.data.MeshSampler(mesh = mesh,\n",
        "                                 num_sample = N_b,\n",
        "                                 solution = ['u']) '''"
>>>>>>> 212dcfdde2aa6292e90eb283b7646c247cdf4b41
      ]
    },
    {
      "cell_type": "code",
      "execution_count": null,
      "id": "WvxA-QPi4dp_",
      "metadata": {
        "id": "WvxA-QPi4dp_"
      },
      "outputs": [],
      "source": [
        "N_f = 10000\n",
        "me_s = pinnsjax.data.MeshSampler(mesh = mesh,\n",
        "                                 num_sample = N_f,\n",
        "                                 collection_points = ['f_u'])"
      ]
    },
    {
      "cell_type": "code",
      "execution_count": null,
      "id": "afmtyF5K4dqA",
      "metadata": {
        "id": "afmtyF5K4dqA"
      },
      "outputs": [],
      "source": [
        "val_s = pinnsjax.data.MeshSampler(mesh = mesh,\n",
        "                                  solution = ['u'])"
      ]
    },
    {
      "cell_type": "code",
      "execution_count": null,
      "id": "6brIDHnw4dqC",
      "metadata": {
        "id": "6brIDHnw4dqC"
      },
      "outputs": [],
      "source": [
        "net = pinnsjax.models.FCN(layers = [2, 20, 20, 20, 20, 20, 20, 20, 20, 1],\n",
        "                          output_names = ['u'],\n",
        "                          lb=mesh.lb,\n",
        "                          ub=mesh.ub)"
      ]
    },
    {
      "cell_type": "code",
      "execution_count": null,
      "id": "aWlgPqJu4dqD",
      "metadata": {
        "id": "aWlgPqJu4dqD"
      },
      "outputs": [],
      "source": [
<<<<<<< HEAD
        "k = 0.5\n",
=======
        "alpha = 0.5\n",
>>>>>>> 212dcfdde2aa6292e90eb283b7646c247cdf4b41
        "c = 0.3"
      ]
    },
    {
      "cell_type": "code",
      "execution_count": null,
      "id": "16pfp21M4dqE",
      "metadata": {
        "id": "16pfp21M4dqE"
      },
      "outputs": [],
      "source": [
        "def pde_fn(functional_model,\n",
        "           params,\n",
        "           outputs: Dict[str, jax.Array],\n",
        "           x: jax.Array,\n",
        "           t: jax.Array):\n",
<<<<<<< HEAD
=======
        "    \"\"\"Define the partial differential equations (PDEs).\"\"\"\n",
>>>>>>> 212dcfdde2aa6292e90eb283b7646c247cdf4b41
        "\n",
        "    u_x, u_t = pinnsjax.utils.gradient(functional_model, argnums=(1, 2), order=1)(params, x, t, 'u')\n",
        "    u_xx = pinnsjax.utils.gradient(functional_model, argnums=1, order=2)(params, x, t, 'u')[0]\n",
        "\n",
<<<<<<< HEAD
        "    outputs[\"f_u\"] = c * u_t - k * u_xx\n",
=======
        "    outputs[\"f_u\"] = c * u_t - alpha * u_xx\n",
>>>>>>> 212dcfdde2aa6292e90eb283b7646c247cdf4b41
        "\n",
        "    return outputs"
      ]
    },
    {
      "cell_type": "code",
      "execution_count": null,
      "id": "5k-eGW134dqE",
      "metadata": {
        "id": "5k-eGW134dqE"
      },
      "outputs": [],
      "source": [
        "train_datasets = [me_s, in_c, di_b]\n",
        "val_dataset = val_s\n",
        "datamodule = pinnsjax.data.PINNDataModule(train_datasets = train_datasets,\n",
        "                                            val_dataset = val_dataset,\n",
        "                                            pred_dataset = val_s)"
      ]
    },
    {
      "cell_type": "code",
      "execution_count": null,
      "id": "mDH_qyZa4dqF",
      "metadata": {
        "id": "mDH_qyZa4dqF"
      },
      "outputs": [],
      "source": [
        "model = pinnsjax.models.PINNModule(net = net,\n",
        "                                   pde_fn = pde_fn,\n",
        "                                   loss_fn = 'mse')"
      ]
    },
    {
      "cell_type": "code",
      "execution_count": null,
      "id": "S1qrZmd-4dqG",
      "metadata": {
        "id": "S1qrZmd-4dqG"
      },
      "outputs": [],
      "source": [
        "trainer = pinnsjax.Trainer(max_epochs=30000, check_val_every_n_epoch=1000)"
      ]
    },
    {
      "cell_type": "code",
      "execution_count": null,
      "id": "iWkhxsjV4dqG",
      "metadata": {
<<<<<<< HEAD
        "colab": {
          "base_uri": "https://localhost:8080/"
        },
        "id": "iWkhxsjV4dqG",
        "outputId": "1ac41d3b-bdf3-4062-8572-d6cad9a60919"
      },
      "outputs": [
        {
          "name": "stderr",
          "output_type": "stream",
          "text": [
            "30000/30000 100%|██████████|[04:09<00:00, 120.47it/s, val/loss: 0.0000, val/error_u: 0.0138, train/loss: 0.0005: ]\n"
=======
        "id": "iWkhxsjV4dqG",
        "colab": {
          "base_uri": "https://localhost:8080/"
        },
        "outputId": "a87fad7f-747c-4180-c8c0-89af1403a2c4"
      },
      "outputs": [
        {
          "output_type": "stream",
          "name": "stderr",
          "text": [
            "30000/30000 100%|██████████|[03:29<00:00, 142.92it/s, val/loss: 0.0000, val/error_u: 0.0125, train/loss: 0.0002: ]\n"
>>>>>>> 212dcfdde2aa6292e90eb283b7646c247cdf4b41
          ]
        }
      ],
      "source": [
        "trainer.fit(model=model, datamodule=datamodule)"
      ]
    },
    {
      "cell_type": "code",
      "execution_count": null,
      "id": "TzvBWkF14dqH",
      "metadata": {
<<<<<<< HEAD
        "colab": {
          "base_uri": "https://localhost:8080/"
        },
        "id": "TzvBWkF14dqH",
        "outputId": "9a8003ed-bda5-4123-e7a1-e80760410518"
      },
      "outputs": [
        {
          "data": {
            "text/plain": [
              "(Array(4.0669045e-05, dtype=float32), {'u': Array(0.01664887, dtype=float32)})"
            ]
          },
          "execution_count": 100,
          "metadata": {},
          "output_type": "execute_result"
=======
        "id": "TzvBWkF14dqH",
        "colab": {
          "base_uri": "https://localhost:8080/"
        },
        "outputId": "49e5419b-bf8e-41af-f3d9-204964833332"
      },
      "outputs": [
        {
          "output_type": "execute_result",
          "data": {
            "text/plain": [
              "(Array(2.279249e-05, dtype=float32), {'u': Array(0.01246302, dtype=float32)})"
            ]
          },
          "metadata": {},
          "execution_count": 25
>>>>>>> 212dcfdde2aa6292e90eb283b7646c247cdf4b41
        }
      ],
      "source": [
        "trainer.validate(model=model, datamodule=datamodule)"
      ]
    },
    {
      "cell_type": "code",
      "execution_count": null,
      "id": "VPBm4ZJk4dqH",
      "metadata": {
<<<<<<< HEAD
        "colab": {
          "base_uri": "https://localhost:8080/"
        },
        "id": "VPBm4ZJk4dqH",
        "outputId": "75851824-2239-4f03-97ad-9072d37497bd"
      },
      "outputs": [
        {
=======
        "id": "VPBm4ZJk4dqH",
        "colab": {
          "base_uri": "https://localhost:8080/"
        },
        "outputId": "b00d35ab-f611-46f9-e7fd-188d6b198908"
      },
      "outputs": [
        {
          "output_type": "execute_result",
>>>>>>> 212dcfdde2aa6292e90eb283b7646c247cdf4b41
          "data": {
            "text/plain": [
              "dict"
            ]
          },
<<<<<<< HEAD
          "execution_count": 101,
          "metadata": {},
          "output_type": "execute_result"
=======
          "metadata": {},
          "execution_count": 26
>>>>>>> 212dcfdde2aa6292e90eb283b7646c247cdf4b41
        }
      ],
      "source": [
        "preds_dict = trainer.predict(model=model, datamodule=datamodule)\n",
        "type(preds_dict)"
      ]
    },
    {
      "cell_type": "code",
      "execution_count": null,
      "id": "IVN5NQiY4dqI",
      "metadata": {
<<<<<<< HEAD
        "colab": {
          "base_uri": "https://localhost:8080/",
          "height": 553
        },
        "id": "IVN5NQiY4dqI",
        "outputId": "fb3521c6-bb03-4a2d-c15a-cc0f4e0f0f85"
      },
      "outputs": [
        {
          "name": "stderr",
          "output_type": "stream",
          "text": [
            "<ipython-input-4-f73a368f9bd6>:76: MatplotlibDeprecationWarning: Auto-removal of overlapping axes is deprecated since 3.6 and will be removed two minor releases later; explicitly call ax.remove() as needed.\n",
            "  ax = plt.subplot(gs0[:, :])\n",
            "WARNING:matplotlib.legend:No artists with labels found to put in legend.  Note that artists whose label start with an underscore are ignored when legend() is called with no argument.\n"
          ]
        },
        {
          "data": {
            "image/png": "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",
            "text/plain": [
              "<Figure size 809.465x450.249 with 5 Axes>"
            ]
          },
          "metadata": {},
          "output_type": "display_data"
        }
      ],
      "source": [
        "plot_resultados(mesh=mesh,\n",
        "                preds=preds_dict,\n",
        "                train_datasets=train_datasets,\n",
        "                val_dataset=val_dataset,\n",
        "                file_name=f'error_{porcentaje_error}')\n"
=======
        "id": "IVN5NQiY4dqI",
        "colab": {
          "base_uri": "https://localhost:8080/",
          "height": 300
        },
        "outputId": "39030821-a174-415a-c34b-b889f855938c"
      },
      "outputs": [
        {
          "output_type": "error",
          "ename": "NameError",
          "evalue": "name 'plot_burgers_continuous_forward_2' is not defined",
          "traceback": [
            "\u001b[0;31m---------------------------------------------------------------------------\u001b[0m",
            "\u001b[0;31mNameError\u001b[0m                                 Traceback (most recent call last)",
            "\u001b[0;32m<ipython-input-27-2196bb7e3c06>\u001b[0m in \u001b[0;36m<cell line: 1>\u001b[0;34m()\u001b[0m\n\u001b[0;32m----> 1\u001b[0;31m plot_burgers_continuous_forward_2(mesh=mesh,\n\u001b[0m\u001b[1;32m      2\u001b[0m                                                \u001b[0mpreds\u001b[0m\u001b[0;34m=\u001b[0m\u001b[0mpreds_dict\u001b[0m\u001b[0;34m,\u001b[0m\u001b[0;34m\u001b[0m\u001b[0;34m\u001b[0m\u001b[0m\n\u001b[1;32m      3\u001b[0m                                                \u001b[0mtrain_datasets\u001b[0m\u001b[0;34m=\u001b[0m\u001b[0mtrain_datasets\u001b[0m\u001b[0;34m,\u001b[0m\u001b[0;34m\u001b[0m\u001b[0;34m\u001b[0m\u001b[0m\n\u001b[1;32m      4\u001b[0m                                                \u001b[0mval_dataset\u001b[0m\u001b[0;34m=\u001b[0m\u001b[0mval_dataset\u001b[0m\u001b[0;34m,\u001b[0m\u001b[0;34m\u001b[0m\u001b[0;34m\u001b[0m\u001b[0m\n\u001b[1;32m      5\u001b[0m                                                file_name=f'/content/drive/MyDrive/data/forward_heat_equation_{porcentaje_error}')\n",
            "\u001b[0;31mNameError\u001b[0m: name 'plot_burgers_continuous_forward_2' is not defined"
          ]
        }
      ],
      "source": [
        "plot_burgers_continuous_forward_2(mesh=mesh,\n",
        "                                               preds=preds_dict,\n",
        "                                               train_datasets=train_datasets,\n",
        "                                               val_dataset=val_dataset,\n",
        "                                               file_name=f'/content/drive/MyDrive/data/forward_heat_equation_{porcentaje_error}')\n"
>>>>>>> 212dcfdde2aa6292e90eb283b7646c247cdf4b41
      ]
    },
    {
      "cell_type": "code",
      "execution_count": null,
      "id": "j0tjXgX14dqJ",
      "metadata": {
<<<<<<< HEAD
        "colab": {
          "base_uri": "https://localhost:8080/"
        },
        "id": "j0tjXgX14dqJ",
        "outputId": "435b3888-87db-4612-fd92-2f07b86a35fa"
      },
      "outputs": [
        {
          "name": "stdout",
          "output_type": "stream",
          "text": [
            "Matriz guardada en /content/drive/MyDrive/data/Segunda vez/soluciones/error_1/u_pred_t_1e-8_x_1e-2_error_1.csv\n"
=======
        "id": "j0tjXgX14dqJ",
        "colab": {
          "base_uri": "https://localhost:8080/"
        },
        "outputId": "8b3fbce9-1591-4209-8506-1ee9a0d57ac9"
      },
      "outputs": [
        {
          "output_type": "stream",
          "name": "stdout",
          "text": [
            "Matriz guardada en /content/drive/MyDrive/data/forward_heat_equation/u_pred_t_1e-8_x_1e-2_error_1.csv\n"
>>>>>>> 212dcfdde2aa6292e90eb283b7646c247cdf4b41
          ]
        }
      ],
      "source": [
<<<<<<< HEAD
        "file_name = f'error_{porcentaje_error}/u_pred_t_1e-8_x_1e-2_error_{porcentaje_error}.csv'\n",
        "\n",
=======
        "# Nombre del archivo CSV\n",
        "file_name = f'/content/drive/MyDrive/data/forward_heat_equation/u_pred_t_1e-8_x_1e-2_error_{porcentaje_error}.csv'\n",
        "\n",
        "# Escribir la matriz en el archivo CSV\n",
>>>>>>> 212dcfdde2aa6292e90eb283b7646c247cdf4b41
        "with open(file_name, mode='w', newline='') as file:\n",
        "    writer = csv.writer(file)\n",
        "    writer.writerows(preds_dict['u'])\n",
        "\n",
        "print(f\"Matriz guardada en {file_name}\")"
      ]
<<<<<<< HEAD
=======
    },
    {
      "cell_type": "code",
      "execution_count": null,
      "id": "iqcoRlU-4dqJ",
      "metadata": {
        "id": "iqcoRlU-4dqJ"
      },
      "outputs": [],
      "source": [
        "u_real = u.flatten()\n",
        "u_pred = trainer.predict(model=model, datamodule=datamodule)['u']"
      ]
    },
    {
      "cell_type": "code",
      "execution_count": null,
      "id": "1XE_iBy94dqK",
      "metadata": {
        "id": "1XE_iBy94dqK"
      },
      "outputs": [],
      "source": [
        "error_absoluto_medio = np.abs(u_real-u_pred).mean()\n",
        "print(error_absoluto_medio)"
      ]
>>>>>>> 212dcfdde2aa6292e90eb283b7646c247cdf4b41
    }
  ],
  "metadata": {
    "accelerator": "GPU",
    "colab": {
<<<<<<< HEAD
      "collapsed_sections": [
        "fxLqw11pRX7o"
      ],
      "gpuType": "T4",
      "provenance": []
=======
      "gpuType": "T4",
      "provenance": [],
      "include_colab_link": true
>>>>>>> 212dcfdde2aa6292e90eb283b7646c247cdf4b41
    },
    "kernelspec": {
      "display_name": "Python 3",
      "name": "python3"
    },
    "language_info": {
      "codemirror_mode": {
        "name": "ipython",
        "version": 3
      },
      "file_extension": ".py",
      "mimetype": "text/x-python",
      "name": "python",
      "nbconvert_exporter": "python",
      "pygments_lexer": "ipython3",
      "version": "3.11.6"
    }
  },
  "nbformat": 4,
  "nbformat_minor": 5
<<<<<<< HEAD
}
=======
}
>>>>>>> 212dcfdde2aa6292e90eb283b7646c247cdf4b41
