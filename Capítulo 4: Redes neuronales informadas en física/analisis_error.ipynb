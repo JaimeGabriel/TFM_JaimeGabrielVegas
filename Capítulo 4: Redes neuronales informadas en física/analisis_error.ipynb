{
 "cells": [
  {
   "cell_type": "code",
   "execution_count": 8,
   "metadata": {},
   "outputs": [],
   "source": [
    "import numpy as np\n",
    "import matplotlib.pyplot as plt\n",
    "import csv\n",
    "from tabulate import tabulate"
   ]
  },
  {
   "cell_type": "markdown",
   "metadata": {},
   "source": [
    "# Soluciones basadas en datos"
   ]
  },
  {
   "cell_type": "code",
   "execution_count": 2,
   "metadata": {},
   "outputs": [
    {
     "name": "stdout",
     "output_type": "stream",
     "text": [
      "[ 0.0000000e+00  0.0000000e+00  0.0000000e+00 ... -2.4492936e-16\n",
      " -2.4492936e-16 -2.4492936e-16]\n"
     ]
    }
   ],
   "source": [
    "u_real = np.genfromtxt('generacion_datos/data/u_real_t_1e-8_x_1e-2.csv', delimiter=',')\n",
    "u_real = u_real.flatten()\n",
    "print(u_real)"
   ]
  },
  {
   "cell_type": "markdown",
   "metadata": {},
   "source": [
    "Importamos todos las predicciones"
   ]
  },
  {
   "cell_type": "code",
   "execution_count": 3,
   "metadata": {},
   "outputs": [],
   "source": [
    "u_pred_soluciones_0 = np.genfromtxt('Soluciones basadas en datos/error_0/u_pred_t_1e-8_x_1e-2.csv', delimiter=',')\n",
    "\n",
    "u_pred_soluciones_1 = np.genfromtxt('Soluciones basadas en datos/error_1/u_pred_t_1e-8_x_1e-2_error_1.csv', delimiter=',')\n",
    "\n",
    "u_pred_soluciones_3 = np.genfromtxt('Soluciones basadas en datos/error_3/u_pred_t_1e-8_x_1e-2_error_3.csv', delimiter=',')\n",
    "\n",
    "u_pred_soluciones_5 = np.genfromtxt('Soluciones basadas en datos/error_5/u_pred_t_1e-8_x_1e-2_error_5.csv', delimiter=',')\n",
    "\n",
    "u_pred_soluciones_10 = np.genfromtxt('Soluciones basadas en datos/error_10/u_pred_t_1e-8_x_1e-2_error_10.csv', delimiter=',')"
   ]
  },
  {
   "cell_type": "markdown",
   "metadata": {},
   "source": [
    "Calculamos los errores absolutos medios"
   ]
  },
  {
   "cell_type": "code",
   "execution_count": 4,
   "metadata": {},
   "outputs": [],
   "source": [
    "error_absoluto_medio_soluciones_0 = np.abs(u_real-u_pred_soluciones_0).mean()\n",
    "error_absoluto_medio_soluciones_1 = np.abs(u_real-u_pred_soluciones_1).mean()\n",
    "error_absoluto_medio_soluciones_3 = np.abs(u_real-u_pred_soluciones_3).mean()\n",
    "error_absoluto_medio_soluciones_5 = np.abs(u_real-u_pred_soluciones_5).mean()\n",
    "error_absoluto_medio_soluciones_10 = np.abs(u_real-u_pred_soluciones_10).mean()"
   ]
  },
  {
   "cell_type": "code",
   "execution_count": 23,
   "metadata": {},
   "outputs": [
    {
     "name": "stdout",
     "output_type": "stream",
     "text": [
      "+--------------------+---------------------------+\n",
      "|  Porcentaje ruido  |  Error medio temperatura  |\n",
      "+====================+===========================+\n",
      "|         0          |        0.00306576         |\n",
      "+--------------------+---------------------------+\n",
      "|         1          |        0.00448383         |\n",
      "+--------------------+---------------------------+\n",
      "|         3          |        0.00185485         |\n",
      "+--------------------+---------------------------+\n",
      "|         5          |        0.00497947         |\n",
      "+--------------------+---------------------------+\n",
      "|         10         |         0.0047346         |\n",
      "+--------------------+---------------------------+\n"
     ]
    }
   ],
   "source": [
    "diccionario_resultados_soluciones = {\n",
    "    'Porcentaje ruido': [0, 1, 3, 5, 10],\n",
    "    'Error medio temperatura' : [error_absoluto_medio_soluciones_0,\n",
    "                     error_absoluto_medio_soluciones_1,\n",
    "                     error_absoluto_medio_soluciones_3,\n",
    "                     error_absoluto_medio_soluciones_5,\n",
    "                     error_absoluto_medio_soluciones_10]\n",
    "}\n",
    "\n",
    "print(tabulate(diccionario_resultados_soluciones, headers='keys', tablefmt=\"grid\", numalign=\"center\"))"
   ]
  },
  {
   "cell_type": "markdown",
   "metadata": {},
   "source": [
    "# Descubrimientos basados en datos"
   ]
  },
  {
   "cell_type": "markdown",
   "metadata": {},
   "source": [
    "Importamos todos las predicciones"
   ]
  },
  {
   "cell_type": "code",
   "execution_count": 12,
   "metadata": {},
   "outputs": [],
   "source": [
    "u_pred_descubrimientos_0 = np.genfromtxt('Descubrimiento basado en datos/error_0/descubrimientos_u_pred_t_1e-8_x_1e-2.csv', delimiter=',')\n",
    "\n",
    "u_pred_descubrimientos_1 = np.genfromtxt('Descubrimiento basado en datos/error_1/descubrimiento_u_pred_t_1e-8_x_1e-2_error_1.csv', delimiter=',')\n",
    "\n",
    "u_pred_descubrimientos_3 = np.genfromtxt('Descubrimiento basado en datos/error_3/descubrimiento_u_pred_t_1e-8_x_1e-2_error_3.csv', delimiter=',')\n",
    "\n",
    "u_pred_descubrimientos_5 = np.genfromtxt('Descubrimiento basado en datos/error_5/descubrimiento_u_pred_t_1e-8_x_1e-2_error_5.csv', delimiter=',')\n",
    "\n",
    "u_pred_descubrimientos_10 = np.genfromtxt('Descubrimiento basado en datos/error_10/descubrimiento_u_pred_t_1e-8_x_1e-2_error_10.csv', delimiter=',')"
   ]
  },
  {
   "cell_type": "markdown",
   "metadata": {},
   "source": [
    "Calculamos los errores absolutos medios"
   ]
  },
  {
   "cell_type": "code",
   "execution_count": 13,
   "metadata": {},
   "outputs": [],
   "source": [
    "error_absoluto_medio_descubrimientos_0 = np.abs(u_real-u_pred_descubrimientos_0).mean()\n",
    "error_absoluto_medio_descubrimientos_1 = np.abs(u_real-u_pred_descubrimientos_1).mean()\n",
    "error_absoluto_medio_descubrimientos_3 = np.abs(u_real-u_pred_descubrimientos_3).mean()\n",
    "error_absoluto_medio_descubrimientos_5 = np.abs(u_real-u_pred_descubrimientos_5).mean()\n",
    "error_absoluto_medio_descubrimientos_10 = np.abs(u_real-u_pred_descubrimientos_10).mean()"
   ]
  },
  {
   "cell_type": "markdown",
   "metadata": {},
   "source": [
    "Calculamos el error del valor del parámetro estimado"
   ]
  },
  {
   "cell_type": "code",
   "execution_count": 20,
   "metadata": {},
   "outputs": [],
   "source": [
    "parametro_real = 1.6666666666666666666\n",
    "parametros_estimaciones = np.array([1.6329, 1.6385, 1.6382, 1.6509, 1.5784]) # en orden 0, 1, 3, 5, 10\n",
    "parametros_errores_procentuales = np.abs((parametros_estimaciones - parametro_real)/parametros_estimaciones * 100)"
   ]
  },
  {
   "cell_type": "code",
   "execution_count": 22,
   "metadata": {},
   "outputs": [
    {
     "name": "stdout",
     "output_type": "stream",
     "text": [
      "+--------------------+---------------------------+------------------------------+\n",
      "|  Porcentaje ruido  |  Error medio temperatura  |  Porcentaje error parámetro  |\n",
      "+====================+===========================+==============================+\n",
      "|         0          |        0.00375359         |            2.0679            |\n",
      "+--------------------+---------------------------+------------------------------+\n",
      "|         1          |        0.00306493         |           1.71905            |\n",
      "+--------------------+---------------------------+------------------------------+\n",
      "|         3          |        0.00425969         |           1.73768            |\n",
      "+--------------------+---------------------------+------------------------------+\n",
      "|         5          |        0.00425622         |           0.955035           |\n",
      "+--------------------+---------------------------+------------------------------+\n",
      "|         10         |        0.00661847         |           5.59216            |\n",
      "+--------------------+---------------------------+------------------------------+\n"
     ]
    }
   ],
   "source": [
    "diccionario_resultados_descubrimientos = {\n",
    "    'Porcentaje ruido': [0, 1, 3, 5, 10],\n",
    "    'Error medio temperatura': [error_absoluto_medio_descubrimientos_0,\n",
    "                     error_absoluto_medio_descubrimientos_1,\n",
    "                     error_absoluto_medio_descubrimientos_3,\n",
    "                     error_absoluto_medio_descubrimientos_5,\n",
    "                     error_absoluto_medio_descubrimientos_10],\n",
    "    'Porcentaje error parámetro': parametros_errores_procentuales\n",
    "\n",
    "}\n",
    "\n",
    "print(tabulate(diccionario_resultados_descubrimientos, headers='keys', tablefmt=\"grid\", numalign=\"center\"))"
   ]
  },
  {
   "cell_type": "code",
   "execution_count": null,
   "metadata": {},
   "outputs": [],
   "source": []
  }
 ],
 "metadata": {
  "kernelspec": {
   "display_name": ".venv",
   "language": "python",
   "name": "python3"
  },
  "language_info": {
   "codemirror_mode": {
    "name": "ipython",
    "version": 3
   },
   "file_extension": ".py",
   "mimetype": "text/x-python",
   "name": "python",
   "nbconvert_exporter": "python",
   "pygments_lexer": "ipython3",
   "version": "3.11.6"
  }
 },
 "nbformat": 4,
 "nbformat_minor": 2
}
